{
  "cells": [
    {
      "cell_type": "markdown",
      "id": "0a40b341",
      "metadata": {},
      "source": [
        "### User-Defined Functions (UDFs) in Python\n",
        "\n",
        "There are 5 types of User Define Functions:\n",
        "\n",
        "> 1.  Simple Functions\n",
        "> 2.  Functions with Default Arguments\n",
        "> 3.  Functions with Variable-Length Arguments\n",
        "> 4.  Anonymous Functions (Lambda)\n",
        "> 5.  Nested Functions\n"
      ]
    },
    {
      "cell_type": "markdown",
      "id": "c146dd86",
      "metadata": {},
      "source": [
        "---\n"
      ]
    },
    {
      "cell_type": "markdown",
      "id": "060d5b98",
      "metadata": {},
      "source": [
        "### 1. Simple Functions\n",
        "\n",
        "A simple UDF takes parameters and performs an action, which can include returning a value. This is the most basic form of a function.\n"
      ]
    },
    {
      "cell_type": "code",
      "execution_count": 1,
      "id": "802e6764",
      "metadata": {},
      "outputs": [
        {
          "name": "stdout",
          "output_type": "stream",
          "text": [
            "The sum is: 15\n"
          ]
        }
      ],
      "source": [
        "# A simple function that adds two numbers\n",
        "def add_numbers(x, y):\n",
        "    \"\"\"This function adds two numbers and returns their sum.\"\"\"\n",
        "    return x + y\n",
        "\n",
        "# Call the function and print the result\n",
        "result = add_numbers(10, 5)\n",
        "print(f\"The sum is: {result}\")"
      ]
    },
    {
      "cell_type": "markdown",
      "id": "530d6299",
      "metadata": {},
      "source": [
        "---\n"
      ]
    },
    {
      "cell_type": "markdown",
      "id": "402fe5da",
      "metadata": {},
      "source": [
        "### 2. Functions with Default Arguments\n",
        "\n",
        "Default arguments allow you to assign a predefined value to a parameter. If a user doesn't provide an argument for that parameter when calling the function, the default value is used.\n"
      ]
    },
    {
      "cell_type": "code",
      "execution_count": null,
      "id": "e852a84e",
      "metadata": {},
      "outputs": [
        {
          "name": "stdout",
          "output_type": "stream",
          "text": [
            "Hello, Alice!\n",
            "Hello, World!\n"
          ]
        }
      ],
      "source": [
        "# A function with a default argument for the name\n",
        "def greet(name=\"World\"):\n",
        "    #Greets a person, using 'World' as the default name.\n",
        "    print(f\"Hello, {name}!\")\n",
        "\n",
        "# Call the function with and without an argument\n",
        "greet(\"Dhruval\")\n",
        "greet()"
      ]
    },
    {
      "cell_type": "markdown",
      "id": "a1f63d9f",
      "metadata": {},
      "source": [
        "---\n"
      ]
    },
    {
      "cell_type": "markdown",
      "id": "4aa9615a",
      "metadata": {},
      "source": [
        "### 3. Functions with Variable-Length Arguments\n",
        "\n",
        "Python allows you to create functions that can accept an unknown number of arguments.\n",
        "\n",
        "- **`*args` (Non-Keyword Arguments):** Use `*args` to pass a variable number of non-keyword (positional) arguments to a function. Python packs these arguments into a tuple.\n",
        "\n",
        "- **`**kwargs`(Keyword Arguments):** Use`\\*\\*kwargs` to handle a variable number of keyword (named) arguments. Python packs these arguments into a dictionary.\n"
      ]
    },
    {
      "cell_type": "code",
      "execution_count": null,
      "id": "3dfa52f5",
      "metadata": {},
      "outputs": [
        {
          "name": "stdout",
          "output_type": "stream",
          "text": [
            "The arguments are a tuple: (1, 2, 3, 4, 5)\n",
            "The total sum is: 15\n"
          ]
        }
      ],
      "source": [
        "# A function to sum any number of arguments\n",
        "def sum_all(*numbers):\n",
        "    #Sums all numbers passed as arguments.\n",
        "    print(f\"The arguments are a tuple: {numbers}\")\n",
        "    return sum(numbers)\n",
        "\n",
        "total = sum_all(1, 2, 3, 4, 5)\n",
        "print(f\"The total sum is: {total}\")"
      ]
    },
    {
      "cell_type": "code",
      "execution_count": null,
      "id": "f9b52d8c",
      "metadata": {},
      "outputs": [
        {
          "name": "stdout",
          "output_type": "stream",
          "text": [
            "The arguments are a dictionary: {'name': 'Bob', 'age': 30, 'city': 'San Francisco'}\n",
            "name: Bob\n",
            "age: 30\n",
            "city: San Francisco\n"
          ]
        }
      ],
      "source": [
        "# A function to display user information\n",
        "def display_info(**info):\n",
        "    # Displays user information from keyword arguments.\n",
        "    print(f\"The arguments are a dictionary: {info}\")\n",
        "    for key, value in info.items():\n",
        "        print(f\"{key}: {value}\")\n",
        "\n",
        "display_info(name=\"Bob\", age=30, city=\"San Francisco\")"
      ]
    },
    {
      "cell_type": "markdown",
      "id": "6aab6492",
      "metadata": {},
      "source": [
        "---\n"
      ]
    },
    {
      "cell_type": "markdown",
      "id": "56df1292",
      "metadata": {},
      "source": [
        "### 4. Anonymous Functions (Lambda)\n",
        "\n",
        "A **lambda function** is a small, single-expression function that doesn't have a name. They're often used for short-term operations where a full function definition would be overkill. They are created using the `lambda` keyword.\n"
      ]
    },
    {
      "cell_type": "code",
      "execution_count": 5,
      "id": "4ec68a2c",
      "metadata": {},
      "outputs": [
        {
          "name": "stdout",
          "output_type": "stream",
          "text": [
            "The product is: 48\n"
          ]
        }
      ],
      "source": [
        "# A lambda function to multiply two numbers\n",
        "multiply = lambda x, y: x * y\n",
        "\n",
        "# Call the lambda function\n",
        "print(f\"The product is: {multiply(8, 6)}\")"
      ]
    },
    {
      "cell_type": "markdown",
      "id": "774887e6",
      "metadata": {},
      "source": [
        "---\n"
      ]
    },
    {
      "cell_type": "markdown",
      "id": "32e44676",
      "metadata": {},
      "source": [
        "### 5. Nested Functions\n",
        "\n",
        "A function defined inside another function is called a **nested function**. The inner function can access variables from the outer function's scope, a concept known as a **closure**.\n"
      ]
    },
    {
      "cell_type": "code",
      "execution_count": 6,
      "id": "dcb4554b",
      "metadata": {},
      "outputs": [
        {
          "name": "stdout",
          "output_type": "stream",
          "text": [
            "HELLO WORLD\n"
          ]
        }
      ],
      "source": [
        "# The outer function\n",
        "def outer_function(text):\n",
        "    text = text.upper()\n",
        "    \n",
        "    # The inner (nested) function\n",
        "    def inner_function():\n",
        "        print(text)\n",
        "    \n",
        "    # Return the inner function\n",
        "    return inner_function\n",
        "\n",
        "# Create a closure\n",
        "my_closure = outer_function(\"hello world\")\n",
        "\n",
        "# Call the inner function via the closure\n",
        "my_closure()"
      ]
    }
  ],
  "metadata": {
    "kernelspec": {
      "display_name": ".venv (3.13.1)",
      "language": "python",
      "name": "python3"
    },
    "language_info": {
      "codemirror_mode": {
        "name": "ipython",
        "version": 3
      },
      "file_extension": ".py",
      "mimetype": "text/x-python",
      "name": "python",
      "nbconvert_exporter": "python",
      "pygments_lexer": "ipython3",
      "version": "3.13.1"
    }
  },
  "nbformat": 4,
  "nbformat_minor": 5
}
