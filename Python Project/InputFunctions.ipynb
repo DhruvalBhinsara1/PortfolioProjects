{
 "cells": [
  {
   "cell_type": "markdown",
   "metadata": {},
   "source": [
    "\n",
    "##  <b> Input Functions and their variations </b>\n",
    " `input()` is used to taken user input, by default it takes values as string.\n"
   ]
  },
  {
   "cell_type": "markdown",
   "id": "383e5616",
   "metadata": {},
   "source": [
    "---\n",
    "## <b>1. Basic Input with a Prompt </b>\n",
    ">most comman way to take input."
   ]
  },
  {
   "cell_type": "code",
   "execution_count": 7,
   "metadata": {},
   "outputs": [
    {
     "name": "stdout",
     "output_type": "stream",
     "text": [
      "Nice to meet you, Dhruval!\n"
     ]
    }
   ],
   "source": [
    "user_name = input(\"What's your name? \")\n",
    "print(f\"Nice to meet you, {user_name}!\")"
   ]
  },
  {
   "cell_type": "markdown",
   "id": "f2298722",
   "metadata": {},
   "source": [
    "---\n",
    "## <b>2. Input without a Prompt </b>\n",
    "> Less common, user might not know what to type!"
   ]
  },
  {
   "cell_type": "code",
   "execution_count": 11,
   "metadata": {},
   "outputs": [
    {
     "name": "stdout",
     "output_type": "stream",
     "text": [
      "Tell me something (then press Enter):\n",
      "You said: Dhruval\n"
     ]
    }
   ],
   "source": [
    "print(\"Tell me something (then press Enter):\")\n",
    "something = input()\n",
    "print(f\"You said: {something}\")"
   ]
  },
  {
   "cell_type": "markdown",
   "id": "bc298b56",
   "metadata": {},
   "source": [
    "---\n",
    "## <b> 3. Converting Input </b>\n",
    "> converting string input into `int()` or `float()` during input"
   ]
  },
  {
   "cell_type": "code",
   "execution_count": null,
   "metadata": {},
   "outputs": [],
   "source": [
    "# Convert to Integer\n",
    "num_str = input(\"Enter a whole number: \")\n",
    "num_int = int(num_str) # Cast to int\n",
    "print(f\"Your number squared is: {num_int * num_int}\")\n",
    "\n",
    "# Convert to Float\n",
    "price_str = input(\"Enter a decimal price: \")\n",
    "price_float = float(price_str) # Cast to float\n",
    "print(f\"Price with tax (10%): {price_float * 1.1:.2f}\")"
   ]
  },
  {
   "cell_type": "markdown",
   "id": "b8340d0a",
   "metadata": {},
   "source": [
    "---\n",
    "## <b>4. Taking Multiple Inputs at a time</b>\n",
    "> `split()` functions, splits a string into parts by space or comma."
   ]
  },
  {
   "cell_type": "code",
   "execution_count": 24,
   "metadata": {},
   "outputs": [
    {
     "name": "stdout",
     "output_type": "stream",
     "text": [
      "Sum of values: 24\n",
      "['Apple', ' kiwi']\n"
     ]
    }
   ],
   "source": [
    "# Two numbers separated by a space\n",
    "val1_str, val2_str = (input(\"Enter two values separated by space: \").split())\n",
    "val1 = int(val1_str)\n",
    "val2 = float(val2_str)\n",
    "print(f\"Sum of values: {int(val1 + val2)}\")\n",
    "\n",
    "# A list of items separated by commas\n",
    "items_input = input(\"List your favorite fruits (comma-separated): \")\n",
    "favorite_fruits = items_input.split(',') \n",
    "print(favorite_fruits)"
   ]
  }
 ],
 "metadata": {
  "colab": {
   "provenance": []
  },
  "kernelspec": {
   "display_name": ".venv (3.13.1)",
   "language": "python",
   "name": "python3"
  },
  "language_info": {
   "codemirror_mode": {
    "name": "ipython",
    "version": 3
   },
   "file_extension": ".py",
   "mimetype": "text/x-python",
   "name": "python",
   "nbconvert_exporter": "python",
   "pygments_lexer": "ipython3",
   "version": "3.13.1"
  }
 },
 "nbformat": 4,
 "nbformat_minor": 5
}
