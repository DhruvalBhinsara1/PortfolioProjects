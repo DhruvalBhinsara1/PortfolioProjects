{
 "cells": [
  {
   "cell_type": "markdown",
   "id": "1cd02c7e-2dcb-4212-b9cf-ed6f8460cda2",
   "metadata": {},
   "source": [
    "# Basic Syntax"
   ]
  },
  {
   "cell_type": "code",
   "execution_count": 3,
   "id": "83ab5dcf-3fea-4e8e-9503-8dd89766aec5",
   "metadata": {},
   "outputs": [
    {
     "name": "stdout",
     "output_type": "stream",
     "text": [
      "20\n"
     ]
    }
   ],
   "source": [
    "x = 10\n",
    "\n",
    "y = \"10\"\n",
    "\n",
    "print(x+int(y))"
   ]
  },
  {
   "cell_type": "markdown",
   "id": "2b0b2412-beaa-45a7-813d-c9a6bd401e56",
   "metadata": {},
   "source": [
    "We don't need any {} to declare any block , or any main() to start the code."
   ]
  },
  {
   "cell_type": "code",
   "execution_count": 4,
   "id": "3701c99a-2bba-44b4-b052-17e4d388907d",
   "metadata": {},
   "outputs": [],
   "source": [
    "5+2 # this is an expression, same as what we call in maths\n",
    "\n",
    "x = 5+2  # this is a statement which is like a equation"
   ]
  },
  {
   "cell_type": "markdown",
   "id": "a644c6ef-742b-4fbd-b453-2ebdb19bdd5e",
   "metadata": {},
   "source": [
    "we don't have to declare the type of the variable everytime, as python is a dynamically typed language."
   ]
  }
 ],
 "metadata": {
  "kernelspec": {
   "display_name": ".venv (3.13.1)",
   "language": "python",
   "name": "python3"
  },
  "language_info": {
   "codemirror_mode": {
    "name": "ipython",
    "version": 3
   },
   "file_extension": ".py",
   "mimetype": "text/x-python",
   "name": "python",
   "nbconvert_exporter": "python",
   "pygments_lexer": "ipython3",
   "version": "3.13.1"
  },
  "widgets": {
   "application/vnd.jupyter.widget-state+json": {
    "state": {},
    "version_major": 2,
    "version_minor": 0
   }
  }
 },
 "nbformat": 4,
 "nbformat_minor": 5
}
