{
 "cells": [
  {
   "cell_type": "markdown",
   "id": "8e3eec60-a7c5-4160-a83c-b71a86b17385",
   "metadata": {},
   "source": [
    "# DataTypes in Python"
   ]
  },
  {
   "cell_type": "markdown",
   "id": "5173f51d-4508-4ead-ab7f-ead6881a4823",
   "metadata": {},
   "source": [
    "* Int\n",
    "* Float\n",
    "* Str\n",
    "* Bool\n",
    "* NoneType\n",
    "\n",
    "### *non of this datatypes are mutable"
   ]
  },
  {
   "cell_type": "markdown",
   "id": "60b34584-5d57-4e0a-97a3-566fa7309742",
   "metadata": {},
   "source": [
    "## Int"
   ]
  },
  {
   "cell_type": "code",
   "execution_count": 4,
   "id": "f099195d-7208-4fc1-ab45-efa779c2f879",
   "metadata": {},
   "outputs": [
    {
     "name": "stdout",
     "output_type": "stream",
     "text": [
      "5\n",
      "69\n"
     ]
    }
   ],
   "source": [
    "x = 5\n",
    "z = 69\n",
    "\n",
    "print(x)\n",
    "print(z)"
   ]
  },
  {
   "cell_type": "markdown",
   "id": "cc82e1de-dd59-4fab-9415-feb543c2195a",
   "metadata": {},
   "source": [
    "## Float"
   ]
  },
  {
   "cell_type": "code",
   "execution_count": 5,
   "id": "cf53ee46-843c-4148-9f66-58ea0dc3af5c",
   "metadata": {},
   "outputs": [
    {
     "name": "stdout",
     "output_type": "stream",
     "text": [
      "4.2 -6.9\n"
     ]
    }
   ],
   "source": [
    "x = 4.20\n",
    "y = -6.9\n",
    "\n",
    "print(x , y)"
   ]
  },
  {
   "cell_type": "markdown",
   "id": "f9d08999-5d7f-40bb-9c20-1b0469aecef5",
   "metadata": {},
   "source": [
    "## Str"
   ]
  },
  {
   "cell_type": "code",
   "execution_count": 6,
   "id": "1bb48a65-0bd7-4960-9f0d-aa37a4a5dcd6",
   "metadata": {},
   "outputs": [
    {
     "name": "stdout",
     "output_type": "stream",
     "text": [
      "Through Goes hamilton!\n"
     ]
    }
   ],
   "source": [
    "myStr = \"Through Goes hamilton!\"\n",
    "\n",
    "print(myStr)"
   ]
  },
  {
   "cell_type": "markdown",
   "id": "1c5ff062-38d9-42dd-8cb8-0ff1e1415003",
   "metadata": {},
   "source": [
    "## Bool"
   ]
  },
  {
   "cell_type": "code",
   "execution_count": 7,
   "id": "319486cc-2b3f-405c-9ec7-8a96c4a41a6d",
   "metadata": {},
   "outputs": [
    {
     "name": "stdout",
     "output_type": "stream",
     "text": [
      "False\n",
      "True\n"
     ]
    }
   ],
   "source": [
    "myBool = False\n",
    "myOtherBool = True\n",
    "\n",
    "print(myBool)\n",
    "print(myOtherBool)"
   ]
  },
  {
   "cell_type": "markdown",
   "id": "47b80bb5-1d5f-4134-9aa1-73b6d4a3597a",
   "metadata": {},
   "source": [
    "## NoneType"
   ]
  },
  {
   "cell_type": "code",
   "execution_count": 8,
   "id": "0491ccf9-e94e-4ae7-8070-3f1607071872",
   "metadata": {},
   "outputs": [
    {
     "name": "stdout",
     "output_type": "stream",
     "text": [
      "None\n"
     ]
    }
   ],
   "source": [
    "myNull = None\n",
    "\n",
    "print(myNull)"
   ]
  }
 ],
 "metadata": {
  "kernelspec": {
   "display_name": "Python 3 (ipykernel)",
   "language": "python",
   "name": "python3"
  },
  "language_info": {
   "codemirror_mode": {
    "name": "ipython",
    "version": 3
   },
   "file_extension": ".py",
   "mimetype": "text/x-python",
   "name": "python",
   "nbconvert_exporter": "python",
   "pygments_lexer": "ipython3",
   "version": "3.13.5"
  }
 },
 "nbformat": 4,
 "nbformat_minor": 5
}
