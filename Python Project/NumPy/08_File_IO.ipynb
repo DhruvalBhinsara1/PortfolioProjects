{
 "cells": [
  {
   "cell_type": "markdown",
   "id": "de8f08ef",
   "metadata": {},
   "source": [
    "# File I/O with NumPy Arrays\n",
    "\n",
    "NumPy provides functions to save and load arrays to/from files in various formats. This notebook covers saving arrays in binary format, text format, and compressed formats."
   ]
  },
  {
   "cell_type": "markdown",
   "id": "a2f9017a",
   "metadata": {},
   "source": [
    "## Import NumPy"
   ]
  },
  {
   "cell_type": "code",
   "execution_count": null,
   "id": "49850d52",
   "metadata": {},
   "outputs": [],
   "source": [
    "import numpy as np\n",
    "import os"
   ]
  },
  {
   "cell_type": "markdown",
   "id": "4e1256db",
   "metadata": {},
   "source": [
    "## Saving Arrays in Binary Format\n",
    "\n",
    "Use `np.save()` to save arrays in NumPy's native binary format (.npy files)."
   ]
  },
  {
   "cell_type": "code",
   "execution_count": null,
   "id": "df67b25c",
   "metadata": {},
   "outputs": [],
   "source": [
    "# Create sample arrays\n",
    "arr1 = np.array([1, 2, 3, 4, 5])\n",
    "arr2 = np.random.rand(3, 3)\n",
    "\n",
    "print('Array 1:', arr1)\n",
    "print('Array 2:\\n', arr2)\n",
    "\n",
    "# Save single array\n",
    "np.save('array1.npy', arr1)\n",
    "print('\\nSaved array1.npy')\n",
    "\n",
    "# Save multiple arrays\n",
    "np.savez('arrays.npz', array1=arr1, array2=arr2)\n",
    "print('Saved arrays.npz')\n",
    "\n",
    "# Check files exist\n",
    "print('Files saved:')\n",
    "for file in ['array1.npy', 'arrays.npz']:\n",
    "    if os.path.exists(file):\n",
    "        print(f'  {file}: {os.path.getsize(file)} bytes')\n",
    "    else:\n",
    "        print(f'  {file}: not found')"
   ]
  },
  {
   "cell_type": "markdown",
   "id": "ba622c6a",
   "metadata": {},
   "source": [
    "## Loading Arrays from Binary Format\n",
    "\n",
    "Use `np.load()` to load arrays saved in binary format."
   ]
  },
  {
   "cell_type": "code",
   "execution_count": null,
   "id": "78137572",
   "metadata": {},
   "outputs": [],
   "source": [
    "# Load single array\n",
    "loaded_arr1 = np.load('array1.npy')\n",
    "print('Loaded array1:', loaded_arr1)\n",
    "print('Arrays equal:', np.array_equal(arr1, loaded_arr1))\n",
    "\n",
    "# Load multiple arrays\n",
    "loaded_arrays = np.load('arrays.npz')\n",
    "print('\\nLoaded arrays from .npz:')\n",
    "print('array1:', loaded_arrays['array1'])\n",
    "print('array2:\\n', loaded_arrays['array2'])\n",
    "\n",
    "print('array1 equal:', np.array_equal(arr1, loaded_arrays['array1']))\n",
    "print('array2 equal:', np.array_equal(arr2, loaded_arrays['array2']))"
   ]
  },
  {
   "cell_type": "markdown",
   "id": "02fce1b4",
   "metadata": {},
   "source": [
    "## Saving and Loading in Text Format\n",
    "\n",
    "Use `np.savetxt()` and `np.loadtxt()` for human-readable text files."
   ]
  },
  {
   "cell_type": "code",
   "execution_count": null,
   "id": "7901529c",
   "metadata": {},
   "outputs": [],
   "source": [
    "# Save array as text\n",
    "np.savetxt('array_text.txt', arr2, delimiter=',', header='Random 3x3 array', fmt='%.4f')\n",
    "print('Saved array_text.txt')\n",
    "\n",
    "# Load array from text\n",
    "loaded_text = np.loadtxt('array_text.txt', delimiter=',')\n",
    "print('Loaded from text:\\n', loaded_text)\n",
    "print('Arrays equal:', np.allclose(arr2, loaded_text))\n",
    "\n",
    "# Save with custom formatting\n",
    "data = np.array([[1.23456, 2.34567], [3.45678, 4.56789]])\n",
    "np.savetxt('formatted_data.txt', data, fmt='%8.2f', header='Formatted data')\n",
    "print('\\nSaved formatted_data.txt')\n",
    "\n",
    "# Show file contents\n",
    "print('\\nContents of formatted_data.txt:')\n",
    "with open('formatted_data.txt', 'r') as f:\n",
    "    print(f.read())"
   ]
  },
  {
   "cell_type": "markdown",
   "id": "d7c42b53",
   "metadata": {},
   "source": [
    "## Compressed Format\n",
    "\n",
    "Use `np.savez_compressed()` for compressed storage of multiple arrays."
   ]
  },
  {
   "cell_type": "code",
   "execution_count": null,
   "id": "71fafb35",
   "metadata": {},
   "outputs": [],
   "source": [
    "# Create larger arrays for compression benefit\n",
    "large_arr1 = np.random.rand(1000, 1000)\n",
    "large_arr2 = np.random.rand(1000, 1000)\n",
    "\n",
    "# Save compressed\n",
    "np.savez_compressed('large_arrays_compressed.npz', arr1=large_arr1, arr2=large_arr2)\n",
    "print('Saved large_arrays_compressed.npz')\n",
    "\n",
    "# Save uncompressed for comparison\n",
    "np.savez('large_arrays_uncompressed.npz', arr1=large_arr1, arr2=large_arr2)\n",
    "print('Saved large_arrays_uncompressed.npz')\n",
    "\n",
    "# Compare file sizes\n",
    "compressed_size = os.path.getsize('large_arrays_compressed.npz')\n",
    "uncompressed_size = os.path.getsize('large_arrays_uncompressed.npz')\n",
    "\n",
    "print(f'\\nCompressed size: {compressed_size} bytes')\n",
    "print(f'Uncompressed size: {uncompressed_size} bytes')\n",
    "print(f'Compression ratio: {compressed_size / uncompressed_size:.2f}')\n",
    "\n",
    "# Load compressed data\n",
    "loaded_compressed = np.load('large_arrays_compressed.npz')\n",
    "print('\\nLoaded compressed arrays successfully')\n",
    "print('arr1 shape:', loaded_compressed['arr1'].shape)\n",
    "print('arr2 shape:', loaded_compressed['arr2'].shape)"
   ]
  },
  {
   "cell_type": "markdown",
   "id": "0beb810d",
   "metadata": {},
   "source": [
    "## Summary\n",
    "\n",
    "You have learned NumPy's file I/O capabilities:\n",
    "- Saving and loading arrays in binary format (.npy, .npz)\n",
    "- Working with text files for human-readable data\n",
    "- Using compressed formats for efficient storage\n",
    "\n",
    "Choose the appropriate format based on your needs: binary for speed and precision, text for readability, compressed for large datasets."
   ]
  }
 ],
 "metadata": {
  "language_info": {
   "name": "python"
  }
 },
 "nbformat": 4,
 "nbformat_minor": 5
}
