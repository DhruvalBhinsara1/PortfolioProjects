{
 "cells": [
  {
   "cell_type": "markdown",
   "id": "e43527cd",
   "metadata": {},
   "source": [
    "# Introduction to NumPy\n",
    "\n",
    "NumPy is the fundamental package for scientific computing with Python. It provides support for large, multi-dimensional arrays and matrices, along with a collection of mathematical functions to operate on these arrays."
   ]
  },
  {
   "cell_type": "markdown",
   "id": "73b4dd6f",
   "metadata": {},
   "source": [
    "## Importing NumPy\n",
    "\n",
    "The convention is to import NumPy as `np`:"
   ]
  },
  {
   "cell_type": "code",
   "execution_count": 3,
   "id": "ac38a2f4",
   "metadata": {},
   "outputs": [
    {
     "name": "stdout",
     "output_type": "stream",
     "text": [
      "NumPy version: 2.2.4\n"
     ]
    }
   ],
   "source": [
    "import numpy as np\n",
    "\n",
    "# Check NumPy version\n",
    "print('NumPy version:', np.__version__)"
   ]
  },
  {
   "cell_type": "markdown",
   "id": "4afd1ffe",
   "metadata": {},
   "source": [
    "## What is an ndarray?\n",
    "\n",
    "The core of NumPy is the `ndarray` object, which stands for N-dimensional array. It is a grid of values, all of the same type, and is indexed by a tuple of nonnegative integers."
   ]
  },
  {
   "cell_type": "code",
   "execution_count": 17,
   "id": "dd06985d",
   "metadata": {},
   "outputs": [
    {
     "name": "stdout",
     "output_type": "stream",
     "text": [
      "1D array: [1 2 3 4 5]\n",
      "Number of Dimension:  1\n",
      "Type: <class 'numpy.ndarray'>\n",
      "Shape: (5,)\n",
      "Data type: int64\n"
     ]
    }
   ],
   "source": [
    "# Create a simple 1D array\n",
    "arr = np.array([1, 2, 3, 4, 5])\n",
    "print('1D array:', arr)\n",
    "print('Number of Dimension: ', arr.ndim)\n",
    "print('Type:', type(arr))\n",
    "print('Shape:', arr.shape)\n",
    "print('Data type:', arr.dtype)"
   ]
  },
  {
   "cell_type": "markdown",
   "id": "30f6ec44",
   "metadata": {},
   "source": [
    "## Why Use NumPy?\n",
    "\n",
    "- Efficient storage and manipulation of numerical arrays\n",
    "- Mathematical and logical operations on arrays\n",
    "- Tools for integrating C/C++ and Fortran code\n",
    "- Useful linear algebra, Fourier transform, and random number capabilities\n",
    "- Foundation for libraries like pandas, SciPy, scikit-learn, and more"
   ]
  },
  {
   "cell_type": "markdown",
   "id": "79c1ec1d",
   "metadata": {},
   "source": [
    "## Summary\n",
    "\n",
    "You have learned the basics of NumPy, including installation, importing, and the core concept of the ndarray. In the next notebooks, you'll explore array creation, indexing, operations, and more advanced features."
   ]
  }
 ],
 "metadata": {
  "kernelspec": {
   "display_name": "Python 3",
   "language": "python",
   "name": "python3"
  },
  "language_info": {
   "codemirror_mode": {
    "name": "ipython",
    "version": 3
   },
   "file_extension": ".py",
   "mimetype": "text/x-python",
   "name": "python",
   "nbconvert_exporter": "python",
   "pygments_lexer": "ipython3",
   "version": "3.13.1"
  }
 },
 "nbformat": 4,
 "nbformat_minor": 5
}
