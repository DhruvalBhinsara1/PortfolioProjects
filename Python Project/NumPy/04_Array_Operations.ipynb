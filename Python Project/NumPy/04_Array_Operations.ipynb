{
 "cells": [
  {
   "cell_type": "markdown",
   "id": "caab3395",
   "metadata": {},
   "source": [
    "# Array Operations in NumPy\n",
    "\n",
    "NumPy provides efficient operations on arrays, including arithmetic operations, broadcasting, reshaping, and concatenation. This notebook covers the most common array operations."
   ]
  },
  {
   "cell_type": "markdown",
   "id": "190c5a13",
   "metadata": {},
   "source": [
    "## Import NumPy"
   ]
  },
  {
   "cell_type": "code",
   "execution_count": null,
   "id": "944efbce",
   "metadata": {},
   "outputs": [],
   "source": [
    "import numpy as np"
   ]
  },
  {
   "cell_type": "markdown",
   "id": "55f4f00c",
   "metadata": {},
   "source": [
    "## Arithmetic Operations\n",
    "\n",
    "NumPy arrays support element-wise arithmetic operations."
   ]
  },
  {
   "cell_type": "code",
   "execution_count": null,
   "id": "856f69ff",
   "metadata": {},
   "outputs": [],
   "source": [
    "a = np.array([1, 2, 3])\n",
    "b = np.array([4, 5, 6])\n",
    "\n",
    "print('a:', a)\n",
    "print('b:', b)\n",
    "print('a + b:', a + b)\n",
    "print('a - b:', a - b)\n",
    "print('a * b:', a * b)\n",
    "print('a / b:', a / b)\n",
    "print('a ** 2:', a ** 2)\n",
    "print('a % b:', a % b)"
   ]
  },
  {
   "cell_type": "markdown",
   "id": "af540682",
   "metadata": {},
   "source": [
    "## Broadcasting\n",
    "\n",
    "Broadcasting allows operations between arrays of different shapes by automatically expanding the smaller array."
   ]
  },
  {
   "cell_type": "code",
   "execution_count": null,
   "id": "c876a402",
   "metadata": {},
   "outputs": [],
   "source": [
    "# Broadcasting examples\n",
    "arr = np.array([[1, 2, 3], [4, 5, 6]])\n",
    "scalar = 10\n",
    "\n",
    "print('Array:\\n', arr)\n",
    "print('Scalar:', scalar)\n",
    "print('Array + scalar:\\n', arr + scalar)\n",
    "\n",
    "# Broadcasting with different shapes\n",
    "arr1 = np.array([[1], [2], [3]])  # Shape (3, 1)\n",
    "arr2 = np.array([10, 20, 30])     # Shape (3,)\n",
    "\n",
    "print('\\narr1 shape:', arr1.shape)\n",
    "print('arr2 shape:', arr2.shape)\n",
    "print('arr1 + arr2:\\n', arr1 + arr2)"
   ]
  },
  {
   "cell_type": "markdown",
   "id": "a01bf28d",
   "metadata": {},
   "source": [
    "## Reshaping Arrays\n",
    "\n",
    "You can change the shape of arrays using `reshape()` or `resize()`."
   ]
  },
  {
   "cell_type": "code",
   "execution_count": null,
   "id": "62693c46",
   "metadata": {},
   "outputs": [],
   "source": [
    "arr = np.arange(12)\n",
    "print('Original array:', arr)\n",
    "print('Shape:', arr.shape)\n",
    "\n",
    "# Reshape to 2D\n",
    "reshaped = arr.reshape(3, 4)\n",
    "print('\\nReshaped to (3, 4):\\n', reshaped)\n",
    "\n",
    "# Reshape to 3D\n",
    "reshaped_3d = arr.reshape(2, 2, 3)\n",
    "print('\\nReshaped to (2, 2, 3):\\n', reshaped_3d)\n",
    "\n",
    "# Flatten array\n",
    "flattened = reshaped_3d.flatten()\n",
    "print('\\nFlattened:', flattened)\n",
    "\n",
    "# Transpose\n",
    "transposed = reshaped.T\n",
    "print('\\nTransposed:\\n', transposed)"
   ]
  },
  {
   "cell_type": "markdown",
   "id": "59d004fc",
   "metadata": {},
   "source": [
    "## Concatenation and Splitting\n",
    "\n",
    "NumPy provides functions to concatenate and split arrays."
   ]
  },
  {
   "cell_type": "code",
   "execution_count": null,
   "id": "046cce83",
   "metadata": {},
   "outputs": [],
   "source": [
    "a = np.array([[1, 2], [3, 4]])\n",
    "b = np.array([[5, 6], [7, 8]])\n",
    "\n",
    "print('Array a:\\n', a)\n",
    "print('Array b:\\n', b)\n",
    "\n",
    "# Concatenate along axis 0 (rows)\n",
    "concat_axis0 = np.concatenate((a, b), axis=0)\n",
    "print('\\nConcatenated along axis 0:\\n', concat_axis0)\n",
    "\n",
    "# Concatenate along axis 1 (columns)\n",
    "concat_axis1 = np.concatenate((a, b), axis=1)\n",
    "print('\\nConcatenated along axis 1:\\n', concat_axis1)\n",
    "\n",
    "# Stack arrays\n",
    "stacked = np.stack((a, b))\n",
    "print('\\nStacked arrays shape:', stacked.shape)\n",
    "print('Stacked arrays:\\n', stacked)\n",
    "\n",
    "# Split array\n",
    "arr = np.arange(10)\n",
    "print('\\nOriginal array:', arr)\n",
    "split_arr = np.split(arr, 5)\n",
    "print('Split into 5 parts:', split_arr)"
   ]
  },
  {
   "cell_type": "markdown",
   "id": "2e7de5f7",
   "metadata": {},
   "source": [
    "## Summary\n",
    "\n",
    "You have learned key array operations in NumPy:\n",
    "- Arithmetic operations (element-wise)\n",
    "- Broadcasting for operations on different shapes\n",
    "- Reshaping arrays with `reshape()` and `flatten()`\n",
    "- Concatenation and splitting arrays\n",
    "\n",
    "These operations form the core of data manipulation in NumPy."
   ]
  }
 ],
 "metadata": {
  "language_info": {
   "name": "python"
  }
 },
 "nbformat": 4,
 "nbformat_minor": 5
}
