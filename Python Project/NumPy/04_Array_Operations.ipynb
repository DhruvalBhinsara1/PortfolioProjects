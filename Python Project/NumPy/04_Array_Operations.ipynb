{
 "cells": [
  {
   "cell_type": "markdown",
   "id": "caab3395",
   "metadata": {},
   "source": [
    "# Array Operations in NumPy\n",
    "\n",
    "NumPy provides efficient operations on arrays, including arithmetic operations, broadcasting, reshaping, and concatenation. This notebook covers the most common array operations."
   ]
  },
  {
   "cell_type": "markdown",
   "id": "190c5a13",
   "metadata": {},
   "source": [
    "## Import NumPy"
   ]
  },
  {
   "cell_type": "code",
   "execution_count": 1,
   "id": "944efbce",
   "metadata": {},
   "outputs": [],
   "source": [
    "import numpy as np"
   ]
  },
  {
   "cell_type": "markdown",
   "id": "482c5a1f",
   "metadata": {},
   "source": [
    "## Multiplication Operations\n",
    "\n",
    "NumPy arrays support multiplication of rows and columns."
   ]
  },
  {
   "cell_type": "code",
   "execution_count": null,
   "id": "5357e1fb",
   "metadata": {},
   "outputs": [
    {
     "name": "stdout",
     "output_type": "stream",
     "text": [
      "Element-wise multiplication of arr1 and arr2:\n",
      " [ 4 10 18] \n",
      "\n",
      "Element-wise multiplication of arr3 and arr4:\n",
      " [[ 5 12]\n",
      " [21 32]] \n",
      "\n",
      "Identity matrix of size 3x3:\n",
      " [[1. 0. 0.]\n",
      " [0. 1. 0.]\n",
      " [0. 0. 1.]] \n",
      "\n",
      "Matrix multiplication of matrix1 and matrix2:\n",
      " [[19 22]\n",
      " [43 50]] \n",
      "\n",
      "Element-wise multiplication of matrix1 and matrix2:\n",
      " [[ 5 12]\n",
      " [21 32]] \n",
      "\n"
     ]
    },
    {
     "ename": "",
     "evalue": "",
     "output_type": "error",
     "traceback": [
      "\u001b[1;31mThe Kernel crashed while executing code in the current cell or a previous cell. \n",
      "\u001b[1;31mPlease review the code in the cell(s) to identify a possible cause of the failure. \n",
      "\u001b[1;31mClick <a href='https://aka.ms/vscodeJupyterKernelCrash'>here</a> for more info. \n",
      "\u001b[1;31mView Jupyter <a href='command:jupyter.viewOutput'>log</a> for further details."
     ]
    }
   ],
   "source": [
    "#create 1D array\n",
    "arr1 = np.array([1, 2, 3])\n",
    "arr2 = np.array([4, 5, 6])\n",
    "product = arr1 * arr2\n",
    "print('Element-wise multiplication of arr1 and arr2:\\n', product, \"\\n\")\n",
    "\n",
    "# Create 2D arrays and perform element-wise multiplication\n",
    "arr3 = np.array([[1, 2], [3, 4]])\n",
    "arr4 = np.array([[5, 6], [7, 8]])\n",
    "product = arr3 * arr4\n",
    "print('Element-wise multiplication of arr3 and arr4:\\n', product, \"\\n\")\n",
    "\n",
    "# Identity matrix\n",
    "identity_matrix = np.eye(3)\n",
    "print('Identity matrix of size 3x3:\\n', identity_matrix,  \"\\n\")\n",
    "\n",
    "# Matrix multiplication\n",
    "matrix1 = np.array([[1, 2], [3, 4]])\n",
    "matrix2 = np.array([[5, 6], [7, 8]])\n",
    "matrix_product = np.dot(matrix1, matrix2)\n",
    "print('Matrix multiplication of matrix1 and matrix2:\\n',matrix_product,\"\\n\")\n",
    "\n",
    "# Element-wise multiplication of 2D arrays\n",
    "elementwise_product = matrix1 * matrix2\n",
    "print('Element-wise multiplication of matrix1 and matrix2:\\n', elementwise_product, \"\\n\")\n"
   ]
  },
  {
   "cell_type": "markdown",
   "id": "55f4f00c",
   "metadata": {},
   "source": [
    "## Arithmetic Operations\n",
    "\n",
    "NumPy arrays support element-wise arithmetic operations."
   ]
  },
  {
   "cell_type": "code",
   "execution_count": 2,
   "id": "856f69ff",
   "metadata": {},
   "outputs": [
    {
     "name": "stdout",
     "output_type": "stream",
     "text": [
      "a: [1 2 3]\n",
      "b: [4 5 6]\n",
      "a + b: [5 7 9]\n",
      "a - b: [-3 -3 -3]\n",
      "a * b: [ 4 10 18]\n",
      "a / b: [0.25 0.4  0.5 ]\n",
      "a ** 2: [1 4 9]\n",
      "a % b: [1 2 3]\n"
     ]
    }
   ],
   "source": [
    "a = np.array([1, 2, 3])\n",
    "b = np.array([4, 5, 6])\n",
    "\n",
    "print('a:', a)\n",
    "print('b:', b)\n",
    "print('a + b:', a + b)\n",
    "print('a - b:', a - b)\n",
    "print('a * b:', a * b)\n",
    "print('a / b:', a / b)\n",
    "print('a ** 2:', a ** 2)\n",
    "print('a % b:', a % b)"
   ]
  },
  {
   "cell_type": "markdown",
   "id": "af540682",
   "metadata": {},
   "source": [
    "## Broadcasting\n",
    "\n",
    "Broadcasting allows operations between arrays of different shapes by automatically expanding the smaller array."
   ]
  },
  {
   "cell_type": "code",
   "execution_count": null,
   "id": "c876a402",
   "metadata": {},
   "outputs": [
    {
     "name": "stdout",
     "output_type": "stream",
     "text": [
      "Array:\n",
      " [[1 2 3]\n",
      " [4 5 6]]\n",
      "Scalar: 10\n",
      "Array + scalar:\n",
      " [[11 12 13]\n",
      " [14 15 16]]\n",
      "\n",
      "arr1 shape: (3, 1)\n",
      "arr2 shape: (3,)\n",
      "arr1 + arr2:\n",
      " [[11 21 31]\n",
      " [12 22 32]\n",
      " [13 23 33]]\n"
     ]
    }
   ],
   "source": [
    "# Broadcasting examples\n",
    "arr = np.array([[1, 2, 3], [4, 5, 6]])\n",
    "scalar = 10\n",
    "\n",
    "print('Array:\\n', arr)\n",
    "print('Scalar:', scalar)\n",
    "print('Array + scalar:\\n', arr + scalar)\n",
    "\n",
    "# Broadcasting with different shapes\n",
    "arr1 = np.array([[1], [2], [3]])  # Shape (3, 1)\n",
    "arr2 = np.array([10, 20, 30])     # Shape (3,)\n",
    "\n",
    "print('\\narr1 shape:', arr1.shape)\n",
    "print('arr2 shape:', arr2.shape) \n",
    "print('arr1 + arr2:\\n', arr1 + arr2)"
   ]
  },
  {
   "cell_type": "markdown",
   "id": "a01bf28d",
   "metadata": {},
   "source": [
    "## Reshaping Arrays\n",
    "\n",
    "You can change the shape of arrays using `reshape()` or `resize()`."
   ]
  },
  {
   "cell_type": "code",
   "execution_count": 4,
   "id": "62693c46",
   "metadata": {},
   "outputs": [
    {
     "name": "stdout",
     "output_type": "stream",
     "text": [
      "Original array: [ 0  1  2  3  4  5  6  7  8  9 10 11]\n",
      "Shape: (12,)\n",
      "\n",
      "Reshaped to (3, 4):\n",
      " [[ 0  1  2  3]\n",
      " [ 4  5  6  7]\n",
      " [ 8  9 10 11]]\n",
      "\n",
      "Reshaped to (2, 2, 3):\n",
      " [[[ 0  1  2]\n",
      "  [ 3  4  5]]\n",
      "\n",
      " [[ 6  7  8]\n",
      "  [ 9 10 11]]]\n",
      "\n",
      "Flattened: [ 0  1  2  3  4  5  6  7  8  9 10 11]\n",
      "\n",
      "Transposed:\n",
      " [[ 0  4  8]\n",
      " [ 1  5  9]\n",
      " [ 2  6 10]\n",
      " [ 3  7 11]]\n"
     ]
    }
   ],
   "source": [
    "arr = np.arange(12)\n",
    "print('Original array:', arr)\n",
    "print('Shape:', arr.shape)\n",
    "\n",
    "# Reshape to 2D\n",
    "reshaped = arr.reshape(3, 4)\n",
    "print('\\nReshaped to (3, 4):\\n', reshaped)\n",
    "\n",
    "# Reshape to 3D\n",
    "reshaped_3d = arr.reshape(2, 2, 3)\n",
    "print('\\nReshaped to (2, 2, 3):\\n', reshaped_3d)\n",
    "\n",
    "# Flatten array\n",
    "flattened = reshaped_3d.flatten()\n",
    "print('\\nFlattened:', flattened)\n",
    "\n",
    "# Transpose\n",
    "transposed = reshaped.T\n",
    "print('\\nTransposed:\\n', transposed)"
   ]
  },
  {
   "cell_type": "markdown",
   "id": "59d004fc",
   "metadata": {},
   "source": [
    "## Concatenation and Splitting\n",
    "\n",
    "NumPy provides functions to concatenate and split arrays."
   ]
  },
  {
   "cell_type": "code",
   "execution_count": 5,
   "id": "046cce83",
   "metadata": {},
   "outputs": [
    {
     "name": "stdout",
     "output_type": "stream",
     "text": [
      "Array a:\n",
      " [[1 2]\n",
      " [3 4]]\n",
      "Array b:\n",
      " [[5 6]\n",
      " [7 8]]\n",
      "\n",
      "Concatenated along axis 0:\n",
      " [[1 2]\n",
      " [3 4]\n",
      " [5 6]\n",
      " [7 8]]\n",
      "\n",
      "Concatenated along axis 1:\n",
      " [[1 2 5 6]\n",
      " [3 4 7 8]]\n",
      "\n",
      "Stacked arrays shape: (2, 2, 2)\n",
      "Stacked arrays:\n",
      " [[[1 2]\n",
      "  [3 4]]\n",
      "\n",
      " [[5 6]\n",
      "  [7 8]]]\n",
      "\n",
      "Original array: [0 1 2 3 4 5 6 7 8 9]\n",
      "Split into 5 parts: [array([0, 1]), array([2, 3]), array([4, 5]), array([6, 7]), array([8, 9])]\n"
     ]
    }
   ],
   "source": [
    "a = np.array([[1, 2], [3, 4]])\n",
    "b = np.array([[5, 6], [7, 8]])\n",
    "\n",
    "print('Array a:\\n', a)\n",
    "print('Array b:\\n', b)\n",
    "\n",
    "# Concatenate along axis 0 (rows)\n",
    "concat_axis0 = np.concatenate((a, b), axis=0)\n",
    "print('\\nConcatenated along axis 0:\\n', concat_axis0)\n",
    "\n",
    "# Concatenate along axis 1 (columns)\n",
    "concat_axis1 = np.concatenate((a, b), axis=1)\n",
    "print('\\nConcatenated along axis 1:\\n', concat_axis1)\n",
    "\n",
    "# Stack arrays\n",
    "stacked = np.stack((a, b))\n",
    "print('\\nStacked arrays shape:', stacked.shape)\n",
    "print('Stacked arrays:\\n', stacked)\n",
    "\n",
    "# Split array\n",
    "arr = np.arange(10)\n",
    "print('\\nOriginal array:', arr)\n",
    "split_arr = np.split(arr, 5)\n",
    "print('Split into 5 parts:', split_arr)"
   ]
  },
  {
   "cell_type": "markdown",
   "id": "2e7de5f7",
   "metadata": {},
   "source": [
    "## Summary\n",
    "\n",
    "You have learned key array operations in NumPy:\n",
    "- Arithmetic operations (element-wise)\n",
    "- Broadcasting for operations on different shapes\n",
    "- Reshaping arrays with `reshape()` and `flatten()`\n",
    "- Concatenation and splitting arrays\n",
    "\n",
    "These operations form the core of data manipulation in NumPy."
   ]
  }
 ],
 "metadata": {
  "kernelspec": {
   "display_name": "Python 3",
   "language": "python",
   "name": "python3"
  },
  "language_info": {
   "codemirror_mode": {
    "name": "ipython",
    "version": 3
   },
   "file_extension": ".py",
   "mimetype": "text/x-python",
   "name": "python",
   "nbconvert_exporter": "python",
   "pygments_lexer": "ipython3",
   "version": "3.13.1"
  }
 },
 "nbformat": 4,
 "nbformat_minor": 5
}
