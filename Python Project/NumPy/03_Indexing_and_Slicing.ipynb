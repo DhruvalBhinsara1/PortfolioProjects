{
 "cells": [
  {
   "cell_type": "markdown",
   "id": "687208c6",
   "metadata": {},
   "source": [
    "# Indexing and Slicing in NumPy\n",
    "\n",
    "NumPy provides powerful ways to access and modify array elements through indexing and slicing. This notebook covers basic indexing, advanced indexing, boolean indexing, and fancy indexing."
   ]
  },
  {
   "cell_type": "markdown",
   "id": "2828e632",
   "metadata": {},
   "source": [
    "## Import NumPy"
   ]
  },
  {
   "cell_type": "code",
   "execution_count": null,
   "id": "ddb97bd5",
   "metadata": {},
   "outputs": [],
   "source": [
    "import numpy as np"
   ]
  },
  {
   "cell_type": "markdown",
   "id": "412df794",
   "metadata": {},
   "source": [
    "## Basic Indexing\n",
    "\n",
    "NumPy arrays can be indexed just like Python lists, but with additional capabilities for multi-dimensional arrays."
   ]
  },
  {
   "cell_type": "code",
   "execution_count": null,
   "id": "961d3c69",
   "metadata": {},
   "outputs": [],
   "source": [
    "# Create a 1D array\n",
    "arr1d = np.array([10, 20, 30, 40, 50])\n",
    "print('1D array:', arr1d)\n",
    "print('First element:', arr1d[0])\n",
    "print('Last element:', arr1d[-1])\n",
    "\n",
    "# Create a 2D array\n",
    "arr2d = np.array([[1, 2, 3], [4, 5, 6], [7, 8, 9]])\n",
    "print('\\n2D array:\\n', arr2d)\n",
    "print('Element at [0,1]:', arr2d[0, 1])\n",
    "print('Element at [2,2]:', arr2d[2, 2])"
   ]
  },
  {
   "cell_type": "markdown",
   "id": "b36d2811",
   "metadata": {},
   "source": [
    "## Slicing Arrays\n",
    "\n",
    "Slicing allows you to extract portions of arrays. The syntax is `array[start:stop:step]`."
   ]
  },
  {
   "cell_type": "code",
   "execution_count": null,
   "id": "1aea39c6",
   "metadata": {},
   "outputs": [],
   "source": [
    "# Slicing 1D array\n",
    "print('Original array:', arr1d)\n",
    "print('First three elements:', arr1d[:3])\n",
    "print('Every other element:', arr1d[::2])\n",
    "print('Reverse array:', arr1d[::-1])\n",
    "\n",
    "# Slicing 2D array\n",
    "print('\\nOriginal 2D array:\\n', arr2d)\n",
    "print('First row:', arr2d[0, :])\n",
    "print('First column:', arr2d[:, 0])\n",
    "print('Subarray (rows 0-1, columns 1-2):\\n', arr2d[0:2, 1:3])"
   ]
  },
  {
   "cell_type": "markdown",
   "id": "c75114af",
   "metadata": {},
   "source": [
    "## Boolean Indexing\n",
    "\n",
    "Boolean indexing allows you to select elements based on conditions."
   ]
  },
  {
   "cell_type": "code",
   "execution_count": null,
   "id": "aeb89a7d",
   "metadata": {},
   "outputs": [],
   "source": [
    "# Boolean indexing\n",
    "arr = np.array([1, 2, 3, 4, 5, 6, 7, 8, 9, 10])\n",
    "print('Original array:', arr)\n",
    "\n",
    "# Create boolean mask\n",
    "mask = arr > 5\n",
    "print('Boolean mask (arr > 5):', mask)\n",
    "\n",
    "# Use mask to select elements\n",
    "print('Elements > 5:', arr[mask])\n",
    "\n",
    "# Direct boolean indexing\n",
    "print('Even numbers:', arr[arr % 2 == 0])\n",
    "\n",
    "# Multiple conditions\n",
    "print('Elements between 3 and 8:', arr[(arr >= 3) & (arr <= 8)])"
   ]
  },
  {
   "cell_type": "markdown",
   "id": "32cde00a",
   "metadata": {},
   "source": [
    "## Fancy Indexing\n",
    "\n",
    "Fancy indexing allows you to select elements using arrays of indices."
   ]
  },
  {
   "cell_type": "code",
   "execution_count": null,
   "id": "0ffa729c",
   "metadata": {},
   "outputs": [],
   "source": [
    "# Fancy indexing with 1D array\n",
    "arr = np.array([10, 20, 30, 40, 50])\n",
    "indices = [0, 2, 4]\n",
    "print('Original array:', arr)\n",
    "print('Indices:', indices)\n",
    "print('Fancy indexed elements:', arr[indices])\n",
    "\n",
    "# Fancy indexing with 2D array\n",
    "arr2d = np.array([[1, 2, 3], [4, 5, 6], [7, 8, 9]])\n",
    "print('\\n2D array:\\n', arr2d)\n",
    "row_indices = [0, 1, 2]\n",
    "col_indices = [0, 2, 1]\n",
    "print('Row indices:', row_indices)\n",
    "print('Col indices:', col_indices)\n",
    "print('Fancy indexed elements:', arr2d[row_indices, col_indices])\n",
    "\n",
    "# Using fancy indexing to modify elements\n",
    "arr[indices] = [100, 200, 300]\n",
    "print('\\nModified array:', arr)"
   ]
  },
  {
   "cell_type": "markdown",
   "id": "08deea25",
   "metadata": {},
   "source": [
    "## Summary\n",
    "\n",
    "You have learned the different ways to index and slice NumPy arrays:\n",
    "- Basic indexing for accessing individual elements\n",
    "- Slicing for extracting subarrays\n",
    "- Boolean indexing for conditional selection\n",
    "- Fancy indexing for selecting with arrays of indices\n",
    "\n",
    "These techniques are essential for efficient data manipulation in NumPy."
   ]
  }
 ],
 "metadata": {
  "language_info": {
   "name": "python"
  }
 },
 "nbformat": 4,
 "nbformat_minor": 5
}
