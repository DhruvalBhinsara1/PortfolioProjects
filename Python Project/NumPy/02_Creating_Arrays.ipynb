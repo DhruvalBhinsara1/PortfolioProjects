{
 "cells": [
  {
   "cell_type": "markdown",
   "id": "bfd23fd5",
   "metadata": {},
   "source": [
    "# Creating Arrays in NumPy\n",
    "\n",
    "NumPy provides several ways to create arrays, from Python lists, built-in functions, and special array generators. This notebook covers the most common methods."
   ]
  },
  {
   "cell_type": "markdown",
   "id": "8d882075",
   "metadata": {},
   "source": [
    "## Import NumPy\n",
    "\n",
    "First, import the NumPy library."
   ]
  },
  {
   "cell_type": "code",
   "execution_count": 16,
   "id": "c4c035a5",
   "metadata": {},
   "outputs": [],
   "source": [
    "import numpy as np"
   ]
  },
  {
   "cell_type": "markdown",
   "id": "c8e55c15",
   "metadata": {},
   "source": [
    "## Creating Arrays from Python Lists\n",
    "\n",
    "You can create a NumPy array from a Python list using `np.array()`."
   ]
  },
  {
   "cell_type": "code",
   "execution_count": 17,
   "id": "005aa66f",
   "metadata": {},
   "outputs": [
    {
     "name": "stdout",
     "output_type": "stream",
     "text": [
      " 1D array:\n",
      " [1 2 3 4]\n",
      "\n",
      " 2D array:\n",
      " [[1 2 3]\n",
      " [4 5 6]]\n",
      "\n",
      " 3D array\n",
      " [[1 2]\n",
      " [2 3]\n",
      " [3 4]]\n"
     ]
    }
   ],
   "source": [
    "# 1D array from list\n",
    "arr1 = np.array([1, 2, 3, 4])\n",
    "print(' 1D array:\\n', arr1)\n",
    "\n",
    "\n",
    "print()\n",
    "\n",
    "# 2D array from nested list\n",
    "arr2 = np.array([[1, 2, 3], [4, 5, 6]])\n",
    "print(' 2D array:\\n', arr2)\n",
    "\n",
    "print()\n",
    "\n",
    "# 3D array from nested list\n",
    "arr3= np.array([[1,2],[2,3],[3,4]])\n",
    "print( ' 3D array\\n',arr3)"
   ]
  },
  {
   "cell_type": "markdown",
   "id": "26e76cd7",
   "metadata": {},
   "source": [
    "## Creating Arrays with Zeros, Ones, and Full\n",
    "\n",
    "NumPy provides functions to create arrays filled with zeros, ones, or any constant value."
   ]
  },
  {
   "cell_type": "code",
   "execution_count": 18,
   "id": "92def0ea",
   "metadata": {},
   "outputs": [
    {
     "name": "stdout",
     "output_type": "stream",
     "text": [
      "Zeros:\n",
      " [[0. 0. 0.]\n",
      " [0. 0. 0.]]\n",
      "Ones:\n",
      " [[1. 1. 1.]\n",
      " [1. 1. 1.]]\n",
      "Full (7s):\n",
      " [[7 7 7]\n",
      " [7 7 7]]\n"
     ]
    }
   ],
   "source": [
    "# Array of zeros\n",
    "zeros = np.zeros((2, 3))\n",
    "print('Zeros:\\n', zeros)\n",
    "\n",
    "# Array of ones\n",
    "ones = np.ones((2, 3))\n",
    "print('Ones:\\n', ones)\n",
    "\n",
    "# Array filled with a constant value\n",
    "full = np.full((2, 3), 7)\n",
    "print('Full (7s):\\n', full)"
   ]
  },
  {
   "cell_type": "markdown",
   "id": "689b3247",
   "metadata": {},
   "source": [
    "## Creating Arrays with arange and linspace\n",
    "\n",
    "- `np.arange(start, stop, step)` creates arrays with regularly incrementing values.\n",
    "- `np.linspace(start, stop, num)` creates arrays with a specified number of evenly spaced values between start and stop (inclusive)."
   ]
  },
  {
   "cell_type": "code",
   "execution_count": 28,
   "id": "f62f420e",
   "metadata": {},
   "outputs": [
    {
     "name": "stdout",
     "output_type": "stream",
     "text": [
      "arange: [ 0  2  4  6  8 10 12 14 16 18 20]\n",
      "linspace: [0.   0.25 0.5  0.75 1.  ]\n"
     ]
    }
   ],
   "source": [
    "# Using arange\n",
    "arange_arr = np.arange(0, 21, 2)\n",
    "print('arange:', arange_arr)\n",
    "\n",
    "# Using linspace\n",
    "linspace_arr = np.linspace(0,1, 5)\n",
    "print('linspace:', linspace_arr)"
   ]
  },
  {
   "cell_type": "markdown",
   "id": "6d660077",
   "metadata": {},
   "source": [
    "## Special Arrays: Identity and Eye\n",
    "\n",
    "NumPy can create identity matrices and diagonal matrices using `np.eye()` and `np.identity()`."
   ]
  },
  {
   "cell_type": "code",
   "execution_count": 48,
   "id": "990b79b4",
   "metadata": {},
   "outputs": [
    {
     "name": "stdout",
     "output_type": "stream",
     "text": [
      "Identity matrix:\n",
      " [[1. 0. 0.]\n",
      " [0. 1. 0.]\n",
      " [0. 0. 1.]]\n",
      "Eye matrix:\n",
      " [[1. 0. 0. 0.]\n",
      " [0. 1. 0. 0.]\n",
      " [0. 0. 1. 0.]]\n"
     ]
    }
   ],
   "source": [
    "# Identity matrix\n",
    "identity = np.identity(3)\n",
    "print('Identity matrix:\\n', identity)\n",
    "\n",
    "# Eye matrix (diagonal)\n",
    "eye = np.eye(3, 4)\n",
    "print('Eye matrix:\\n', eye)"
   ]
  }
 ],
 "metadata": {
  "kernelspec": {
   "display_name": "Python 3",
   "language": "python",
   "name": "python3"
  },
  "language_info": {
   "codemirror_mode": {
    "name": "ipython",
    "version": 3
   },
   "file_extension": ".py",
   "mimetype": "text/x-python",
   "name": "python",
   "nbconvert_exporter": "python",
   "pygments_lexer": "ipython3",
   "version": "3.13.1"
  }
 },
 "nbformat": 4,
 "nbformat_minor": 5
}
