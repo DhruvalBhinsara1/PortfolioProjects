{
 "cells": [
  {
   "cell_type": "markdown",
   "id": "eeaeacee",
   "metadata": {},
   "source": [
    "# Mathematical Functions in NumPy\n",
    "\n",
    "NumPy provides a wide range of mathematical functions, including universal functions (ufuncs), statistical functions, and trigonometric functions. This notebook covers the most commonly used mathematical operations."
   ]
  },
  {
   "cell_type": "markdown",
   "id": "1a647cfc",
   "metadata": {},
   "source": [
    "## Import NumPy"
   ]
  },
  {
   "cell_type": "code",
   "execution_count": null,
   "id": "67a178c1",
   "metadata": {},
   "outputs": [],
   "source": [
    "import numpy as np"
   ]
  },
  {
   "cell_type": "markdown",
   "id": "f492fdb4",
   "metadata": {},
   "source": [
    "## Universal Functions (ufuncs)\n",
    "\n",
    "Universal functions operate element-wise on arrays and are vectorized for performance."
   ]
  },
  {
   "cell_type": "code",
   "execution_count": null,
   "id": "f8dab353",
   "metadata": {},
   "outputs": [],
   "source": [
    "arr = np.array([0, 1, 2, 3, 4])\n",
    "\n",
    "print('Original array:', arr)\n",
    "print('Square root:', np.sqrt(arr))\n",
    "print('Exponential:', np.exp(arr))\n",
    "print('Natural log:', np.log(arr[1:]))  # Avoid log(0)\n",
    "print('Sine:', np.sin(arr))\n",
    "print('Cosine:', np.cos(arr))\n",
    "print('Absolute value:', np.abs(np.array([-1, -2, 3, -4])))\n",
    "\n",
    "# Binary ufuncs\n",
    "a = np.array([1, 2, 3])\n",
    "b = np.array([4, 5, 6])\n",
    "print('\\nMaximum:', np.maximum(a, b))\n",
    "print('Minimum:', np.minimum(a, b))\n",
    "print('Power:', np.power(a, b))"
   ]
  },
  {
   "cell_type": "markdown",
   "id": "1eb21ed3",
   "metadata": {},
   "source": [
    "## Aggregation Functions\n",
    "\n",
    "NumPy provides functions to aggregate data across arrays."
   ]
  },
  {
   "cell_type": "code",
   "execution_count": null,
   "id": "746cdf49",
   "metadata": {},
   "outputs": [],
   "source": [
    "arr = np.array([1, 2, 3, 4, 5, 6, 7, 8, 9, 10])\n",
    "\n",
    "print('Array:', arr)\n",
    "print('Sum:', np.sum(arr))\n",
    "print('Mean:', np.mean(arr))\n",
    "print('Median:', np.median(arr))\n",
    "print('Standard deviation:', np.std(arr))\n",
    "print('Variance:', np.var(arr))\n",
    "print('Minimum:', np.min(arr))\n",
    "print('Maximum:', np.max(arr))\n",
    "print('Product:', np.prod(arr))\n",
    "\n",
    "# 2D array aggregations\n",
    "arr2d = np.array([[1, 2, 3], [4, 5, 6]])\n",
    "print('\\n2D Array:\\n', arr2d)\n",
    "print('Sum of all elements:', np.sum(arr2d))\n",
    "print('Sum along axis 0 (columns):', np.sum(arr2d, axis=0))\n",
    "print('Sum along axis 1 (rows):', np.sum(arr2d, axis=1))"
   ]
  },
  {
   "cell_type": "markdown",
   "id": "6dbce459",
   "metadata": {},
   "source": [
    "## Trigonometric Functions\n",
    "\n",
    "NumPy includes all standard trigonometric functions."
   ]
  },
  {
   "cell_type": "code",
   "execution_count": null,
   "id": "3de51197",
   "metadata": {},
   "outputs": [],
   "source": [
    "angles = np.array([0, np.pi/4, np.pi/2, np.pi])\n",
    "\n",
    "print('Angles (radians):', angles)\n",
    "print('Sine:', np.sin(angles))\n",
    "print('Cosine:', np.cos(angles))\n",
    "print('Tangent:', np.tan(angles))\n",
    "\n",
    "# Inverse trigonometric functions\n",
    "values = np.array([0, 0.5, 1])\n",
    "print('\\nValues:', values)\n",
    "print('Arcsine:', np.arcsin(values))\n",
    "print('Arccosine:', np.arccos(values))\n",
    "print('Arctangent:', np.arctan(values))\n",
    "\n",
    "# Convert between degrees and radians\n",
    "degrees = np.array([0, 30, 45, 60, 90])\n",
    "radians = np.deg2rad(degrees)\n",
    "print('\\nDegrees:', degrees)\n",
    "print('Radians:', radians)\n",
    "print('Back to degrees:', np.rad2deg(radians))"
   ]
  },
  {
   "cell_type": "markdown",
   "id": "6a1040e4",
   "metadata": {},
   "source": [
    "## Summary\n",
    "\n",
    "You have learned about NumPy's mathematical functions:\n",
    "- Universal functions for element-wise operations\n",
    "- Aggregation functions for statistical summaries\n",
    "- Trigonometric functions and angle conversions\n",
    "\n",
    "These functions provide the mathematical foundation for scientific computing with NumPy."
   ]
  }
 ],
 "metadata": {
  "language_info": {
   "name": "python"
  }
 },
 "nbformat": 4,
 "nbformat_minor": 5
}
