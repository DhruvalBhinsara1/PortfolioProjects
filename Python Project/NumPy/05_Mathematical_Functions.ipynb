{
 "cells": [
  {
   "cell_type": "markdown",
   "id": "eeaeacee",
   "metadata": {},
   "source": [
    "# Mathematical Functions in NumPy\n",
    "\n",
    "NumPy provides a wide range of mathematical functions, including universal functions (ufuncs), statistical functions, and trigonometric functions. This notebook covers the most commonly used mathematical operations."
   ]
  },
  {
   "cell_type": "markdown",
   "id": "1a647cfc",
   "metadata": {},
   "source": [
    "## Import NumPy"
   ]
  },
  {
   "cell_type": "code",
   "execution_count": 1,
   "id": "67a178c1",
   "metadata": {},
   "outputs": [],
   "source": [
    "import numpy as np"
   ]
  },
  {
   "cell_type": "markdown",
   "id": "f492fdb4",
   "metadata": {},
   "source": [
    "## Universal Functions (ufuncs)\n",
    "\n",
    "Universal functions operate element-wise on arrays and are vectorized for performance."
   ]
  },
  {
   "cell_type": "code",
   "execution_count": 2,
   "id": "f8dab353",
   "metadata": {},
   "outputs": [
    {
     "name": "stdout",
     "output_type": "stream",
     "text": [
      "Original array: [0 1 2 3 4]\n",
      "Square root: [0.         1.         1.41421356 1.73205081 2.        ]\n",
      "Exponential: [ 1.          2.71828183  7.3890561  20.08553692 54.59815003]\n",
      "Natural log: [0.         0.69314718 1.09861229 1.38629436]\n",
      "Sine: [ 0.          0.84147098  0.90929743  0.14112001 -0.7568025 ]\n",
      "Cosine: [ 1.          0.54030231 -0.41614684 -0.9899925  -0.65364362]\n",
      "Absolute value: [1 2 3 4]\n",
      "\n",
      "Maximum: [4 5 6]\n",
      "Minimum: [1 2 3]\n",
      "Power: [  1  32 729]\n"
     ]
    }
   ],
   "source": [
    "arr = np.array([0, 1, 2, 3, 4])\n",
    "\n",
    "print('Original array:', arr)\n",
    "print('Square root:', np.sqrt(arr))\n",
    "print('Exponential:', np.exp(arr))\n",
    "print('Natural log:', np.log(arr[1:]))  # Avoid log(0)\n",
    "print('Sine:', np.sin(arr))\n",
    "print('Cosine:', np.cos(arr))\n",
    "print('Absolute value:', np.abs(np.array([-1, -2, 3, -4])))\n",
    "\n",
    "# Binary ufuncs\n",
    "a = np.array([1, 2, 3])\n",
    "b = np.array([4, 5, 6])\n",
    "print('\\nMaximum:', np.maximum(a, b))\n",
    "print('Minimum:', np.minimum(a, b))\n",
    "print('Power:', np.power(a, b))"
   ]
  },
  {
   "cell_type": "markdown",
   "id": "1eb21ed3",
   "metadata": {},
   "source": [
    "## Aggregation Functions\n",
    "\n",
    "NumPy provides functions to aggregate data across arrays."
   ]
  },
  {
   "cell_type": "code",
   "execution_count": 8,
   "id": "746cdf49",
   "metadata": {},
   "outputs": [
    {
     "name": "stdout",
     "output_type": "stream",
     "text": [
      "Array: [ 1  2  3  4  5  6  7  8  9 10]\n",
      "Sum: 55\n",
      "Mean: 5.5\n",
      "Median: 5.5\n",
      "Standard deviation: 2.8722813232690143\n",
      "Variance: 8.25\n",
      "Minimum: 1\n",
      "Maximum: 10\n",
      "Product: 3628800\n",
      "\n",
      "2D Array:\n",
      " [[1 2 3]\n",
      " [4 5 6]]\n",
      "Sum of all elements: 21\n",
      "Sum along axis 0 (columns): [5 7 9]\n",
      "Sum along axis 1 (rows): [ 6 15]\n"
     ]
    }
   ],
   "source": [
    "arr = np.array([1, 2, 3, 4, 5, 6, 7, 8, 9, 10])\n",
    "\n",
    "print('Array:', arr)\n",
    "print('Sum:', np.sum(arr))\n",
    "print('Mean:', np.mean(arr))\n",
    "print('Median:', np.median(arr))\n",
    "print('Standard deviation:', np.std(arr))\n",
    "print('Variance:', np.var(arr))\n",
    "print('Minimum:', np.min(arr))\n",
    "print('Maximum:', np.max(arr))\n",
    "print('Product:', np.prod(arr))\n",
    "\n",
    "# 2D array aggregations\n",
    "arr2d = np.array([[1, 2, 3], [4, 5, 6]])\n",
    "print('\\n2D Array:\\n', arr2d)\n",
    "print('Sum of all elements:', np.sum(arr2d))\n",
    "print('Sum along axis 0 (columns):', np.sum(arr2d, axis=0))\n",
    "print('Sum along axis 1 (rows):', np.sum(arr2d, axis=1))"
   ]
  },
  {
   "cell_type": "markdown",
   "id": "6dbce459",
   "metadata": {},
   "source": [
    "## Trigonometric Functions\n",
    "\n",
    "NumPy includes all standard trigonometric functions."
   ]
  },
  {
   "cell_type": "code",
   "execution_count": 4,
   "id": "3de51197",
   "metadata": {},
   "outputs": [
    {
     "name": "stdout",
     "output_type": "stream",
     "text": [
      "Angles (radians): [0.         0.78539816 1.57079633 3.14159265]\n",
      "Sine: [0.00000000e+00 7.07106781e-01 1.00000000e+00 1.22464680e-16]\n",
      "Cosine: [ 1.00000000e+00  7.07106781e-01  6.12323400e-17 -1.00000000e+00]\n",
      "Tangent: [ 0.00000000e+00  1.00000000e+00  1.63312394e+16 -1.22464680e-16]\n",
      "\n",
      "Values: [0.  0.5 1. ]\n",
      "Arcsine: [0.         0.52359878 1.57079633]\n",
      "Arccosine: [1.57079633 1.04719755 0.        ]\n",
      "Arctangent: [0.         0.46364761 0.78539816]\n",
      "\n",
      "Degrees: [ 0 30 45 60 90]\n",
      "Radians: [0.         0.52359878 0.78539816 1.04719755 1.57079633]\n",
      "Back to degrees: [ 0. 30. 45. 60. 90.]\n"
     ]
    }
   ],
   "source": [
    "angles = np.array([0, np.pi/4, np.pi/2, np.pi])\n",
    "\n",
    "print('Angles (radians):', angles)\n",
    "print('Sine:', np.sin(angles))\n",
    "print('Cosine:', np.cos(angles))\n",
    "print('Tangent:', np.tan(angles))\n",
    "\n",
    "# Inverse trigonometric functions\n",
    "values = np.array([0, 0.5, 1])\n",
    "print('\\nValues:', values)\n",
    "print('Arcsine:', np.arcsin(values))\n",
    "print('Arccosine:', np.arccos(values))\n",
    "print('Arctangent:', np.arctan(values))\n",
    "\n",
    "# Convert between degrees and radians\n",
    "degrees = np.array([0, 30, 45, 60, 90])\n",
    "radians = np.deg2rad(degrees)\n",
    "print('\\nDegrees:', degrees)\n",
    "print('Radians:', radians)\n",
    "print('Back to degrees:', np.rad2deg(radians))"
   ]
  },
  {
   "cell_type": "markdown",
   "id": "6a1040e4",
   "metadata": {},
   "source": [
    "## Summary\n",
    "\n",
    "You have learned about NumPy's mathematical functions:\n",
    "- Universal functions for element-wise operations\n",
    "- Aggregation functions for statistical summaries\n",
    "- Trigonometric functions and angle conversions\n",
    "\n",
    "These functions provide the mathematical foundation for scientific computing with NumPy."
   ]
  }
 ],
 "metadata": {
  "kernelspec": {
   "display_name": "Python 3",
   "language": "python",
   "name": "python3"
  },
  "language_info": {
   "codemirror_mode": {
    "name": "ipython",
    "version": 3
   },
   "file_extension": ".py",
   "mimetype": "text/x-python",
   "name": "python",
   "nbconvert_exporter": "python",
   "pygments_lexer": "ipython3",
   "version": "3.13.1"
  }
 },
 "nbformat": 4,
 "nbformat_minor": 5
}
