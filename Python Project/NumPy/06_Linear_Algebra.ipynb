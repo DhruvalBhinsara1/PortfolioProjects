{
 "cells": [
  {
   "cell_type": "markdown",
   "id": "ce95bd94",
   "metadata": {},
   "source": [
    "# Linear Algebra with NumPy\n",
    "\n",
    "NumPy provides comprehensive linear algebra functionality through the `numpy.linalg` module. This notebook covers matrix operations, eigenvalues, eigenvectors, and solving linear systems."
   ]
  },
  {
   "cell_type": "markdown",
   "id": "01c7b5ed",
   "metadata": {},
   "source": [
    "## Import NumPy"
   ]
  },
  {
   "cell_type": "code",
   "execution_count": null,
   "id": "f60bd6ae",
   "metadata": {},
   "outputs": [],
   "source": [
    "import numpy as np"
   ]
  },
  {
   "cell_type": "markdown",
   "id": "6a8803fc",
   "metadata": {},
   "source": [
    "## Matrix Multiplication\n",
    "\n",
    "NumPy supports matrix multiplication using `np.dot()`, `@` operator, or `np.matmul()`."
   ]
  },
  {
   "cell_type": "code",
   "execution_count": null,
   "id": "20af5c38",
   "metadata": {},
   "outputs": [],
   "source": [
    "A = np.array([[1, 2], [3, 4]])\n",
    "B = np.array([[5, 6], [7, 8]])\n",
    "\n",
    "print('Matrix A:\\n', A)\n",
    "print('Matrix B:\\n', B)\n",
    "\n",
    "# Matrix multiplication using np.dot()\n",
    "result_dot = np.dot(A, B)\n",
    "print('\\nA @ B using np.dot():\\n', result_dot)\n",
    "\n",
    "# Matrix multiplication using @ operator\n",
    "result_matmul = A @ B\n",
    "print('\\nA @ B using @ operator:\\n', result_matmul)\n",
    "\n",
    "# Matrix multiplication using np.matmul()\n",
    "result_matmul_func = np.matmul(A, B)\n",
    "print('\\nA @ B using np.matmul():\\n', result_matmul_func)\n",
    "\n",
    "# Vector dot product\n",
    "v1 = np.array([1, 2, 3])\n",
    "v2 = np.array([4, 5, 6])\n",
    "print('\\nVector dot product:', np.dot(v1, v2))"
   ]
  },
  {
   "cell_type": "markdown",
   "id": "c16bff1e",
   "metadata": {},
   "source": [
    "## Eigenvalues and Eigenvectors\n",
    "\n",
    "NumPy can compute eigenvalues and eigenvectors using `np.linalg.eig()`."
   ]
  },
  {
   "cell_type": "code",
   "execution_count": null,
   "id": "a9fb4657",
   "metadata": {},
   "outputs": [],
   "source": [
    "A = np.array([[4, 2], [1, 3]])\n",
    "\n",
    "print('Matrix A:\\n', A)\n",
    "\n",
    "# Compute eigenvalues and eigenvectors\n",
    "eigenvalues, eigenvectors = np.linalg.eig(A)\n",
    "\n",
    "print('\\nEigenvalues:', eigenvalues)\n",
    "print('Eigenvectors:\\n', eigenvectors)\n",
    "\n",
    "# Verify: A @ v = λ * v\n",
    "for i in range(len(eigenvalues)):\n",
    "    eigenvalue = eigenvalues[i]\n",
    "    eigenvector = eigenvectors[:, i]\n",
    "    result = A @ eigenvector\n",
    "    expected = eigenvalue * eigenvector\n",
    "    print(f'\\nEigenvalue {i+1}: {eigenvalue}')\n",
    "    print(f'A @ v{i+1}: {result}')\n",
    "    print(f'λ{i+1} * v{i+1}: {expected}')\n",
    "    print(f'Are they equal? {np.allclose(result, expected)}')"
   ]
  },
  {
   "cell_type": "markdown",
   "id": "b2a05801",
   "metadata": {},
   "source": [
    "## Solving Linear Systems\n",
    "\n",
    "Solve systems of linear equations using `np.linalg.solve()`."
   ]
  },
  {
   "cell_type": "code",
   "execution_count": null,
   "id": "c0bf30bb",
   "metadata": {},
   "outputs": [],
   "source": [
    "# Solve A * x = b\n",
    "A = np.array([[2, 1], [1, 3]])\n",
    "b = np.array([5, 8])\n",
    "\n",
    "print('Matrix A:\\n', A)\n",
    "print('Vector b:', b)\n",
    "\n",
    "# Solve for x\n",
    "x = np.linalg.solve(A, b)\n",
    "print('\\nSolution x:', x)\n",
    "\n",
    "# Verify the solution\n",
    "result = A @ x\n",
    "print('A @ x:', result)\n",
    "print('Should equal b:', b)\n",
    "print('Verification:', np.allclose(result, b))\n",
    "\n",
    "# Matrix inverse\n",
    "A_inv = np.linalg.inv(A)\n",
    "print('\\nMatrix inverse:\\n', A_inv)\n",
    "print('A @ A_inv:\\n', A @ A_inv)"
   ]
  },
  {
   "cell_type": "markdown",
   "id": "de29a364",
   "metadata": {},
   "source": [
    "## Other Linear Algebra Operations\n",
    "\n",
    "NumPy provides additional linear algebra functions like determinants, norms, and matrix decompositions."
   ]
  },
  {
   "cell_type": "code",
   "execution_count": null,
   "id": "ef4dcdf4",
   "metadata": {},
   "outputs": [],
   "source": [
    "A = np.array([[4, 2], [1, 3]])\n",
    "\n",
    "print('Matrix A:\\n', A)\n",
    "\n",
    "# Determinant\n",
    "det = np.linalg.det(A)\n",
    "print('Determinant:', det)\n",
    "\n",
    "# Trace (sum of diagonal elements)\n",
    "trace = np.trace(A)\n",
    "print('Trace:', trace)\n",
    "\n",
    "# Matrix norm\n",
    "norm_2 = np.linalg.norm(A, ord=2)  # 2-norm (largest singular value)\n",
    "norm_fro = np.linalg.norm(A, ord='fro')  # Frobenius norm\n",
    "print('2-norm:', norm_2)\n",
    "print('Frobenius norm:', norm_fro)\n",
    "\n",
    "# Singular Value Decomposition (SVD)\n",
    "U, s, Vt = np.linalg.svd(A)\n",
    "print('\\nSVD:')\n",
    "print('U:\\n', U)\n",
    "print('Singular values:', s)\n",
    "print('Vt:\\n', Vt)\n",
    "\n",
    "# Reconstruct matrix\n",
    "S = np.zeros_like(A, dtype=float)\n",
    "np.fill_diagonal(S, s)\n",
    "reconstructed = U @ S @ Vt\n",
    "print('\\nReconstructed matrix:\\n', reconstructed)\n",
    "print('Original matrix:\\n', A)\n",
    "print('Are they equal?', np.allclose(A, reconstructed))"
   ]
  },
  {
   "cell_type": "markdown",
   "id": "3e66c28b",
   "metadata": {},
   "source": [
    "## Summary\n",
    "\n",
    "You have learned NumPy's linear algebra capabilities:\n",
    "- Matrix multiplication using various methods\n",
    "- Computing eigenvalues and eigenvectors\n",
    "- Solving systems of linear equations\n",
    "- Matrix inversion, determinants, and norms\n",
    "- Singular value decomposition\n",
    "\n",
    "The `numpy.linalg` module provides efficient implementations of these fundamental linear algebra operations."
   ]
  }
 ],
 "metadata": {
  "language_info": {
   "name": "python"
  }
 },
 "nbformat": 4,
 "nbformat_minor": 5
}
