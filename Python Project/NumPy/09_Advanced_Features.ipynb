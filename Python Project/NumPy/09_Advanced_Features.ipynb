{
 "cells": [
  {
   "cell_type": "markdown",
   "id": "73e24bda",
   "metadata": {},
   "source": [
    "# Advanced NumPy Features\n",
    "\n",
    "This notebook covers advanced NumPy features including structured arrays, masked arrays, memory mapping, and performance optimization techniques."
   ]
  },
  {
   "cell_type": "markdown",
   "id": "215da156",
   "metadata": {},
   "source": [
    "## Import NumPy"
   ]
  },
  {
   "cell_type": "code",
   "execution_count": null,
   "id": "615bba18",
   "metadata": {},
   "outputs": [],
   "source": [
    "import numpy as np"
   ]
  },
  {
   "cell_type": "markdown",
   "id": "fef92a75",
   "metadata": {},
   "source": [
    "## Structured Arrays\n",
    "\n",
    "Structured arrays allow you to store heterogeneous data types in a single array, similar to a database table or pandas DataFrame."
   ]
  },
  {
   "cell_type": "code",
   "execution_count": null,
   "id": "ecd2c87b",
   "metadata": {},
   "outputs": [],
   "source": [
    "# Define data types for structured array\n",
    "dt = np.dtype([('name', 'U10'), ('age', 'i4'), ('height', 'f8')])\n",
    "\n",
    "# Create structured array\n",
    "people = np.array([('Alice', 25, 5.5), ('Bob', 30, 6.0), ('Charlie', 35, 5.8)], dtype=dt)\n",
    "\n",
    "print('Structured array:')\n",
    "print(people)\n",
    "print('\\nData types:', people.dtype)\n",
    "\n",
    "# Access fields\n",
    "print('\\nNames:', people['name'])\n",
    "print('Ages:', people['age'])\n",
    "print('Heights:', people['height'])\n",
    "\n",
    "# Access individual elements\n",
    "print('\\nFirst person:', people[0])\n",
    "print('Alice age:', people[0]['age'])\n",
    "\n",
    "# Modify values\n",
    "people[1]['age'] = 31\n",
    "print('\\nUpdated ages:', people['age'])"
   ]
  },
  {
   "cell_type": "markdown",
   "id": "0fa0cef4",
   "metadata": {},
   "source": [
    "## Masked Arrays\n",
    "\n",
    "Masked arrays allow you to work with arrays that contain missing or invalid data by masking certain elements."
   ]
  },
  {
   "cell_type": "code",
   "execution_count": null,
   "id": "a73809bf",
   "metadata": {},
   "outputs": [],
   "source": [
    "import numpy.ma as ma\n",
    "\n",
    "# Create array with some invalid data\n",
    "data = np.array([1, 2, -999, 4, 5, -999, 7])\n",
    "print('Original data:', data)\n",
    "\n",
    "# Create masked array\n",
    "masked_data = ma.masked_values(data, -999)\n",
    "print('Masked data:', masked_data)\n",
    "print('Mask:', masked_data.mask)\n",
    "\n",
    "# Operations on masked arrays\n",
    "print('Mean (ignoring masked):', masked_data.mean())\n",
    "print('Sum (ignoring masked):', masked_data.sum())\n",
    "\n",
    "# Create mask manually\n",
    "arr = np.array([1, 2, 3, 4, 5])\n",
    "mask = [False, True, False, True, False]\n",
    "masked_arr = ma.masked_array(arr, mask=mask)\n",
    "print('\\nManually masked array:', masked_arr)\n",
    "print('Compressed (non-masked only):', masked_arr.compressed())"
   ]
  },
  {
   "cell_type": "markdown",
   "id": "f9ad1e57",
   "metadata": {},
   "source": [
    "## Memory Mapping\n",
    "\n",
    "Memory mapping allows you to work with large arrays that don't fit in memory by mapping files directly to memory."
   ]
  },
  {
   "cell_type": "code",
   "execution_count": null,
   "id": "038c2f47",
   "metadata": {},
   "outputs": [],
   "source": [
    "# Create a large array and save it\n",
    "large_array = np.random.rand(1000, 1000)\n",
    "np.save('large_array.npy', large_array)\n",
    "print('Saved large array')\n",
    "\n",
    "# Memory map the file\n",
    "mmapped_array = np.load('large_array.npy', mmap_mode='r')\n",
    "print('Memory mapped array shape:', mmapped_array.shape)\n",
    "print('Memory mapped array dtype:', mmapped_array.dtype)\n",
    "\n",
    "# Work with the memory mapped array (only loads data as needed)\n",
    "subset = mmapped_array[100:200, 200:300]\n",
    "print('Subset shape:', subset.shape)\n",
    "print('Subset mean:', subset.mean())\n",
    "\n",
    "# Memory mapping modes:\n",
    "# 'r' - read-only\n",
    "# 'r+' - read-write\n",
    "# 'w+' - read-write, create if doesn't exist\n",
    "# 'c' - copy-on-write\n",
    "\n",
    "print('\\nMemory mapping allows efficient access to large files without loading everything into memory.')"
   ]
  },
  {
   "cell_type": "markdown",
   "id": "630a60e4",
   "metadata": {},
   "source": [
    "## Performance Optimization Tips\n",
    "\n",
    "NumPy is designed for performance, but there are best practices to maximize efficiency."
   ]
  },
  {
   "cell_type": "code",
   "execution_count": null,
   "id": "c5da1793",
   "metadata": {},
   "outputs": [],
   "source": [
    "import time\n",
    "\n",
    "# Vectorized operations vs loops\n",
    "arr = np.random.rand(1000000)\n",
    "\n",
    "# Vectorized (fast)\n",
    "start = time.time()\n",
    "result_vec = np.sin(arr) + np.cos(arr)\n",
    "vec_time = time.time() - start\n",
    "\n",
    "# Loop (slow)\n",
    "start = time.time()\n",
    "result_loop = np.zeros_like(arr)\n",
    "for i in range(len(arr)):\n",
    "    result_loop[i] = np.sin(arr[i]) + np.cos(arr[i])\n",
    "loop_time = time.time() - start\n",
    "\n",
    "print(f'Vectorized time: {vec_time:.4f} seconds')\n",
    "print(f'Loop time: {loop_time:.4f} seconds')\n",
    "print(f'Speedup: {loop_time / vec_time:.1f}x')\n",
    "\n",
    "# Use appropriate data types\n",
    "print('\\nData type memory usage:')\n",
    "arr_float64 = np.array([1.0, 2.0, 3.0], dtype=np.float64)\n",
    "arr_float32 = np.array([1.0, 2.0, 3.0], dtype=np.float32)\n",
    "\n",
    "print(f'float64: {arr_float64.nbytes} bytes')\n",
    "print(f'float32: {arr_float32.nbytes} bytes')\n",
    "\n",
    "# In-place operations\n",
    "a = np.random.rand(1000, 1000)\n",
    "b = np.random.rand(1000, 1000)\n",
    "\n",
    "# Not in-place (creates new array)\n",
    "start = time.time()\n",
    "c = a + b\n",
    "not_inplace_time = time.time() - start\n",
    "\n",
    "# In-place (modifies existing array)\n",
    "start = time.time()\n",
    "a += b\n",
    "inplace_time = time.time() - start\n",
    "\n",
    "print(f'\\nNot in-place time: {not_inplace_time:.4f} seconds')\n",
    "print(f'In-place time: {inplace_time:.4f} seconds')"
   ]
  },
  {
   "cell_type": "markdown",
   "id": "215ee1a4",
   "metadata": {},
   "source": [
    "## Summary\n",
    "\n",
    "You have explored advanced NumPy features:\n",
    "- Structured arrays for heterogeneous data\n",
    "- Masked arrays for handling missing data\n",
    "- Memory mapping for large datasets\n",
    "- Performance optimization techniques\n",
    "\n",
    "These advanced features make NumPy suitable for complex scientific computing and data analysis tasks."
   ]
  }
 ],
 "metadata": {
  "language_info": {
   "name": "python"
  }
 },
 "nbformat": 4,
 "nbformat_minor": 5
}
