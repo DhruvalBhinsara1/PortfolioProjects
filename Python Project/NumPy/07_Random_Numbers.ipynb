{
 "cells": [
  {
   "cell_type": "markdown",
   "id": "80946f2e",
   "metadata": {},
   "source": [
    "# Random Number Generation in NumPy\n",
    "\n",
    "NumPy provides comprehensive random number generation capabilities through the `numpy.random` module. This notebook covers generating random numbers, setting seeds for reproducibility, and working with different distributions."
   ]
  },
  {
   "cell_type": "markdown",
   "id": "59777fe7",
   "metadata": {},
   "source": [
    "## Import NumPy"
   ]
  },
  {
   "cell_type": "code",
   "execution_count": null,
   "id": "29184544",
   "metadata": {},
   "outputs": [],
   "source": [
    "import numpy as np"
   ]
  },
  {
   "cell_type": "markdown",
   "id": "4e00bd45",
   "metadata": {},
   "source": [
    "## Setting Seeds for Reproducibility\n",
    "\n",
    "Use `np.random.seed()` to ensure reproducible random number generation."
   ]
  },
  {
   "cell_type": "code",
   "execution_count": null,
   "id": "19527ce3",
   "metadata": {},
   "outputs": [],
   "source": [
    "# Set seed for reproducible results\n",
    "np.random.seed(42)\n",
    "\n",
    "print('First run with seed 42:')\n",
    "print('Random float:', np.random.rand())\n",
    "print('Random integer:', np.random.randint(1, 10))\n",
    "\n",
    "# Reset seed and run again\n",
    "np.random.seed(42)\n",
    "print('\\nSecond run with same seed:')\n",
    "print('Random float:', np.random.rand())\n",
    "print('Random integer:', np.random.randint(1, 10))\n",
    "\n",
    "# Without seed - different results each time\n",
    "print('\\nWithout seed (different results):')\n",
    "print('Random float:', np.random.rand())\n",
    "print('Random integer:', np.random.randint(1, 10))"
   ]
  },
  {
   "cell_type": "markdown",
   "id": "6708eac8",
   "metadata": {},
   "source": [
    "## Generating Random Arrays\n",
    "\n",
    "NumPy can generate arrays of random numbers with various distributions."
   ]
  },
  {
   "cell_type": "code",
   "execution_count": null,
   "id": "6a08cbce",
   "metadata": {},
   "outputs": [],
   "source": [
    "np.random.seed(42)\n",
    "\n",
    "# Uniform random floats [0, 1)\n",
    "print('Random floats [0, 1):')\n",
    "print(np.random.rand(3, 2))\n",
    "\n",
    "# Random integers\n",
    "print('\\nRandom integers [0, 10):')\n",
    "print(np.random.randint(0, 10, size=(2, 3)))\n",
    "\n",
    "# Random floats from normal distribution\n",
    "print('\\nNormal distribution (mean=0, std=1):')\n",
    "print(np.random.randn(2, 3))\n",
    "\n",
    "# Random choice from array\n",
    "arr = ['apple', 'banana', 'cherry', 'date']\n",
    "print('\\nRandom choice from array:')\n",
    "print(np.random.choice(arr, size=5))\n",
    "\n",
    "# Random floats in range [low, high)\n",
    "print('\\nRandom floats [5, 10):')\n",
    "print(np.random.uniform(5, 10, size=(2, 2)))"
   ]
  },
  {
   "cell_type": "markdown",
   "id": "5022fd73",
   "metadata": {},
   "source": [
    "## Random Number Distributions\n",
    "\n",
    "NumPy supports many probability distributions for random number generation."
   ]
  },
  {
   "cell_type": "code",
   "execution_count": null,
   "id": "dc6b55bf",
   "metadata": {},
   "outputs": [],
   "source": [
    "np.random.seed(42)\n",
    "\n",
    "# Normal (Gaussian) distribution\n",
    "print('Normal distribution (mean=5, std=2):')\n",
    "print(np.random.normal(5, 2, size=5))\n",
    "\n",
    "# Exponential distribution\n",
    "print('\\nExponential distribution (scale=1):')\n",
    "print(np.random.exponential(1, size=5))\n",
    "\n",
    "# Poisson distribution\n",
    "print('\\nPoisson distribution (lambda=3):')\n",
    "print(np.random.poisson(3, size=5))\n",
    "\n",
    "# Beta distribution\n",
    "print('\\nBeta distribution (alpha=2, beta=5):')\n",
    "print(np.random.beta(2, 5, size=5))\n",
    "\n",
    "# Binomial distribution\n",
    "print('\\nBinomial distribution (n=10, p=0.5):')\n",
    "print(np.random.binomial(10, 0.5, size=5))"
   ]
  },
  {
   "cell_type": "markdown",
   "id": "8d06f07b",
   "metadata": {},
   "source": [
    "## Shuffling and Permutation\n",
    "\n",
    "Randomly shuffle arrays or generate random permutations."
   ]
  },
  {
   "cell_type": "code",
   "execution_count": null,
   "id": "e08d02cd",
   "metadata": {},
   "outputs": [],
   "source": [
    "np.random.seed(42)\n",
    "\n",
    "# Original array\n",
    "arr = np.arange(10)\n",
    "print('Original array:', arr)\n",
    "\n",
    "# Shuffle in-place\n",
    "np.random.shuffle(arr)\n",
    "print('Shuffled array:', arr)\n",
    "\n",
    "# Generate permutation\n",
    "perm = np.random.permutation(10)\n",
    "print('Random permutation:', perm)\n",
    "\n",
    "# Shuffle along axis for 2D arrays\n",
    "arr2d = np.arange(12).reshape(3, 4)\n",
    "print('\\nOriginal 2D array:\\n', arr2d)\n",
    "\n",
    "np.random.shuffle(arr2d)  # Shuffle rows\n",
    "print('Rows shuffled:\\n', arr2d)\n",
    "\n",
    "arr2d = np.arange(12).reshape(3, 4)\n",
    "np.random.shuffle(arr2d.T)  # Shuffle columns\n",
    "print('Columns shuffled:\\n', arr2d)"
   ]
  },
  {
   "cell_type": "markdown",
   "id": "8ec42698",
   "metadata": {},
   "source": [
    "## Summary\n",
    "\n",
    "You have learned NumPy's random number generation capabilities:\n",
    "- Setting seeds for reproducible results\n",
    "- Generating random arrays with various distributions\n",
    "- Working with different probability distributions\n",
    "- Shuffling and permuting arrays\n",
    "\n",
    "The `numpy.random` module provides efficient and flexible random number generation for scientific computing and simulations."
   ]
  }
 ],
 "metadata": {
  "language_info": {
   "name": "python"
  }
 },
 "nbformat": 4,
 "nbformat_minor": 5
}
