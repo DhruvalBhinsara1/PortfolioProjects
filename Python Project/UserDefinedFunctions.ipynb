{
 "cells": [
  {
   "cell_type": "markdown",
   "metadata": {},
   "source": [
    "## User-Defined Functions in Python and their Variations\n",
    "\n",
    "A **user-defined function** in Python is a reusable block of code that performs a specific task. Defining functions helps organize code, improves readability, and avoids repetition. You use the `def` keyword to define a function. 🐍\n"
   ]
  },
  {
   "cell_type": "markdown",
   "metadata": {},
   "source": [
    "### 1. Functions with No Arguments and No Return Value\n",
    "\n",
    "These are the simplest functions, used to perform a fixed action without taking any input or returning any output. They are useful for tasks like printing a standard message.\n"
   ]
  },
  {
   "cell_type": "code",
   "execution_count": 5,
   "metadata": {},
   "outputs": [
    {
     "name": "stdout",
     "output_type": "stream",
     "text": [
      "Hello, World!\n"
     ]
    }
   ],
   "source": [
    "# Function definition\n",
    "def greet():\n",
    "    print(\"Hello, World!\")\n",
    "\n",
    "# Calling the function\n",
    "greet()"
   ]
  },
  {
   "cell_type": "markdown",
   "metadata": {},
   "source": [
    "### 2. Functions with Arguments and No Return Value\n",
    "\n",
    "These functions accept one or more **arguments** as input. The arguments are used inside the function's body to perform an operation, but the function doesn't explicitly return a value.\n"
   ]
  },
  {
   "cell_type": "code",
   "execution_count": 6,
   "metadata": {},
   "outputs": [
    {
     "name": "stdout",
     "output_type": "stream",
     "text": [
      "The sum is: 8\n"
     ]
    }
   ],
   "source": [
    "def add(a, b):\n",
    "    print(f\"The sum is: {a + b}\")\n",
    "\n",
    "add(5, 3)"
   ]
  },
  {
   "cell_type": "markdown",
   "metadata": {},
   "source": [
    "### 3. Functions with Arguments and a Return Value\n",
    "\n",
    "This is a common function type. They take arguments, perform a calculation, and use the `return` statement to send a value back to the caller. The returned value can be stored in a variable.\n"
   ]
  },
  {
   "cell_type": "code",
   "execution_count": 7,
   "metadata": {},
   "outputs": [
    {
     "name": "stdout",
     "output_type": "stream",
     "text": [
      "The product is: 20\n"
     ]
    }
   ],
   "source": [
    "def multiply(a, b):\n",
    "    return a * b\n",
    "\n",
    "result = multiply(4, 5)\n",
    "print(f\"The product is: {result}\")"
   ]
  },
  {
   "cell_type": "markdown",
   "metadata": {},
   "source": [
    "---\n",
    "\n",
    "### 4. Functions with Default Arguments\n",
    "\n",
    "You can set a default value for an argument in the function's definition. If you don't provide a value for that argument when calling the function, the default value is used. This makes the argument optional.\n"
   ]
  },
  {
   "cell_type": "code",
   "execution_count": 8,
   "metadata": {},
   "outputs": [
    {
     "name": "stdout",
     "output_type": "stream",
     "text": [
      "3 raised to the power of 2 (default): 9\n",
      "3 raised to the power of 3: 27\n"
     ]
    }
   ],
   "source": [
    "def power(base, exp=2):\n",
    "    return base ** exp\n",
    "\n",
    "# Using the default exponent\n",
    "print(f\"3 raised to the power of 2 (default): {power(3)}\")\n",
    "\n",
    "# Providing a custom exponent\n",
    "print(f\"3 raised to the power of 3: {power(3, 3)}\")"
   ]
  },
  {
   "cell_type": "markdown",
   "metadata": {},
   "source": [
    "### 5. Functions with Arbitrary Arguments (`*args` and `**kwargs`)\n",
    "\n",
    "When you don't know in advance how many arguments a function will receive, you can use these special syntaxes.\n",
    "\n",
    "- `*args` collects an indefinite number of non-keyword (positional) arguments into a **tuple**.\n",
    "- `**kwargs` collects an indefinite number of keyword arguments into a **dictionary**.\n"
   ]
  },
  {
   "cell_type": "code",
   "execution_count": 9,
   "metadata": {},
   "outputs": [
    {
     "name": "stdout",
     "output_type": "stream",
     "text": [
      "--- *args example ---\n",
      "Arguments passed as a tuple: (1, 2, 3, 4, 5)\n",
      "The total sum is: 15\n",
      "\n",
      "--- **kwargs example ---\n",
      "Arguments passed as a dictionary: {'name': 'Alice', 'age': 30, 'city': 'New York'}\n",
      "name: Alice\n",
      "age: 30\n",
      "city: New York\n"
     ]
    }
   ],
   "source": [
    "def sum_all(*args):\n",
    "    print(f\"Arguments passed as a tuple: {args}\")\n",
    "    return sum(args)\n",
    "\n",
    "def display_info(**kwargs):\n",
    "    print(f\"Arguments passed as a dictionary: {kwargs}\")\n",
    "    for key, value in kwargs.items():\n",
    "        print(f\"{key}: {value}\")\n",
    "\n",
    "print(\"--- *args example ---\")\n",
    "total = sum_all(1, 2, 3, 4, 5)\n",
    "print(f\"The total sum is: {total}\")\n",
    "\n",
    "print(\"\\n--- **kwargs example ---\")\n",
    "display_info(name=\"Alice\", age=30, city=\"New York\")"
   ]
  },
  {
   "cell_type": "markdown",
   "metadata": {},
   "source": [
    "---\n",
    "\n",
    "### 6. Lambda Functions (Anonymous Functions)\n",
    "\n",
    "**Lambda functions** are small, single-expression functions without a name. They are defined with the `lambda` keyword and are typically used for short, simple operations.\n"
   ]
  },
  {
   "cell_type": "code",
   "execution_count": 10,
   "metadata": {},
   "outputs": [
    {
     "name": "stdout",
     "output_type": "stream",
     "text": [
      "Adding 1 to 5 gives: 6\n",
      "Original numbers: [1, 2, 3, 4]\n",
      "Squared numbers (using lambda): [1, 4, 9, 16]\n"
     ]
    }
   ],
   "source": [
    "# A lambda function to add 1 to a number\n",
    "add_one = lambda x: x + 1\n",
    "\n",
    "# Using the lambda function\n",
    "print(f\"Adding 1 to 5 gives: {add_one(5)}\")\n",
    "\n",
    "# A more practical example with the map() function\n",
    "numbers = [1, 2, 3, 4]\n",
    "squared_numbers = list(map(lambda x: x**2, numbers))\n",
    "print(f\"Original numbers: {numbers}\")\n",
    "print(f\"Squared numbers (using lambda): {squared_numbers}\")"
   ]
  }
 ],
 "metadata": {
  "kernelspec": {
   "display_name": ".venv (3.13.1)",
   "language": "python",
   "name": "python3"
  },
  "language_info": {
   "codemirror_mode": {
    "name": "ipython",
    "version": 3
   },
   "file_extension": ".py",
   "mimetype": "text/x-python",
   "name": "python",
   "nbconvert_exporter": "python",
   "pygments_lexer": "ipython3",
   "version": "3.13.1"
  }
 },
 "nbformat": 4,
 "nbformat_minor": 5
}
