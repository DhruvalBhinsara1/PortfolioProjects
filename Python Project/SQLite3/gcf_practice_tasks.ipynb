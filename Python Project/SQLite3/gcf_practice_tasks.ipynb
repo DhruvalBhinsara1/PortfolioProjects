{
 "cells": [
  {
   "cell_type": "markdown",
   "id": "6d2bc25a",
   "metadata": {},
   "source": [
    "## <b> GCF Practice Tasks </b>\n"
   ]
  },
  {
   "cell_type": "markdown",
   "id": "2a7be27b",
   "metadata": {
    "vscode": {
     "languageId": "plaintext"
    }
   },
   "source": [
    "## Task 1: Create a table for employees records (id, name, department, salary).\n"
   ]
  },
  {
   "cell_type": "code",
   "execution_count": 1,
   "id": "cd8aacc4",
   "metadata": {},
   "outputs": [],
   "source": [
    "import sqlite3\n",
    "conn = sqlite3.connect('employees.db')\n",
    "cursor = conn.cursor()\n",
    "cursor.execute('''\n",
    "CREATE TABLE IF NOT EXISTS employees (\n",
    "    id INTEGER PRIMARY KEY,\n",
    "    name TEXT NOT NULL,\n",
    "    department TEXT NOT NULL,\n",
    "    salary REAL NOT NULL\n",
    ")\n",
    "''')\n",
    "\n",
    "conn.commit()\n",
    "conn.close()"
   ]
  },
  {
   "cell_type": "markdown",
   "id": "7c890973",
   "metadata": {},
   "source": [
    "## Task 2: Insert 5 dummy employee records using executemany()."
   ]
  },
  {
   "cell_type": "code",
   "execution_count": null,
   "id": "1c29719b",
   "metadata": {},
   "outputs": [
    {
     "name": "stdout",
     "output_type": "stream",
     "text": [
      "Data (1, 'Alice', 'HR', 60000.0)\n",
      "Data (2, 'Bob', 'Engineering', 80000.0)\n",
      "Data (3, 'Charlie', 'Marketing', 70000.0)\n",
      "Data (4, 'David', 'Finance', 75000.0)\n",
      "Data (5, 'Eve', 'Engineering', 85000.0)\n"
     ]
    }
   ],
   "source": [
    "conn = sqlite3.connect('employees.db')\n",
    "cursor = conn.cursor()\n",
    "employees = [\n",
    "    (1, 'Alice', 'HR', 60000),\n",
    "    (2, 'Bob', 'Engineering', 80000),\n",
    "    (3, 'Charlie', 'Marketing', 70000),\n",
    "    (4, 'David', 'Finance', 75000),\n",
    "    (5, 'Eve', 'Engineering', 85000)\n",
    "]\n",
    "cursor.executemany('INSERT INTO employees (id, name, department, salary) VALUES (?, ?, ?, ?)', employees)\n",
    "conn.commit()\n",
    "conn.close()\n",
    "\n",
    "conn = sqlite3.connect('employees.db')\n",
    "cursor = conn.cursor()\n",
    "cursor.execute('SELECT * FROM employees')\n",
    "rows = cursor.fetchall()\n",
    "for row in rows:\n",
    "    print('Data', row)\n",
    "\n",
    "conn.close()"
   ]
  },
  {
   "cell_type": "markdown",
   "id": "b14dd8c5",
   "metadata": {},
   "source": [
    "## Task 3 :  Write a function to update an employee's department."
   ]
  },
  {
   "cell_type": "code",
   "execution_count": null,
   "id": "307feb9c",
   "metadata": {},
   "outputs": [
    {
     "name": "stdout",
     "output_type": "stream",
     "text": [
      "Data (1, 'Alice', 'HR', 60000.0)\n",
      "Data (2, 'Bob', 'Product Management', 80000.0)\n",
      "Data (3, 'Charlie', 'Marketing', 70000.0)\n",
      "Data (4, 'David', 'Finance', 75000.0)\n",
      "Data (5, 'Eve', 'Engineering', 85000.0)\n"
     ]
    }
   ],
   "source": [
    "def update_department(employee_id, new_department):\n",
    "    conn = sqlite3.connect('employees.db')\n",
    "    cursor = conn.cursor()\n",
    "    cursor.execute('UPDATE employees SET department = ? WHERE id = ?', (new_department, employee_id))\n",
    "    conn.commit()\n",
    "    conn.close()\n",
    "\n",
    "update_department(2, 'Product Management')\n",
    "\n",
    "conn = sqlite3.connect('employees.db')\n",
    "cursor = conn.cursor()\n",
    "cursor.execute('SELECT * FROM employees')\n",
    "rows = cursor.fetchall()\n",
    "for row in rows:\n",
    "    print('Data', row)\n",
    "\n",
    "conn.close()"
   ]
  },
  {
   "cell_type": "markdown",
   "id": "bc3c656f",
   "metadata": {},
   "source": [
    "## Task 4: Write a program to search employee by name."
   ]
  },
  {
   "cell_type": "code",
   "execution_count": 16,
   "id": "1b74dd03",
   "metadata": {},
   "outputs": [
    {
     "name": "stdout",
     "output_type": "stream",
     "text": [
      "Search Result: (2, 'Bob', 'Product Management', 80000.0)\n"
     ]
    }
   ],
   "source": [
    "def search_employee_by_name(name):\n",
    "    conn = sqlite3.connect('employees.db')\n",
    "    cursor = conn.cursor()\n",
    "    cursor.execute('SELECT * FROM employees WHERE name = ?', (name,))\n",
    "    rows = cursor.fetchall()\n",
    "    for row in rows:\n",
    "        print('Search Result:', row)\n",
    "    conn.close()\n",
    "\n",
    "search_employee_by_name('Bob')"
   ]
  },
  {
   "cell_type": "markdown",
   "id": "882c7826",
   "metadata": {},
   "source": [
    "## Task 5: Delete records of employees with salary below a certain threshold."
   ]
  },
  {
   "cell_type": "code",
   "execution_count": 9,
   "id": "08cd3d56",
   "metadata": {},
   "outputs": [
    {
     "name": "stdout",
     "output_type": "stream",
     "text": [
      "Data (2, 'Bob', 'Product Management', 80000.0)\n",
      "Data (4, 'David', 'Finance', 75000.0)\n",
      "Data (5, 'Eve', 'Engineering', 85000.0)\n"
     ]
    }
   ],
   "source": [
    "def delete_employee_below_salary(salary_threshold):\n",
    "    conn = sqlite3.connect('employees.db')\n",
    "    cursor = conn.cursor()\n",
    "    cursor.execute('DELETE FROM employees WHERE salary < ?', (salary_threshold,))\n",
    "    conn.commit()\n",
    "    conn.close()\n",
    "\n",
    "delete_employee_below_salary(75000)\n",
    "\n",
    "conn = sqlite3.connect('employees.db')\n",
    "cursor = conn.cursor()\n",
    "cursor.execute('SELECT * FROM employees')\n",
    "rows = cursor.fetchall()\n",
    "for row in rows:\n",
    "    print('Data', row)\n",
    "\n",
    "conn.close()"
   ]
  }
 ],
 "metadata": {
  "kernelspec": {
   "display_name": "Python 3",
   "language": "python",
   "name": "python3"
  },
  "language_info": {
   "codemirror_mode": {
    "name": "ipython",
    "version": 3
   },
   "file_extension": ".py",
   "mimetype": "text/x-python",
   "name": "python",
   "nbconvert_exporter": "python",
   "pygments_lexer": "ipython3",
   "version": "3.13.1"
  }
 },
 "nbformat": 4,
 "nbformat_minor": 5
}
