{
 "cells": [
  {
   "cell_type": "markdown",
   "id": "2de65074",
   "metadata": {},
   "source": [
    "# Inserting Data into SQLite Tables\n",
    "\n",
    "In this notebook, you'll learn how to insert data into SQLite tables using Python. We'll cover single row inserts, multiple row inserts, and best practices for data insertion."
   ]
  },
  {
   "cell_type": "code",
   "execution_count": 11,
   "id": "a2bef824",
   "metadata": {},
   "outputs": [
    {
     "name": "stdout",
     "output_type": "stream",
     "text": [
      "Connected to database\n"
     ]
    }
   ],
   "source": [
    "import sqlite3\n",
    "\n",
    "# Connect to database\n",
    "conn = sqlite3.connect('university.db')\n",
    "cursor = conn.cursor()\n",
    "\n",
    "print('Connected to database')"
   ]
  },
  {
   "cell_type": "markdown",
   "id": "06c0e463",
   "metadata": {},
   "source": [
    "## Single Row Insert\n",
    "\n",
    "The basic syntax for inserting a single row is:\n",
    "\n",
    "```sql\n",
    "INSERT INTO table_name (column1, column2, ...) VALUES (value1, value2, ...);\n",
    "```"
   ]
  },
  {
   "cell_type": "code",
   "execution_count": 14,
   "id": "457331f4",
   "metadata": {},
   "outputs": [
    {
     "name": "stdout",
     "output_type": "stream",
     "text": [
      "Student inserted successfully\n",
      "Last row ID: 7\n"
     ]
    }
   ],
   "source": [
    "# Insert a single student\n",
    "cursor.execute('''\n",
    "    INSERT INTO students (name, age, grade)\n",
    "    VALUES ('Alice Johnson', 20, 3.8)\n",
    "''')\n",
    "\n",
    "print('Student inserted successfully')\n",
    "print('Last row ID:', cursor.lastrowid)"
   ]
  },
  {
   "cell_type": "markdown",
   "id": "76c5d84f",
   "metadata": {},
   "source": [
    "## Inserting Multiple Rows\n",
    "\n",
    "You can insert multiple rows in a single execute call or use executemany for efficiency."
   ]
  },
  {
   "cell_type": "code",
   "execution_count": 4,
   "id": "5a257b92",
   "metadata": {},
   "outputs": [
    {
     "name": "stdout",
     "output_type": "stream",
     "text": [
      "Multiple students inserted\n"
     ]
    }
   ],
   "source": [
    "# Insert multiple students using separate executes\n",
    "students_data = [\n",
    "    ('Bob Smith', 22, 3.5),\n",
    "    ('Charlie Brown', 19, 3.9),\n",
    "    ('Diana Prince', 21, 4.0)\n",
    "]\n",
    "\n",
    "for student in students_data:\n",
    "    cursor.execute('''\n",
    "        INSERT INTO students (name, age, grade)\n",
    "        VALUES (?, ?, ?)\n",
    "    ''', student)\n",
    "\n",
    "print('Multiple students inserted')"
   ]
  },
  {
   "cell_type": "markdown",
   "id": "d913cd8d",
   "metadata": {},
   "source": [
    "## Using executemany() for Bulk Inserts\n",
    "\n",
    "executemany() is more efficient for inserting multiple rows."
   ]
  },
  {
   "cell_type": "code",
   "execution_count": 5,
   "id": "1dd7a5b5",
   "metadata": {},
   "outputs": [
    {
     "name": "stdout",
     "output_type": "stream",
     "text": [
      "Courses inserted successfully\n"
     ]
    }
   ],
   "source": [
    "# Insert multiple courses using executemany\n",
    "courses_data = [\n",
    "    ('Introduction to Computer Science', 'Dr. Smith', 4.0, 'CS'),\n",
    "    ('Calculus I', 'Prof. Johnson', 4.0, 'MATH'),\n",
    "    ('English Literature', 'Dr. Williams', 3.0, 'ENGL'),\n",
    "    ('Physics I', 'Prof. Davis', 4.0, 'PHYS')\n",
    "]\n",
    "\n",
    "cursor.executemany('''\n",
    "    INSERT INTO courses (course_name, instructor, credits, department)\n",
    "    VALUES (?, ?, ?, ?)\n",
    "''', courses_data)\n",
    "\n",
    "print('Courses inserted successfully')"
   ]
  },
  {
   "cell_type": "markdown",
   "id": "82155d5d",
   "metadata": {},
   "source": [
    "## Using Named Parameters\n",
    "\n",
    "You can use named parameters for more readable code."
   ]
  },
  {
   "cell_type": "code",
   "execution_count": 6,
   "id": "aa306ec0",
   "metadata": {},
   "outputs": [
    {
     "name": "stdout",
     "output_type": "stream",
     "text": [
      "Department inserted with named parameters\n"
     ]
    }
   ],
   "source": [
    "# Insert using named parameters\n",
    "cursor.execute('''\n",
    "    INSERT INTO departments (dept_name, dept_head, budget)\n",
    "    VALUES (:name, :head, :budget)\n",
    "''', {\n",
    "    'name': 'Computer Science',\n",
    "    'head': 'Dr. Smith',\n",
    "    'budget': 500000.00\n",
    "})\n",
    "\n",
    "print('Department inserted with named parameters')"
   ]
  },
  {
   "cell_type": "markdown",
   "id": "db48b5bc",
   "metadata": {},
   "source": [
    "## Inserting with Default Values\n",
    "\n",
    "Columns with default values can be omitted from the INSERT statement."
   ]
  },
  {
   "cell_type": "code",
   "execution_count": 7,
   "id": "947c7928",
   "metadata": {},
   "outputs": [
    {
     "name": "stdout",
     "output_type": "stream",
     "text": [
      "Enrollment inserted with default values\n"
     ]
    }
   ],
   "source": [
    "# Insert enrollment with default enrollment_date\n",
    "cursor.execute('''\n",
    "    INSERT INTO enrollments (student_id, course_id, semester)\n",
    "    VALUES (1, 1, 'Fall 2023')\n",
    "''')\n",
    "\n",
    "print('Enrollment inserted with default values')"
   ]
  },
  {
   "cell_type": "markdown",
   "id": "75b98323",
   "metadata": {},
   "source": [
    "## Handling Duplicate Data\n",
    "\n",
    "Use INSERT OR IGNORE to skip duplicates, or INSERT OR REPLACE to update."
   ]
  },
  {
   "cell_type": "code",
   "execution_count": 8,
   "id": "1d28978c",
   "metadata": {},
   "outputs": [
    {
     "name": "stdout",
     "output_type": "stream",
     "text": [
      "Duplicate department insertion attempted (ignored)\n",
      "Department updated with INSERT OR REPLACE\n"
     ]
    }
   ],
   "source": [
    "# Try to insert duplicate department (will be ignored due to UNIQUE constraint)\n",
    "cursor.execute('''\n",
    "    INSERT OR IGNORE INTO departments (dept_name, dept_head, budget)\n",
    "    VALUES ('Computer Science', 'Dr. Jones', 600000.00)\n",
    "''')\n",
    "\n",
    "print('Duplicate department insertion attempted (ignored)')\n",
    "\n",
    "# Insert or replace\n",
    "cursor.execute('''\n",
    "    INSERT OR REPLACE INTO departments (dept_id, dept_name, dept_head, budget)\n",
    "    VALUES (1, 'Computer Science', 'Dr. Jones', 600000.00)\n",
    "''')\n",
    "\n",
    "print('Department updated with INSERT OR REPLACE')"
   ]
  },
  {
   "cell_type": "markdown",
   "id": "2733c1ca",
   "metadata": {},
   "source": [
    "## Verifying Inserts\n",
    "\n",
    "Check that data was inserted correctly."
   ]
  },
  {
   "cell_type": "code",
   "execution_count": 15,
   "id": "464db808",
   "metadata": {},
   "outputs": [
    {
     "name": "stdout",
     "output_type": "stream",
     "text": [
      "Students in database:\n",
      "  ID: 1, Name: Alice Johnson, Age: 20, Grade: 3.8\n",
      "  ID: 2, Name: Bob Smith, Age: 22, Grade: 3.5\n",
      "  ID: 3, Name: Charlie Brown, Age: 19, Grade: 3.9\n",
      "  ID: 4, Name: Diana Prince, Age: 21, Grade: 4.0\n",
      "  ID: 5, Name: Alice Johnson, Age: 20, Grade: 3.8\n",
      "  ID: 6, Name: Alice Johnson, Age: 20, Grade: 3.8\n",
      "  ID: 7, Name: Alice Johnson, Age: 20, Grade: 3.8\n",
      "\n",
      "Total students: 7\n"
     ]
    }
   ],
   "source": [
    "# Check students table\n",
    "cursor.execute('SELECT * FROM students')\n",
    "students = cursor.fetchall()\n",
    "\n",
    "print('Students in database:')\n",
    "for student in students:\n",
    "    print(f'  ID: {student[0]}, Name: {student[1]}, Age: {student[2]}, Grade: {student[3]}')\n",
    "\n",
    "# Check row count\n",
    "cursor.execute('SELECT COUNT(*) FROM students')\n",
    "count = cursor.fetchone()[0]\n",
    "print(f'\\nTotal students: {count}')\n",
    "\n",
    "# Commit changes\n",
    "conn.commit()"
   ]
  },
  {
   "cell_type": "markdown",
   "id": "c245c24b",
   "metadata": {},
   "source": [
    "## Summary\n",
    "\n",
    "In this notebook, you learned how to:\n",
    "\n",
    "- Insert single rows using basic INSERT statements\n",
    "- Insert multiple rows efficiently with executemany()\n",
    "- Use parameterized queries to prevent SQL injection\n",
    "- Use named parameters for readability\n",
    "- Handle default values and constraints\n",
    "- Handle duplicate data with INSERT OR IGNORE/REPLACE\n",
    "- Verify data insertion\n",
    "\n",
    "Always use parameterized queries when inserting user-provided data to prevent SQL injection attacks. Use executemany() for bulk inserts to improve performance."
   ]
  },
  {
   "cell_type": "code",
   "execution_count": 10,
   "id": "9130743d",
   "metadata": {},
   "outputs": [
    {
     "name": "stdout",
     "output_type": "stream",
     "text": [
      "Database connection closed\n"
     ]
    }
   ],
   "source": [
    "# Close the connection\n",
    "conn.close()\n",
    "print('Database connection closed')"
   ]
  }
 ],
 "metadata": {
  "kernelspec": {
   "display_name": "Python 3",
   "language": "python",
   "name": "python3"
  },
  "language_info": {
   "codemirror_mode": {
    "name": "ipython",
    "version": 3
   },
   "file_extension": ".py",
   "mimetype": "text/x-python",
   "name": "python",
   "nbconvert_exporter": "python",
   "pygments_lexer": "ipython3",
   "version": "3.13.1"
  }
 },
 "nbformat": 4,
 "nbformat_minor": 5
}
