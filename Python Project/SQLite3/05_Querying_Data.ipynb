{
 "cells": [
  {
   "cell_type": "markdown",
   "id": "9caab469",
   "metadata": {},
   "source": [
    "# Querying Data from SQLite Tables\n",
    "\n",
    "In this notebook, you'll learn how to query data from SQLite tables using SELECT statements. We'll cover basic queries, filtering, sorting, joining tables, and aggregate functions."
   ]
  },
  {
   "cell_type": "code",
   "execution_count": null,
   "id": "42639a05",
   "metadata": {},
   "outputs": [],
   "source": [
    "import sqlite3\n",
    "\n",
    "# Connect to database\n",
    "conn = sqlite3.connect('university.db')\n",
    "cursor = conn.cursor()\n",
    "\n",
    "print('Connected to database')"
   ]
  },
  {
   "cell_type": "markdown",
   "id": "683426c5",
   "metadata": {},
   "source": [
    "## Basic SELECT Queries\n",
    "\n",
    "The basic syntax for SELECT queries is:\n",
    "\n",
    "```sql\n",
    "SELECT column1, column2, ...\n",
    "FROM table_name;\n",
    "```\n",
    "\n",
    "Use `*` to select all columns."
   ]
  },
  {
   "cell_type": "code",
   "execution_count": null,
   "id": "cd6dd622",
   "metadata": {},
   "outputs": [],
   "source": [
    "# Select all students\n",
    "cursor.execute('SELECT * FROM students')\n",
    "students = cursor.fetchall()\n",
    "\n",
    "print('All students:')\n",
    "for student in students:\n",
    "    print(student)\n",
    "\n",
    "# Select specific columns\n",
    "cursor.execute('SELECT name, grade FROM students')\n",
    "names_grades = cursor.fetchall()\n",
    "\n",
    "print('\\nNames and grades:')\n",
    "for name, grade in names_grades:\n",
    "    print(f'{name}: {grade}')"
   ]
  },
  {
   "cell_type": "markdown",
   "id": "56270149",
   "metadata": {},
   "source": [
    "## Filtering with WHERE\n",
    "\n",
    "Use WHERE clause to filter results based on conditions."
   ]
  },
  {
   "cell_type": "code",
   "execution_count": null,
   "id": "5f568d3d",
   "metadata": {},
   "outputs": [],
   "source": [
    "# Filter students by grade\n",
    "cursor.execute('SELECT name, grade FROM students WHERE grade >= 3.5')\n",
    "high_performers = cursor.fetchall()\n",
    "\n",
    "print('High performing students (grade >= 3.5):')\n",
    "for name, grade in high_performers:\n",
    "    print(f'{name}: {grade}')\n",
    "\n",
    "# Filter with multiple conditions\n",
    "cursor.execute('SELECT name, age FROM students WHERE age BETWEEN 20 AND 22')\n",
    "age_range = cursor.fetchall()\n",
    "\n",
    "print('\\nStudents aged 20-22:')\n",
    "for name, age in age_range:\n",
    "    print(f'{name}: {age}')"
   ]
  },
  {
   "cell_type": "markdown",
   "id": "032b1e88",
   "metadata": {},
   "source": [
    "## Sorting Results\n",
    "\n",
    "Use ORDER BY to sort results. Add DESC for descending order."
   ]
  },
  {
   "cell_type": "code",
   "execution_count": null,
   "id": "0b86e410",
   "metadata": {},
   "outputs": [],
   "source": [
    "# Sort by grade descending\n",
    "cursor.execute('SELECT name, grade FROM students ORDER BY grade DESC')\n",
    "sorted_grades = cursor.fetchall()\n",
    "\n",
    "print('Students sorted by grade (descending):')\n",
    "for name, grade in sorted_grades:\n",
    "    print(f'{name}: {grade}')\n",
    "\n",
    "# Sort by multiple columns\n",
    "cursor.execute('SELECT name, age, grade FROM students ORDER BY age ASC, grade DESC')\n",
    "sorted_multiple = cursor.fetchall()\n",
    "\n",
    "print('\\nStudents sorted by age ASC, then grade DESC:')\n",
    "for name, age, grade in sorted_multiple:\n",
    "    print(f'{name}: Age {age}, Grade {grade}')"
   ]
  },
  {
   "cell_type": "markdown",
   "id": "4072722c",
   "metadata": {},
   "source": [
    "## Limiting Results\n",
    "\n",
    "Use LIMIT to restrict the number of rows returned."
   ]
  },
  {
   "cell_type": "code",
   "execution_count": null,
   "id": "ce0e3a35",
   "metadata": {},
   "outputs": [],
   "source": [
    "# Get top 2 students by grade\n",
    "cursor.execute('SELECT name, grade FROM students ORDER BY grade DESC LIMIT 2')\n",
    "top_students = cursor.fetchall()\n",
    "\n",
    "print('Top 2 students by grade:')\n",
    "for name, grade in top_students:\n",
    "    print(f'{name}: {grade}')\n",
    "\n",
    "# LIMIT with OFFSET\n",
    "cursor.execute('SELECT name, grade FROM students ORDER BY grade DESC LIMIT 2 OFFSET 1')\n",
    "second_third = cursor.fetchall()\n",
    "\n",
    "print('\\n2nd and 3rd students by grade:')\n",
    "for name, grade in second_third:\n",
    "    print(f'{name}: {grade}')"
   ]
  },
  {
   "cell_type": "markdown",
   "id": "f3c85b78",
   "metadata": {},
   "source": [
    "## Aggregate Functions\n",
    "\n",
    "SQLite supports aggregate functions like COUNT, SUM, AVG, MIN, MAX."
   ]
  },
  {
   "cell_type": "code",
   "execution_count": null,
   "id": "db34baf9",
   "metadata": {},
   "outputs": [],
   "source": [
    "# Count total students\n",
    "cursor.execute('SELECT COUNT(*) FROM students')\n",
    "total_students = cursor.fetchone()[0]\n",
    "print(f'Total students: {total_students}')\n",
    "\n",
    "# Average grade\n",
    "cursor.execute('SELECT AVG(grade) FROM students')\n",
    "avg_grade = cursor.fetchone()[0]\n",
    "print(f'Average grade: {avg_grade:.2f}')\n",
    "\n",
    "# Min and max age\n",
    "cursor.execute('SELECT MIN(age), MAX(age) FROM students')\n",
    "min_age, max_age = cursor.fetchone()\n",
    "print(f'Age range: {min_age} - {max_age}')"
   ]
  },
  {
   "cell_type": "markdown",
   "id": "cee07eb9",
   "metadata": {},
   "source": [
    "## GROUP BY and HAVING\n",
    "\n",
    "Use GROUP BY to group results and HAVING to filter groups."
   ]
  },
  {
   "cell_type": "code",
   "execution_count": null,
   "id": "246eebbb",
   "metadata": {},
   "outputs": [],
   "source": [
    "# Group by department and count courses\n",
    "cursor.execute('''\n",
    "    SELECT department, COUNT(*) as course_count\n",
    "    FROM courses\n",
    "    GROUP BY department\n",
    "''')\n",
    "dept_counts = cursor.fetchall()\n",
    "\n",
    "print('Courses per department:')\n",
    "for dept, count in dept_counts:\n",
    "    print(f'{dept}: {count} courses')\n",
    "\n",
    "# Group with HAVING\n",
    "cursor.execute('''\n",
    "    SELECT department, AVG(credits) as avg_credits\n",
    "    FROM courses\n",
    "    GROUP BY department\n",
    "    HAVING AVG(credits) > 3.0\n",
    "''')\n",
    "high_credit_depts = cursor.fetchall()\n",
    "\n",
    "print('\\nDepartments with average credits > 3.0:')\n",
    "for dept, avg_credits in high_credit_depts:\n",
    "    print(f'{dept}: {avg_credits:.1f} average credits')"
   ]
  },
  {
   "cell_type": "markdown",
   "id": "ab6220e2",
   "metadata": {},
   "source": [
    "## Joining Tables\n",
    "\n",
    "Use JOIN to combine data from multiple tables."
   ]
  },
  {
   "cell_type": "code",
   "execution_count": null,
   "id": "67784175",
   "metadata": {},
   "outputs": [],
   "source": [
    "# Join students and enrollments\n",
    "cursor.execute('''\n",
    "    SELECT s.name, c.course_name, e.grade\n",
    "    FROM students s\n",
    "    JOIN enrollments e ON s.id = e.student_id\n",
    "    JOIN courses c ON e.course_id = c.course_id\n",
    "''')\n",
    "enrollments = cursor.fetchall()\n",
    "\n",
    "print('Student enrollments:')\n",
    "for name, course, grade in enrollments:\n",
    "    print(f'{name} - {course}: {grade}')\n",
    "\n",
    "# Left join example\n",
    "cursor.execute('''\n",
    "    SELECT s.name, COUNT(e.enrollment_id) as courses_taken\n",
    "    FROM students s\n",
    "    LEFT JOIN enrollments e ON s.id = e.student_id\n",
    "    GROUP BY s.id, s.name\n",
    "''')\n",
    "course_counts = cursor.fetchall()\n",
    "\n",
    "print('\\nCourses taken by each student:')\n",
    "for name, count in course_counts:\n",
    "    print(f'{name}: {count} courses')"
   ]
  },
  {
   "cell_type": "markdown",
   "id": "eb984cc3",
   "metadata": {},
   "source": [
    "## Using Parameters in Queries\n",
    "\n",
    "Always use parameters for user input to prevent SQL injection."
   ]
  },
  {
   "cell_type": "code",
   "execution_count": null,
   "id": "68f81c18",
   "metadata": {},
   "outputs": [],
   "source": [
    "# Query with parameters\n",
    "min_grade = 3.5\n",
    "cursor.execute('SELECT name, grade FROM students WHERE grade >= ?', (min_grade,))\n",
    "results = cursor.fetchall()\n",
    "\n",
    "print(f'Students with grade >= {min_grade}:')\n",
    "for name, grade in results:\n",
    "    print(f'{name}: {grade}')\n",
    "\n",
    "# Multiple parameters\n",
    "dept = 'CS'\n",
    "min_credits = 3.0\n",
    "cursor.execute('''\n",
    "    SELECT course_name, credits \n",
    "    FROM courses \n",
    "    WHERE department = ? AND credits >= ?\n",
    "''', (dept, min_credits))\n",
    "cs_courses = cursor.fetchall()\n",
    "\n",
    "print(f'\\n{dept} courses with >= {min_credits} credits:')\n",
    "for name, credits in cs_courses:\n",
    "    print(f'{name}: {credits} credits')"
   ]
  },
  {
   "cell_type": "markdown",
   "id": "0e8eacea",
   "metadata": {},
   "source": [
    "## Summary\n",
    "\n",
    "In this notebook, you learned how to:\n",
    "\n",
    "- Perform basic SELECT queries\n",
    "- Filter results with WHERE clauses\n",
    "- Sort results with ORDER BY\n",
    "- Limit results with LIMIT and OFFSET\n",
    "- Use aggregate functions (COUNT, AVG, MIN, MAX)\n",
    "- Group data with GROUP BY and filter groups with HAVING\n",
    "- Join multiple tables\n",
    "- Use parameterized queries for security\n",
    "\n",
    "These are the fundamental operations for retrieving data from SQLite databases. Always use parameterized queries when incorporating user input to prevent SQL injection attacks."
   ]
  },
  {
   "cell_type": "code",
   "execution_count": null,
   "id": "61060e37",
   "metadata": {},
   "outputs": [],
   "source": [
    "# Close the connection\n",
    "conn.close()\n",
    "print('Database connection closed')"
   ]
  }
 ],
 "metadata": {
  "language_info": {
   "name": "python"
  }
 },
 "nbformat": 4,
 "nbformat_minor": 5
}
