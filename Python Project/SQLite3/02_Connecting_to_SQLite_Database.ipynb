{
 "cells": [
  {
   "cell_type": "markdown",
   "id": "eb9e4522",
   "metadata": {},
   "source": [
    "# Connecting to SQLite Database\n",
    "\n",
    "In this notebook, you'll learn how to connect to an SQLite database using Python's sqlite3 module. We'll cover creating connections, handling errors, and properly closing connections."
   ]
  },
  {
   "cell_type": "markdown",
   "id": "10f55d1e",
   "metadata": {},
   "source": [
    "## Creating a Connection\n",
    "\n",
    "To work with an SQLite database, you first need to create a connection. If the database file doesn't exist, SQLite will create it automatically."
   ]
  },
  {
   "cell_type": "code",
   "execution_count": 1,
   "id": "371243e3",
   "metadata": {},
   "outputs": [
    {
     "name": "stdout",
     "output_type": "stream",
     "text": [
      "Connection created successfully\n",
      "Database file exists: True\n"
     ]
    }
   ],
   "source": [
    "import sqlite3\n",
    "import os\n",
    "\n",
    "# Create a connection to a database file\n",
    "# If 'example.db' doesn't exist, it will be created\n",
    "conn = sqlite3.connect('gcf.db')\n",
    "\n",
    "print('Connection created successfully')\n",
    "print('Database file exists:', os.path.exists('gcf.db'))"
   ]
  },
  {
   "cell_type": "markdown",
   "id": "c4d3c714",
   "metadata": {},
   "source": [
    "## In-Memory Database\n",
    "\n",
    "You can also create an in-memory database that exists only during the program's execution. This is useful for testing or temporary data."
   ]
  },
  {
   "cell_type": "code",
   "execution_count": 2,
   "id": "134407f5",
   "metadata": {},
   "outputs": [
    {
     "name": "stdout",
     "output_type": "stream",
     "text": [
      "In-memory database connection created\n"
     ]
    }
   ],
   "source": [
    "# Create an in-memory database\n",
    "conn_memory = sqlite3.connect(':memory:')\n",
    "\n",
    "print('In-memory database connection created')\n",
    "# Note: This database only exists in RAM and will be lost when the connection is closed"
   ]
  },
  {
   "cell_type": "markdown",
   "id": "eaa32286",
   "metadata": {},
   "source": [
    "## Connection Properties\n",
    "\n",
    "You can set various properties when creating a connection, such as timeout, isolation level, etc."
   ]
  },
  {
   "cell_type": "code",
   "execution_count": 3,
   "id": "d3d502f3",
   "metadata": {},
   "outputs": [
    {
     "name": "stdout",
     "output_type": "stream",
     "text": [
      "Connections with custom properties created\n"
     ]
    }
   ],
   "source": [
    "# Connection with timeout (in seconds)\n",
    "conn_timeout = sqlite3.connect('gcf.db', timeout=5.0)\n",
    "\n",
    "# Connection with isolation level\n",
    "conn_isolation = sqlite3.connect('gcf.db', isolation_level=None)  # Autocommit mode\n",
    "\n",
    "print('Connections with custom properties created')"
   ]
  },
  {
   "cell_type": "markdown",
   "id": "89025673",
   "metadata": {},
   "source": [
    "## Checking Connection Status\n",
    "\n",
    "You can check if a connection is open and get information about it."
   ]
  },
  {
   "cell_type": "code",
   "execution_count": 5,
   "id": "42ecd7d9",
   "metadata": {},
   "outputs": [
    {
     "name": "stdout",
     "output_type": "stream",
     "text": [
      "Connection open: True\n",
      "Isolation level: \n",
      "In transaction: False\n"
     ]
    }
   ],
   "source": [
    "# Check if connection is open\n",
    "print('Connection open:', not conn.closed if hasattr(conn, 'closed') else True)\n",
    "\n",
    "# Get connection information\n",
    "print('Isolation level:', conn.isolation_level)\n",
    "print('In transaction:', conn.in_transaction)"
   ]
  },
  {
   "cell_type": "markdown",
   "id": "66e6e83c",
   "metadata": {},
   "source": [
    "## Error Handling\n",
    "\n",
    "Always handle potential errors when working with database connections."
   ]
  },
  {
   "cell_type": "code",
   "execution_count": 6,
   "id": "a2e79e5c",
   "metadata": {},
   "outputs": [
    {
     "name": "stdout",
     "output_type": "stream",
     "text": [
      "Connection successful\n",
      "Connection closed\n"
     ]
    }
   ],
   "source": [
    "try:\n",
    "    conn = sqlite3.connect('example.db')\n",
    "    print('Connection successful')\n",
    "except sqlite3.Error as e:\n",
    "    print('Error connecting to database:', e)\n",
    "finally:\n",
    "    if conn:\n",
    "        conn.close()\n",
    "        print('Connection closed')"
   ]
  },
  {
   "cell_type": "markdown",
   "id": "8063c6ec",
   "metadata": {},
   "source": [
    "## Closing Connections\n",
    "\n",
    "Always close your database connections when you're done with them to free up resources."
   ]
  },
  {
   "cell_type": "code",
   "execution_count": 7,
   "id": "1c9dd79d",
   "metadata": {},
   "outputs": [
    {
     "name": "stdout",
     "output_type": "stream",
     "text": [
      "Working with database...\n",
      "Connection automatically closed\n",
      "Connection manually closed\n"
     ]
    }
   ],
   "source": [
    "# Proper way to handle connections with context manager (recommended)\n",
    "with sqlite3.connect('example.db') as conn:\n",
    "    print('Working with database...')\n",
    "    # Do your database operations here\n",
    "    pass\n",
    "\n",
    "print('Connection automatically closed')\n",
    "\n",
    "# Manual closing\n",
    "conn = sqlite3.connect('example.db')\n",
    "# ... do work ...\n",
    "conn.close()\n",
    "print('Connection manually closed')"
   ]
  },
  {
   "cell_type": "markdown",
   "id": "7009fd84",
   "metadata": {},
   "source": [
    "## Summary\n",
    "\n",
    "In this notebook, you learned how to:\n",
    "\n",
    "- Create connections to SQLite databases (file-based and in-memory)\n",
    "- Set connection properties like timeout and isolation level\n",
    "- Check connection status\n",
    "- Handle connection errors properly\n",
    "- Close connections using context managers or manual closing\n",
    "\n",
    "Proper connection management is crucial for database applications. Always use context managers when possible for automatic resource cleanup."
   ]
  }
 ],
 "metadata": {
  "kernelspec": {
   "display_name": "Python 3",
   "language": "python",
   "name": "python3"
  },
  "language_info": {
   "codemirror_mode": {
    "name": "ipython",
    "version": 3
   },
   "file_extension": ".py",
   "mimetype": "text/x-python",
   "name": "python",
   "nbconvert_exporter": "python",
   "pygments_lexer": "ipython3",
   "version": "3.13.1"
  }
 },
 "nbformat": 4,
 "nbformat_minor": 5
}
