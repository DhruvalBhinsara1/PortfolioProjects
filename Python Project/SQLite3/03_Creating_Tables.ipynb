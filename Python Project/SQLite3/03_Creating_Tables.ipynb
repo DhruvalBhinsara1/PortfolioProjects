{
 "cells": [
  {
   "cell_type": "markdown",
   "id": "841c097f",
   "metadata": {},
   "source": [
    "# Creating Tables in SQLite\n",
    "\n",
    "In this notebook, you'll learn how to create tables in an SQLite database using Python. We'll cover table creation syntax, data types, constraints, and best practices."
   ]
  },
  {
   "cell_type": "code",
   "execution_count": 1,
   "id": "bd58ecd0",
   "metadata": {},
   "outputs": [
    {
     "name": "stdout",
     "output_type": "stream",
     "text": [
      "Connected to database\n"
     ]
    }
   ],
   "source": [
    "import sqlite3\n",
    "import os\n",
    "\n",
    "# Connect to database (creates if doesn't exist)\n",
    "conn = sqlite3.connect('university.db')\n",
    "cursor = conn.cursor()\n",
    "\n",
    "print('Connected to database')"
   ]
  },
  {
   "cell_type": "markdown",
   "id": "189590ad",
   "metadata": {},
   "source": [
    "## Basic Table Creation\n",
    "\n",
    "The basic syntax for creating a table in SQLite is:\n",
    "\n",
    "```sql\n",
    "CREATE TABLE table_name (\n",
    "    column1 datatype constraints,\n",
    "    column2 datatype constraints,\n",
    "    ...\n",
    ");\n",
    "```"
   ]
  },
  {
   "cell_type": "code",
   "execution_count": 2,
   "id": "0fb3be8e",
   "metadata": {},
   "outputs": [
    {
     "name": "stdout",
     "output_type": "stream",
     "text": [
      "Students table created successfully\n"
     ]
    }
   ],
   "source": [
    "# Create a simple students table\n",
    "cursor.execute('''\n",
    "    CREATE TABLE students (\n",
    "        id INTEGER PRIMARY KEY,\n",
    "        name TEXT NOT NULL,\n",
    "        age INTEGER,\n",
    "        grade REAL\n",
    "    )\n",
    "''')\n",
    "\n",
    "print('Students table created successfully')"
   ]
  },
  {
   "cell_type": "markdown",
   "id": "75360fd4",
   "metadata": {},
   "source": [
    "## SQLite Data Types\n",
    "\n",
    "SQLite supports these data types:\n",
    "\n",
    "- **INTEGER**: Signed integers\n",
    "- **REAL**: Floating-point numbers\n",
    "- **TEXT**: Text strings\n",
    "- **BLOB**: Binary data\n",
    "- **NULL**: NULL values\n",
    "\n",
    "Note: SQLite is dynamically typed, so you can store any type in any column."
   ]
  },
  {
   "cell_type": "code",
   "execution_count": 3,
   "id": "92367ba2",
   "metadata": {},
   "outputs": [
    {
     "name": "stdout",
     "output_type": "stream",
     "text": [
      "Courses table created successfully\n"
     ]
    }
   ],
   "source": [
    "# Create a more complex table with various data types\n",
    "cursor.execute('''\n",
    "    CREATE TABLE courses (\n",
    "        course_id INTEGER PRIMARY KEY,\n",
    "        course_name TEXT NOT NULL,\n",
    "        instructor TEXT,\n",
    "        credits REAL DEFAULT 3.0,\n",
    "        department TEXT,\n",
    "        created_date TEXT\n",
    "    )\n",
    "''')\n",
    "\n",
    "print('Courses table created successfully')"
   ]
  },
  {
   "cell_type": "markdown",
   "id": "cadfe322",
   "metadata": {},
   "source": [
    "## Table Constraints\n",
    "\n",
    "SQLite supports various constraints:\n",
    "\n",
    "- **PRIMARY KEY**: Uniquely identifies each record\n",
    "- **NOT NULL**: Ensures column cannot have NULL values\n",
    "- **UNIQUE**: Ensures all values in column are unique\n",
    "- **DEFAULT**: Provides default value\n",
    "- **CHECK**: Ensures values meet certain conditions\n",
    "- **FOREIGN KEY**: References primary key in another table"
   ]
  },
  {
   "cell_type": "code",
   "execution_count": 4,
   "id": "552acd03",
   "metadata": {},
   "outputs": [
    {
     "name": "stdout",
     "output_type": "stream",
     "text": [
      "Enrollments table created successfully\n"
     ]
    }
   ],
   "source": [
    "# Create table with constraints\n",
    "cursor.execute('''\n",
    "    CREATE TABLE enrollments (\n",
    "        enrollment_id INTEGER PRIMARY KEY,\n",
    "        student_id INTEGER NOT NULL,\n",
    "        course_id INTEGER NOT NULL,\n",
    "        semester TEXT NOT NULL,\n",
    "        grade TEXT CHECK(grade IN ('A', 'B', 'C', 'D', 'F')),\n",
    "        enrollment_date TEXT DEFAULT CURRENT_DATE,\n",
    "        FOREIGN KEY (student_id) REFERENCES students (id),\n",
    "        FOREIGN KEY (course_id) REFERENCES courses (course_id)\n",
    "    )\n",
    "''')\n",
    "\n",
    "print('Enrollments table created successfully')"
   ]
  },
  {
   "cell_type": "markdown",
   "id": "2216380a",
   "metadata": {},
   "source": [
    "## Auto-Incrementing Primary Keys\n",
    "\n",
    "Use AUTOINCREMENT for automatically incrementing primary keys."
   ]
  },
  {
   "cell_type": "code",
   "execution_count": 5,
   "id": "bc589da4",
   "metadata": {},
   "outputs": [
    {
     "name": "stdout",
     "output_type": "stream",
     "text": [
      "Departments table created successfully\n"
     ]
    }
   ],
   "source": [
    "# Create table with auto-incrementing primary key\n",
    "cursor.execute('''\n",
    "    CREATE TABLE departments (\n",
    "        dept_id INTEGER PRIMARY KEY AUTOINCREMENT,\n",
    "        dept_name TEXT UNIQUE NOT NULL,\n",
    "        dept_head TEXT,\n",
    "        budget REAL\n",
    "    )\n",
    "''')\n",
    "\n",
    "print('Departments table created successfully')"
   ]
  },
  {
   "cell_type": "markdown",
   "id": "86b45435",
   "metadata": {},
   "source": [
    "## Checking Table Creation\n",
    "\n",
    "You can verify that tables were created by querying the sqlite_master table."
   ]
  },
  {
   "cell_type": "code",
   "execution_count": 6,
   "id": "3ae6c323",
   "metadata": {},
   "outputs": [
    {
     "name": "stdout",
     "output_type": "stream",
     "text": [
      "Tables in database:\n",
      "  - students\n",
      "  - courses\n",
      "  - enrollments\n",
      "  - departments\n",
      "  - sqlite_sequence\n",
      "\n",
      "Students table schema:\n",
      "  id: INTEGER 0\n",
      "  name: TEXT 1\n",
      "  age: INTEGER 0\n",
      "  grade: REAL 0\n"
     ]
    }
   ],
   "source": [
    "# List all tables in the database\n",
    "cursor.execute(\"SELECT name FROM sqlite_master WHERE type='table';\")\n",
    "tables = cursor.fetchall()\n",
    "\n",
    "print('Tables in database:')\n",
    "for table in tables:\n",
    "    print(f'  - {table[0]}')\n",
    "\n",
    "# Get table schema\n",
    "print('\\nStudents table schema:')\n",
    "cursor.execute(\"PRAGMA table_info(students)\")\n",
    "schema = cursor.fetchall()\n",
    "for column in schema:\n",
    "    print(f'  {column[1]}: {column[2]} {column[3]}')"
   ]
  },
  {
   "cell_type": "markdown",
   "id": "f812e693",
   "metadata": {},
   "source": [
    "## Dropping Tables\n",
    "\n",
    "You can drop tables if they exist."
   ]
  },
  {
   "cell_type": "code",
   "execution_count": 7,
   "id": "56cd2ce9",
   "metadata": {},
   "outputs": [
    {
     "name": "stdout",
     "output_type": "stream",
     "text": [
      "Table dropped (if existed)\n"
     ]
    }
   ],
   "source": [
    "# Drop table if it exists\n",
    "cursor.execute('DROP TABLE IF EXISTS test_table')\n",
    "\n",
    "print('Table dropped (if existed)')\n",
    "\n",
    "# Commit changes\n",
    "conn.commit()"
   ]
  },
  {
   "cell_type": "markdown",
   "id": "37153794",
   "metadata": {},
   "source": [
    "## Summary\n",
    "\n",
    "In this notebook, you learned how to:\n",
    "\n",
    "- Create tables with various data types\n",
    "- Use constraints like PRIMARY KEY, NOT NULL, UNIQUE, DEFAULT, CHECK\n",
    "- Implement foreign key relationships\n",
    "- Use auto-incrementing primary keys\n",
    "- Check table creation and schemas\n",
    "- Drop tables when needed\n",
    "\n",
    "Proper table design is crucial for database performance and data integrity. Always plan your schema carefully before creating tables."
   ]
  },
  {
   "cell_type": "code",
   "execution_count": null,
   "id": "76cc7e0a",
   "metadata": {},
   "outputs": [],
   "source": [
    "# Close the connection\n",
    "conn.close()\n",
    "print('Database connection closed')"
   ]
  }
 ],
 "metadata": {
  "kernelspec": {
   "display_name": "Python 3",
   "language": "python",
   "name": "python3"
  },
  "language_info": {
   "codemirror_mode": {
    "name": "ipython",
    "version": 3
   },
   "file_extension": ".py",
   "mimetype": "text/x-python",
   "name": "python",
   "nbconvert_exporter": "python",
   "pygments_lexer": "ipython3",
   "version": "3.13.1"
  }
 },
 "nbformat": 4,
 "nbformat_minor": 5
}
