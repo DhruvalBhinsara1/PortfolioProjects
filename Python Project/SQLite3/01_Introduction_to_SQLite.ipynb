{
 "cells": [
  {
   "cell_type": "markdown",
   "id": "317ac223",
   "metadata": {},
   "source": [
    "# Introduction to SQLite\n",
    "\n",
    "SQLite is a C library that provides a lightweight disk-based database that doesn't require a separate server process and allows accessing the database using a nonstandard variant of the SQL query language. Some applications can use SQLite for internal data storage. It's also possible to prototype an application using SQLite and then port the code to a larger database such as PostgreSQL or Oracle.\n",
    "\n",
    "In this notebook, you'll learn the basics of SQLite in Python, including importing, basic concepts, and getting started."
   ]
  },
  {
   "cell_type": "markdown",
   "id": "308131b8",
   "metadata": {},
   "source": [
    "## Why Use SQLite?\n",
    "\n",
    "- **Lightweight**: No server required, self-contained database engine\n",
    "- **Zero-configuration**: No setup or administration needed\n",
    "- **Cross-platform**: Works on Windows, Linux, macOS\n",
    "- **Transactional**: ACID compliant (Atomicity, Consistency, Isolation, Durability)\n",
    "- **Public domain**: Free to use for any purpose\n",
    "- **Embedded**: Can be embedded directly into applications\n",
    "- **Single file**: Entire database stored in a single file"
   ]
  },
  {
   "cell_type": "markdown",
   "id": "aa4fca1c",
   "metadata": {},
   "source": [
    "## Importing sqlite3\n",
    "\n",
    "SQLite comes built-in with Python (since Python 2.5), so no installation is needed. Import it as:"
   ]
  },
  {
   "cell_type": "code",
   "execution_count": 1,
   "id": "3d0492b1",
   "metadata": {},
   "outputs": [
    {
     "name": "stdout",
     "output_type": "stream",
     "text": [
      "sqlite3 version: 2.6.0\n",
      "sqlite3 sqlite_version: 3.45.3\n"
     ]
    },
    {
     "name": "stderr",
     "output_type": "stream",
     "text": [
      "C:\\Users\\asus\\AppData\\Local\\Temp\\ipykernel_19344\\1270092116.py:4: DeprecationWarning: version is deprecated and will be removed in Python 3.14\n",
      "  print('sqlite3 version:', sqlite3.version)\n"
     ]
    }
   ],
   "source": [
    "import sqlite3\n",
    "\n",
    "# Check sqlite3 version\n",
    "print('sqlite3 version:', sqlite3.version)\n",
    "print('sqlite3 sqlite_version:', sqlite3.sqlite_version)"
   ]
  },
  {
   "cell_type": "markdown",
   "id": "da4545e8",
   "metadata": {},
   "source": [
    "## Basic Concepts\n",
    "\n",
    "SQLite uses several key concepts:\n",
    "\n",
    "- **Database**: A file containing tables (e.g., 'example.db')\n",
    "- **Table**: A collection of rows and columns\n",
    "- **Row**: A single record in a table\n",
    "- **Column**: A field in the table with a specific data type\n",
    "- **Cursor**: An object used to execute SQL commands and fetch results\n",
    "- **Connection**: An object that represents the database connection"
   ]
  },
  {
   "cell_type": "markdown",
   "id": "7ae1bb03",
   "metadata": {},
   "source": [
    "## Data Types in SQLite\n",
    "\n",
    "SQLite supports the following data types:\n",
    "\n",
    "- **NULL**: Represents a missing value\n",
    "- **INTEGER**: Signed integer (1, 2, 3, 4, 6, or 8 bytes)\n",
    "- **REAL**: Floating-point value (8-byte IEEE floating point)\n",
    "- **TEXT**: Text string (UTF-8, UTF-16BE or UTF-16LE)\n",
    "- **BLOB**: Binary data\n",
    "\n",
    "Note: SQLite is dynamically typed, so you can store any data type in any column."
   ]
  },
  {
   "cell_type": "markdown",
   "id": "3f6ed92c",
   "metadata": {},
   "source": [
    "## Summary\n",
    "\n",
    "You have learned the basics of SQLite, including why to use it, how to import it in Python, and the core concepts. In the following notebooks, you'll explore how to connect to databases, create tables, insert data, and perform various database operations.\n",
    "\n",
    "SQLite is a powerful, lightweight database solution that's perfect for applications that need local data storage without the complexity of a full database server."
   ]
  }
 ],
 "metadata": {
  "kernelspec": {
   "display_name": "Python 3",
   "language": "python",
   "name": "python3"
  },
  "language_info": {
   "codemirror_mode": {
    "name": "ipython",
    "version": 3
   },
   "file_extension": ".py",
   "mimetype": "text/x-python",
   "name": "python",
   "nbconvert_exporter": "python",
   "pygments_lexer": "ipython3",
   "version": "3.13.1"
  }
 },
 "nbformat": 4,
 "nbformat_minor": 5
}
