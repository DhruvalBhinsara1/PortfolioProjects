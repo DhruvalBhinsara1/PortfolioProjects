{
 "cells": [
  {
   "cell_type": "markdown",
   "id": "d772b657",
   "metadata": {},
   "source": [
    "# Using Placeholders to Prevent SQL Injection\n",
    "\n",
    "In this notebook, you'll learn about SQL injection vulnerabilities and how to prevent them using placeholders (parameterized queries) in SQLite with Python."
   ]
  },
  {
   "cell_type": "code",
   "execution_count": null,
   "id": "06b262b3",
   "metadata": {},
   "outputs": [],
   "source": [
    "import sqlite3\n",
    "\n",
    "# Connect to database\n",
    "conn = sqlite3.connect('security_demo.db')\n",
    "cursor = conn.cursor()\n",
    "\n",
    "# Create a users table for demonstration\n",
    "cursor.execute('''\n",
    "    CREATE TABLE users (\n",
    "        id INTEGER PRIMARY KEY,\n",
    "        username TEXT UNIQUE,\n",
    "        password TEXT,\n",
    "        email TEXT\n",
    "    )\n",
    "''')\n",
    "\n",
    "# Insert some test data\n",
    "users_data = [\n",
    "    ('alice', 'password123', 'alice@example.com'),\n",
    "    ('bob', 'secret456', 'bob@example.com'),\n",
    "    ('admin', 'adminpass', 'admin@example.com')\n",
    "]\n",
    "\n",
    "cursor.executemany('INSERT INTO users (username, password, email) VALUES (?, ?, ?)', users_data)\n",
    "\n",
    "print('Database and test data created')"
   ]
  },
  {
   "cell_type": "markdown",
   "id": "c302244c",
   "metadata": {},
   "source": [
    "## What is SQL Injection?\n",
    "\n",
    "SQL injection is a code injection technique that exploits vulnerabilities in an application's software by inserting malicious SQL code into a query. This can lead to:\n",
    "\n",
    "- Unauthorized data access\n",
    "- Data modification\n",
    "- Data deletion\n",
    "- Database server compromise\n",
    "\n",
    "SQL injection occurs when user input is directly concatenated into SQL statements."
   ]
  },
  {
   "cell_type": "markdown",
   "id": "d6de6f0e",
   "metadata": {},
   "source": [
    "## Vulnerable Code Example\n",
    "\n",
    "Here's an example of vulnerable code that directly concatenates user input:"
   ]
  },
  {
   "cell_type": "code",
   "execution_count": null,
   "id": "01d658d5",
   "metadata": {},
   "outputs": [],
   "source": [
    "def vulnerable_login(username, password):\n",
    "    # DANGEROUS: Direct string concatenation\n",
    "    query = f\"SELECT * FROM users WHERE username = '{username}' AND password = '{password}'\"\n",
    "    cursor.execute(query)\n",
    "    return cursor.fetchall()\n",
    "\n",
    "print('Vulnerable login function defined')\n",
    "\n",
    "# Normal usage\n",
    "result = vulnerable_login('alice', 'password123')\n",
    "print('Normal login result:', len(result), 'users found')\n",
    "\n",
    "# SQL injection attack\n",
    "malicious_username = \"' OR '1'='1\"  # This will match all users\n",
    "malicious_password = \"' OR '1'='1\"\n",
    "\n",
    "result = vulnerable_login(malicious_username, malicious_password)\n",
    "print('SQL injection result:', len(result), 'users found (should be 0!)')\n",
    "print('Compromised data:', result)"
   ]
  },
  {
   "cell_type": "markdown",
   "id": "258512e6",
   "metadata": {},
   "source": [
    "## Using Placeholders (Parameterized Queries)\n",
    "\n",
    "The solution is to use placeholders in SQL queries and pass parameters separately. SQLite supports two placeholder styles:\n",
    "\n",
    "- `?` - Positional placeholders\n",
    "- `:name` - Named placeholders"
   ]
  },
  {
   "cell_type": "markdown",
   "id": "dea4dbfb",
   "metadata": {},
   "source": [
    "## Positional Placeholders\n",
    "\n",
    "Use `?` for positional parameters:"
   ]
  },
  {
   "cell_type": "code",
   "execution_count": null,
   "id": "c697ba16",
   "metadata": {},
   "outputs": [],
   "source": [
    "def secure_login_positional(username, password):\n",
    "    # SECURE: Using positional placeholders\n",
    "    query = \"SELECT * FROM users WHERE username = ? AND password = ?\"\n",
    "    cursor.execute(query, (username, password))\n",
    "    return cursor.fetchall()\n",
    "\n",
    "print('Secure login function (positional) defined')\n",
    "\n",
    "# Normal usage\n",
    "result = secure_login_positional('alice', 'password123')\n",
    "print('Normal login result:', len(result), 'users found')\n",
    "\n",
    "# Attempted SQL injection (now safe)\n",
    "result = secure_login_positional(malicious_username, malicious_password)\n",
    "print('SQL injection attempt result:', len(result), 'users found (correctly 0)')\n",
    "print('Data protected:', result)"
   ]
  },
  {
   "cell_type": "markdown",
   "id": "075821e9",
   "metadata": {},
   "source": [
    "## Named Placeholders\n",
    "\n",
    "Use `:name` for named parameters:"
   ]
  },
  {
   "cell_type": "code",
   "execution_count": null,
   "id": "947dccbc",
   "metadata": {},
   "outputs": [],
   "source": [
    "def secure_login_named(username, password):\n",
    "    # SECURE: Using named placeholders\n",
    "    query = \"SELECT * FROM users WHERE username = :user AND password = :pass\"\n",
    "    cursor.execute(query, {'user': username, 'pass': password})\n",
    "    return cursor.fetchall()\n",
    "\n",
    "print('Secure login function (named) defined')\n",
    "\n",
    "# Test both normal and malicious input\n",
    "result = secure_login_named('alice', 'password123')\n",
    "print('Normal login result:', len(result), 'users found')\n",
    "\n",
    "result = secure_login_named(malicious_username, malicious_password)\n",
    "print('SQL injection attempt result:', len(result), 'users found (correctly 0)')"
   ]
  },
  {
   "cell_type": "markdown",
   "id": "cca04076",
   "metadata": {},
   "source": [
    "## Other SQL Operations with Placeholders\n",
    "\n",
    "Placeholders work with all SQL operations: INSERT, UPDATE, DELETE, SELECT"
   ]
  },
  {
   "cell_type": "code",
   "execution_count": null,
   "id": "b3c45aec",
   "metadata": {},
   "outputs": [],
   "source": [
    "# INSERT with placeholders\n",
    "new_user = ('charlie', 'charliepass', 'charlie@example.com')\n",
    "cursor.execute('INSERT INTO users (username, password, email) VALUES (?, ?, ?)', new_user)\n",
    "print('User inserted securely')\n",
    "\n",
    "# UPDATE with placeholders\n",
    "cursor.execute('UPDATE users SET email = ? WHERE username = ?', ('newemail@example.com', 'bob'))\n",
    "print('User updated securely')\n",
    "\n",
    "# DELETE with placeholders\n",
    "cursor.execute('DELETE FROM users WHERE username = ?', ('charlie',))\n",
    "print('User deleted securely')\n",
    "\n",
    "# SELECT with LIKE and placeholders\n",
    "search_term = 'a%'\n",
    "cursor.execute('SELECT username FROM users WHERE username LIKE ?', (search_term,))\n",
    "results = cursor.fetchall()\n",
    "print('Users starting with \"a\":', [row[0] for row in results])"
   ]
  },
  {
   "cell_type": "markdown",
   "id": "e4f542e1",
   "metadata": {},
   "source": [
    "## executemany() with Placeholders\n",
    "\n",
    "Use placeholders with executemany() for bulk operations:"
   ]
  },
  {
   "cell_type": "code",
   "execution_count": null,
   "id": "03bd8fdc",
   "metadata": {},
   "outputs": [],
   "source": [
    "# Bulk insert with placeholders\n",
    "new_users = [\n",
    "    ('diana', 'dianapass', 'diana@example.com'),\n",
    "    ('eve', 'evepass', 'eve@example.com')\n",
    "]\n",
    "\n",
    "cursor.executemany('INSERT INTO users (username, password, email) VALUES (?, ?, ?)', new_users)\n",
    "print('Bulk insert completed securely')\n",
    "\n",
    "# Bulk update with placeholders\n",
    "updates = [\n",
    "    ('alice_new@example.com', 'alice'),\n",
    "    ('bob_new@example.com', 'bob')\n",
    "]\n",
    "\n",
    "cursor.executemany('UPDATE users SET email = ? WHERE username = ?', updates)\n",
    "print('Bulk update completed securely')"
   ]
  },
  {
   "cell_type": "markdown",
   "id": "070aae6e",
   "metadata": {},
   "source": [
    "## Dynamic Queries with Placeholders\n",
    "\n",
    "Building dynamic queries while maintaining security:"
   ]
  },
  {
   "cell_type": "code",
   "execution_count": null,
   "id": "61427e40",
   "metadata": {},
   "outputs": [],
   "source": [
    "def search_users(username=None, email=None, limit=10):\n",
    "    # Build query dynamically but safely\n",
    "    conditions = []\n",
    "    params = []\n",
    "    \n",
    "    if username:\n",
    "        conditions.append('username LIKE ?')\n",
    "        params.append(f'%{username}%')\n",
    "    \n",
    "    if email:\n",
    "        conditions.append('email LIKE ?')\n",
    "        params.append(f'%{email}%')\n",
    "    \n",
    "    where_clause = ' AND '.join(conditions) if conditions else '1=1'\n",
    "    query = f'SELECT username, email FROM users WHERE {where_clause} LIMIT ?'\n",
    "    params.append(limit)\n",
    "    \n",
    "    cursor.execute(query, params)\n",
    "    return cursor.fetchall()\n",
    "\n",
    "print('Dynamic search function defined')\n",
    "\n",
    "# Test the function\n",
    "results = search_users(username='a')\n",
    "print('Users with \"a\" in username:', results)\n",
    "\n",
    "results = search_users(email='example.com')\n",
    "print('Users with \"example.com\" in email:', results)"
   ]
  },
  {
   "cell_type": "markdown",
   "id": "2f55fd05",
   "metadata": {},
   "source": [
    "## Common SQL Injection Attack Vectors\n",
    "\n",
    "Understanding common attack patterns:"
   ]
  },
  {
   "cell_type": "code",
   "execution_count": null,
   "id": "caaa92c3",
   "metadata": {},
   "outputs": [],
   "source": [
    "# Example attack vectors (don't use these!)\n",
    "attack_vectors = [\n",
    "    \"' OR '1'='1\",           # Bypass authentication\n",
    "    \"'; DROP TABLE users;--\", # Delete table\n",
    "    \"' UNION SELECT * FROM secret_table;--\", # Union-based injection\n",
    "    \"admin'--\",               # Comment out rest of query\n",
    "    \"1; UPDATE users SET password='hacked'--\" # Multiple statements\n",
    "]\n",
    "\n",
    "print('Common SQL injection attack vectors:')\n",
    "for i, vector in enumerate(attack_vectors, 1):\n",
    "    print(f'{i}. {vector}')\n",
    "\n",
    "# Test that placeholders prevent these attacks\n",
    "def test_attack(vector):\n",
    "    try:\n",
    "        cursor.execute('SELECT * FROM users WHERE username = ?', (vector,))\n",
    "        result = cursor.fetchall()\n",
    "        return len(result)\n",
    "    except:\n",
    "        return 'ERROR'\n",
    "\n",
    "print('\\nTesting attack vectors with placeholders:')\n",
    "for vector in attack_vectors:\n",
    "    safe_result = test_attack(vector)\n",
    "    print(f'Attack \"{vector[:20]}...\": {safe_result} results (safe!)')"
   ]
  },
  {
   "cell_type": "markdown",
   "id": "350d65af",
   "metadata": {},
   "source": [
    "## Best Practices\n",
    "\n",
    "- **Always use placeholders** for user input in SQL queries\n",
    "- **Never concatenate user input** directly into SQL strings\n",
    "- **Validate input** on the application side as well\n",
    "- **Use parameterized queries** for all dynamic SQL\n",
    "- **Limit database permissions** to minimize damage from successful injections\n",
    "- **Log and monitor** database queries for suspicious activity\n",
    "- **Keep database drivers updated** for security patches"
   ]
  },
  {
   "cell_type": "code",
   "execution_count": null,
   "id": "4e5b19ee",
   "metadata": {},
   "outputs": [],
   "source": [
    "# Final verification - show all users\n",
    "cursor.execute('SELECT username, email FROM users ORDER BY username')\n",
    "all_users = cursor.fetchall()\n",
    "\n",
    "print('Final user list:')\n",
    "for user in all_users:\n",
    "    print(f'  {user[0]}: {user[1]}')\n",
    "\n",
    "# Commit changes\n",
    "conn.commit()"
   ]
  },
  {
   "cell_type": "markdown",
   "id": "9961563d",
   "metadata": {},
   "source": [
    "## Summary\n",
    "\n",
    "In this notebook, you learned:\n",
    "\n",
    "- What SQL injection is and why it's dangerous\n",
    "- How vulnerable string concatenation leads to security breaches\n",
    "- How to use positional (`?`) and named (`:name`) placeholders\n",
    "- How placeholders work with INSERT, UPDATE, DELETE, and SELECT\n",
    "- How to use placeholders with executemany() for bulk operations\n",
    "- How to build dynamic queries safely\n",
    "- Common SQL injection attack vectors and how placeholders prevent them\n",
    "- Best practices for secure database programming\n",
    "\n",
    "**Key takeaway**: Always use parameterized queries with placeholders. Never concatenate user input directly into SQL strings. This simple practice prevents the most common and dangerous security vulnerability in database applications."
   ]
  },
  {
   "cell_type": "code",
   "execution_count": null,
   "id": "e98fb4fe",
   "metadata": {},
   "outputs": [],
   "source": [
    "# Clean up\n",
    "conn.close()\n",
    "print('Database connection closed')"
   ]
  }
 ],
 "metadata": {
  "language_info": {
   "name": "python"
  }
 },
 "nbformat": 4,
 "nbformat_minor": 5
}
