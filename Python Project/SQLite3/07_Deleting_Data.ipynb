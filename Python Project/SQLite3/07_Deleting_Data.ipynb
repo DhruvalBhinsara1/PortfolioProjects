{
 "cells": [
  {
   "cell_type": "markdown",
   "id": "b20a9559",
   "metadata": {},
   "source": [
    "# Deleting Data from SQLite Tables\n",
    "\n",
    "In this notebook, you'll learn how to delete data from SQLite tables using DELETE statements. We'll cover basic deletes, conditional deletes, and best practices for safe data removal."
   ]
  },
  {
   "cell_type": "code",
   "execution_count": null,
   "id": "22eb10c7",
   "metadata": {},
   "outputs": [],
   "source": [
    "import sqlite3\n",
    "\n",
    "# Connect to database\n",
    "conn = sqlite3.connect('university.db')\n",
    "cursor = conn.cursor()\n",
    "\n",
    "print('Connected to database')"
   ]
  },
  {
   "cell_type": "markdown",
   "id": "65c98e42",
   "metadata": {},
   "source": [
    "## Basic DELETE Syntax\n",
    "\n",
    "The basic syntax for DELETE is:\n",
    "\n",
    "```sql\n",
    "DELETE FROM table_name WHERE condition;\n",
    "```\n",
    "\n",
    "**WARNING**: Omitting WHERE clause deletes ALL rows!"
   ]
  },
  {
   "cell_type": "code",
   "execution_count": null,
   "id": "ad29af97",
   "metadata": {},
   "outputs": [],
   "source": [
    "# First, let's see current student count\n",
    "cursor.execute('SELECT COUNT(*) FROM students')\n",
    "count_before = cursor.fetchone()[0]\n",
    "print(f'Students before delete: {count_before}')\n",
    "\n",
    "# Delete a specific student\n",
    "cursor.execute('DELETE FROM students WHERE id = 3')\n",
    "\n",
    "print('Deleted student with ID 3')\n",
    "print(f'Rows affected: {cursor.rowcount}')"
   ]
  },
  {
   "cell_type": "markdown",
   "id": "c35af365",
   "metadata": {},
   "source": [
    "## Conditional Deletes\n",
    "\n",
    "Use WHERE clause with various conditions to delete specific rows."
   ]
  },
  {
   "cell_type": "code",
   "execution_count": null,
   "id": "b488bb23",
   "metadata": {},
   "outputs": [],
   "source": [
    "# Delete students with low grades\n",
    "cursor.execute('DELETE FROM students WHERE grade < 3.0')\n",
    "\n",
    "print('Deleted students with grade < 3.0')\n",
    "print(f'Rows affected: {cursor.rowcount}')\n",
    "\n",
    "# Delete old enrollments\n",
    "cursor.execute('DELETE FROM enrollments WHERE semester = \"Fall 2022\"')\n",
    "\n",
    "print('Deleted old enrollments')\n",
    "print(f'Rows affected: {cursor.rowcount}')"
   ]
  },
  {
   "cell_type": "markdown",
   "id": "d1340e34",
   "metadata": {},
   "source": [
    "## Using Parameters in Deletes\n",
    "\n",
    "Always use parameters for user input to prevent SQL injection."
   ]
  },
  {
   "cell_type": "code",
   "execution_count": null,
   "id": "bdded2dc",
   "metadata": {},
   "outputs": [],
   "source": [
    "# Delete using parameters\n",
    "student_name = 'Charlie Brown'\n",
    "cursor.execute('DELETE FROM students WHERE name = ?', (student_name,))\n",
    "\n",
    "print(f'Deleted student: {student_name}')\n",
    "print(f'Rows affected: {cursor.rowcount}')\n",
    "\n",
    "# Delete using named parameters\n",
    "cursor.execute('DELETE FROM courses WHERE department = :dept', {'dept': 'PHYS'})\n",
    "\n",
    "print('Deleted Physics courses')\n",
    "print(f'Rows affected: {cursor.rowcount}')"
   ]
  },
  {
   "cell_type": "markdown",
   "id": "1a4e26fb",
   "metadata": {},
   "source": [
    "## DELETE with Subqueries\n",
    "\n",
    "Use subqueries to delete based on related data."
   ]
  },
  {
   "cell_type": "code",
   "execution_count": null,
   "id": "7296a2f5",
   "metadata": {},
   "outputs": [],
   "source": [
    "# Delete enrollments for students not in students table (orphaned records)\n",
    "cursor.execute('''\n",
    "    DELETE FROM enrollments\n",
    "    WHERE student_id NOT IN (SELECT id FROM students)\n",
    "''')\n",
    "\n",
    "print('Deleted orphaned enrollments')\n",
    "print(f'Rows affected: {cursor.rowcount}')\n",
    "\n",
    "# Delete courses with no enrollments\n",
    "cursor.execute('''\n",
    "    DELETE FROM courses\n",
    "    WHERE course_id NOT IN (SELECT DISTINCT course_id FROM enrollments)\n",
    "''')\n",
    "\n",
    "print('Deleted courses with no enrollments')\n",
    "print(f'Rows affected: {cursor.rowcount}')"
   ]
  },
  {
   "cell_type": "markdown",
   "id": "93e8594a",
   "metadata": {},
   "source": [
    "## DELETE with LIMIT\n",
    "\n",
    "Use LIMIT to delete a specific number of rows."
   ]
  },
  {
   "cell_type": "code",
   "execution_count": null,
   "id": "49dd1766",
   "metadata": {},
   "outputs": [],
   "source": [
    "# Insert some test data first\n",
    "test_students = [\n",
    "    ('Test Student 1', 25, 2.5),\n",
    "    ('Test Student 2', 26, 2.7),\n",
    "    ('Test Student 3', 27, 2.8)\n",
    "]\n",
    "\n",
    "cursor.executemany('INSERT INTO students (name, age, grade) VALUES (?, ?, ?)', test_students)\n",
    "print('Inserted test students')\n",
    "\n",
    "# Delete only 2 students with lowest grades\n",
    "cursor.execute('''\n",
    "    DELETE FROM students\n",
    "    WHERE id IN (\n",
    "        SELECT id FROM students\n",
    "        WHERE grade < 3.0\n",
    "        ORDER BY grade ASC\n",
    "        LIMIT 2\n",
    "    )\n",
    "''')\n",
    "\n",
    "print('Deleted 2 students with lowest grades')\n",
    "print(f'Rows affected: {cursor.rowcount}')"
   ]
  },
  {
   "cell_type": "markdown",
   "id": "7b010768",
   "metadata": {},
   "source": [
    "## Checking Delete Results\n",
    "\n",
    "Verify that deletes were applied correctly."
   ]
  },
  {
   "cell_type": "code",
   "execution_count": null,
   "id": "3ba50379",
   "metadata": {},
   "outputs": [],
   "source": [
    "# Check remaining students\n",
    "cursor.execute('SELECT COUNT(*) FROM students')\n",
    "count_after = cursor.fetchone()[0]\n",
    "print(f'Students after deletes: {count_after}')\n",
    "\n",
    "# List remaining students\n",
    "cursor.execute('SELECT id, name, grade FROM students ORDER BY id')\n",
    "remaining_students = cursor.fetchall()\n",
    "\n",
    "print('\\nRemaining students:')\n",
    "for student in remaining_students:\n",
    "    print(f'ID: {student[0]}, Name: {student[1]}, Grade: {student[2]}')\n",
    "\n",
    "# Check other tables\n",
    "cursor.execute('SELECT COUNT(*) FROM courses')\n",
    "courses_count = cursor.fetchone()[0]\n",
    "print(f'\\nRemaining courses: {courses_count}')\n",
    "\n",
    "cursor.execute('SELECT COUNT(*) FROM enrollments')\n",
    "enrollments_count = cursor.fetchone()[0]\n",
    "print(f'Remaining enrollments: {enrollments_count}')"
   ]
  },
  {
   "cell_type": "markdown",
   "id": "f126fd7a",
   "metadata": {},
   "source": [
    "## Safe Delete Practices\n",
    "\n",
    "- Always backup data before deleting\n",
    "- Use transactions for multiple deletes\n",
    "- Test deletes on development data first\n",
    "- Use SELECT before DELETE to verify what will be deleted\n",
    "- Consider soft deletes (adding a 'deleted' flag) for important data"
   ]
  },
  {
   "cell_type": "code",
   "execution_count": null,
   "id": "eb1d6d01",
   "metadata": {},
   "outputs": [],
   "source": [
    "# Example of safe delete with preview\n",
    "def safe_delete(cursor, table, condition):\n",
    "    # First, show what will be deleted\n",
    "    preview_query = f'SELECT * FROM {table} WHERE {condition}'\n",
    "    cursor.execute(preview_query)\n",
    "    to_delete = cursor.fetchall()\n",
    "    \n",
    "    if to_delete:\n",
    "        print(f'Will delete {len(to_delete)} rows from {table}:')\n",
    "        for row in to_delete[:3]:  # Show first 3\n",
    "            print(f'  {row}')\n",
    "        if len(to_delete) > 3:\n",
    "            print(f'  ... and {len(to_delete) - 3} more')\n",
    "        \n",
    "        # Ask for confirmation (simulated)\n",
    "        confirm = input('Proceed with delete? (y/n): ').lower().strip()\n",
    "        if confirm == 'y':\n",
    "            delete_query = f'DELETE FROM {table} WHERE {condition}'\n",
    "            cursor.execute(delete_query)\n",
    "            print(f'Deleted {cursor.rowcount} rows')\n",
    "            return cursor.rowcount\n",
    "        else:\n",
    "            print('Delete cancelled')\n",
    "            return 0\n",
    "    else:\n",
    "        print('No rows match the delete condition')\n",
    "        return 0\n",
    "\n",
    "# Example usage (commented out to avoid input prompt)\n",
    "# safe_delete(cursor, 'students', 'grade < 2.0')\n",
    "\n",
    "print('Safe delete function defined')"
   ]
  },
  {
   "cell_type": "markdown",
   "id": "c4466974",
   "metadata": {},
   "source": [
    "## TRUNCATE vs DELETE\n",
    "\n",
    "SQLite doesn't have TRUNCATE TABLE command. Use DELETE FROM table_name to remove all rows."
   ]
  },
  {
   "cell_type": "code",
   "execution_count": null,
   "id": "1c56bb4f",
   "metadata": {},
   "outputs": [],
   "source": [
    "# Create a test table to demonstrate\n",
    "cursor.execute('''\n",
    "    CREATE TABLE test_data (\n",
    "        id INTEGER PRIMARY KEY,\n",
    "        value TEXT\n",
    "    )\n",
    "''')\n",
    "\n",
    "# Insert test data\n",
    "test_data = [('A',), ('B',), ('C',)]\n",
    "cursor.executemany('INSERT INTO test_data (value) VALUES (?)', test_data)\n",
    "\n",
    "print('Created test table with data')\n",
    "\n",
    "# Delete all rows (equivalent to TRUNCATE)\n",
    "cursor.execute('DELETE FROM test_data')\n",
    "\n",
    "print('Deleted all rows from test table')\n",
    "print(f'Rows affected: {cursor.rowcount}')\n",
    "\n",
    "# Drop the test table\n",
    "cursor.execute('DROP TABLE test_data')\n",
    "print('Dropped test table')"
   ]
  },
  {
   "cell_type": "markdown",
   "id": "9a9a65e0",
   "metadata": {},
   "source": [
    "## Summary\n",
    "\n",
    "In this notebook, you learned how to:\n",
    "\n",
    "- Perform basic DELETE operations\n",
    "- Use WHERE clauses for conditional deletes\n",
    "- Use parameterized queries for safe deletes\n",
    "- Delete with subqueries\n",
    "- Use LIMIT with deletes\n",
    "- Verify delete results\n",
    "- Implement safe delete practices\n",
    "- Remove all rows from tables\n",
    "\n",
    "Remember: DELETE operations are permanent (unless within a transaction that can be rolled back). Always backup important data before deleting, and test your delete conditions carefully."
   ]
  },
  {
   "cell_type": "code",
   "execution_count": null,
   "id": "bbf07a75",
   "metadata": {},
   "outputs": [],
   "source": [
    "# Commit all changes\n",
    "conn.commit()\n",
    "\n",
    "# Close the connection\n",
    "conn.close()\n",
    "print('Database connection closed')"
   ]
  }
 ],
 "metadata": {
  "language_info": {
   "name": "python"
  }
 },
 "nbformat": 4,
 "nbformat_minor": 5
}
