{
 "cells": [
  {
   "cell_type": "markdown",
   "id": "2f761e26",
   "metadata": {},
   "source": [
    "# Updating Data in SQLite Tables\n",
    "\n",
    "In this notebook, you'll learn how to update existing data in SQLite tables using UPDATE statements. We'll cover basic updates, conditional updates, and best practices."
   ]
  },
  {
   "cell_type": "code",
   "execution_count": null,
   "id": "477c9139",
   "metadata": {},
   "outputs": [],
   "source": [
    "import sqlite3\n",
    "\n",
    "# Connect to database\n",
    "conn = sqlite3.connect('university.db')\n",
    "cursor = conn.cursor()\n",
    "\n",
    "print('Connected to database')"
   ]
  },
  {
   "cell_type": "markdown",
   "id": "1098e854",
   "metadata": {},
   "source": [
    "## Basic UPDATE Syntax\n",
    "\n",
    "The basic syntax for UPDATE is:\n",
    "\n",
    "```sql\n",
    "UPDATE table_name\n",
    "SET column1 = value1, column2 = value2, ...\n",
    "WHERE condition;\n",
    "```\n",
    "\n",
    "Always use WHERE clause to avoid updating all rows!"
   ]
  },
  {
   "cell_type": "code",
   "execution_count": null,
   "id": "d99d2212",
   "metadata": {},
   "outputs": [],
   "source": [
    "# First, let's see current student data\n",
    "cursor.execute('SELECT id, name, grade FROM students')\n",
    "students_before = cursor.fetchall()\n",
    "\n",
    "print('Students before update:')\n",
    "for student in students_before:\n",
    "    print(f'ID: {student[0]}, Name: {student[1]}, Grade: {student[2]}')\n",
    "\n",
    "# Update a specific student's grade\n",
    "cursor.execute('''\n",
    "    UPDATE students\n",
    "    SET grade = 3.9\n",
    "    WHERE id = 1\n",
    "''')\n",
    "\n",
    "print('\\nUpdated student with ID 1')"
   ]
  },
  {
   "cell_type": "markdown",
   "id": "bc19205f",
   "metadata": {},
   "source": [
    "## Updating Multiple Columns\n",
    "\n",
    "You can update multiple columns in a single UPDATE statement."
   ]
  },
  {
   "cell_type": "code",
   "execution_count": null,
   "id": "3cc8f216",
   "metadata": {},
   "outputs": [],
   "source": [
    "# Update multiple columns for a student\n",
    "cursor.execute('''\n",
    "    UPDATE students\n",
    "    SET age = 23, grade = 3.7\n",
    "    WHERE name = 'Bob Smith'\n",
    "''')\n",
    "\n",
    "print('Updated Bob Smith\\'s age and grade')\n",
    "\n",
    "# Check the update\n",
    "cursor.execute('SELECT name, age, grade FROM students WHERE name = \"Bob Smith\"')\n",
    "bob = cursor.fetchone()\n",
    "print(f'Bob Smith: Age {bob[1]}, Grade {bob[2]}')"
   ]
  },
  {
   "cell_type": "markdown",
   "id": "fb88b4b6",
   "metadata": {},
   "source": [
    "## Conditional Updates\n",
    "\n",
    "Use WHERE clause with various conditions to update specific rows."
   ]
  },
  {
   "cell_type": "code",
   "execution_count": null,
   "id": "c4aa69f8",
   "metadata": {},
   "outputs": [],
   "source": [
    "# Update all students with grade below 3.0 to 3.0\n",
    "cursor.execute('''\n",
    "    UPDATE students\n",
    "    SET grade = 3.0\n",
    "    WHERE grade < 3.0\n",
    "''')\n",
    "\n",
    "print('Updated low-performing students to minimum grade of 3.0')\n",
    "\n",
    "# Update students in certain age range\n",
    "cursor.execute('''\n",
    "    UPDATE students\n",
    "    SET grade = grade + 0.1\n",
    "    WHERE age BETWEEN 20 AND 22\n",
    "''')\n",
    "\n",
    "print('Gave grade bonus to students aged 20-22')"
   ]
  },
  {
   "cell_type": "markdown",
   "id": "4ba280f1",
   "metadata": {},
   "source": [
    "## Using Parameters in Updates\n",
    "\n",
    "Always use parameters for user input to prevent SQL injection."
   ]
  },
  {
   "cell_type": "code",
   "execution_count": null,
   "id": "a6799fc9",
   "metadata": {},
   "outputs": [],
   "source": [
    "# Update using parameters\n",
    "student_id = 2\n",
    "new_grade = 4.0\n",
    "new_age = 21\n",
    "\n",
    "cursor.execute('''\n",
    "    UPDATE students\n",
    "    SET grade = ?, age = ?\n",
    "    WHERE id = ?\n",
    "''', (new_grade, new_age, student_id))\n",
    "\n",
    "print(f'Updated student ID {student_id} with parameterized query')\n",
    "\n",
    "# Using named parameters\n",
    "cursor.execute('''\n",
    "    UPDATE courses\n",
    "    SET credits = :credits\n",
    "    WHERE course_name = :course_name\n",
    "''', {\n",
    "    'credits': 3.5,\n",
    "    'course_name': 'Introduction to Computer Science'\n",
    "})\n",
    "\n",
    "print('Updated course credits using named parameters')"
   ]
  },
  {
   "cell_type": "markdown",
   "id": "e9200007",
   "metadata": {},
   "source": [
    "## Updating with Subqueries\n",
    "\n",
    "You can use subqueries in UPDATE statements."
   ]
  },
  {
   "cell_type": "code",
   "execution_count": null,
   "id": "ac5dd8b7",
   "metadata": {},
   "outputs": [],
   "source": [
    "# Update department budget based on number of courses\n",
    "cursor.execute('''\n",
    "    UPDATE departments\n",
    "    SET budget = budget * 1.1\n",
    "    WHERE dept_id IN (\n",
    "        SELECT DISTINCT d.dept_id\n",
    "        FROM departments d\n",
    "        JOIN courses c ON d.dept_name = c.department\n",
    "        GROUP BY d.dept_id\n",
    "        HAVING COUNT(c.course_id) > 1\n",
    "    )\n",
    "''')\n",
    "\n",
    "print('Increased budget for departments with multiple courses')"
   ]
  },
  {
   "cell_type": "markdown",
   "id": "0c7c72a9",
   "metadata": {},
   "source": [
    "## Checking Update Results\n",
    "\n",
    "Verify that updates were applied correctly."
   ]
  },
  {
   "cell_type": "code",
   "execution_count": null,
   "id": "788ffeaa",
   "metadata": {},
   "outputs": [],
   "source": [
    "# Check updated students\n",
    "cursor.execute('SELECT id, name, age, grade FROM students ORDER BY id')\n",
    "students_after = cursor.fetchall()\n",
    "\n",
    "print('Students after updates:')\n",
    "for student in students_after:\n",
    "    print(f'ID: {student[0]}, Name: {student[1]}, Age: {student[2]}, Grade: {student[3]}')\n",
    "\n",
    "# Check affected rows\n",
    "print(f'\\nRows affected by last update: {cursor.rowcount}')\n",
    "\n",
    "# Check courses\n",
    "cursor.execute('SELECT course_name, credits FROM courses')\n",
    "courses = cursor.fetchall()\n",
    "\n",
    "print('\\nUpdated courses:')\n",
    "for course in courses:\n",
    "    print(f'{course[0]}: {course[1]} credits')"
   ]
  },
  {
   "cell_type": "markdown",
   "id": "455d87a4",
   "metadata": {},
   "source": [
    "## UPDATE with JOIN\n",
    "\n",
    "SQLite supports UPDATE with JOIN (using subqueries since it doesn't support direct JOIN in UPDATE)."
   ]
  },
  {
   "cell_type": "code",
   "execution_count": null,
   "id": "07e72f72",
   "metadata": {},
   "outputs": [],
   "source": [
    "# Update enrollment grades based on student performance\n",
    "cursor.execute('''\n",
    "    UPDATE enrollments\n",
    "    SET grade = 'A'\n",
    "    WHERE student_id IN (\n",
    "        SELECT id FROM students WHERE grade >= 3.8\n",
    "    )\n",
    "''')\n",
    "\n",
    "print('Updated enrollment grades for high-performing students')"
   ]
  },
  {
   "cell_type": "markdown",
   "id": "dea704c7",
   "metadata": {},
   "source": [
    "## Best Practices for Updates\n",
    "\n",
    "- Always use WHERE clause to avoid updating all rows\n",
    "- Use parameters for user input\n",
    "- Test updates on a copy of data first\n",
    "- Use transactions for multiple related updates\n",
    "- Backup data before major updates"
   ]
  },
  {
   "cell_type": "code",
   "execution_count": null,
   "id": "2eb822e1",
   "metadata": {},
   "outputs": [],
   "source": [
    "# Example of safe update with transaction\n",
    "try:\n",
    "    conn.execute('BEGIN TRANSACTION')\n",
    "    \n",
    "    # Update within transaction\n",
    "    cursor.execute('''\n",
    "        UPDATE students\n",
    "        SET grade = grade + 0.1\n",
    "        WHERE grade < 4.0\n",
    "    ''')\n",
    "    \n",
    "    # Check if update affected expected number of rows\n",
    "    if cursor.rowcount > 0:\n",
    "        conn.commit()\n",
    "        print('Transaction committed - grades updated')\n",
    "    else:\n",
    "        conn.rollback()\n",
    "        print('Transaction rolled back - no rows affected')\n",
    "        \n",
    "except sqlite3.Error as e:\n",
    "    conn.rollback()\n",
    "    print(f'Error during update: {e}')\n",
    "\n",
    "# Commit all changes\n",
    "conn.commit()"
   ]
  },
  {
   "cell_type": "markdown",
   "id": "0b2531ce",
   "metadata": {},
   "source": [
    "## Summary\n",
    "\n",
    "In this notebook, you learned how to:\n",
    "\n",
    "- Perform basic UPDATE operations\n",
    "- Update multiple columns simultaneously\n",
    "- Use WHERE clauses for conditional updates\n",
    "- Use parameterized queries for security\n",
    "- Update with subqueries\n",
    "- Verify update results\n",
    "- Use transactions for safe updates\n",
    "\n",
    "Remember to always backup your data before performing updates, and use WHERE clauses to avoid accidentally updating all rows in a table."
   ]
  },
  {
   "cell_type": "code",
   "execution_count": null,
   "id": "da998d45",
   "metadata": {},
   "outputs": [],
   "source": [
    "# Close the connection\n",
    "conn.close()\n",
    "print('Database connection closed')"
   ]
  }
 ],
 "metadata": {
  "language_info": {
   "name": "python"
  }
 },
 "nbformat": 4,
 "nbformat_minor": 5
}
