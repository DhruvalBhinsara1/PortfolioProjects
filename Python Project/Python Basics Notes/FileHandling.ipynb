{
 "cells": [
  {
   "cell_type": "markdown",
   "id": "214510e3",
   "metadata": {},
   "source": [
    "# File Handling in Python"
   ]
  },
  {
   "cell_type": "markdown",
   "id": "e7a4eb65",
   "metadata": {},
   "source": [
    "File handling is essential for tasks like data processing, logging, configuration management, and more. Python's file handling is straightforward and powerful."
   ]
  },
  {
   "cell_type": "markdown",
   "id": "dd603f84",
   "metadata": {},
   "source": [
    "## Opening Files"
   ]
  },
  {
   "cell_type": "markdown",
   "id": "f41eaaa5",
   "metadata": {},
   "source": [
    "Use the `open()` function to open a file. It takes two arguments: the file name and the mode."
   ]
  },
  {
   "cell_type": "markdown",
   "id": "24150590",
   "metadata": {},
   "source": [
    "### File Modes\n",
    "- 'r': Read mode (default). File must exist.\n",
    "- 'w': Write mode. Creates or overwrites the file.\n",
    "- 'a': Append mode. Adds to the end of the file.\n",
    "- 'x': Exclusive creation. Fails if file exists.\n",
    "- 'b': Binary mode (e.g., 'rb', 'wb').\n",
    "- 't': Text mode (default, e.g., 'rt', 'wt')."
   ]
  },
  {
   "cell_type": "code",
   "execution_count": null,
   "id": "a4a97e6f",
   "metadata": {},
   "outputs": [],
   "source": [
    "# Open a file in read mode\n",
    "file = open('example.txt', 'r')\n",
    "print(file)"
   ]
  },
  {
   "cell_type": "code",
   "execution_count": null,
   "id": "ead64606",
   "metadata": {},
   "outputs": [],
   "source": [
    "# First, let's create a sample file to read from\n",
    "with open('example.txt', 'w') as f:\n",
    "    f.write(\"Hello, World!\\n\")\n",
    "    f.write(\"This is a sample file.\\n\")\n",
    "    f.write(\"Line 3 here.\")"
   ]
  },
  {
   "cell_type": "markdown",
   "id": "f57d5363",
   "metadata": {},
   "source": [
    "## Reading Files"
   ]
  },
  {
   "cell_type": "markdown",
   "id": "f1a83c9b",
   "metadata": {},
   "source": [
    "### Different Ways to Read Files\n",
    "- `read()`: Reads the entire file as a string.\n",
    "- `readline()`: Reads one line at a time.\n",
    "- `readlines()`: Reads all lines into a list."
   ]
  },
  {
   "cell_type": "code",
   "execution_count": null,
   "id": "32eccb96",
   "metadata": {},
   "outputs": [],
   "source": [
    "# Read the entire file\n",
    "content = file.read()\n",
    "print(content)"
   ]
  },
  {
   "cell_type": "code",
   "execution_count": null,
   "id": "c21b7326",
   "metadata": {},
   "outputs": [],
   "source": [
    "# Read one line\n",
    "with open('example.txt', 'r') as file:\n",
    "    line = file.readline()\n",
    "    print(\"First line:\", line.strip())\n",
    "    line = file.readline()\n",
    "    print(\"Second line:\", line.strip())"
   ]
  },
  {
   "cell_type": "code",
   "execution_count": null,
   "id": "ccea9f1d",
   "metadata": {},
   "outputs": [],
   "source": [
    "# Read all lines into a list\n",
    "with open('example.txt', 'r') as file:\n",
    "    lines = file.readlines()\n",
    "    print(\"All lines:\", lines)\n",
    "    for i, line in enumerate(lines, 1):\n",
    "        print(f\"Line {i}: {line.strip()}\")"
   ]
  },
  {
   "cell_type": "code",
   "execution_count": null,
   "id": "c85ee461",
   "metadata": {},
   "outputs": [],
   "source": [
    "# Read line by line\n",
    "file.seek(0)  # Go back to the beginning\n",
    "for line in file:\n",
    "    print(line.strip())"
   ]
  },
  {
   "cell_type": "markdown",
   "id": "eef63972",
   "metadata": {},
   "source": [
    "## Writing Files"
   ]
  },
  {
   "cell_type": "markdown",
   "id": "84bea1ba",
   "metadata": {},
   "source": [
    "### Writing Multiple Lines\n",
    "You can write multiple lines using loops or lists."
   ]
  },
  {
   "cell_type": "code",
   "execution_count": null,
   "id": "1477e07b",
   "metadata": {},
   "outputs": [],
   "source": [
    "# Open a file in write mode\n",
    "file_write = open('output.txt', 'w')\n",
    "file_write.write('Hello, World!\\n')\n",
    "file_write.write('This is a test.')\n",
    "file_write.close()"
   ]
  },
  {
   "cell_type": "code",
   "execution_count": null,
   "id": "00ad7e29",
   "metadata": {},
   "outputs": [],
   "source": [
    "# Writing multiple lines\n",
    "lines_to_write = [\"First line\\n\", \"Second line\\n\", \"Third line\\n\"]\n",
    "with open('multi_output.txt', 'w') as file:\n",
    "    file.writelines(lines_to_write)"
   ]
  },
  {
   "cell_type": "markdown",
   "id": "7fbff942",
   "metadata": {},
   "source": [
    "## Appending to Files"
   ]
  },
  {
   "cell_type": "markdown",
   "id": "d7512768",
   "metadata": {},
   "source": [
    "Appending adds content to the end of an existing file without overwriting it."
   ]
  },
  {
   "cell_type": "code",
   "execution_count": null,
   "id": "025b3e04",
   "metadata": {},
   "outputs": [],
   "source": [
    "# Open a file in append mode\n",
    "file_append = open('output.txt', 'a')\n",
    "file_append.write('\\nAppending more text.')\n",
    "file_append.close()"
   ]
  },
  {
   "cell_type": "markdown",
   "id": "413c11df",
   "metadata": {},
   "source": [
    "## Using 'with' Statement"
   ]
  },
  {
   "cell_type": "markdown",
   "id": "31f4f833",
   "metadata": {},
   "source": [
    "The 'with' statement is the recommended way to handle files as it ensures files are properly closed even if an error occurs."
   ]
  },
  {
   "cell_type": "markdown",
   "id": "a38a26ff",
   "metadata": {},
   "source": [
    "The 'with' statement automatically closes the file after use."
   ]
  },
  {
   "cell_type": "code",
   "execution_count": null,
   "id": "add8ff56",
   "metadata": {},
   "outputs": [],
   "source": [
    "# Reading with 'with'\n",
    "with open('example.txt', 'r') as file:\n",
    "    content = file.read()\n",
    "    print(content)"
   ]
  },
  {
   "cell_type": "code",
   "execution_count": null,
   "id": "29a11190",
   "metadata": {},
   "outputs": [],
   "source": [
    "# Writing with 'with'\n",
    "with open('output2.txt', 'w') as file:\n",
    "    file.write('Using with statement.')"
   ]
  },
  {
   "cell_type": "markdown",
   "id": "f83db3a8",
   "metadata": {},
   "source": [
    "## Working with Binary Files"
   ]
  },
  {
   "cell_type": "code",
   "execution_count": 1,
   "id": "0aab0aba",
   "metadata": {},
   "outputs": [],
   "source": [
    "# Writing binary data\n",
    "with open('binary_file.bin', 'wb') as file:\n",
    "    data = b'Hello in binary'\n",
    "    file.write(data)"
   ]
  },
  {
   "cell_type": "code",
   "execution_count": null,
   "id": "107d7ee4",
   "metadata": {},
   "outputs": [],
   "source": [
    "# Reading binary data\n",
    "with open('binary_file.bin', 'rb') as file:\n",
    "    data = file.read()\n",
    "    print(data)"
   ]
  },
  {
   "cell_type": "markdown",
   "id": "c369d1f3",
   "metadata": {},
   "source": [
    "## Handling File Errors"
   ]
  },
  {
   "cell_type": "code",
   "execution_count": null,
   "id": "b31485ad",
   "metadata": {},
   "outputs": [],
   "source": [
    "# Using try-except for file operations\n",
    "try:\n",
    "    with open('nonexistent.txt', 'r') as file:\n",
    "        content = file.read()\n",
    "        print(content)\n",
    "except FileNotFoundError:\n",
    "    print(\"File not found!\")\n",
    "except IOError:\n",
    "    print(\"An I/O error occurred!\")"
   ]
  },
  {
   "cell_type": "markdown",
   "id": "4b53065b",
   "metadata": {},
   "source": [
    "## Checking File Existence"
   ]
  },
  {
   "cell_type": "code",
   "execution_count": null,
   "id": "0ab085fb",
   "metadata": {},
   "outputs": [],
   "source": [
    "import os\n",
    "\n",
    "# Check if file exists\n",
    "if os.path.exists('example.txt'):\n",
    "    print(\"File exists!\")\n",
    "else:\n",
    "    print(\"File does not exist.\")\n",
    "\n",
    "# Check if it's a file or directory\n",
    "if os.path.isfile('example.txt'):\n",
    "    print(\"It's a file.\")\n",
    "if os.path.isdir('some_dir'):\n",
    "    print(\"It's a directory.\")"
   ]
  },
  {
   "cell_type": "markdown",
   "id": "2e023a4a",
   "metadata": {},
   "source": [
    "## Closing Files"
   ]
  },
  {
   "cell_type": "markdown",
   "id": "427f134f",
   "metadata": {},
   "source": [
    "Closing files is important to free up system resources and ensure data is properly written. Always close files after use, or better yet, use the 'with' statement which handles closing automatically."
   ]
  },
  {
   "cell_type": "code",
   "execution_count": null,
   "id": "99ea8a11",
   "metadata": {},
   "outputs": [],
   "source": [
    "# Always close files to free resources\n",
    "file = open('example.txt', 'r')\n",
    "# Do something\n",
    "file.close()"
   ]
  }
 ],
 "metadata": {
  "kernelspec": {
   "display_name": "Python 3",
   "language": "python",
   "name": "python3"
  },
  "language_info": {
   "codemirror_mode": {
    "name": "ipython",
    "version": 3
   },
   "file_extension": ".py",
   "mimetype": "text/x-python",
   "name": "python",
   "nbconvert_exporter": "python",
   "pygments_lexer": "ipython3",
   "version": "3.13.1"
  }
 },
 "nbformat": 4,
 "nbformat_minor": 5
}
