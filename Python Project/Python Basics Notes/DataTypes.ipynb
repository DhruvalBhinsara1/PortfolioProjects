{
 "cells": [
  {
   "cell_type": "markdown",
   "id": "8e3eec60-a7c5-4160-a83c-b71a86b17385",
   "metadata": {},
   "source": [
    "# DataTypes in Python"
   ]
  },
  {
   "cell_type": "markdown",
   "id": "b7e30720",
   "metadata": {},
   "source": [
    "Python has several built-in data types that are used to store different kinds of data. Understanding data types is fundamental to programming in Python."
   ]
  },
  {
   "cell_type": "markdown",
   "id": "5173f51d-4508-4ead-ab7f-ead6881a4823",
   "metadata": {},
   "source": [
    "* Int\n",
    "* Float\n",
    "* Str\n",
    "* Bool\n",
    "* NoneType\n",
    "\n",
    "### None of these data types are mutable"
   ]
  },
  {
   "cell_type": "markdown",
   "id": "60b34584-5d57-4e0a-97a3-566fa7309742",
   "metadata": {},
   "source": [
    "## Int"
   ]
  },
  {
   "cell_type": "markdown",
   "id": "20aeec42",
   "metadata": {},
   "source": [
    "Integers are whole numbers, positive or negative, without decimals."
   ]
  },
  {
   "cell_type": "code",
   "execution_count": 4,
   "id": "f099195d-7208-4fc1-ab45-efa779c2f879",
   "metadata": {},
   "outputs": [
    {
     "name": "stdout",
     "output_type": "stream",
     "text": [
      "5\n",
      "69\n"
     ]
    }
   ],
   "source": [
    "x = 5\n",
    "z = 69\n",
    "\n",
    "print(x)\n",
    "print(z)"
   ]
  },
  {
   "cell_type": "code",
   "execution_count": null,
   "id": "9dd67e21",
   "metadata": {},
   "outputs": [],
   "source": [
    "# Operations with integers\n",
    "a = 10\n",
    "b = 3\n",
    "print(\"Addition:\", a + b)\n",
    "print(\"Subtraction:\", a - b)\n",
    "print(\"Multiplication:\", a * b)\n",
    "print(\"Division:\", a / b)  # Float result\n",
    "print(\"Floor Division:\", a // b)\n",
    "print(\"Modulus:\", a % b)\n",
    "print(\"Power:\", a ** b)"
   ]
  },
  {
   "cell_type": "markdown",
   "id": "cc82e1de-dd59-4fab-9415-feb543c2195a",
   "metadata": {},
   "source": [
    "## Float"
   ]
  },
  {
   "cell_type": "markdown",
   "id": "1fcd05ec",
   "metadata": {},
   "source": [
    "Floats represent real numbers with decimal points."
   ]
  },
  {
   "cell_type": "code",
   "execution_count": 5,
   "id": "cf53ee46-843c-4148-9f66-58ea0dc3af5c",
   "metadata": {},
   "outputs": [
    {
     "name": "stdout",
     "output_type": "stream",
     "text": [
      "4.2 -6.9\n"
     ]
    }
   ],
   "source": [
    "x = 4.20\n",
    "y = -6.9\n",
    "\n",
    "print(x , y)"
   ]
  },
  {
   "cell_type": "code",
   "execution_count": null,
   "id": "fb410112",
   "metadata": {},
   "outputs": [],
   "source": [
    "# Float operations\n",
    "pi = 3.14159\n",
    "radius = 5.0\n",
    "area = pi * radius ** 2\n",
    "print(\"Area of circle:\", area)\n",
    "\n",
    "# Scientific notation\n",
    "large_number = 1.23e4  # 12300.0\n",
    "small_number = 5.67e-3  # 0.00567\n",
    "print(\"Large:\", large_number)\n",
    "print(\"Small:\", small_number)"
   ]
  },
  {
   "cell_type": "markdown",
   "id": "f9d08999-5d7f-40bb-9c20-1b0469aecef5",
   "metadata": {},
   "source": [
    "## Str"
   ]
  },
  {
   "cell_type": "markdown",
   "id": "e4ad27aa",
   "metadata": {},
   "source": [
    "Strings are sequences of characters enclosed in quotes. They are immutable."
   ]
  },
  {
   "cell_type": "code",
   "execution_count": 6,
   "id": "1bb48a65-0bd7-4960-9f0d-aa37a4a5dcd6",
   "metadata": {},
   "outputs": [
    {
     "name": "stdout",
     "output_type": "stream",
     "text": [
      "Through Goes hamilton!\n"
     ]
    }
   ],
   "source": [
    "myStr = \"Through Goes hamilton!\"\n",
    "\n",
    "print(myStr)"
   ]
  },
  {
   "cell_type": "code",
   "execution_count": null,
   "id": "e8823e49",
   "metadata": {},
   "outputs": [],
   "source": [
    "# String operations\n",
    "name = \"Alice\"\n",
    "greeting = \"Hello, \" + name + \"!\"\n",
    "print(greeting)\n",
    "\n",
    "# String methods\n",
    "text = \"python programming\"\n",
    "print(\"Upper:\", text.upper())\n",
    "print(\"Length:\", len(text))\n",
    "print(\"Slice:\", text[0:6])  # 'python'\n",
    "\n",
    "# Multi-line strings\n",
    "multi = \"\"\"This is a\n",
    "multi-line string.\"\"\"\n",
    "print(multi)"
   ]
  },
  {
   "cell_type": "markdown",
   "id": "1c5ff062-38d9-42dd-8cb8-0ff1e1415003",
   "metadata": {},
   "source": [
    "## Bool"
   ]
  },
  {
   "cell_type": "markdown",
   "id": "8499801c",
   "metadata": {},
   "source": [
    "Booleans represent True or False values, often used in conditions and logical operations."
   ]
  },
  {
   "cell_type": "code",
   "execution_count": 7,
   "id": "319486cc-2b3f-405c-9ec7-8a96c4a41a6d",
   "metadata": {},
   "outputs": [
    {
     "name": "stdout",
     "output_type": "stream",
     "text": [
      "False\n",
      "True\n"
     ]
    }
   ],
   "source": [
    "myBool = False\n",
    "myOtherBool = True\n",
    "\n",
    "print(myBool)\n",
    "print(myOtherBool)"
   ]
  },
  {
   "cell_type": "code",
   "execution_count": null,
   "id": "7faa61ee",
   "metadata": {},
   "outputs": [],
   "source": [
    "# Boolean operations\n",
    "a = True\n",
    "b = False\n",
    "print(\"AND:\", a and b)  # False\n",
    "print(\"OR:\", a or b)    # True\n",
    "print(\"NOT:\", not a)    # False\n",
    "\n",
    "# Comparison results in bool\n",
    "x = 5\n",
    "y = 10\n",
    "print(\"x < y:\", x < y)   # True\n",
    "print(\"x == y:\", x == y) # False"
   ]
  },
  {
   "cell_type": "markdown",
   "id": "47b80bb5-1d5f-4134-9aa1-73b6d4a3597a",
   "metadata": {},
   "source": [
    "## NoneType"
   ]
  },
  {
   "cell_type": "markdown",
   "id": "22714366",
   "metadata": {},
   "source": [
    "NoneType represents the absence of a value. None is often used to indicate that a variable has no value assigned."
   ]
  },
  {
   "cell_type": "code",
   "execution_count": 8,
   "id": "0491ccf9-e94e-4ae7-8070-3f1607071872",
   "metadata": {},
   "outputs": [
    {
     "name": "stdout",
     "output_type": "stream",
     "text": [
      "None\n"
     ]
    }
   ],
   "source": [
    "myNull = None\n",
    "\n",
    "print(myNull)"
   ]
  },
  {
   "cell_type": "code",
   "execution_count": null,
   "id": "1fe7b3d6",
   "metadata": {},
   "outputs": [],
   "source": [
    "# Using None\n",
    "result = None\n",
    "if result is None:\n",
    "    print(\"No result yet\")\n",
    "\n",
    "# Functions can return None\n",
    "def do_nothing():\n",
    "    pass\n",
    "\n",
    "print(\"Function returns:\", do_nothing())"
   ]
  },
  {
   "cell_type": "markdown",
   "id": "5e6bc825",
   "metadata": {},
   "source": [
    "## Type Checking and Conversion"
   ]
  },
  {
   "cell_type": "markdown",
   "id": "40579282",
   "metadata": {},
   "source": [
    "You can check the type of a variable using `type()` and convert between types using built-in functions."
   ]
  },
  {
   "cell_type": "code",
   "execution_count": null,
   "id": "f65b6dff",
   "metadata": {},
   "outputs": [],
   "source": [
    "# Type checking\n",
    "x = 5\n",
    "y = 3.14\n",
    "z = \"hello\"\n",
    "print(\"Type of x:\", type(x))  # <class 'int'>\n",
    "print(\"Type of y:\", type(y))  # <class 'float'>\n",
    "print(\"Type of z:\", type(z))  # <class 'str'>\n",
    "\n",
    "# Type conversion\n",
    "num_str = \"123\"\n",
    "num_int = int(num_str)\n",
    "num_float = float(num_str)\n",
    "print(\"String to int:\", num_int)\n",
    "print(\"String to float:\", num_float)\n",
    "\n",
    "# Bool conversion\n",
    "print(\"Int to bool:\", bool(0))    # False\n",
    "print(\"Int to bool:\", bool(5))    # True\n",
    "print(\"Str to bool:\", bool(\"\"))   # False\n",
    "print(\"Str to bool:\", bool(\"hi\")) # True"
   ]
  }
 ],
 "metadata": {
  "kernelspec": {
   "display_name": "Python 3 (ipykernel)",
   "language": "python",
   "name": "python3"
  },
  "language_info": {
   "codemirror_mode": {
    "name": "ipython",
    "version": 3
   },
   "file_extension": ".py",
   "mimetype": "text/x-python",
   "name": "python",
   "nbconvert_exporter": "python",
   "pygments_lexer": "ipython3",
   "version": "3.13.5"
  }
 },
 "nbformat": 4,
 "nbformat_minor": 5
}
