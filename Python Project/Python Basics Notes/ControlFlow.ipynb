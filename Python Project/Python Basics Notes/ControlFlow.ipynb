{
 "cells": [
  {
   "cell_type": "markdown",
   "id": "5a99f484",
   "metadata": {},
   "source": [
    "# <b> Control Flow </b>\n"
   ]
  },
  {
   "cell_type": "markdown",
   "id": "c58ca02b",
   "metadata": {},
   "source": [
    "<b> The main categories are: </b>\n",
    "\n",
    "1.Conditional statements: For decision-making.\n",
    "\n",
    "2.Looping statements: For repetition.\n",
    "\n",
    "3.Loop control statements: To alter loop behavior.\n",
    "\n",
    "4.Exception handling: To manage runtime errors.\n",
    "\n",
    "5.Other variations: Shorthand forms or specialized constructs.\n"
   ]
  },
  {
   "cell_type": "markdown",
   "id": "533dacb4",
   "metadata": {
    "vscode": {
     "languageId": "plaintext"
    }
   },
   "source": [
    "### <b> Conditional Statements </b>\n",
    "\n",
    "This Statements are used for checking conditions\n",
    "\n",
    "There are 3 types of conditional statements\n",
    "\n",
    "1. if statement\n",
    "\n",
    "2. if-else statement\n",
    "\n",
    "3. if-elif-else statement\n"
   ]
  },
  {
   "cell_type": "markdown",
   "id": "fa77d6c8",
   "metadata": {
    "vscode": {
     "languageId": "plaintext"
    }
   },
   "source": [
    "> > <b> 1. if statement </b>\n",
    "\n",
    "Checks a condition and executes the block if true.\n"
   ]
  },
  {
   "cell_type": "code",
   "execution_count": 9,
   "id": "51200e66",
   "metadata": {},
   "outputs": [
    {
     "name": "stdout",
     "output_type": "stream",
     "text": [
      "x is greater than 5\n"
     ]
    }
   ],
   "source": [
    "x = 10\n",
    "if x > 5:\n",
    "    print(\"x is greater than 5\")  # Output: x is greater than 5"
   ]
  },
  {
   "cell_type": "markdown",
   "id": "a63f1a6b",
   "metadata": {},
   "source": [
    "> > <b> 2. if-else statement </b>\n",
    "\n",
    "Adds an alternative block if the condition is false.\n"
   ]
  },
  {
   "cell_type": "code",
   "execution_count": 10,
   "id": "6adad9f7",
   "metadata": {},
   "outputs": [
    {
     "name": "stdout",
     "output_type": "stream",
     "text": [
      "x is not greater than 5\n"
     ]
    }
   ],
   "source": [
    "x = 3\n",
    "if x > 5:\n",
    "    print(\"x is greater than 5\")\n",
    "else:\n",
    "    print(\"x is not greater than 5\")  # Output: x is not greater than 5"
   ]
  },
  {
   "cell_type": "markdown",
   "id": "38c265d8",
   "metadata": {},
   "source": [
    "> > <b> 3. if-elif-else statement </b>\n",
    "\n",
    "Handles multiple conditions in sequence.\n"
   ]
  },
  {
   "cell_type": "code",
   "execution_count": 11,
   "id": "824ebbba",
   "metadata": {},
   "outputs": [
    {
     "name": "stdout",
     "output_type": "stream",
     "text": [
      "Zero\n"
     ]
    }
   ],
   "source": [
    "x = 0\n",
    "if x > 0:\n",
    "    print(\"Positive\")\n",
    "elif x < 0:\n",
    "    print(\"Negative\")\n",
    "else:\n",
    "    print(\"Zero\")  # Output: Zero"
   ]
  },
  {
   "cell_type": "markdown",
   "id": "61acbcd0",
   "metadata": {},
   "source": [
    "### <b> Looping Statements </b>\n",
    "\n",
    "These repeat code blocks until a condition is met or over a sequence.\n",
    "\n",
    "there are 2 main types of loops are in python.\n",
    "\n",
    "> 1. for loop\n",
    ">> for loop with range.\n",
    "\n",
    ">> for loop with sequence.\n",
    "\n",
    "> 2. while loop\n"
   ]
  },
  {
   "cell_type": "markdown",
   "id": "93cbfa2f",
   "metadata": {},
   "source": [
    "> > <b> 1. for loop </b>\n",
    "\n",
    "Iterates over a sequence (like lists, tuples, strings, or ranges).\n"
   ]
  },
  {
   "cell_type": "markdown",
   "id": "7f75311b",
   "metadata": {},
   "source": [
    "> > > <b> for loop With sequence </b>\n"
   ]
  },
  {
   "cell_type": "code",
   "execution_count": 3,
   "id": "c75ec668",
   "metadata": {},
   "outputs": [
    {
     "name": "stdout",
     "output_type": "stream",
     "text": [
      "apple\n",
      "banana\n",
      "cherry\n"
     ]
    }
   ],
   "source": [
    "fruits = [\"apple\", \"banana\", \"cherry\"]\n",
    "for fruit in fruits:\n",
    "    print(fruit)\n",
    "\n",
    "# Output:\n",
    "# apple\n",
    "# banana\n",
    "# cherry"
   ]
  },
  {
   "cell_type": "markdown",
   "id": "5a740d21",
   "metadata": {},
   "source": [
    "> > > <b> for loop With range() </b>\n",
    "\n",
    "For numeric iterations.\n"
   ]
  },
  {
   "cell_type": "code",
   "execution_count": 13,
   "id": "560c3dc3",
   "metadata": {},
   "outputs": [
    {
     "name": "stdout",
     "output_type": "stream",
     "text": [
      "0\n",
      "1\n",
      "2\n",
      "3\n",
      "4\n"
     ]
    }
   ],
   "source": [
    "for i in range(5):  # 0 to 4\n",
    "    print(i)\n",
    "# Output: 0 1 2 3 4"
   ]
  },
  {
   "cell_type": "markdown",
   "id": "df3dd885",
   "metadata": {},
   "source": [
    "> > <b> 2. while loop </b>\n",
    "\n",
    "Repeats as long as a condition is true.\n"
   ]
  },
  {
   "cell_type": "code",
   "execution_count": 14,
   "id": "2baa6634",
   "metadata": {},
   "outputs": [
    {
     "name": "stdout",
     "output_type": "stream",
     "text": [
      "0\n",
      "1\n",
      "2\n",
      "3\n",
      "4\n"
     ]
    }
   ],
   "source": [
    "count = 0\n",
    "while count < 5:\n",
    "    print(count)\n",
    "    count += 1\n",
    "# Output: 0 1 2 3 4"
   ]
  },
  {
   "cell_type": "markdown",
   "id": "dc32d250",
   "metadata": {},
   "source": [
    "### <b> Loop Control Statements </b>\n",
    "\n",
    "These modify loop execution from within.\n",
    "\n",
    "1. break: Exits the loop prematurely.\n",
    "\n",
    "2. continue: Skips the rest of the current iteration and proceeds to the next.\n",
    "\n",
    "3. pass: A null operation; does nothing (useful as a placeholder).\n"
   ]
  },
  {
   "cell_type": "markdown",
   "id": "093e5749",
   "metadata": {},
   "source": [
    "> > <b> break </b>\n"
   ]
  },
  {
   "cell_type": "code",
   "execution_count": 15,
   "id": "9e302061",
   "metadata": {},
   "outputs": [
    {
     "name": "stdout",
     "output_type": "stream",
     "text": [
      "0\n",
      "1\n",
      "2\n",
      "3\n",
      "4\n"
     ]
    }
   ],
   "source": [
    "for i in range(10):\n",
    "    if i == 5:\n",
    "        break\n",
    "    print(i)  # Output: 0 1 2 3 4"
   ]
  },
  {
   "cell_type": "markdown",
   "id": "dab3d1b9",
   "metadata": {},
   "source": [
    "> > <b> continue </b>\n"
   ]
  },
  {
   "cell_type": "code",
   "execution_count": 16,
   "id": "e528ee78",
   "metadata": {},
   "outputs": [
    {
     "name": "stdout",
     "output_type": "stream",
     "text": [
      "0\n",
      "1\n",
      "3\n",
      "4\n"
     ]
    }
   ],
   "source": [
    "for i in range(5):\n",
    "    if i == 2:\n",
    "        continue\n",
    "    print(i)  # Output: 0 1 3 4"
   ]
  },
  {
   "cell_type": "markdown",
   "id": "c3f97348",
   "metadata": {},
   "source": [
    "> > <b> pass </b>\n"
   ]
  },
  {
   "cell_type": "code",
   "execution_count": 17,
   "id": "f47884fd",
   "metadata": {},
   "outputs": [
    {
     "name": "stdout",
     "output_type": "stream",
     "text": [
      "1\n",
      "3\n"
     ]
    }
   ],
   "source": [
    "for i in range(5):\n",
    "    if i % 2 == 0:\n",
    "        pass  # Do nothing for even numbers\n",
    "    else:\n",
    "        print(i)  # Output: 1 3"
   ]
  },
  {
   "cell_type": "markdown",
   "id": "6be962ea",
   "metadata": {},
   "source": [
    "### <b> Exception Handling </b>\n",
    "\n",
    "Handles errors gracefully without crashing the program.\n"
   ]
  },
  {
   "cell_type": "markdown",
   "id": "3cfcae17",
   "metadata": {},
   "source": [
    "> > <b> try-except </b>\n",
    "\n",
    "Catches exceptions.\n"
   ]
  },
  {
   "cell_type": "code",
   "execution_count": 18,
   "id": "c872a0dc",
   "metadata": {},
   "outputs": [
    {
     "name": "stdout",
     "output_type": "stream",
     "text": [
      "Cannot divide by zero\n"
     ]
    }
   ],
   "source": [
    "try:\n",
    "    result = 10 / 0\n",
    "except ZeroDivisionError:\n",
    "    print(\"Cannot divide by zero\")  # Output: Cannot divide by zero"
   ]
  },
  {
   "cell_type": "markdown",
   "id": "9a34c9d7",
   "metadata": {},
   "source": [
    "> > <b> try-except-else-finally </b>\n",
    "\n",
    "Full structure.\n",
    "\n",
    "- else: Runs if no exception occurs.\n",
    "- finally: Always runs, for cleanup.\n"
   ]
  },
  {
   "cell_type": "code",
   "execution_count": 19,
   "id": "bd965df3",
   "metadata": {},
   "outputs": [
    {
     "name": "stdout",
     "output_type": "stream",
     "text": [
      "Result: 5.0\n",
      "Execution complete\n"
     ]
    }
   ],
   "source": [
    "try:\n",
    "    result = 10 / 2\n",
    "except ZeroDivisionError:\n",
    "    print(\"Division error\")\n",
    "else:\n",
    "    print(\"Result:\", result)  # Output: Result: 5.0\n",
    "finally:\n",
    "    print(\"Execution complete\")  # Always prints"
   ]
  },
  {
   "cell_type": "markdown",
   "id": "fce75280",
   "metadata": {},
   "source": [
    "> > <b> Multiple except blocks </b>\n",
    "\n",
    "Handle different exceptions.\n"
   ]
  },
  {
   "cell_type": "code",
   "execution_count": 20,
   "id": "5facefeb",
   "metadata": {},
   "outputs": [
    {
     "name": "stdout",
     "output_type": "stream",
     "text": [
      "Invalid value\n"
     ]
    }
   ],
   "source": [
    "try:\n",
    "    value = int(\"abc\")\n",
    "except ValueError:\n",
    "    print(\"Invalid value\")\n",
    "except TypeError:\n",
    "    print(\"Type error\")"
   ]
  },
  {
   "cell_type": "markdown",
   "id": "e577d1c1",
   "metadata": {},
   "source": [
    "> > <b> raise </b>\n",
    "\n",
    "Manually raise an exception.\n"
   ]
  },
  {
   "cell_type": "code",
   "execution_count": 21,
   "id": "b5e7b5e1",
   "metadata": {},
   "outputs": [
    {
     "ename": "ValueError",
     "evalue": "x cannot be negative",
     "output_type": "error",
     "traceback": [
      "\u001b[31m---------------------------------------------------------------------------\u001b[39m",
      "\u001b[31mValueError\u001b[39m                                Traceback (most recent call last)",
      "\u001b[36mCell\u001b[39m\u001b[36m \u001b[39m\u001b[32mIn[21]\u001b[39m\u001b[32m, line 3\u001b[39m\n\u001b[32m      1\u001b[39m x = -\u001b[32m1\u001b[39m\n\u001b[32m      2\u001b[39m \u001b[38;5;28;01mif\u001b[39;00m x < \u001b[32m0\u001b[39m:\n\u001b[32m----> \u001b[39m\u001b[32m3\u001b[39m     \u001b[38;5;28;01mraise\u001b[39;00m \u001b[38;5;167;01mValueError\u001b[39;00m(\u001b[33m\"\u001b[39m\u001b[33mx cannot be negative\u001b[39m\u001b[33m\"\u001b[39m)\n",
      "\u001b[31mValueError\u001b[39m: x cannot be negative"
     ]
    }
   ],
   "source": [
    "x = -1\n",
    "if x < 0:\n",
    "    raise ValueError(\"x cannot be negative\")"
   ]
  },
  {
   "cell_type": "markdown",
   "id": "89a21a79",
   "metadata": {},
   "source": [
    "### <b> Other Variations and Advanced Constructs </b>\n"
   ]
  },
  {
   "cell_type": "markdown",
   "id": "b79878fc",
   "metadata": {},
   "source": [
    "> > <b> Ternary Operator (Conditional Expression) </b>\n",
    "\n",
    "A shorthand for simple if-else, often used in assignments.\n"
   ]
  },
  {
   "cell_type": "code",
   "execution_count": 4,
   "id": "60d25e4d",
   "metadata": {},
   "outputs": [
    {
     "name": "stdout",
     "output_type": "stream",
     "text": [
      "Greater\n"
     ]
    }
   ],
   "source": [
    "x = 10\n",
    "result = \"Greater\" if x > 5 else \"Not greater\"  # result = \"Greater\"\n",
    "print(result)"
   ]
  },
  {
   "cell_type": "markdown",
   "id": "0dd6af67",
   "metadata": {},
   "source": [
    "> > <b> Nested loops </b>\n",
    "\n",
    "Loops inside loops, e.g., for matrix processing.\n"
   ]
  },
  {
   "cell_type": "code",
   "execution_count": 22,
   "id": "7d8612ca",
   "metadata": {},
   "outputs": [
    {
     "name": "stdout",
     "output_type": "stream",
     "text": [
      "i=0, j=0\n",
      "i=0, j=1\n",
      "i=1, j=0\n",
      "i=1, j=1\n",
      "i=2, j=0\n",
      "i=2, j=1\n"
     ]
    }
   ],
   "source": [
    "for i in range(3):\n",
    "    for j in range(2):\n",
    "        print(f\"i={i}, j={j}\")\n",
    "# Output: i=0,j=0; i=0,j=1; i=1,j=0; etc."
   ]
  },
  {
   "cell_type": "markdown",
   "id": "c431233d",
   "metadata": {},
   "source": [
    "> > <b> else clause in loops </b>\n",
    "\n",
    "Executes if the loop completes without interruption (no break).\n"
   ]
  },
  {
   "cell_type": "code",
   "execution_count": 23,
   "id": "6f94ed79",
   "metadata": {},
   "outputs": [
    {
     "name": "stdout",
     "output_type": "stream",
     "text": [
      "0\n",
      "1\n",
      "2\n",
      "3\n",
      "4\n",
      "Loop completed normally\n"
     ]
    }
   ],
   "source": [
    "for i in range(5):\n",
    "    print(i)\n",
    "else:\n",
    "    print(\"Loop completed normally\")  # This runs after the loop"
   ]
  },
  {
   "cell_type": "markdown",
   "id": "f3d9fcfd",
   "metadata": {},
   "source": [
    "> > <b> List/Dict/Set Comprehensions </b>\n",
    "\n",
    "Concise ways to create collections with implicit loops and conditions.\n"
   ]
  },
  {
   "cell_type": "code",
   "execution_count": 12,
   "id": "18589458",
   "metadata": {},
   "outputs": [
    {
     "name": "stdout",
     "output_type": "stream",
     "text": [
      "[0, 4, 16]\n",
      "{0, 16, 4}\n",
      "{0, 16, 4}\n"
     ]
    }
   ],
   "source": [
    "squares = [x**2 for x in range(5) if x % 2 == 0]  # [0, 4, 16]\n",
    "print(squares)\n",
    "\n",
    "squares = {x**2 for x in range(5) if x % 2 ==0} \n",
    "print(squares)\n",
    "\n",
    "squares = [x**2 for x in range(5) if x % 2 == 0]\n",
    "print(set(squares))"
   ]
  },
  {
   "cell_type": "markdown",
   "id": "498ae977",
   "metadata": {},
   "source": [
    "> > <b> Generator Expressions </b>\n",
    "\n",
    "Lazy evaluation for memory efficiency.\n"
   ]
  },
  {
   "cell_type": "code",
   "execution_count": 25,
   "id": "b8b4a89f",
   "metadata": {},
   "outputs": [
    {
     "name": "stdout",
     "output_type": "stream",
     "text": [
      "0\n",
      "1\n",
      "4\n",
      "9\n",
      "16\n"
     ]
    }
   ],
   "source": [
    "gen = (x**2 for x in range(5))\n",
    "for val in gen:\n",
    "    print(val)  # 0 1 4 9 16 (one at a time)"
   ]
  },
  {
   "cell_type": "markdown",
   "id": "44033158",
   "metadata": {},
   "source": [
    "> > <b> match-case (Structural Pattern Matching) </b>\n",
    "\n",
    "Introduced in Python 3.10, a switch-like statement for pattern matching.\n"
   ]
  },
  {
   "cell_type": "code",
   "execution_count": 26,
   "id": "b94d4342",
   "metadata": {},
   "outputs": [
    {
     "name": "stdout",
     "output_type": "stream",
     "text": [
      "OK\n"
     ]
    }
   ],
   "source": [
    "def http_status(status):\n",
    "    match status:\n",
    "        case 200:\n",
    "            return \"OK\"\n",
    "        case 404:\n",
    "            return \"Not Found\"\n",
    "        case _:\n",
    "            return \"Unknown\"\n",
    "\n",
    "print(http_status(200))  # OK"
   ]
  },
  {
   "cell_type": "markdown",
   "id": "2fb09040",
   "metadata": {},
   "source": [
    "### <b> Comparison Table: Loops vs. Conditionals </b>\n",
    "\n",
    "| Aspect         | Conditional (if/elif/else)          | Looping (for/while)                       |\n",
    "| -------------- | ----------------------------------- | ----------------------------------------- |\n",
    "| Purpose        | Decision-making based on conditions | Repetition over sequences or conditions   |\n",
    "| Execution      | Once per evaluation                 | Multiple times until end condition        |\n",
    "| Variations     | Ternary operator, nested ifs        | Comprehensions, else clause, nested loops |\n",
    "| Control Alters | N/A                                 | break, continue, pass                     |\n",
    "| Examples       | Grade calculator                    | Summing list elements                     |\n"
   ]
  }
 ],
 "metadata": {
  "kernelspec": {
   "display_name": ".venv (3.13.1)",
   "language": "python",
   "name": "python3"
  },
  "language_info": {
   "codemirror_mode": {
    "name": "ipython",
    "version": 3
   },
   "file_extension": ".py",
   "mimetype": "text/x-python",
   "name": "python",
   "nbconvert_exporter": "python",
   "pygments_lexer": "ipython3",
   "version": "3.13.1"
  }
 },
 "nbformat": 4,
 "nbformat_minor": 5
}
