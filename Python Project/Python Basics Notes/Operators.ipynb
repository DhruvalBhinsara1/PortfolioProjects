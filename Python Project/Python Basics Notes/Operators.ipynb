{
 "cells": [
  {
   "cell_type": "markdown",
   "id": "6579e652-df40-4622-ba65-c96ed34aedd0",
   "metadata": {},
   "source": [
    "# Operators"
   ]
  },
  {
   "cell_type": "markdown",
   "id": "369c6999-ae4b-4535-a6a2-46e7fe890d19",
   "metadata": {},
   "source": [
    "## Types of Operators are\n",
    "\n",
    "* Arithmetic\n",
    "* Comparison\n",
    "* Logical\n",
    "* Assignment & Augmented Assignment\n",
    "* Bitwise\n",
    "* Membership\n",
    "* Identity\n",
    "* Matrix Multiplication\n"
   ]
  },
  {
   "cell_type": "markdown",
   "id": "62ecbd6f-4e36-46b2-b61b-13a73a5509c1",
   "metadata": {},
   "source": [
    "## a) Arithmetic Operators\n",
    "\n",
    "Used for performing mathematical operations, including floor division (`//`), modulus (`%`), exponentiation (`**`), unary `+/-`, parentheses, and operator precedence.\n"
   ]
  },
  {
   "cell_type": "markdown",
   "id": "2395ce2d-d40c-49fb-bbf7-b18fc532e835",
   "metadata": {},
   "source": [
    "### 1) + [Addition Operator]"
   ]
  },
  {
   "cell_type": "code",
   "execution_count": 1,
   "id": "c369d3c8-7725-4cd3-8f82-8b93c2405b47",
   "metadata": {},
   "outputs": [
    {
     "name": "stdout",
     "output_type": "stream",
     "text": [
      "7\n"
     ]
    }
   ],
   "source": [
    "print(5 + 2)"
   ]
  },
  {
   "cell_type": "markdown",
   "id": "8c909680-01bf-4a0b-a7d3-7628ede347e7",
   "metadata": {},
   "source": [
    "### 2) - [Subtraction Operator]"
   ]
  },
  {
   "cell_type": "code",
   "execution_count": 2,
   "id": "321badb6-21cf-4308-a0e7-a854c105129c",
   "metadata": {},
   "outputs": [
    {
     "name": "stdout",
     "output_type": "stream",
     "text": [
      "3\n"
     ]
    }
   ],
   "source": [
    "print(5 - 2)"
   ]
  },
  {
   "cell_type": "markdown",
   "id": "7a3f4e1a-c3c8-4c34-8224-1ff7163b67fc",
   "metadata": {},
   "source": [
    "### 3) * [Multiplication Operator]"
   ]
  },
  {
   "cell_type": "code",
   "execution_count": 3,
   "id": "425380cb-6bbf-42e2-8370-c78862063c5b",
   "metadata": {},
   "outputs": [
    {
     "name": "stdout",
     "output_type": "stream",
     "text": [
      "345\n"
     ]
    }
   ],
   "source": [
    "print(69 * 5)"
   ]
  },
  {
   "cell_type": "markdown",
   "id": "576b2982-b74f-4a4d-a5f4-5ffae941900d",
   "metadata": {},
   "source": [
    "### 4) / [Division Operator]"
   ]
  },
  {
   "cell_type": "code",
   "execution_count": 4,
   "id": "77715577-8d5e-4455-98a8-ea8e11b151aa",
   "metadata": {},
   "outputs": [
    {
     "name": "stdout",
     "output_type": "stream",
     "text": [
      "10.0\n"
     ]
    }
   ],
   "source": [
    "print(50 / 5)"
   ]
  },
  {
   "cell_type": "markdown",
   "id": "a1b8a343-40b6-4441-8ab9-01d83d7b8654",
   "metadata": {},
   "source": [
    "### 5) // [Floor Division Operator]"
   ]
  },
  {
   "cell_type": "code",
   "execution_count": 5,
   "id": "cc5f0f9a-7ad7-4557-9a7b-d9143f4a4ea3",
   "metadata": {},
   "outputs": [
    {
     "name": "stdout",
     "output_type": "stream",
     "text": [
      "1\n"
     ]
    }
   ],
   "source": [
    "print(10 // 9)"
   ]
  },
  {
   "cell_type": "markdown",
   "id": "5884c146-bf11-4c5d-9872-c6a8b852b17d",
   "metadata": {},
   "source": [
    "### 6) % [Modulus Operator]"
   ]
  },
  {
   "cell_type": "code",
   "execution_count": 6,
   "id": "67479dde-71b9-45e0-90dd-d8280cb1f4e3",
   "metadata": {},
   "outputs": [
    {
     "name": "stdout",
     "output_type": "stream",
     "text": [
      "5\n"
     ]
    }
   ],
   "source": [
    "print(50 % 9)"
   ]
  },
  {
   "cell_type": "markdown",
   "id": "21ddc1ad-0f0a-4102-a0d7-c47e3b8a12e8",
   "metadata": {},
   "source": [
    "### 7) ** [Exponentiation Operator]"
   ]
  },
  {
   "cell_type": "code",
   "execution_count": 7,
   "id": "0fa5d9f8-7b82-4760-ad7a-c875048b927c",
   "metadata": {},
   "outputs": [
    {
     "name": "stdout",
     "output_type": "stream",
     "text": [
      "25\n"
     ]
    }
   ],
   "source": [
    "print(5 ** 2)"
   ]
  },
  {
   "cell_type": "markdown",
   "id": "unique-id-001",
   "metadata": {},
   "source": [
    "### 8) Unary +/-[Unary Positive/Negative]"
   ]
  },
  {
   "cell_type": "code",
   "execution_count": 8,
   "id": "unique-id-002",
   "metadata": {},
   "outputs": [
    {
     "name": "stdout",
     "output_type": "stream",
     "text": [
      "5\n",
      "-5\n"
     ]
    }
   ],
   "source": [
    "print(+5)\n",
    "print(-5)"
   ]
  },
  {
   "cell_type": "markdown",
   "id": "unique-id-003",
   "metadata": {},
   "source": [
    "### 9) Parentheses & Precedence"
   ]
  },
  {
   "cell_type": "code",
   "execution_count": 9,
   "id": "unique-id-004",
   "metadata": {},
   "outputs": [
    {
     "name": "stdout",
     "output_type": "stream",
     "text": [
      "14\n",
      "20\n"
     ]
    }
   ],
   "source": [
    "print(2 + 3 * 4)  # Multiplication before addition\n",
    "print((2 + 3) * 4)  # Parentheses change precedence"
   ]
  },
  {
   "cell_type": "markdown",
   "id": "d5ca364c-e4e9-4f34-812c-a747e319a40d",
   "metadata": {},
   "source": [
    "## b) Comparison Operators\n",
    "\n",
    "Used for checking conditions, including chained comparisons.\n",
    "\n",
    "> 1. == (equal to)\n",
    "> 2. != (not equal to)\n",
    "> 3. > (greater than)\n",
    "> 4. < (less than)\n",
    "> 5. >= (greater than or equal to)\n",
    "> 6. <= (less than or equal to)\n",
    "\n",
    "These return boolean values (True/False) and support chaining (e.g., `1 < x < 10`)."
   ]
  },
  {
   "cell_type": "markdown",
   "id": "da28656c-dedc-4fd5-be66-434c9049a05c",
   "metadata": {},
   "source": [
    "### 1. == (Equal To)"
   ]
  },
  {
   "cell_type": "code",
   "execution_count": null,
   "id": "80038a21-a931-48e5-81d1-a30275a94cdf",
   "metadata": {},
   "outputs": [
    {
     "name": "stdout",
     "output_type": "stream",
     "text": [
      "False\n"
     ]
    }
   ],
   "source": [
    "print(1 == 2)"
   ]
  },
  {
   "cell_type": "markdown",
   "id": "d583cf21-6aca-4791-9681-ddabd8cf2bd2",
   "metadata": {},
   "source": [
    "### 2. != (Not Equal To)"
   ]
  },
  {
   "cell_type": "code",
   "execution_count": 11,
   "id": "unique-id-005",
   "metadata": {},
   "outputs": [
    {
     "name": "stdout",
     "output_type": "stream",
     "text": [
      "True\n"
     ]
    }
   ],
   "source": [
    "print(1 != 2)"
   ]
  },
  {
   "cell_type": "markdown",
   "id": "unique-id-006",
   "metadata": {},
   "source": [
    "### 3. > (Greater Than)"
   ]
  },
  {
   "cell_type": "code",
   "execution_count": 12,
   "id": "unique-id-007",
   "metadata": {},
   "outputs": [
    {
     "name": "stdout",
     "output_type": "stream",
     "text": [
      "True\n"
     ]
    }
   ],
   "source": [
    "print(5 > 2)"
   ]
  },
  {
   "cell_type": "markdown",
   "id": "unique-id-008",
   "metadata": {},
   "source": [
    "### 4. < (Less Than)"
   ]
  },
  {
   "cell_type": "code",
   "execution_count": 13,
   "id": "unique-id-009",
   "metadata": {},
   "outputs": [
    {
     "name": "stdout",
     "output_type": "stream",
     "text": [
      "False\n"
     ]
    }
   ],
   "source": [
    "print(5 < 2)"
   ]
  },
  {
   "cell_type": "markdown",
   "id": "unique-id-010",
   "metadata": {},
   "source": [
    "### 5. >= (Greater Than or Equal To)"
   ]
  },
  {
   "cell_type": "code",
   "execution_count": 14,
   "id": "unique-id-011",
   "metadata": {},
   "outputs": [
    {
     "name": "stdout",
     "output_type": "stream",
     "text": [
      "True\n"
     ]
    }
   ],
   "source": [
    "print(5 >= 5)"
   ]
  },
  {
   "cell_type": "markdown",
   "id": "unique-id-012",
   "metadata": {},
   "source": [
    "### 6. <= (Less Than or Equal To)"
   ]
  },
  {
   "cell_type": "code",
   "execution_count": 15,
   "id": "unique-id-013",
   "metadata": {},
   "outputs": [
    {
     "name": "stdout",
     "output_type": "stream",
     "text": [
      "True\n"
     ]
    }
   ],
   "source": [
    "print(2 <= 5)"
   ]
  },
  {
   "cell_type": "markdown",
   "id": "unique-id-014",
   "metadata": {},
   "source": [
    "### 7) Chained Comparisons"
   ]
  },
  {
   "cell_type": "code",
   "execution_count": 16,
   "id": "unique-id-015",
   "metadata": {},
   "outputs": [
    {
     "name": "stdout",
     "output_type": "stream",
     "text": [
      "True\n",
      "False\n"
     ]
    }
   ],
   "source": [
    "x = 5\n",
    "print(1 < x < 10)  # Chained comparison\n",
    "print(1 < x > 10)  # Chained with different outcomes"
   ]
  },
  {
   "cell_type": "markdown",
   "id": "unique-id-016",
   "metadata": {},
   "source": [
    "## c) Logical Operators\n",
    "\n",
    "Used to combine conditional statements, with short-circuit evaluation demos.\n",
    "\n",
    "> 1. and (Logical AND)\n",
    "> 2. or (Logical OR)\n",
    "> 3. not (Logical NOT)\n",
    "\n",
    "These return boolean values and support short-circuiting."
   ]
  },
  {
   "cell_type": "markdown",
   "id": "unique-id-017",
   "metadata": {},
   "source": [
    "### 1. and (Logical AND)"
   ]
  },
  {
   "cell_type": "code",
   "execution_count": 17,
   "id": "unique-id-018",
   "metadata": {},
   "outputs": [
    {
     "name": "stdout",
     "output_type": "stream",
     "text": [
      "True\n"
     ]
    }
   ],
   "source": [
    "print(5 > 2 and 3 < 4)"
   ]
  },
  {
   "cell_type": "markdown",
   "id": "unique-id-019",
   "metadata": {},
   "source": [
    "### 2. or (Logical OR) - Short-Circuit Demo"
   ]
  },
  {
   "cell_type": "code",
   "execution_count": 18,
   "id": "unique-id-020",
   "metadata": {},
   "outputs": [
    {
     "name": "stdout",
     "output_type": "stream",
     "text": [
      "True\n"
     ]
    }
   ],
   "source": [
    "def side_effect():\n",
    "    print(10)\n",
    "    return True\n",
    "print(5 > 2 or side_effect())  # Short-circuits, side_effect not called"
   ]
  },
  {
   "cell_type": "markdown",
   "id": "unique-id-021",
   "metadata": {},
   "source": [
    "### 3. not (Logical NOT)"
   ]
  },
  {
   "cell_type": "code",
   "execution_count": 19,
   "id": "unique-id-022",
   "metadata": {},
   "outputs": [
    {
     "name": "stdout",
     "output_type": "stream",
     "text": [
      "False\n"
     ]
    }
   ],
   "source": [
    "print(not 5 > 2)"
   ]
  },
  {
   "cell_type": "markdown",
   "id": "unique-id-023",
   "metadata": {},
   "source": [
    "## d) Assignment & Augmented Assignment\n",
    "\n",
    "Used to assign values or modify them in place.\n",
    "\n",
    "> 1. = (Assign)\n",
    "> 2. += (Add and Assign)\n",
    "> 3. -= (Subtract and Assign)\n",
    "> 4. *= (Multiply and Assign)\n",
    "> 5. /= (Divide and Assign)\n",
    "> 6. //= (Floor Divide and Assign)\n",
    "> 7. %= (Modulus and Assign)\n",
    "> 8. **= (Exponent and Assign)\n",
    "> 9. &= (Bitwise AND and Assign)\n",
    "> 10. |= (Bitwise OR and Assign)\n",
    "> 11. ^= (Bitwise XOR and Assign)\n",
    "> 12. <<= (Left Shift and Assign)\n",
    "> 13. >>= (Right Shift and Assign)"
   ]
  },
  {
   "cell_type": "markdown",
   "id": "unique-id-024",
   "metadata": {},
   "source": [
    "### 1. = (Assign)"
   ]
  },
  {
   "cell_type": "code",
   "execution_count": 20,
   "id": "unique-id-025",
   "metadata": {},
   "outputs": [
    {
     "name": "stdout",
     "output_type": "stream",
     "text": [
      "10\n"
     ]
    }
   ],
   "source": [
    "x = 10\n",
    "print(x)"
   ]
  },
  {
   "cell_type": "markdown",
   "id": "unique-id-026",
   "metadata": {},
   "source": [
    "### 2. += (Add and Assign)"
   ]
  },
  {
   "cell_type": "code",
   "execution_count": 21,
   "id": "unique-id-027",
   "metadata": {},
   "outputs": [
    {
     "name": "stdout",
     "output_type": "stream",
     "text": [
      "15\n"
     ]
    }
   ],
   "source": [
    "x = 10\n",
    "x += 5\n",
    "print(x)"
   ]
  },
  {
   "cell_type": "markdown",
   "id": "unique-id-028",
   "metadata": {},
   "source": [
    "### 3. -= (Subtract and Assign)"
   ]
  },
  {
   "cell_type": "code",
   "execution_count": 22,
   "id": "unique-id-029",
   "metadata": {},
   "outputs": [
    {
     "name": "stdout",
     "output_type": "stream",
     "text": [
      "7\n"
     ]
    }
   ],
   "source": [
    "x = 10\n",
    "x -= 3\n",
    "print(x)"
   ]
  },
  {
   "cell_type": "markdown",
   "id": "unique-id-030",
   "metadata": {},
   "source": [
    "### 4. *= (Multiply and Assign)"
   ]
  },
  {
   "cell_type": "code",
   "execution_count": 23,
   "id": "unique-id-031",
   "metadata": {},
   "outputs": [
    {
     "name": "stdout",
     "output_type": "stream",
     "text": [
      "20\n"
     ]
    }
   ],
   "source": [
    "x = 10\n",
    "x *= 2\n",
    "print(x)"
   ]
  },
  {
   "cell_type": "markdown",
   "id": "unique-id-032",
   "metadata": {},
   "source": [
    "### 5. /= (Divide and Assign)"
   ]
  },
  {
   "cell_type": "code",
   "execution_count": 24,
   "id": "unique-id-033",
   "metadata": {},
   "outputs": [
    {
     "name": "stdout",
     "output_type": "stream",
     "text": [
      "5.0\n"
     ]
    }
   ],
   "source": [
    "x = 10\n",
    "x /= 2\n",
    "print(x)"
   ]
  },
  {
   "cell_type": "markdown",
   "id": "unique-id-034",
   "metadata": {},
   "source": [
    "### 6. //= (Floor Divide and Assign)"
   ]
  },
  {
   "cell_type": "code",
   "execution_count": 25,
   "id": "unique-id-035",
   "metadata": {},
   "outputs": [
    {
     "name": "stdout",
     "output_type": "stream",
     "text": [
      "3\n"
     ]
    }
   ],
   "source": [
    "x = 10\n",
    "x //= 3\n",
    "print(x)"
   ]
  },
  {
   "cell_type": "markdown",
   "id": "unique-id-036",
   "metadata": {},
   "source": [
    "### 7. %= (Modulus and Assign)"
   ]
  },
  {
   "cell_type": "code",
   "execution_count": 26,
   "id": "unique-id-037",
   "metadata": {},
   "outputs": [
    {
     "name": "stdout",
     "output_type": "stream",
     "text": [
      "1\n"
     ]
    }
   ],
   "source": [
    "x = 10\n",
    "x %= 3\n",
    "print(x)"
   ]
  },
  {
   "cell_type": "markdown",
   "id": "unique-id-038",
   "metadata": {},
   "source": [
    "### 8. **= (Exponent and Assign)"
   ]
  },
  {
   "cell_type": "code",
   "execution_count": 27,
   "id": "unique-id-039",
   "metadata": {},
   "outputs": [
    {
     "name": "stdout",
     "output_type": "stream",
     "text": [
      "8\n"
     ]
    }
   ],
   "source": [
    "x = 2\n",
    "x **= 3\n",
    "print(x)"
   ]
  },
  {
   "cell_type": "markdown",
   "id": "unique-id-040",
   "metadata": {},
   "source": [
    "### 9. &= (Bitwise AND and Assign)"
   ]
  },
  {
   "cell_type": "code",
   "execution_count": 28,
   "id": "unique-id-041",
   "metadata": {},
   "outputs": [
    {
     "name": "stdout",
     "output_type": "stream",
     "text": [
      "0\n"
     ]
    }
   ],
   "source": [
    "x = 5  # Binary: 0101\n",
    "x &= 2  # Binary: 0010\n",
    "print(x)  # Result: 0 (0000)"
   ]
  },
  {
   "cell_type": "markdown",
   "id": "unique-id-042",
   "metadata": {},
   "source": [
    "### 10. |= (Bitwise OR and Assign)"
   ]
  },
  {
   "cell_type": "code",
   "execution_count": 29,
   "id": "unique-id-043",
   "metadata": {},
   "outputs": [
    {
     "name": "stdout",
     "output_type": "stream",
     "text": [
      "7\n"
     ]
    }
   ],
   "source": [
    "x = 5  # Binary: 0101\n",
    "x |= 2  # Binary: 0010\n",
    "print(x)  # Result: 7 (0111)"
   ]
  },
  {
   "cell_type": "markdown",
   "id": "unique-id-044",
   "metadata": {},
   "source": [
    "### 11. ^= (Bitwise XOR and Assign)"
   ]
  },
  {
   "cell_type": "code",
   "execution_count": 30,
   "id": "unique-id-045",
   "metadata": {},
   "outputs": [
    {
     "name": "stdout",
     "output_type": "stream",
     "text": [
      "7\n"
     ]
    }
   ],
   "source": [
    "x = 5  # Binary: 0101\n",
    "x ^= 2  # Binary: 0010\n",
    "print(x)  # Result: 7 (0111)"
   ]
  },
  {
   "cell_type": "markdown",
   "id": "unique-id-046",
   "metadata": {},
   "source": [
    "### 12. <<= (Left Shift and Assign)"
   ]
  },
  {
   "cell_type": "code",
   "execution_count": 31,
   "id": "unique-id-047",
   "metadata": {},
   "outputs": [
    {
     "name": "stdout",
     "output_type": "stream",
     "text": [
      "20\n"
     ]
    }
   ],
   "source": [
    "x = 5  # Binary: 0101\n",
    "x <<= 2  # Shift left by 2\n",
    "print(x)  # Result: 20 (10100)"
   ]
  },
  {
   "cell_type": "markdown",
   "id": "unique-id-048",
   "metadata": {},
   "source": [
    "### 13. >>= (Right Shift and Assign)"
   ]
  },
  {
   "cell_type": "code",
   "execution_count": 32,
   "id": "unique-id-049",
   "metadata": {},
   "outputs": [
    {
     "name": "stdout",
     "output_type": "stream",
     "text": [
      "1\n"
     ]
    }
   ],
   "source": [
    "x = 5  # Binary: 0101\n",
    "x >>= 2  # Shift right by 2\n",
    "print(x)  # Result: 1 (0001)"
   ]
  },
  {
   "cell_type": "markdown",
   "id": "unique-id-050",
   "metadata": {},
   "source": [
    "## e) Bitwise Operators\n",
    "\n",
    "Operate on binary representations of integers.\n",
    "\n",
    "> 1. & (Bitwise AND)\n",
    "> 2. | (Bitwise OR)\n",
    "> 3. ^ (Bitwise XOR)\n",
    "> 4. ~ (Bitwise NOT)\n",
    "> 5. << (Left Shift)\n",
    "> 6. >> (Right Shift)"
   ]
  },
  {
   "cell_type": "markdown",
   "id": "unique-id-051",
   "metadata": {},
   "source": [
    "### 1. & (Bitwise AND)"
   ]
  },
  {
   "cell_type": "code",
   "execution_count": 33,
   "id": "unique-id-052",
   "metadata": {},
   "outputs": [
    {
     "name": "stdout",
     "output_type": "stream",
     "text": [
      "0\n"
     ]
    }
   ],
   "source": [
    "print(5 & 2)  # 0101 & 0010 = 0000"
   ]
  },
  {
   "cell_type": "markdown",
   "id": "unique-id-053",
   "metadata": {},
   "source": [
    "### 2. | (Bitwise OR)"
   ]
  },
  {
   "cell_type": "code",
   "execution_count": 34,
   "id": "unique-id-054",
   "metadata": {},
   "outputs": [
    {
     "name": "stdout",
     "output_type": "stream",
     "text": [
      "7\n"
     ]
    }
   ],
   "source": [
    "print(5 | 2)  # 0101 | 0010 = 0111"
   ]
  },
  {
   "cell_type": "markdown",
   "id": "unique-id-055",
   "metadata": {},
   "source": [
    "### 3. ^ (Bitwise XOR)"
   ]
  },
  {
   "cell_type": "code",
   "execution_count": 35,
   "id": "unique-id-056",
   "metadata": {},
   "outputs": [
    {
     "name": "stdout",
     "output_type": "stream",
     "text": [
      "7\n"
     ]
    }
   ],
   "source": [
    "print(5 ^ 2)  # 0101 ^ 0010 = 0111"
   ]
  },
  {
   "cell_type": "markdown",
   "id": "unique-id-057",
   "metadata": {},
   "source": [
    "### 4. ~ (Bitwise NOT)"
   ]
  },
  {
   "cell_type": "code",
   "execution_count": 36,
   "id": "unique-id-058",
   "metadata": {},
   "outputs": [
    {
     "name": "stdout",
     "output_type": "stream",
     "text": [
      "-6\n"
     ]
    }
   ],
   "source": [
    "print(~5)  # ~0101 = -0110 (two's complement)"
   ]
  },
  {
   "cell_type": "markdown",
   "id": "unique-id-059",
   "metadata": {},
   "source": [
    "### 5. << (Left Shift)"
   ]
  },
  {
   "cell_type": "code",
   "execution_count": 37,
   "id": "unique-id-060",
   "metadata": {},
   "outputs": [
    {
     "name": "stdout",
     "output_type": "stream",
     "text": [
      "20\n"
     ]
    }
   ],
   "source": [
    "print(5 << 2)  # 0101 << 2 = 10100"
   ]
  },
  {
   "cell_type": "markdown",
   "id": "unique-id-061",
   "metadata": {},
   "source": [
    "### 6. >> (Right Shift)"
   ]
  },
  {
   "cell_type": "code",
   "execution_count": 38,
   "id": "unique-id-062",
   "metadata": {},
   "outputs": [
    {
     "name": "stdout",
     "output_type": "stream",
     "text": [
      "1\n"
     ]
    }
   ],
   "source": [
    "print(5 >> 2)  # 0101 >> 2 = 0001"
   ]
  },
  {
   "cell_type": "markdown",
   "id": "unique-id-063",
   "metadata": {},
   "source": [
    "## f) Membership Operators\n",
    "\n",
    "Test for membership in sequences (e.g., lists, strings).\n",
    "\n",
    "> 1. in\n",
    "> 2. not in"
   ]
  },
  {
   "cell_type": "markdown",
   "id": "unique-id-064",
   "metadata": {},
   "source": [
    "### 1. in"
   ]
  },
  {
   "cell_type": "code",
   "execution_count": 39,
   "id": "unique-id-065",
   "metadata": {},
   "outputs": [
    {
     "name": "stdout",
     "output_type": "stream",
     "text": [
      "True\n"
     ]
    }
   ],
   "source": [
    "print(3 in [1, 2, 3, 4])"
   ]
  },
  {
   "cell_type": "markdown",
   "id": "unique-id-066",
   "metadata": {},
   "source": [
    "### 2. not in"
   ]
  },
  {
   "cell_type": "code",
   "execution_count": 40,
   "id": "unique-id-067",
   "metadata": {},
   "outputs": [
    {
     "name": "stdout",
     "output_type": "stream",
     "text": [
      "True\n"
     ]
    }
   ],
   "source": [
    "print(5 not in [1, 2, 3, 4])"
   ]
  },
  {
   "cell_type": "markdown",
   "id": "unique-id-068",
   "metadata": {},
   "source": [
    "## g) Identity Operators\n",
    "\n",
    "Compare object identities (memory location) vs. value equality (`==`). **Caution**: `is` checks identity, not value; use `==` for value comparison.\n",
    "\n",
    "> 1. is\n",
    "> 2. is not"
   ]
  },
  {
   "cell_type": "markdown",
   "id": "unique-id-069",
   "metadata": {},
   "source": [
    "### 1. is"
   ]
  },
  {
   "cell_type": "code",
   "execution_count": 41,
   "id": "unique-id-070",
   "metadata": {},
   "outputs": [
    {
     "name": "stdout",
     "output_type": "stream",
     "text": [
      "True\n",
      "False\n"
     ]
    }
   ],
   "source": [
    "x = y = [1, 2, 3]z = [1, 2, 3]\n",
    "print(x is y)  # Same object\n",
    "print(x is z)  # Different objects"
   ]
  },
  {
   "cell_type": "markdown",
   "id": "unique-id-071",
   "metadata": {},
   "source": [
    "### 2. is not"
   ]
  },
  {
   "cell_type": "code",
   "execution_count": 42,
   "id": "unique-id-072",
   "metadata": {},
   "outputs": [
    {
     "name": "stdout",
     "output_type": "stream",
     "text": [
      "True\n",
      "False\n"
     ]
    }
   ],
   "source": [
    "x = [1, 2, 3]\n",
    "y = [1, 2, 3]\n",
    "print(x is not y)  # Different objects\n",
    "print(x != y)  # Same values, different objects"
   ]
  },
  {
   "cell_type": "markdown",
   "id": "unique-id-073",
   "metadata": {},
   "source": [
    "## h) Matrix Multiplication\n",
    "\n",
    "Performs matrix multiplication using `@` and `@=` with NumPy support (if available).\n"
   ]
  },
  {
   "cell_type": "markdown",
   "id": "22539839",
   "metadata": {},
   "source": []
  },
  {
   "cell_type": "markdown",
   "id": "unique-id-074",
   "metadata": {},
   "source": [
    "### 1. @ (Matrix Multiplication)"
   ]
  },
  {
   "cell_type": "code",
   "execution_count": 43,
   "id": "unique-id-075",
   "metadata": {},
   "outputs": [
    {
     "name": "stdout",
     "output_type": "stream",
     "text": [
      "Trying NumPy for matrix multiplication...\n",
      "[[10 13]\n",
      " [22 29]]\n"
     ]
    }
   ],
   "source": [
    "try:\n",
    "    import numpy as np\n",
    "    print(\"Trying NumPy for matrix multiplication...\")\n",
    "    a = np.array([[1, 2], [3, 4]])\n",
    "    b = np.array([[2, 3], [4, 5]])\n",
    "    print(a @ b)\n",
    "except ImportError:\n",
    "    print(\"NumPy not available, using basic Python multiplication.\")\n",
    "    # Fallback for basic Python (not true matrix multiplication)\n",
    "    x = 2\n",
    "    y = 3\n",
    "    print(x * y)"
   ]
  },
  {
   "cell_type": "markdown",
   "id": "unique-id-076",
   "metadata": {},
   "source": [
    "### 2. @= (Matrix Multiplication and Assign)"
   ]
  },
  {
   "cell_type": "code",
   "execution_count": 44,
   "id": "unique-id-077",
   "metadata": {},
   "outputs": [
    {
     "name": "stdout",
     "output_type": "stream",
     "text": [
      "Trying NumPy for matrix multiplication...\n",
      "[[10 13]\n",
      " [22 29]]\n"
     ]
    }
   ],
   "source": [
    "try:\n",
    "    import numpy as np\n",
    "    print(\"Trying NumPy for matrix multiplication...\")\n",
    "    a = np.array([[1, 2], [3, 4]])\n",
    "    b = np.array([[2, 3], [4, 5]])\n",
    "    a @= b\n",
    "    print(a)\n",
    "except ImportError:\n",
    "    print(\"NumPy not available, skipping @= demonstration.\")"
   ]
  }
 ],
 "metadata": {
  "kernelspec": {
   "display_name": "Python 3 (ipykernel)",
   "language": "python",
   "name": "python3"
  },
  "language_info": {
   "codemirror_mode": {
    "name": "ipython",
    "version": 3
   },
   "file_extension": ".py",
   "mimetype": "text/x-python",
   "name": "python",
   "nbconvert_exporter": "python",
   "pygments_lexer": "ipython3",
   "version": "3.13.5"
  },
  "widgets": {
   "application/vnd.jupyter.widget-state+json": {
    "state": {},
    "version_major": 2,
    "version_minor": 0
   }
  }
 },
 "nbformat": 4,
 "nbformat_minor": 5
}
