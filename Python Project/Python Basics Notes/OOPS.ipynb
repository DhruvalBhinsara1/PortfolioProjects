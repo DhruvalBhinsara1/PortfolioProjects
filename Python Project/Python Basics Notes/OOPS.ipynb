{
 "cells": [
  {
   "cell_type": "markdown",
   "id": "82dd8230",
   "metadata": {},
   "source": [
    "# Object-Oriented Programming (OOP) in Python"
   ]
  },
  {
   "cell_type": "markdown",
   "id": "1b12b053",
   "metadata": {},
   "source": [
    "Object-Oriented Programming is a programming paradigm that uses objects and classes. Python supports OOP and allows you to create reusable and organized code."
   ]
  },
  {
   "cell_type": "markdown",
   "id": "968ade21",
   "metadata": {},
   "source": [
    "## Classes and Objects"
   ]
  },
  {
   "cell_type": "markdown",
   "id": "31032a4f",
   "metadata": {},
   "source": [
    "A class is a blueprint for creating objects. An object is an instance of a class."
   ]
  },
  {
   "cell_type": "code",
   "execution_count": null,
   "id": "d04eea67",
   "metadata": {},
   "outputs": [],
   "source": [
    "# Defining a class\n",
    "class Dog:\n",
    "    # Constructor\n",
    "    def __init__(self, name, age):\n",
    "        self.name = name\n",
    "        self.age = age\n",
    "    \n",
    "    # Method\n",
    "    def bark(self):\n",
    "        return f\"{self.name} says Woof!\"\n",
    "\n",
    "# Creating objects\n",
    "dog1 = Dog(\"Buddy\", 3)\n",
    "dog2 = Dog(\"Max\", 5)\n",
    "\n",
    "print(dog1.bark())\n",
    "print(dog2.bark())"
   ]
  },
  {
   "cell_type": "markdown",
   "id": "84690fae",
   "metadata": {},
   "source": [
    "## Attributes and Methods"
   ]
  },
  {
   "cell_type": "markdown",
   "id": "0509c614",
   "metadata": {},
   "source": [
    "Attributes are variables that belong to a class. Methods are functions that belong to a class."
   ]
  },
  {
   "cell_type": "code",
   "execution_count": null,
   "id": "25826e23",
   "metadata": {},
   "outputs": [],
   "source": [
    "class Car:\n",
    "    def __init__(self, make, model, year):\n",
    "        self.make = make\n",
    "        self.model = model\n",
    "        self.year = year\n",
    "        self.mileage = 0\n",
    "    \n",
    "    def drive(self, miles):\n",
    "        self.mileage += miles\n",
    "        return f\"Driven {miles} miles. Total mileage: {self.mileage}\"\n",
    "    \n",
    "    def get_info(self):\n",
    "        return f\"{self.year} {self.make} {self.model}, Mileage: {self.mileage}\"\n",
    "\n",
    "my_car = Car(\"Toyota\", \"Camry\", 2020)\n",
    "print(my_car.get_info())\n",
    "print(my_car.drive(100))\n",
    "print(my_car.get_info())"
   ]
  },
  {
   "cell_type": "markdown",
   "id": "d04772b6",
   "metadata": {},
   "source": [
    "## Inheritance"
   ]
  },
  {
   "cell_type": "markdown",
   "id": "0dd93b6f",
   "metadata": {},
   "source": [
    "Inheritance allows a class to inherit attributes and methods from another class."
   ]
  },
  {
   "cell_type": "code",
   "execution_count": null,
   "id": "9bb67a37",
   "metadata": {},
   "outputs": [],
   "source": [
    "# Parent class\n",
    "class Animal:\n",
    "    def __init__(self, name):\n",
    "        self.name = name\n",
    "    \n",
    "    def speak(self):\n",
    "        return \"Some sound\"\n",
    "\n",
    "# Child class\n",
    "class Cat(Animal):\n",
    "    def speak(self):\n",
    "        return f\"{self.name} says Meow!\"\n",
    "\n",
    "class Dog(Animal):\n",
    "    def speak(self):\n",
    "        return f\"{self.name} says Woof!\"\n",
    "\n",
    "cat = Cat(\"Whiskers\")\n",
    "dog = Dog(\"Buddy\")\n",
    "\n",
    "print(cat.speak())\n",
    "print(dog.speak())"
   ]
  },
  {
   "cell_type": "markdown",
   "id": "f3c12e1c",
   "metadata": {},
   "source": [
    "## Polymorphism"
   ]
  },
  {
   "cell_type": "markdown",
   "id": "23000c21",
   "metadata": {},
   "source": [
    "Polymorphism allows methods to have the same name but different implementations."
   ]
  },
  {
   "cell_type": "code",
   "execution_count": null,
   "id": "ea2f5388",
   "metadata": {},
   "outputs": [],
   "source": [
    "# Using the same method name with different behavior\n",
    "animals = [Cat(\"Whiskers\"), Dog(\"Buddy\"), Animal(\"Unknown\")]\n",
    "\n",
    "for animal in animals:\n",
    "    print(animal.speak())"
   ]
  },
  {
   "cell_type": "markdown",
   "id": "ade6e44b",
   "metadata": {},
   "source": [
    "## Encapsulation"
   ]
  },
  {
   "cell_type": "markdown",
   "id": "f0bc6518",
   "metadata": {},
   "source": [
    "Encapsulation hides the internal state of an object and requires access through methods."
   ]
  },
  {
   "cell_type": "code",
   "execution_count": null,
   "id": "ff4ba7fb",
   "metadata": {},
   "outputs": [],
   "source": [
    "class BankAccount:\n",
    "    def __init__(self, balance=0):\n",
    "        self.__balance = balance  # Private attribute\n",
    "    \n",
    "    def deposit(self, amount):\n",
    "        if amount > 0:\n",
    "            self.__balance += amount\n",
    "            return f\"Deposited ${amount}\"\n",
    "        return \"Invalid amount\"\n",
    "    \n",
    "    def withdraw(self, amount):\n",
    "        if 0 < amount <= self.__balance:\n",
    "            self.__balance -= amount\n",
    "            return f\"Withdrew ${amount}\"\n",
    "        return \"Insufficient funds or invalid amount\"\n",
    "    \n",
    "    def get_balance(self):\n",
    "        return f\"Balance: ${self.__balance}\"\n",
    "\n",
    "account = BankAccount(100)\n",
    "print(account.get_balance())\n",
    "print(account.deposit(50))\n",
    "print(account.withdraw(30))\n",
    "print(account.get_balance())\n",
    "# print(account.__balance)  # This would cause an error"
   ]
  },
  {
   "cell_type": "markdown",
   "id": "5071bb98",
   "metadata": {},
   "source": [
    "## Class and Static Methods"
   ]
  },
  {
   "cell_type": "markdown",
   "id": "b10dd87d",
   "metadata": {},
   "source": [
    "Class methods work with the class, while static methods don't need class or instance."
   ]
  },
  {
   "cell_type": "code",
   "execution_count": null,
   "id": "36c3de65",
   "metadata": {},
   "outputs": [],
   "source": [
    "class MathUtils:\n",
    "    @staticmethod\n",
    "    def add(a, b):\n",
    "        return a + b\n",
    "    \n",
    "    @classmethod\n",
    "    def description(cls):\n",
    "        return f\"This is {cls.__name__} class\"\n",
    "\n",
    "print(MathUtils.add(5, 3))\n",
    "print(MathUtils.description())"
   ]
  },
  {
   "cell_type": "markdown",
   "id": "2cd49b5e",
   "metadata": {},
   "source": [
    "## Special Methods (Dunder Methods)"
   ]
  },
  {
   "cell_type": "markdown",
   "id": "496470c7",
   "metadata": {},
   "source": [
    "Special methods like __str__, __repr__, __eq__ customize object behavior."
   ]
  },
  {
   "cell_type": "code",
   "execution_count": null,
   "id": "e150e8af",
   "metadata": {},
   "outputs": [],
   "source": [
    "class Point:\n",
    "    def __init__(self, x, y):\n",
    "        self.x = x\n",
    "        self.y = y\n",
    "    \n",
    "    def __str__(self):\n",
    "        return f\"Point({self.x}, {self.y})\"\n",
    "    \n",
    "    def __add__(self, other):\n",
    "        return Point(self.x + other.x, self.y + other.y)\n",
    "    \n",
    "    def __eq__(self, other):\n",
    "        return self.x == other.x and self.y == other.y\n",
    "\n",
    "p1 = Point(1, 2)\n",
    "p2 = Point(3, 4)\n",
    "p3 = p1 + p2\n",
    "\n",
    "print(p1)\n",
    "print(p3)\n",
    "print(p1 == Point(1, 2))"
   ]
  },
  {
   "cell_type": "markdown",
   "id": "74301ad3",
   "metadata": {},
   "source": [
    "## Multiple Inheritance"
   ]
  },
  {
   "cell_type": "markdown",
   "id": "39bd113b",
   "metadata": {},
   "source": [
    "A class can inherit from multiple parent classes."
   ]
  },
  {
   "cell_type": "code",
   "execution_count": null,
   "id": "7272f2f5",
   "metadata": {},
   "outputs": [],
   "source": [
    "class Flyable:\n",
    "    def fly(self):\n",
    "        return \"Flying high!\"\n",
    "\n",
    "class Swimmable:\n",
    "    def swim(self):\n",
    "        return \"Swimming fast!\"\n",
    "\n",
    "class Duck(Flyable, Swimmable):\n",
    "    def quack(self):\n",
    "        return \"Quack!\"\n",
    "\n",
    "duck = Duck()\n",
    "print(duck.fly())\n",
    "print(duck.swim())\n",
    "print(duck.quack())"
   ]
  },
  {
   "cell_type": "markdown",
   "id": "24c1a1a2",
   "metadata": {},
   "source": [
    "## Property Decorators"
   ]
  },
  {
   "cell_type": "markdown",
   "id": "284cc35a",
   "metadata": {},
   "source": [
    "Properties allow you to access methods like attributes."
   ]
  },
  {
   "cell_type": "code",
   "execution_count": null,
   "id": "d15b488a",
   "metadata": {},
   "outputs": [],
   "source": [
    "class Temperature:\n",
    "    def __init__(self, celsius):\n",
    "        self._celsius = celsius\n",
    "    \n",
    "    @property\n",
    "    def celsius(self):\n",
    "        return self._celsius\n",
    "    \n",
    "    @celsius.setter\n",
    "    def celsius(self, value):\n",
    "        if value < -273.15:\n",
    "            raise ValueError(\"Temperature can't be below absolute zero\")\n",
    "        self._celsius = value\n",
    "    \n",
    "    @property\n",
    "    def fahrenheit(self):\n",
    "        return (self._celsius * 9/5) + 32\n",
    "\n",
    "# Usage\n",
    "temp = Temperature(25)\n",
    "print(f\"Celsius: {temp.celsius}\")\n",
    "print(f\"Fahrenheit: {temp.fahrenheit}\")\n",
    "temp.celsius = 30\n",
    "print(f\"New Celsius: {temp.celsius}\")"
   ]
  },
  {
   "cell_type": "markdown",
   "id": "696b87e6",
   "metadata": {},
   "source": [
    "## Abstract Classes"
   ]
  },
  {
   "cell_type": "markdown",
   "id": "f6e00a23",
   "metadata": {},
   "source": [
    "Abstract classes cannot be instantiated and are meant to be subclassed. They can have abstract methods that must be implemented by subclasses."
   ]
  },
  {
   "cell_type": "code",
   "execution_count": null,
   "id": "9df5eafe",
   "metadata": {},
   "outputs": [],
   "source": [
    "from abc import ABC, abstractmethod\n",
    "\n",
    "class Shape(ABC):\n",
    "    @abstractmethod\n",
    "    def area(self):\n",
    "        pass\n",
    "    \n",
    "    @abstractmethod\n",
    "    def perimeter(self):\n",
    "        pass\n",
    "\n",
    "class Rectangle(Shape):\n",
    "    def __init__(self, width, height):\n",
    "        self.width = width\n",
    "        self.height = height\n",
    "    \n",
    "    def area(self):\n",
    "        return self.width * self.height\n",
    "    \n",
    "    def perimeter(self):\n",
    "        return 2 * (self.width + self.height)\n",
    "\n",
    "# shape = Shape()  # This would raise an error\n",
    "rect = Rectangle(5, 3)\n",
    "print(f\"Area: {rect.area()}\")\n",
    "print(f\"Perimeter: {rect.perimeter()}\")"
   ]
  },
  {
   "cell_type": "markdown",
   "id": "1ad7c2f7",
   "metadata": {},
   "source": [
    "## Advanced Examples"
   ]
  },
  {
   "cell_type": "markdown",
   "id": "19c9791f",
   "metadata": {},
   "source": [
    "### Library Management System Example"
   ]
  },
  {
   "cell_type": "code",
   "execution_count": null,
   "id": "14298047",
   "metadata": {},
   "outputs": [],
   "source": [
    "class Book:\n",
    "    def __init__(self, title, author, isbn):\n",
    "        self.title = title\n",
    "        self.author = author\n",
    "        self.isbn = isbn\n",
    "        self.is_available = True\n",
    "    \n",
    "    def __str__(self):\n",
    "        return f\"'{self.title}' by {self.author}\"\n",
    "\n",
    "class Member:\n",
    "    def __init__(self, name, member_id):\n",
    "        self.name = name\n",
    "        self.member_id = member_id\n",
    "        self.borrowed_books = []\n",
    "    \n",
    "    def borrow_book(self, book):\n",
    "        if book.is_available:\n",
    "            book.is_available = False\n",
    "            self.borrowed_books.append(book)\n",
    "            return f\"{self.name} borrowed {book}\"\n",
    "        return f\"{book} is not available\"\n",
    "    \n",
    "    def return_book(self, book):\n",
    "        if book in self.borrowed_books:\n",
    "            book.is_available = True\n",
    "            self.borrowed_books.remove(book)\n",
    "            return f\"{self.name} returned {book}\"\n",
    "        return f\"{self.name} doesn't have {book}\"\n",
    "\n",
    "class Library:\n",
    "    def __init__(self):\n",
    "        self.books = []\n",
    "        self.members = []\n",
    "    \n",
    "    def add_book(self, book):\n",
    "        self.books.append(book)\n",
    "    \n",
    "    def add_member(self, member):\n",
    "        self.members.append(member)\n",
    "    \n",
    "    def find_book(self, title):\n",
    "        for book in self.books:\n",
    "            if book.title.lower() == title.lower():\n",
    "                return book\n",
    "        return None\n",
    "\n",
    "# Usage\n",
    "library = Library()\n",
    "\n",
    "# Add books\n",
    "book1 = Book(\"1984\", \"George Orwell\", \"123456\")\n",
    "book2 = Book(\"To Kill a Mockingbird\", \"Harper Lee\", \"789012\")\n",
    "library.add_book(book1)\n",
    "library.add_book(book2)\n",
    "\n",
    "# Add member\n",
    "member = Member(\"Alice\", \"M001\")\n",
    "library.add_member(member)\n",
    "\n",
    "# Borrow and return books\n",
    "print(member.borrow_book(book1))\n",
    "print(member.borrow_book(book2))\n",
    "print(member.return_book(book1))\n",
    "print(f\"{member.name}'s borrowed books: {[str(book) for book in member.borrowed_books]}\")"
   ]
  },
  {
   "cell_type": "markdown",
   "id": "cdb4e5ee",
   "metadata": {},
   "source": [
    "### Simple Game Character Example"
   ]
  },
  {
   "cell_type": "code",
   "execution_count": null,
   "id": "74bb9772",
   "metadata": {},
   "outputs": [],
   "source": [
    "class Character:\n",
    "    def __init__(self, name, health=100):\n",
    "        self.name = name\n",
    "        self._health = health\n",
    "    \n",
    "    @property\n",
    "    def health(self):\n",
    "        return self._health\n",
    "    \n",
    "    @health.setter\n",
    "    def health(self, value):\n",
    "        self._health = max(0, min(100, value))\n",
    "    \n",
    "    def attack(self, target):\n",
    "        damage = 10\n",
    "        target.health -= damage\n",
    "        return f\"{self.name} attacks {target.name} for {damage} damage!\"\n",
    "    \n",
    "    def heal(self, amount):\n",
    "        self.health += amount\n",
    "        return f\"{self.name} heals for {amount} health.\"\n",
    "    \n",
    "    def __str__(self):\n",
    "        return f\"{self.name} (Health: {self.health})\"\n",
    "\n",
    "class Warrior(Character):\n",
    "    def __init__(self, name):\n",
    "        super().__init__(name, 120)  # Warriors have more health\n",
    "        self.armor = 20\n",
    "    \n",
    "    def defend(self):\n",
    "        return f\"{self.name} raises shield! Armor: {self.armor}\"\n",
    "\n",
    "class Mage(Character):\n",
    "    def __init__(self, name):\n",
    "        super().__init__(name, 80)  # Mages have less health\n",
    "        self.mana = 100\n",
    "    \n",
    "    def cast_spell(self, target):\n",
    "        if self.mana >= 20:\n",
    "            self.mana -= 20\n",
    "            damage = 25\n",
    "            target.health -= damage\n",
    "            return f\"{self.name} casts fireball on {target.name} for {damage} damage!\"\n",
    "        return f\"{self.name} doesn't have enough mana!\"\n",
    "\n",
    "# Game simulation\n",
    "warrior = Warrior(\"Conan\")\n",
    "mage = Mage(\"Merlin\")\n",
    "\n",
    "print(warrior)\n",
    "print(mage)\n",
    "print()\n",
    "print(warrior.attack(mage))\n",
    "print(mage.cast_spell(warrior))\n",
    "print(mage.heal(15))\n",
    "print(warrior.defend())\n",
    "print()\n",
    "print(warrior)\n",
    "print(mage)"
   ]
  }
 ],
 "metadata": {
  "language_info": {
   "name": "python"
  }
 },
 "nbformat": 4,
 "nbformat_minor": 5
}
