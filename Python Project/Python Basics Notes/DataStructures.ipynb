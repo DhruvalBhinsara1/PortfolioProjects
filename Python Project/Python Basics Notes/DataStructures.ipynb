{
 "cells": [
  {
   "cell_type": "markdown",
   "id": "58bfce06",
   "metadata": {},
   "source": [
    "---\n",
    "# Data Structures\n",
    "\n",
    "Data structures organize and store data efficiently. They are either built-in (like lists, tuples, dictionaries, sets) or user-defined (like stacks, queues, trees, graphs, linked lists). Choosing the right structure improves code performance and clarity.\n",
    "---\n"
   ]
  },
  {
   "cell_type": "markdown",
   "id": "2788dce3",
   "metadata": {},
   "source": [
    "## 1. Built-in Data Structures\n",
    "\n",
    "### **Lists**\n",
    "\n",
    "A **list** is a mutable, ordered sequence of elements. It is the most versatile built-in collection type in Python and can hold items of different data types.\n"
   ]
  },
  {
   "cell_type": "code",
   "execution_count": 1,
   "id": "ae791147",
   "metadata": {},
   "outputs": [
    {
     "name": "stdout",
     "output_type": "stream",
     "text": [
      "append(): ['a', 'b', 'c']\n",
      "extend(): [1, 2, 3, 4]\n",
      "insert(): ['a', 'e', 'i', 'o', 'u']\n",
      "Inserting multiple elements: [1, 2, 3, 4, 5, 6, 7]\n",
      "Removing multiple elements: [1, 2, 6]\n",
      "remove(): [1, 3, 2]\n",
      "pop(): Removed cherry, remaining: ['apple', 'banana']\n",
      "index(): The index is 1\n",
      "count(): The count is 3\n",
      "sort(): [1, 2, 5, 8]\n",
      "reverse(): ['c', 'b', 'a']\n",
      "copy(): Original: [1, 2, 3, 4], Copied: [1, 2, 3]\n",
      "clear(): []\n",
      "min(): 1, max(): 5\n",
      "Concatenation: [1, 2, 3, 4]\n"
     ]
    }
   ],
   "source": [
    "# append() adds a single element to the end of the list. Useful for growing your collection one item at a time.\n",
    "my_list = ['a', 'b']\n",
    "my_list.append('c')\n",
    "print(f\"append(): {my_list}\")\n",
    "\n",
    "# extend() adds all elements from another iterable to the end. Great for merging lists efficiently.\n",
    "list1 = [1, 2]\n",
    "list2 = [3, 4]\n",
    "list1.extend(list2)\n",
    "print(f\"extend(): {list1}\")\n",
    "\n",
    "# insert() adds an element at a specific index. Lets you place items exactly where you want them.\n",
    "vowels = ['a', 'e', 'i', 'u']\n",
    "vowels.insert(3, 'o')\n",
    "print(f\"insert(): {vowels}\")\n",
    "\n",
    "# Slicing can insert multiple elements at once. Handy for batch updates in the middle of a list.\n",
    "my_list = [1, 2, 3, 6, 7]\n",
    "my_list[3:3] = [4, 5]\n",
    "print(f\"Inserting multiple elements: {my_list}\")\n",
    "\n",
    "# del with slicing removes multiple elements. Useful for deleting a range of items quickly.\n",
    "my_list = [1, 2, 3, 4, 5, 6]\n",
    "del my_list[2:5]\n",
    "print(f\"Removing multiple elements: {my_list}\")\n",
    "\n",
    "# remove() deletes the first occurrence of a value. Only the first match is removed.\n",
    "numbers = [1, 2, 3, 2]\n",
    "numbers.remove(2)\n",
    "print(f\"remove(): {numbers}\")\n",
    "\n",
    "# pop() removes and returns an element (default: last). Lets you work with and remove items at any position.\n",
    "fruits = ['apple', 'banana', 'cherry']\n",
    "last_fruit = fruits.pop()\n",
    "print(f\"pop(): Removed {last_fruit}, remaining: {fruits}\")\n",
    "\n",
    "# index() returns the index of the first occurrence. Useful for locating items in a list.\n",
    "letters = ['d', 'e', 'f', 'e']\n",
    "index_of_e = letters.index('e')\n",
    "print(f\"index(): The index is {index_of_e}\")\n",
    "\n",
    "# count() returns the number of occurrences. Helps you tally up repeated values.\n",
    "numbers = [1, 2, 2, 3, 2]\n",
    "count_of_2 = numbers.count(2)\n",
    "print(f\"count(): The count is {count_of_2}\")\n",
    "\n",
    "# sort() sorts the list in place. Arranges items in ascending order for easy searching.\n",
    "unsorted_list = [5, 2, 8, 1]\n",
    "unsorted_list.sort()\n",
    "print(f\"sort(): {unsorted_list}\")\n",
    "\n",
    "# reverse() reverses the list in place. Flips the order of items for quick reordering.\n",
    "my_list = ['a', 'b', 'c']\n",
    "my_list.reverse()\n",
    "print(f\"reverse(): {my_list}\")\n",
    "\n",
    "# copy() returns a shallow copy of the list. Useful for duplicating lists without affecting the original.\n",
    "original = [1, 2, 3]\n",
    "copied = original.copy()\n",
    "original.append(4)\n",
    "print(f\"copy(): Original: {original}, Copied: {copied}\")\n",
    "\n",
    "# clear() removes all elements from the list. Empties the list for reuse.\n",
    "my_list = [1, 2, 3]\n",
    "my_list.clear()\n",
    "print(f\"clear(): {my_list}\")\n",
    "\n",
    "# min() and max() find the minimum and maximum values. Quickly identify extremes in your data.\n",
    "nums = [3, 1, 4, 1, 5]\n",
    "min_val = min(nums)\n",
    "max_val = max(nums)\n",
    "print(f\"min(): {min_val}, max(): {max_val}\")\n",
    "\n",
    "# + concatenates lists. Combines two lists into one for larger collections.\n",
    "list_a = [1, 2]\n",
    "list_b = [3, 4]\n",
    "concatenated = list_a + list_b\n",
    "print(f\"Concatenation: {concatenated}\")\n"
   ]
  },
  {
   "cell_type": "markdown",
   "id": "84f6ebcf",
   "metadata": {},
   "source": [
    "---\n"
   ]
  },
  {
   "cell_type": "markdown",
   "id": "1b053092",
   "metadata": {},
   "source": [
    "### **Tuples**\n",
    "\n",
    "A **tuple** is an immutable, ordered sequence. Its primary advantage is that its contents cannot be changed after creation, making it ideal for data that should remain constant. They are also slightly more memory-efficient than lists.\n"
   ]
  },
  {
   "cell_type": "code",
   "execution_count": 2,
   "id": "e30778c2",
   "metadata": {},
   "outputs": [
    {
     "name": "stdout",
     "output_type": "stream",
     "text": [
      "count(): The count is 2\n",
      "index(): The index is 1\n",
      "Concatenating tuples: (1, 2, 3, 4)\n",
      "Repetition: (1, 2, 1, 2, 1, 2)\n",
      "Unpacking: a=1, b=2, c=3\n"
     ]
    }
   ],
   "source": [
    "# count() returns the number of times a value appears in the tuple. Useful for checking frequency.\n",
    "my_tuple = (1, 2, 3, 2, 4)\n",
    "count_of_2 = my_tuple.count(2)\n",
    "print(f\"count(): The count is {count_of_2}\")\n",
    "\n",
    "# index() returns the index of the first occurrence. Helps you locate values in a tuple.\n",
    "coordinates = (10, 20, 30)\n",
    "index_of_20 = coordinates.index(20)\n",
    "print(f\"index(): The index is {index_of_20}\")\n",
    "\n",
    "# + concatenates tuples. Joins two tuples into one sequence.\n",
    "tuple1 = (1, 2)\n",
    "tuple2 = (3, 4)\n",
    "combined = tuple1 + tuple2\n",
    "print(f\"Concatenating tuples: {combined}\")\n",
    "\n",
    "# * repeats the tuple. Creates a longer tuple by repeating its contents.\n",
    "repeated = (1, 2) * 3\n",
    "print(f\"Repetition: {repeated}\")\n",
    "\n",
    "# Unpacking assigns tuple elements to variables. Makes it easy to extract values.\n",
    "a, b, c = (1, 2, 3)\n",
    "print(f\"Unpacking: a={a}, b={b}, c={c}\")"
   ]
  },
  {
   "cell_type": "markdown",
   "id": "1f78298f",
   "metadata": {},
   "source": [
    "---\n"
   ]
  },
  {
   "cell_type": "markdown",
   "id": "855429dd",
   "metadata": {},
   "source": [
    "### **Dictionaries**\n",
    "\n",
    "A **dictionary** is an unordered collection of unique key-value pairs. It provides extremely fast lookups, insertions, and deletions (average time complexity of O(1)).\n"
   ]
  },
  {
   "cell_type": "code",
   "execution_count": 32,
   "id": "efd29bdd",
   "metadata": {},
   "outputs": [
    {
     "name": "stdout",
     "output_type": "stream",
     "text": [
      "get(): The value is 0\n",
      "pop(): Removed grade: 90, Remaining: {'Science': 85}\n",
      "popitem(): Removed item: ('c', 3), Remaining: {'a': 1, 'b': 2}\n",
      "update(): {'name': 'Alice', 'age': 31, 'city': 'New York'}\n",
      "Merging dictionaries: {'a': 1, 'b': 2, 'c': 3}\n",
      "setdefault(): {'a': 1, 'b': 2}, returned: 2\n",
      "fromkeys(): {'x': 0, 'y': 0, 'z': 0}\n",
      "keys(): ['one', 'two']\n",
      "values(): [1, 2]\n",
      "items(): [('one', 1), ('two', 2)]\n",
      "clear(): {}\n",
      "Dhruval\n",
      "Kartik\n",
      "Ryzen 9 5900HX\n"
     ]
    }
   ],
   "source": [
    "# get() returns the value for a key, or a default if the key is missing. Prevents KeyError and makes lookups safer.\n",
    "my_dict = {'a': 1, 'b': 2}\n",
    "value = my_dict.get('c', 0)\n",
    "print(f\"get(): The value is {value}\")\n",
    "\n",
    "# pop() removes and returns the value for a specified key. Lets you extract and delete items in one step.\n",
    "grades = {'Math': 90, 'Science': 85}\n",
    "math_grade = grades.pop('Math')\n",
    "print(f\"pop(): Removed grade: {math_grade}, Remaining: {grades}\")\n",
    "\n",
    "# popitem() removes and returns the last key-value pair. Useful for treating dicts like stacks.\n",
    "my_dict = {'a': 1, 'b': 2, 'c': 3}\n",
    "item = my_dict.popitem()\n",
    "print(f\"popitem(): Removed item: {item}, Remaining: {my_dict}\")\n",
    "\n",
    "# update() merges another dictionary into this one. Efficient way to add or overwrite multiple entries.\n",
    "user = {'name': 'Alice', 'age': 30}\n",
    "updates = {'age': 31, 'city': 'New York'}\n",
    "user.update(updates)\n",
    "print(f\"update(): {user}\")\n",
    "\n",
    "# ** merges multiple dictionaries. Combines several dicts into one for unified data.\n",
    "dict1 = {'a': 1}\n",
    "dict2 = {'b': 2}\n",
    "dict3 = {'c': 3}\n",
    "merged = {**dict1, **dict2, **dict3}\n",
    "print(f\"Merging dictionaries: {merged}\")\n",
    "\n",
    "# setdefault() sets a default value if the key is missing, and returns the value. Good for initializing keys.\n",
    "my_dict = {'a': 1}\n",
    "value = my_dict.setdefault('b', 2)\n",
    "print(f\"setdefault(): {my_dict}, returned: {value}\")\n",
    "\n",
    "# fromkeys() creates a new dictionary from keys with a default value. Fast way to initialize multiple keys.\n",
    "keys = ['x', 'y', 'z']\n",
    "new_dict = dict.fromkeys(keys, 0)\n",
    "print(f\"fromkeys(): {new_dict}\")\n",
    "\n",
    "# keys() returns a view of the dictionary's keys. Lets you iterate or check membership easily.\n",
    "data = {'one': 1, 'two': 2}\n",
    "all_keys = data.keys()\n",
    "print(f\"keys(): {list(all_keys)}\")\n",
    "\n",
    "# values() returns a view of the dictionary's values. Useful for processing all values at once.\n",
    "all_values = data.values()\n",
    "print(f\"values(): {list(all_values)}\")\n",
    "\n",
    "# items() returns a view of key-value pairs. Ideal for looping through both keys and values.\n",
    "all_items = data.items()\n",
    "print(f\"items(): {list(all_items)}\")\n",
    "\n",
    "# clear() removes all key-value pairs. Empties the dictionary for reuse.\n",
    "my_dict = {'a': 1, 'b': 2}\n",
    "my_dict.clear()\n",
    "print(f\"clear(): {my_dict}\")\n",
    "\n",
    "dict = {\"Name\" : \"Dhruval\" , \"Age\" : 19, \"City\": \"Surat\"}\n",
    "print(dict[\"Name\"])\n",
    "\n",
    "dict = {\"Name\" : [\"Dhruval\",\"Kartik\", \"Nirlipta\", \"Kanika\" ,\"Amogh\" , \"Om\"], \"Team Name\": \"ScriptMasters\"}\n",
    "\n",
    "my_spec = { \"Name\" : [\"Dhruval\",\"Kartik\", \"Nirlipta\", \"Kanika\" ,\"Amogh\" , \"Om\"] ,\n",
    "            \"laptop\" :{\"CPU\": \"Ryzen 9 5900HX\", \"RAM\": \"16GB\", \"Storage\": \"1TB SSD\", \"GPU\": \"AMD Radeon RX 6800M\", \"Display\": \"15.6 inch 165Hz\", \"OS\": \"Windows 11 Home\", \"Battery\": \"99Wh\", \"Weight\": \"2.4kg\" , \"Price\": \"₹1,54,990\"}}\n",
    "\n",
    "print(my_spec[\"Name\"][1])\n",
    "print(my_spec[\"laptop\"][\"CPU\"])"
   ]
  },
  {
   "cell_type": "markdown",
   "id": "0509db66",
   "metadata": {},
   "source": [
    "---\n"
   ]
  },
  {
   "cell_type": "markdown",
   "id": "3bbe3d2c",
   "metadata": {},
   "source": [
    "### **Sets**\n",
    "\n",
    "A **set** is an unordered collection of unique, immutable elements. It is highly optimized for checking for membership and performing mathematical set operations like unions and intersections.\n"
   ]
  },
  {
   "cell_type": "code",
   "execution_count": 4,
   "id": "13280433",
   "metadata": {},
   "outputs": [
    {
     "name": "stdout",
     "output_type": "stream",
     "text": [
      "add(): {1, 2, 3, 4}\n",
      "update(): {1, 2, 3, 4}\n",
      "remove(): {1, 3}\n",
      "discard(): {1, 2, 3}\n",
      "pop(): Removed 1, Remaining: {2, 3}\n",
      "union(): {1, 2, 3, 4}\n",
      "intersection(): {3}\n",
      "difference(): {1, 2}\n",
      "Symmetric difference: {1, 2, 4, 6, 7}\n",
      "symmetric_difference(): {1, 2, 4, 5}\n",
      "isdisjoint(): True\n",
      "issubset(): True\n",
      "issuperset(): True\n",
      "clear(): set()\n",
      "Initial set: {1, 'B', 5}\n",
      "After discard('B'): {1, 5}\n",
      "A: {1, 2, 3, 4, 5}\n",
      "B: {4, 5, 6}\n",
      "Intersection of A and B: {4, 5}\n",
      "Difference of A and B (A - B): {1, 2, 3}\n",
      "Symmetric difference of A and B: {1, 2, 3, 6}\n",
      "Frozenset: frozenset({1, 2, 3})\n"
     ]
    }
   ],
   "source": [
    "# add() inserts a single element into the set. Sets only keep unique values.\n",
    "my_set = {1, 2, 3}\n",
    "my_set.add(4)\n",
    "print(f\"add(): {my_set}\")\n",
    "\n",
    "# update() adds all elements from an iterable. Efficient for merging sets or lists.\n",
    "set1 = {1, 2}\n",
    "set1.update([3, 4, 2])\n",
    "print(f\"update(): {set1}\")\n",
    "\n",
    "# remove() deletes an element, raises KeyError if not found. Use when you know the item exists.\n",
    "my_set = {1, 2, 3}\n",
    "my_set.remove(2)\n",
    "print(f\"remove(): {my_set}\")\n",
    "\n",
    "# discard() deletes an element, does nothing if not found. Safe for uncertain membership.\n",
    "my_set = {1, 2, 3}\n",
    "my_set.discard(4)\n",
    "print(f\"discard(): {my_set}\")\n",
    "\n",
    "# pop() removes and returns an arbitrary element. Useful for processing all items one by one.\n",
    "my_set = {1, 2, 3}\n",
    "item = my_set.pop()\n",
    "print(f\"pop(): Removed {item}, Remaining: {my_set}\")\n",
    "\n",
    "# union() returns a new set with elements from both sets. Combines sets without duplicates.\n",
    "set1 = {1, 2}\n",
    "set2 = {3, 4}\n",
    "new_set = set1.union(set2)\n",
    "print(f\"union(): {new_set}\")\n",
    "\n",
    "# intersection() returns a new set with common elements. Finds shared values between sets.\n",
    "set1 = {1, 2, 3}\n",
    "set2 = {3, 4, 5}\n",
    "intersect_set = set1.intersection(set2)\n",
    "print(f\"intersection(): {intersect_set}\")\n",
    "\n",
    "# difference() returns elements in the first set not in the second. Filters out unwanted items.\n",
    "set1 = {1, 2, 3}\n",
    "set2 = {3, 4, 5}\n",
    "diff_set = set1.difference(set2)\n",
    "print(f\"difference(): {diff_set}\")\n",
    "\n",
    "# ^ returns symmetric difference for multiple sets. Shows items not shared by all sets.\n",
    "set1 = {1, 2, 3}\n",
    "set2 = {3, 4, 5}\n",
    "set3 = {5, 6, 7}\n",
    "sym_diff = set1 ^ set2 ^ set3\n",
    "print(f\"Symmetric difference: {sym_diff}\")\n",
    "\n",
    "# symmetric_difference() returns elements in either set but not both. Highlights differences.\n",
    "set1 = {1, 2, 3}\n",
    "set2 = {3, 4, 5}\n",
    "sym_diff_method = set1.symmetric_difference(set2)\n",
    "print(f\"symmetric_difference(): {sym_diff_method}\")\n",
    "\n",
    "# isdisjoint() checks if two sets have no common elements. Useful for testing independence.\n",
    "set1 = {1, 2}\n",
    "set2 = {3, 4}\n",
    "is_disjoint = set1.isdisjoint(set2)\n",
    "print(f\"isdisjoint(): {is_disjoint}\")\n",
    "\n",
    "# issubset() checks if all items in one set are in another. Verifies containment.\n",
    "set1 = {1, 2}\n",
    "set2 = {1, 2, 3}\n",
    "is_subset = set1.issubset(set2)\n",
    "print(f\"issubset(): {is_subset}\")\n",
    "\n",
    "# issuperset() checks if all items from one set are in the original set. Confirms coverage.\n",
    "set1 = {1, 2, 3}\n",
    "set2 = {1, 2}\n",
    "is_superset = set1.issuperset(set2)\n",
    "print(f\"issuperset(): {is_superset}\")\n",
    "\n",
    "# clear() removes all elements from the set. Empties the set for reuse.\n",
    "my_set = {1, 2, 3}\n",
    "my_set.clear()\n",
    "print(f\"clear(): {my_set}\")\n",
    "\n",
    "\n",
    "#sets also allow mixed data types\n",
    "my_set = {1,'B',5}\n",
    "print(f\"Initial set: {my_set}\")\n",
    "\n",
    "\n",
    "# The discard() method removes an element from a set if it exists. If the element is not found, it does nothing and raises no error.\n",
    "my_set.discard('B')\n",
    "my_set.discard('X')  # 'X' is not in the set, but this won't raise an error\n",
    "print(f\"After discard('B'): {my_set}\")\n",
    "\n",
    "\n",
    "A = {1,2,3,4,5}\n",
    "B = {4,5,6}\n",
    "\n",
    "\n",
    "print(f\"A: {A}\")\n",
    "print(f\"B: {B}\")\n",
    "\n",
    "# The intersection() method returns a new set containing elements that are common to both sets.\n",
    "intersection = A.intersection(B)\n",
    "print(f\"Intersection of A and B: {intersection}\")\n",
    "# The difference() method returns a new set containing elements that are in the first set but not in the second.\n",
    "difference = A.difference(B)\n",
    "print(f\"Difference of A and B (A - B): {difference}\")\n",
    "\n",
    "# The symmetric_difference() method returns a new set containing elements that are in either of the sets but not in both.\n",
    "sym_diff = A.symmetric_difference(B)\n",
    "print(f\"Symmetric difference of A and B: {sym_diff}\")\n",
    "\n",
    "# Frozenset is an immutable version of a set. Once created, its elements cannot be changed, added, or removed.\n",
    "frozen = frozenset([1, 2, 3])\n",
    "print(f\"Frozenset: {frozen}\")"
   ]
  },
  {
   "cell_type": "markdown",
   "id": "4a32b48c",
   "metadata": {},
   "source": [
    "---\n"
   ]
  },
  {
   "cell_type": "markdown",
   "id": "1c1b7ca4",
   "metadata": {},
   "source": [
    "### **String**\n",
    "\n",
    "A **string** is an collection of all unicode characters.\n"
   ]
  },
  {
   "cell_type": "code",
   "execution_count": 5,
   "id": "a6d5328b",
   "metadata": {},
   "outputs": [
    {
     "name": "stdout",
     "output_type": "stream",
     "text": [
      "<class 'str'>\n",
      "A\n",
      "Z\n",
      "This is a string\n",
      "that spans multiple lines.\n",
      "ABC\n",
      "ABC\n",
      "DEFGHIJKLMNOPQRSTUVWXYZ\n",
      "ACEGIKMOQSUWY\n",
      "ZYXWVUTSRQPONMLKJIHGFEDCBA\n",
      "26\n",
      "ALMNM\n",
      "Hello, World!/b\n",
      " Hi, World!/b \n",
      "True\n",
      "False\n",
      "Hello World Hello World Hello World \n",
      "True\n",
      "False\n"
     ]
    }
   ],
   "source": [
    "alpha = \"ABCDEFGHIJKLMNOPQRSTUVWXYZ\"\n",
    "print(type(alpha))  # Output: <class 'str'>\n",
    "print(alpha[0])  # Output: 'A'\n",
    "print(alpha[25]) # Output: 'Z'\n",
    "\n",
    "multiline_string = \"\"\"This is a string\n",
    "that spans multiple lines.\"\"\"\n",
    "print(multiline_string)\n",
    "\n",
    "print(alpha[0:3])  # Output: 'ABC'\n",
    "print(alpha[:3])   # Output: 'ABC'\n",
    "print(alpha[3:])   # Output: 'DEFGHIJKLMNOPQRSTUVWXYZ'\n",
    "print(alpha[::2])  # Output: 'ACEGIKMOQSUWY'\n",
    "print(alpha[::-1]) # Output: 'ZYXWVUTSRQPONMLKJIHGFEDCBA'\n",
    "print(len(alpha))  # Output: 26\n",
    "\n",
    "#slicing out just ALMN\n",
    "print(alpha[0] + alpha[11:14] + alpha[12])\n",
    "\n",
    "\n",
    "my_str = \" Hello, World!/b \"\n",
    "\n",
    "print(my_str.strip())  # Removes leading/trailing whitespace\n",
    "\n",
    "print(my_str.replace(\"Hello\", \"Hi\").strip('!'))\n",
    "\n",
    "\n",
    "#starts with or ends with\n",
    "\n",
    "my_str = \" Hello, World!/b \"\n",
    "\n",
    "print(my_str.startswith(\" Hello\"))  \n",
    "print(my_str.endswith(\"/n \"))\n",
    "\n",
    "greeting = \"Hello \" + \"\" + \"World \"\n",
    "print(greeting*3)\n",
    "\n",
    "print(\"Hello \" in greeting)  # True\n",
    "print(\"Hi\" in greeting)     # False"
   ]
  },
  {
   "cell_type": "markdown",
   "id": "48d8835d",
   "metadata": {},
   "source": [
    "## 2. User-defined Data Structures\n",
    "\n",
    "### **Stacks**\n",
    "\n",
    "A **stack** is a linear data structure that follows the **LIFO** (Last-In, First-Out) principle. Think of a stack of plates—the last plate placed on top is the first one to be removed. Python's built-in `list` can easily function as a stack.\n"
   ]
  },
  {
   "cell_type": "code",
   "execution_count": 6,
   "id": "ea8e3b88",
   "metadata": {},
   "outputs": [
    {
     "name": "stdout",
     "output_type": "stream",
     "text": [
      "Current stack: ['A', 'B', 'C']\n",
      "Stack after pushing multiple: ['A', 'B', 'C', 'D', 'E']\n",
      "Popped item: E\n",
      "Stack after pop: ['A', 'B', 'C', 'D']\n"
     ]
    }
   ],
   "source": [
    "# Use a Python list as a stack. Stacks follow Last-In, First-Out (LIFO) order.\n",
    "my_stack = []\n",
    "\n",
    "# append() adds elements to the top of the stack (push operation).\n",
    "my_stack.append('A')\n",
    "my_stack.append('B')\n",
    "my_stack.append('C')\n",
    "print(\"Current stack:\", my_stack)\n",
    "\n",
    "# extend() can push multiple elements at once.\n",
    "my_stack.extend(['D', 'E'])\n",
    "print(\"Stack after pushing multiple:\", my_stack)\n",
    "\n",
    "# pop() removes and returns the top element (pop operation).\n",
    "popped_item = my_stack.pop()\n",
    "print(\"Popped item:\", popped_item)\n",
    "print(\"Stack after pop:\", my_stack)\n"
   ]
  },
  {
   "cell_type": "markdown",
   "id": "3f8a9f31",
   "metadata": {},
   "source": [
    "---\n"
   ]
  },
  {
   "cell_type": "markdown",
   "id": "89e24325",
   "metadata": {},
   "source": [
    "### **Queues**\n",
    "\n",
    "A **queue** is a linear data structure that follows the **FIFO** (First-In, First-Out) principle. This is like a line at a checkout counter where the first person in line is the first to be served. The `collections.deque` class is the most efficient way to implement a queue in Python.\n"
   ]
  },
  {
   "cell_type": "code",
   "execution_count": 7,
   "id": "7322aa1b",
   "metadata": {},
   "outputs": [
    {
     "name": "stdout",
     "output_type": "stream",
     "text": [
      "Current queue: deque(['A', 'B', 'C', 'D'])\n",
      "Queue after enqueuing multiple: deque(['A', 'B', 'C', 'D', 'E', 'F'])\n",
      "Dequeued item: A\n",
      "Queue after dequeue: deque(['B', 'C', 'D', 'E', 'F'])\n"
     ]
    }
   ],
   "source": [
    "from collections import deque\n",
    "\n",
    "# Use deque for queues. Queues follow First-In, First-Out (FIFO) order.\n",
    "my_queue = deque(['A', 'B', 'C'])\n",
    "\n",
    "# append() adds elements to the right end (enqueue operation).\n",
    "my_queue.append('D')\n",
    "print(\"Current queue:\", my_queue)\n",
    "\n",
    "# extend() can enqueue multiple elements at once.\n",
    "my_queue.extend(['E', 'F'])\n",
    "print(\"Queue after enqueuing multiple:\", my_queue)\n",
    "\n",
    "# popleft() removes and returns the leftmost element (dequeue operation).\n",
    "dequeued_item = my_queue.popleft()\n",
    "print(\"Dequeued item:\", dequeued_item)\n",
    "print(\"Queue after dequeue:\", my_queue)\n"
   ]
  },
  {
   "cell_type": "markdown",
   "id": "5494cd3b",
   "metadata": {},
   "source": [
    "---\n"
   ]
  },
  {
   "cell_type": "markdown",
   "id": "4f99e124",
   "metadata": {},
   "source": [
    "### **Graphs**\n",
    "\n",
    "A **graph** is a collection of nodes (vertices) and the connections (edges) between them. They are used to model complex networks, such as social networks, transportation maps, or the web. Graphs can be implemented using an adjacency list (a dictionary in Python).\n"
   ]
  },
  {
   "cell_type": "code",
   "execution_count": 8,
   "id": "9cc40147",
   "metadata": {},
   "outputs": [
    {
     "name": "stdout",
     "output_type": "stream",
     "text": [
      "Graph structure: {'A': ['B', 'C'], 'B': ['A', 'D'], 'C': ['A', 'D'], 'D': ['B', 'C']}\n",
      "Graph after adding a new vertex: {'A': ['B', 'C', 'E'], 'B': ['A', 'D'], 'C': ['A', 'D'], 'D': ['B', 'C'], 'E': ['A']}\n",
      "Graph after adding multiple edges: {'A': ['B', 'C', 'E', 'F', 'G'], 'B': ['A', 'D'], 'C': ['A', 'D'], 'D': ['B', 'C'], 'E': ['A'], 'F': ['A'], 'G': ['A']}\n"
     ]
    }
   ],
   "source": [
    "# Represent a graph using a dictionary (adjacency list). Each key is a node, values are lists of neighbors.\n",
    "graph = {\n",
    "    'A': ['B', 'C'],\n",
    "    'B': ['A', 'D'],\n",
    "    'C': ['A', 'D'],\n",
    "    'D': ['B', 'C']\n",
    "}\n",
    "print(\"Graph structure:\", graph)\n",
    "\n",
    "# Add a new vertex and connect it to an existing node.\n",
    "graph['E'] = ['A']\n",
    "graph['A'].append('E')\n",
    "print(\"Graph after adding a new vertex:\", graph)\n",
    "\n",
    "# Add multiple edges to a node. Useful for expanding connectivity.\n",
    "graph['A'].extend(['F', 'G'])\n",
    "graph['F'] = ['A']\n",
    "graph['G'] = ['A']\n",
    "print(\"Graph after adding multiple edges:\", graph)\n"
   ]
  },
  {
   "cell_type": "markdown",
   "id": "4a32b48e",
   "metadata": {},
   "source": [
    "---\n"
   ]
  },
  {
   "cell_type": "markdown",
   "id": "8d3e91d5",
   "metadata": {},
   "source": [
    "### **Trees**\n",
    "\n",
    "A **tree** is a non-linear, hierarchical data structure that consists of nodes connected by edges. It models a hierarchical relationship between data, where each node can have one parent and multiple children. Trees are widely used for tasks like file system organization and managing data in databases.\n"
   ]
  },
  {
   "cell_type": "code",
   "execution_count": 9,
   "id": "2d1f7c5a",
   "metadata": {},
   "outputs": [
    {
     "name": "stdout",
     "output_type": "stream",
     "text": [
      "Root node: A\n",
      "Left child of root: B\n",
      "Right child of root: C\n",
      "Left child of left child of root: D\n",
      "Right child of left child of root: E\n",
      "Left child of right child of root: F\n",
      "Right child of right child of root: G\n"
     ]
    }
   ],
   "source": [
    "# Define a binary tree node. Trees organize data hierarchically.\n",
    "class TreeNode:\n",
    "    def __init__(self, key):\n",
    "        self.key = key\n",
    "        self.left = None\n",
    "        self.right = None\n",
    "\n",
    "# Create a sample binary tree. Each node can have up to two children.\n",
    "root = TreeNode('A')\n",
    "root.left = TreeNode('B')\n",
    "root.right = TreeNode('C')\n",
    "root.left.left = TreeNode('D')\n",
    "root.left.right = TreeNode('E')\n",
    "root.right.left = TreeNode('F')\n",
    "root.right.right = TreeNode('G')\n",
    "\n",
    "print(f\"Root node: {root.key}\")\n",
    "print(f\"Left child of root: {root.left.key}\")\n",
    "print(f\"Right child of root: {root.right.key}\")\n",
    "\n",
    "print(f\"Left child of left child of root: {root.left.left.key}\")\n",
    "print(f\"Right child of left child of root: {root.left.right.key}\")\n",
    "print(f\"Left child of right child of root: {root.right.left.key}\")\n",
    "print(f\"Right child of right child of root: {root.right.right.key}\")\n"
   ]
  },
  {
   "cell_type": "markdown",
   "id": "6c4d7e90",
   "metadata": {},
   "source": [
    "---\n"
   ]
  },
  {
   "cell_type": "markdown",
   "id": "2b9f0d4b",
   "metadata": {},
   "source": [
    "### **Linked Lists**\n",
    "\n",
    "A **linked list** is a linear data structure where elements aren't stored at contiguous memory locations. Instead, each element (a **node**) contains the data and a reference to the next node in the sequence. This structure allows for efficient insertion and deletion of elements at any position, unlike arrays or lists that require shifting elements.\n"
   ]
  },
  {
   "cell_type": "code",
   "execution_count": 10,
   "id": "5e1a1b2c",
   "metadata": {},
   "outputs": [
    {
     "name": "stdout",
     "output_type": "stream",
     "text": [
      "Singly Linked List:\n",
      "A -> B -> C -> None\n",
      "Linked List after appending multiple:\n",
      "A -> B -> C -> D -> E -> F -> None\n",
      "Linked List after inserting 'X' at position 2:\n",
      "A -> B -> X -> C -> D -> E -> F -> None\n",
      "Linked List after deleting 'B':\n",
      "A -> X -> C -> D -> E -> F -> None\n"
     ]
    }
   ],
   "source": [
    "# Define a node for a singly linked list. Each node stores data and a reference to the next node.\n",
    "class Node:\n",
    "    def __init__(self, data):\n",
    "        self.data = data\n",
    "        self.next = None\n",
    "\n",
    "# LinkedList manages a sequence of nodes. Allows efficient insertions and deletions.\n",
    "class LinkedList:\n",
    "    def __init__(self):\n",
    "        self.head = None\n",
    "\n",
    "    # append() adds a node to the end of the list.\n",
    "    def append(self, data):\n",
    "        new_node = Node(data)\n",
    "        if not self.head:\n",
    "            self.head = new_node\n",
    "            return\n",
    "        last_node = self.head\n",
    "        while last_node.next:\n",
    "            last_node = last_node.next\n",
    "        last_node.next = new_node\n",
    "\n",
    "    # append_multiple() adds several nodes at once.\n",
    "    def append_multiple(self, data_list):\n",
    "        for data in data_list:\n",
    "            self.append(data)\n",
    "\n",
    "    # insert() adds a node at a specific position.\n",
    "    def insert(self, data, position):\n",
    "        new_node = Node(data)\n",
    "        if position == 0:\n",
    "            new_node.next = self.head\n",
    "            self.head = new_node\n",
    "            return\n",
    "        current = self.head\n",
    "        for i in range(position - 1):\n",
    "            if current is None:\n",
    "                raise IndexError(\"Position out of range\")\n",
    "            current = current.next\n",
    "        if current is None:\n",
    "            raise IndexError(\"Position out of range\")\n",
    "        new_node.next = current.next\n",
    "        current.next = new_node\n",
    "\n",
    "    # delete() removes the first node with the given data.\n",
    "    def delete(self, data):\n",
    "        if not self.head:\n",
    "            return\n",
    "        if self.head.data == data:\n",
    "            self.head = self.head.next\n",
    "            return\n",
    "        current = self.head\n",
    "        while current.next:\n",
    "            if current.next.data == data:\n",
    "                current.next = current.next.next\n",
    "                return\n",
    "            current = current.next\n",
    "\n",
    "    # print_list() displays all nodes in the list.\n",
    "    def print_list(self):\n",
    "        current_node = self.head\n",
    "        while current_node:\n",
    "            print(current_node.data, end=\" -> \")\n",
    "            current_node = current_node.next\n",
    "        print(\"None\")\n",
    "\n",
    "# Create and populate a linked list.\n",
    "my_linked_list = LinkedList()\n",
    "my_linked_list.append('A')\n",
    "my_linked_list.append('B')\n",
    "my_linked_list.append('C')\n",
    "print(\"Singly Linked List:\")\n",
    "my_linked_list.print_list()\n",
    "\n",
    "# Append multiple elements.\n",
    "my_linked_list.append_multiple(['D', 'E', 'F'])\n",
    "print(\"Linked List after appending multiple:\")\n",
    "my_linked_list.print_list()\n",
    "\n",
    "# Insert at a specific position.\n",
    "my_linked_list.insert('X', 2)\n",
    "print(\"Linked List after inserting 'X' at position 2:\")\n",
    "my_linked_list.print_list()\n",
    "\n",
    "# Delete an element by value.\n",
    "my_linked_list.delete('B')\n",
    "print(\"Linked List after deleting 'B':\")\n",
    "my_linked_list.print_list()"
   ]
  }
 ],
 "metadata": {
  "kernelspec": {
   "display_name": "base",
   "language": "python",
   "name": "python3"
  },
  "language_info": {
   "codemirror_mode": {
    "name": "ipython",
    "version": 3
   },
   "file_extension": ".py",
   "mimetype": "text/x-python",
   "name": "python",
   "nbconvert_exporter": "python",
   "pygments_lexer": "ipython3",
   "version": "3.13.5"
  }
 },
 "nbformat": 4,
 "nbformat_minor": 5
}
