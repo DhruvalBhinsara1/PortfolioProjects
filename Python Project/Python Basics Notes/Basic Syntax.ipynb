{
 "cells": [
  {
   "cell_type": "markdown",
   "id": "1cd02c7e-2dcb-4212-b9cf-ed6f8460cda2",
   "metadata": {},
   "source": [
    "# Basic Syntax"
   ]
  },
  {
   "cell_type": "code",
   "execution_count": 3,
   "id": "83ab5dcf-3fea-4e8e-9503-8dd89766aec5",
   "metadata": {},
   "outputs": [
    {
     "name": "stdout",
     "output_type": "stream",
     "text": [
      "20\n"
     ]
    }
   ],
   "source": [
    "x = 10\n",
    "\n",
    "y = \"10\"\n",
    "\n",
    "print(x+int(y))"
   ]
  },
  {
   "cell_type": "markdown",
   "id": "2b0b2412-beaa-45a7-813d-c9a6bd401e56",
   "metadata": {},
   "source": [
    "We don't need any {} to declare any block , or any main() to start the code."
   ]
  },
  {
   "cell_type": "code",
   "execution_count": 4,
   "id": "3701c99a-2bba-44b4-b052-17e4d388907d",
   "metadata": {},
   "outputs": [],
   "source": [
    "5+2 # this is an expression, same as what we call in maths\n",
    "\n",
    "x = 5+2  # this is a statement which is like a equation"
   ]
  },
  {
   "cell_type": "markdown",
   "id": "a644c6ef-742b-4fbd-b453-2ebdb19bdd5e",
   "metadata": {},
   "source": [
    "we don't have to declare the type of the variable everytime, as python is a dynamically typed language."
   ]
  },
  {
   "cell_type": "markdown",
   "id": "d0e1f2c7",
   "metadata": {},
   "source": [
    "## Comments"
   ]
  },
  {
   "cell_type": "markdown",
   "id": "15655896",
   "metadata": {},
   "source": [
    "Comments are used to explain code. Python ignores them. Use # for single-line comments."
   ]
  },
  {
   "cell_type": "code",
   "execution_count": null,
   "id": "78eb7ccd",
   "metadata": {},
   "outputs": [],
   "source": [
    "# This is a comment\n",
    "print(\"Hello\")  # This is also a comment"
   ]
  },
  {
   "cell_type": "markdown",
   "id": "6aa83096",
   "metadata": {},
   "source": [
    "## Indentation"
   ]
  },
  {
   "cell_type": "markdown",
   "id": "04f3a662",
   "metadata": {},
   "source": [
    "Python uses indentation to define code blocks. Use 4 spaces (or a tab) for each level."
   ]
  },
  {
   "cell_type": "code",
   "execution_count": null,
   "id": "d6fa389b",
   "metadata": {},
   "outputs": [],
   "source": [
    "if True:\n",
    "    print(\"Indented block\")\n",
    "    if 5 > 2:\n",
    "        print(\"Nested indentation\")"
   ]
  },
  {
   "cell_type": "markdown",
   "id": "d26fd0df",
   "metadata": {},
   "source": [
    "## Case Sensitivity"
   ]
  },
  {
   "cell_type": "markdown",
   "id": "8c738e0a",
   "metadata": {},
   "source": [
    "Python is case-sensitive. 'Variable' and 'variable' are different."
   ]
  },
  {
   "cell_type": "code",
   "execution_count": null,
   "id": "69b96a00",
   "metadata": {},
   "outputs": [],
   "source": [
    "name = \"Alice\"\n",
    "Name = \"Bob\"\n",
    "print(name)  # Alice\n",
    "print(Name)  # Bob"
   ]
  },
  {
   "cell_type": "markdown",
   "id": "2683ebe5",
   "metadata": {},
   "source": [
    "## Print Statements"
   ]
  },
  {
   "cell_type": "markdown",
   "id": "b84f15d1",
   "metadata": {},
   "source": [
    "Use print() to output text or variables to the console."
   ]
  },
  {
   "cell_type": "code",
   "execution_count": null,
   "id": "715661d7",
   "metadata": {},
   "outputs": [],
   "source": [
    "print(\"Hello, World!\")\n",
    "age = 25\n",
    "print(\"I am\", age, \"years old.\")\n",
    "print(f\"My age is {age}.\")  # f-string"
   ]
  },
  {
   "cell_type": "markdown",
   "id": "ac58063a",
   "metadata": {},
   "source": [
    "## Basic Operations"
   ]
  },
  {
   "cell_type": "markdown",
   "id": "79eabf55",
   "metadata": {},
   "source": [
    "Python supports arithmetic, comparison, and logical operations."
   ]
  },
  {
   "cell_type": "code",
   "execution_count": null,
   "id": "a27984c3",
   "metadata": {},
   "outputs": [],
   "source": [
    "# Arithmetic\n",
    "a = 10 + 5  # 15\n",
    "b = 10 - 5  # 5\n",
    "c = 10 * 5  # 50\n",
    "d = 10 / 5  # 2.0\n",
    "\n",
    "# Comparison\n",
    "result = 10 > 5  # True\n",
    "\n",
    "# Logical\n",
    "and_result = True and False  # False\n",
    "or_result = True or False    # True\n",
    "\n",
    "print(a, b, c, d, result, and_result, or_result)"
   ]
  },
  {
   "cell_type": "markdown",
   "id": "ee8d66d8",
   "metadata": {},
   "source": [
    "## Keywords"
   ]
  },
  {
   "cell_type": "markdown",
   "id": "dc1da279",
   "metadata": {},
   "source": [
    "Keywords are reserved words in Python that have special meanings. You cannot use them as variable names."
   ]
  },
  {
   "cell_type": "code",
   "execution_count": null,
   "id": "c596404d",
   "metadata": {},
   "outputs": [],
   "source": [
    "import keyword\n",
    "print(\"Python keywords:\", keyword.kwlist)"
   ]
  }
 ],
 "metadata": {
  "kernelspec": {
   "display_name": ".venv (3.13.1)",
   "language": "python",
   "name": "python3"
  },
  "language_info": {
   "codemirror_mode": {
    "name": "ipython",
    "version": 3
   },
   "file_extension": ".py",
   "mimetype": "text/x-python",
   "name": "python",
   "nbconvert_exporter": "python",
   "pygments_lexer": "ipython3",
   "version": "3.13.1"
  },
  "widgets": {
   "application/vnd.jupyter.widget-state+json": {
    "state": {},
    "version_major": 2,
    "version_minor": 0
   }
  }
 },
 "nbformat": 4,
 "nbformat_minor": 5
}
