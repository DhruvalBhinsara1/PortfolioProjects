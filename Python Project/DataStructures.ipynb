{
 "cells": [
  {
   "cell_type": "markdown",
   "id": "58bfce06",
   "metadata": {},
   "source": [
    "---\n",
    " # **Data Structures**\n",
    "\n",
    "**Data structures** are ways of organizing and storing data. They are classified as either **built-in** or **user-defined** and are essential for efficient programming.\n",
    "\n",
    "---"
   ]
  },
  {
   "cell_type": "markdown",
   "id": "2788dce3",
   "metadata": {},
   "source": [
    "## 1. Built-in Data Structures\n",
    "\n",
    "### **Lists**\n",
    "A **list** is a mutable, ordered sequence of elements. It is the most versatile built-in collection type in Python and can hold items of different data types."
   ]
  },
  {
   "cell_type": "code",
   "execution_count": null,
   "id": "ae791147",
   "metadata": {},
   "outputs": [],
   "source": [
    "# `append()`: Adds a single element to the end of the list.\n",
    "my_list = ['a', 'b']\n",
    "my_list.append('c')\n",
    "print(f\"append(): {my_list}\")\n",
    "\n",
    "# `extend()`: Adds all elements of an iterable to the end.\n",
    "list1 = [1, 2]\n",
    "list2 = [3, 4]\n",
    "list1.extend(list2)\n",
    "print(f\"extend(): {list1}\")\n",
    "\n",
    "# `insert()`: Inserts an element at a specific index.\n",
    "vowels = ['a', 'e', 'i', 'u']\n",
    "vowels.insert(3, 'o')\n",
    "print(f\"insert(): {vowels}\")\n",
    "\n",
    "# `remove()`: Removes the first occurrence of a value.\n",
    "numbers = [1, 2, 3, 2]\n",
    "numbers.remove(2)\n",
    "print(f\"remove(): {numbers}\")\n",
    "\n",
    "# `pop()`: Removes and returns an element at an index (default: last).\n",
    "fruits = ['apple', 'banana', 'cherry']\n",
    "last_fruit = fruits.pop()\n",
    "print(f\"pop(): Removed {last_fruit}, remaining: {fruits}\")\n",
    "\n",
    "# `index()`: Returns the index of the first occurrence of a value.\n",
    "letters = ['d', 'e', 'f', 'e']\n",
    "index_of_e = letters.index('e')\n",
    "print(f\"index(): The index is {index_of_e}\")\n",
    "\n",
    "# `count()`: Returns the number of occurrences of a value.\n",
    "numbers = [1, 2, 2, 3, 2]\n",
    "count_of_2 = numbers.count(2)\n",
    "print(f\"count(): The count is {count_of_2}\")\n",
    "\n",
    "# `sort()`: Sorts the list in place.\n",
    "unsorted_list = [5, 2, 8, 1]\n",
    "unsorted_list.sort()\n",
    "print(f\"sort(): {unsorted_list}\")\n",
    "\n",
    "# `reverse()`: Reverses the order of the list in place.\n",
    "my_list = ['a', 'b', 'c']\n",
    "my_list.reverse()\n",
    "print(f\"reverse(): {my_list}\")\n",
    "\n",
    "# `copy()`: Returns a shallow copy of the list.\n",
    "original = [1, 2, 3]\n",
    "copied = original.copy()\n",
    "original.append(4)\n",
    "print(f\"copy(): Original: {original}, Copied: {copied}\")\n",
    "\n",
    "# `clear()`: Removes all elements.\n",
    "my_list = [1, 2, 3]\n",
    "my_list.clear()\n",
    "print(f\"clear(): {my_list}\")"
   ]
  },
  {
   "cell_type": "markdown",
   "id": "84f6ebcf",
   "metadata": {},
   "source": [
    "---"
   ]
  },
  {
   "cell_type": "markdown",
   "id": "1b053092",
   "metadata": {},
   "source": [
    "### **Tuples**\n",
    "A **tuple** is an immutable, ordered sequence. Its primary advantage is that its contents cannot be changed after creation, making it ideal for data that should remain constant. They are also slightly more memory-efficient than lists."
   ]
  },
  {
   "cell_type": "code",
   "execution_count": null,
   "id": "e30778c2",
   "metadata": {},
   "outputs": [],
   "source": [
    "# `count()`: Returns the number of times a value appears.\n",
    "my_tuple = (1, 2, 3, 2, 4)\n",
    "count_of_2 = my_tuple.count(2)\n",
    "print(f\"count(): The count is {count_of_2}\")\n",
    "\n",
    "# `index()`: Returns the index of the first occurrence of a value.\n",
    "coordinates = (10, 20, 30)\n",
    "index_of_20 = coordinates.index(20)\n",
    "print(f\"index(): The index is {index_of_20}\")"
   ]
  },
  {
   "cell_type": "markdown",
   "id": "1f78298f",
   "metadata": {},
   "source": [
    "---"
   ]
  },
  {
   "cell_type": "markdown",
   "id": "855429dd",
   "metadata": {},
   "source": [
    "### **Dictionaries**\n",
    "A **dictionary** is an unordered collection of unique key-value pairs. It provides extremely fast lookups, insertions, and deletions (average time complexity of O(1))."
   ]
  },
  {
   "cell_type": "code",
   "execution_count": null,
   "id": "efd29bdd",
   "metadata": {},
   "outputs": [],
   "source": [
    "# `get()`: Returns the value for a key, or a default value if the key is not found.\n",
    "my_dict = {'a': 1, 'b': 2}\n",
    "value = my_dict.get('c', 0)\n",
    "print(f\"get(): The value is {value}\")\n",
    "\n",
    "# `pop()`: Removes and returns the value for a specified key.\n",
    "grades = {'Math': 90, 'Science': 85}\n",
    "math_grade = grades.pop('Math')\n",
    "print(f\"pop(): Removed grade: {math_grade}, Remaining: {grades}\")\n",
    "\n",
    "# `popitem()`: Removes and returns the last key-value pair.\n",
    "my_dict = {'a': 1, 'b': 2, 'c': 3}\n",
    "item = my_dict.popitem()\n",
    "print(f\"popitem(): Removed item: {item}, Remaining: {my_dict}\")\n",
    "\n",
    "# `update()`: Updates the dictionary with pairs from another dictionary.\n",
    "user = {'name': 'Alice', 'age': 30}\n",
    "updates = {'age': 31, 'city': 'New York'}\n",
    "user.update(updates)\n",
    "print(f\"update(): {user}\")\n",
    "\n",
    "# `keys()`: Returns a view object of the dictionary's keys.\n",
    "data = {'one': 1, 'two': 2}\n",
    "all_keys = data.keys()\n",
    "print(f\"keys(): {list(all_keys)}\")\n",
    "\n",
    "# `values()`: Returns a view object of the dictionary's values.\n",
    "all_values = data.values()\n",
    "print(f\"values(): {list(all_values)}\")\n",
    "\n",
    "# `items()`: Returns a view object of the dictionary's key-value pairs.\n",
    "all_items = data.items()\n",
    "print(f\"items(): {list(all_items)}\")\n",
    "\n",
    "# `clear()`: Removes all key-value pairs.\n",
    "my_dict = {'a': 1, 'b': 2}\n",
    "my_dict.clear()\n",
    "print(f\"clear(): {my_dict}\")"
   ]
  },
  {
   "cell_type": "markdown",
   "id": "0509db66",
   "metadata": {},
   "source": [
    "---"
   ]
  },
  {
   "cell_type": "markdown",
   "id": "7c233cf2",
   "metadata": {},
   "source": [
    "### **Sets**\n",
    "A **set** is an unordered collection of unique, immutable elements. It is highly optimized for checking for membership and performing mathematical set operations like unions and intersections."
   ]
  },
  {
   "cell_type": "code",
   "execution_count": null,
   "id": "13280433",
   "metadata": {},
   "outputs": [],
   "source": [
    "# `add()`: Adds a single element to the set.\n",
    "my_set = {1, 2, 3}\n",
    "my_set.add(4)\n",
    "print(f\"add(): {my_set}\")\n",
    "\n",
    "# `update()`: Adds all elements from an iterable to the set.\n",
    "set1 = {1, 2}\n",
    "set1.update([3, 4, 2])\n",
    "print(f\"update(): {set1}\")\n",
    "\n",
    "# `remove()`: Removes an element. Raises a KeyError if not found.\n",
    "my_set = {1, 2, 3}\n",
    "my_set.remove(2)\n",
    "print(f\"remove(): {my_set}\")\n",
    "\n",
    "# `discard()`: Removes an element. Does nothing if not found.\n",
    "my_set = {1, 2, 3}\n",
    "my_set.discard(4)\n",
    "print(f\"discard(): {my_set}\")\n",
    "\n",
    "# `pop()`: Removes and returns an arbitrary element.\n",
    "my_set = {1, 2, 3}\n",
    "item = my_set.pop()\n",
    "print(f\"pop(): Removed {item}, Remaining: {my_set}\")\n",
    "\n",
    "# `union()`: Returns a new set with elements from both sets.\n",
    "set1 = {1, 2}\n",
    "set2 = {3, 4}\n",
    "new_set = set1.union(set2)\n",
    "print(f\"union(): {new_set}\")\n",
    "\n",
    "# `intersection()`: Returns a new set with common elements.\n",
    "set1 = {1, 2, 3}\n",
    "set2 = {3, 4, 5}\n",
    "intersect_set = set1.intersection(set2)\n",
    "print(f\"intersection(): {intersect_set}\")\n",
    "\n",
    "# `difference()`: Returns a new set with elements from the first set not in the second.\n",
    "set1 = {1, 2, 3}\n",
    "set2 = {3, 4, 5}\n",
    "diff_set = set1.difference(set2)\n",
    "print(f\"difference(): {diff_set}\")\n",
    "\n",
    "# `issubset()`: Checks if all items in one set are in another.\n",
    "set1 = {1, 2}\n",
    "set2 = {1, 2, 3}\n",
    "is_subset = set1.issubset(set2)\n",
    "print(f\"issubset(): {is_subset}\")\n",
    "\n",
    "# `issuperset()`: Checks if all items from one set are in the original set.\n",
    "set1 = {1, 2, 3}\n",
    "set2 = {1, 2}\n",
    "is_superset = set1.issuperset(set2)\n",
    "print(f\"issuperset(): {is_superset}\")\n",
    "\n",
    "# `clear()`: Removes all elements.\n",
    "my_set = {1, 2, 3}\n",
    "my_set.clear()\n",
    "print(f\"clear(): {my_set}\")"
   ]
  },
  {
   "cell_type": "markdown",
   "id": "4a32b48c",
   "metadata": {},
   "source": [
    "---"
   ]
  },
  {
   "cell_type": "markdown",
   "id": "48d8835d",
   "metadata": {},
   "source": [
    "## 2. User-defined Data Structures\n",
    "\n",
    "### **Stacks**\n",
    "A **stack** is a linear data structure that follows the **LIFO** (Last-In, First-Out) principle. Think of a stack of plates—the last plate placed on top is the first one to be removed. Python's built-in `list` can easily function as a stack."
   ]
  },
  {
   "cell_type": "code",
   "execution_count": null,
   "id": "ea8e3b88",
   "metadata": {},
   "outputs": [],
   "source": [
    "# Using a Python list as a stack\n",
    "my_stack = []\n",
    "\n",
    "# <b>Push (add elements)</b>\n",
    "my_stack.append('A')\n",
    "my_stack.append('B')\n",
    "my_stack.append('C')\n",
    "\n",
    "print(\"Current stack:\", my_stack)\n",
    "\n",
    "# <b>Pop (remove elements)</b>\n",
    "popped_item = my_stack.pop()\n",
    "print(\"Popped item:\", popped_item)\n",
    "print(\"Stack after pop:\", my_stack)"
   ]
  },
  {
   "cell_type": "markdown",
   "id": "3f8a9f31",
   "metadata": {},
   "source": [
    "---"
   ]
  },
  {
   "cell_type": "markdown",
   "id": "89e24325",
   "metadata": {},
   "source": [
    "### **Queues**\n",
    "A **queue** is a linear data structure that follows the **FIFO** (First-In, First-Out) principle. This is like a line at a checkout counter where the first person in line is the first to be served. The `collections.deque` class is the most efficient way to implement a queue in Python."
   ]
  },
  {
   "cell_type": "code",
   "execution_count": null,
   "id": "7322aa1b",
   "metadata": {},
   "outputs": [],
   "source": [
    "from collections import deque\n",
    "\n",
    "# Using deque as a queue\n",
    "my_queue = deque(['A', 'B', 'C'])\n",
    "\n",
    "# <b>Enqueue (add to the right)</b>\n",
    "my_queue.append('D')\n",
    "print(\"Current queue:\", my_queue)\n",
    "\n",
    "# <b>Dequeue (remove from the left)</b>\n",
    "dequeued_item = my_queue.popleft()\n",
    "print(\"Dequeued item:\", dequeued_item)\n",
    "print(\"Queue after dequeue:\", my_queue)"
   ]
  },
  {
   "cell_type": "markdown",
   "id": "5494cd3b",
   "metadata": {},
   "source": [
    "---"
   ]
  },
  {
   "cell_type": "markdown",
   "id": "4f99e124",
   "metadata": {},
   "source": [
    "### **Graphs**\n",
    "A **graph** is a collection of nodes (vertices) and the connections (edges) between them. They are used to model complex networks, such as social networks, transportation maps, or the web. Graphs can be implemented using an adjacency list (a dictionary in Python)."
   ]
  },
  {
   "cell_type": "code",
   "execution_count": null,
   "id": "9cc40147",
   "metadata": {},
   "outputs": [],
   "source": [
    "# Using a dictionary to represent a graph (adjacency list)\n",
    "graph = {\n",
    "    'A': ['B', 'C'],\n",
    "    'B': ['A', 'D'],\n",
    "    'C': ['A', 'D'],\n",
    "    'D': ['B', 'C']\n",
    "}\n",
    "\n",
    "print(\"Graph structure:\", graph)\n",
    "\n",
    "# Add a new vertex and an edge\n",
    "graph['E'] = ['A']\n",
    "graph['A'].append('E')\n",
    "\n",
    "print(\"Graph after adding a new vertex:\", graph)"
   ]
  },
  {
   "cell_type": "markdown",
   "id": "4a32b48e",
   "metadata": {},
   "source": [
    "---"
   ]
  },
  {
   "cell_type": "markdown",
   "id": "8d3e91d5",
   "metadata": {},
   "source": [
    "### **Trees**\n",
    "A **tree** is a non-linear, hierarchical data structure that consists of nodes connected by edges. It models a hierarchical relationship between data, where each node can have one parent and multiple children. Trees are widely used for tasks like file system organization and managing data in databases."
   ]
  },
  {
   "cell_type": "code",
   "execution_count": null,
   "id": "2d1f7c5a",
   "metadata": {},
   "outputs": [],
   "source": [
    "class TreeNode:\n",
    "    def __init__(self, key):\n",
    "        self.key = key\n",
    "        self.left = None\n",
    "        self.right = None\n",
    "\n",
    "# Create a sample binary tree\n",
    "root = TreeNode('A')\n",
    "root.left = TreeNode('B')\n",
    "root.right = TreeNode('C')\n",
    "root.left.left = TreeNode('D')\n",
    "\n",
    "print(f\"Root node: {root.key}\")\n",
    "print(f\"Left child of root: {root.left.key}\")\n",
    "print(f\"Right child of root: {root.right.key}\")"
   ]
  },
  {
   "cell_type": "markdown",
   "id": "6c4d7e90",
   "metadata": {},
   "source": [
    "---"
   ]
  },
  {
   "cell_type": "markdown",
   "id": "2b9f0d4b",
   "metadata": {},
   "source": [
    "### **Linked Lists**\n",
    "A **linked list** is a linear data structure where elements aren't stored at contiguous memory locations. Instead, each element (a **node**) contains the data and a reference to the next node in the sequence. This structure allows for efficient insertion and deletion of elements at any position, unlike arrays or lists that require shifting elements."
   ]
  },
  {
   "cell_type": "code",
   "execution_count": null,
   "id": "5e1a1b2c",
   "metadata": {},
   "outputs": [],
   "source": [
    "class Node:\n",
    "    def __init__(self, data):\n",
    "        self.data = data\n",
    "        self.next = None\n",
    "\n",
    "class LinkedList:\n",
    "    def __init__(self):\n",
    "        self.head = None\n",
    "\n",
    "    def append(self, data):\n",
    "        new_node = Node(data)\n",
    "        if not self.head:\n",
    "            self.head = new_node\n",
    "            return\n",
    "        last_node = self.head\n",
    "        while last_node.next:\n",
    "            last_node = last_node.next\n",
    "        last_node.next = new_node\n",
    "\n",
    "    def print_list(self):\n",
    "        current_node = self.head\n",
    "        while current_node:\n",
    "            print(current_node.data, end=\" -> \")\n",
    "            current_node = current_node.next\n",
    "        print(\"None\")\n",
    "\n",
    "# Create and populate a linked list\n",
    "my_linked_list = LinkedList()\n",
    "my_linked_list.append('A')\n",
    "my_linked_list.append('B')\n",
    "my_linked_list.append('C')\n",
    "\n",
    "print(\"Singly Linked List:\")\n",
    "my_linked_list.print_list()"
   ]
  }
 ],
 "metadata": {
  "kernelspec": {
   "display_name": ".venv (3.13.1)",
   "language": "python",
   "name": "python3"
  },
  "language_info": {
   "codemirror_mode": {
    "name": "ipython",
    "version": 3
   },
   "file_extension": ".py",
   "mimetype": "text/x-python",
   "name": "python",
   "nbconvert_exporter": "python",
   "pygments_lexer": "ipython3",
   "version": "3.13.1"
  }
 },
 "nbformat": 4,
 "nbformat_minor": 5
}
