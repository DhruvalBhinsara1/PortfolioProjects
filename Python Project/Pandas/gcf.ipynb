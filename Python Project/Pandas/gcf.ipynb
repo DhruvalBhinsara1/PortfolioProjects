{
 "cells": [
  {
   "cell_type": "markdown",
   "id": "0231a5d0",
   "metadata": {},
   "source": [
    "# Learning in the GCF Workshop\n",
    "\n",
    "---"
   ]
  },
  {
   "cell_type": "markdown",
   "id": "cf32daf2",
   "metadata": {},
   "source": [
    "### Importing libraries\n",
    "\n",
    "We will require: `Pandas` and `Numpy`\n",
    "\n",
    "---"
   ]
  },
  {
   "cell_type": "code",
   "execution_count": 2,
   "id": "1d30f0ae",
   "metadata": {},
   "outputs": [],
   "source": [
    "import pandas as pd\n",
    "import numpy as np"
   ]
  },
  {
   "cell_type": "markdown",
   "id": "825d860a",
   "metadata": {},
   "source": [
    "### open the file and seeing the data\n",
    "\n",
    "---"
   ]
  },
  {
   "cell_type": "code",
   "execution_count": 9,
   "id": "df356a74",
   "metadata": {},
   "outputs": [
    {
     "data": {
      "text/html": [
       "<div>\n",
       "<style scoped>\n",
       "    .dataframe tbody tr th:only-of-type {\n",
       "        vertical-align: middle;\n",
       "    }\n",
       "\n",
       "    .dataframe tbody tr th {\n",
       "        vertical-align: top;\n",
       "    }\n",
       "\n",
       "    .dataframe thead th {\n",
       "        text-align: right;\n",
       "    }\n",
       "</style>\n",
       "<table border=\"1\" class=\"dataframe\">\n",
       "  <thead>\n",
       "    <tr style=\"text-align: right;\">\n",
       "      <th></th>\n",
       "      <th>student_id</th>\n",
       "      <th>name</th>\n",
       "      <th>age</th>\n",
       "      <th>grade</th>\n",
       "      <th>email</th>\n",
       "    </tr>\n",
       "  </thead>\n",
       "  <tbody>\n",
       "    <tr>\n",
       "      <th>0</th>\n",
       "      <td>1</td>\n",
       "      <td>John Smith</td>\n",
       "      <td>18</td>\n",
       "      <td>A</td>\n",
       "      <td>john.smith@example.com</td>\n",
       "    </tr>\n",
       "    <tr>\n",
       "      <th>1</th>\n",
       "      <td>2</td>\n",
       "      <td>Emily Johnson</td>\n",
       "      <td>17</td>\n",
       "      <td>B+</td>\n",
       "      <td>emily.johnson@example.com</td>\n",
       "    </tr>\n",
       "    <tr>\n",
       "      <th>2</th>\n",
       "      <td>3</td>\n",
       "      <td>Michael Brown</td>\n",
       "      <td>19</td>\n",
       "      <td>A-</td>\n",
       "      <td>michael.brown@example.com</td>\n",
       "    </tr>\n",
       "    <tr>\n",
       "      <th>3</th>\n",
       "      <td>4</td>\n",
       "      <td>Sarah Davis</td>\n",
       "      <td>18</td>\n",
       "      <td>B</td>\n",
       "      <td>sarah.davis@example.com</td>\n",
       "    </tr>\n",
       "    <tr>\n",
       "      <th>4</th>\n",
       "      <td>5</td>\n",
       "      <td>David Wilson</td>\n",
       "      <td>17</td>\n",
       "      <td>A</td>\n",
       "      <td>david.wilson@example.com</td>\n",
       "    </tr>\n",
       "    <tr>\n",
       "      <th>5</th>\n",
       "      <td>6</td>\n",
       "      <td>Jennifer Lee</td>\n",
       "      <td>18</td>\n",
       "      <td>B+</td>\n",
       "      <td>jennifer.lee@example.com</td>\n",
       "    </tr>\n",
       "    <tr>\n",
       "      <th>6</th>\n",
       "      <td>7</td>\n",
       "      <td>Robert Miller</td>\n",
       "      <td>19</td>\n",
       "      <td>C</td>\n",
       "      <td>robert.miller@example.com</td>\n",
       "    </tr>\n",
       "    <tr>\n",
       "      <th>7</th>\n",
       "      <td>8</td>\n",
       "      <td>Lisa Taylor</td>\n",
       "      <td>17</td>\n",
       "      <td>A-</td>\n",
       "      <td>lisa.taylor@example.com</td>\n",
       "    </tr>\n",
       "    <tr>\n",
       "      <th>8</th>\n",
       "      <td>9</td>\n",
       "      <td>James Anderson</td>\n",
       "      <td>18</td>\n",
       "      <td>B</td>\n",
       "      <td>james.anderson@example.com</td>\n",
       "    </tr>\n",
       "    <tr>\n",
       "      <th>9</th>\n",
       "      <td>10</td>\n",
       "      <td>Megan Thomas</td>\n",
       "      <td>19</td>\n",
       "      <td>A</td>\n",
       "      <td>megan.thomas@example.com</td>\n",
       "    </tr>\n",
       "  </tbody>\n",
       "</table>\n",
       "</div>"
      ],
      "text/plain": [
       "   student_id            name  age grade                       email\n",
       "0           1      John Smith   18     A      john.smith@example.com\n",
       "1           2   Emily Johnson   17    B+   emily.johnson@example.com\n",
       "2           3   Michael Brown   19    A-   michael.brown@example.com\n",
       "3           4     Sarah Davis   18     B     sarah.davis@example.com\n",
       "4           5    David Wilson   17     A    david.wilson@example.com\n",
       "5           6    Jennifer Lee   18    B+    jennifer.lee@example.com\n",
       "6           7   Robert Miller   19     C   robert.miller@example.com\n",
       "7           8     Lisa Taylor   17    A-     lisa.taylor@example.com\n",
       "8           9  James Anderson   18     B  james.anderson@example.com\n",
       "9          10    Megan Thomas   19     A   megan.thomas@example.com "
      ]
     },
     "execution_count": 9,
     "metadata": {},
     "output_type": "execute_result"
    }
   ],
   "source": [
    "df = pd.read_csv(r'E:\\PortfolioProjects\\Python Project\\Pandas\\gcf_data.csv')\n",
    "\n",
    "df"
   ]
  },
  {
   "cell_type": "markdown",
   "id": "52258bc2",
   "metadata": {},
   "source": [
    "### Checking the structure of the data\n",
    "\n",
    "---"
   ]
  },
  {
   "cell_type": "code",
   "execution_count": 11,
   "id": "b5ce55db",
   "metadata": {},
   "outputs": [
    {
     "data": {
      "text/plain": [
       "<bound method NDFrame.describe of    student_id            name  age grade                       email\n",
       "0           1      John Smith   18     A      john.smith@example.com\n",
       "1           2   Emily Johnson   17    B+   emily.johnson@example.com\n",
       "2           3   Michael Brown   19    A-   michael.brown@example.com\n",
       "3           4     Sarah Davis   18     B     sarah.davis@example.com\n",
       "4           5    David Wilson   17     A    david.wilson@example.com\n",
       "5           6    Jennifer Lee   18    B+    jennifer.lee@example.com\n",
       "6           7   Robert Miller   19     C   robert.miller@example.com\n",
       "7           8     Lisa Taylor   17    A-     lisa.taylor@example.com\n",
       "8           9  James Anderson   18     B  james.anderson@example.com\n",
       "9          10    Megan Thomas   19     A   megan.thomas@example.com >"
      ]
     },
     "execution_count": 11,
     "metadata": {},
     "output_type": "execute_result"
    }
   ],
   "source": [
    "df.describe"
   ]
  },
  {
   "cell_type": "markdown",
   "id": "2e516cf6",
   "metadata": {},
   "source": [
    "### Check top 5 rows\n",
    "\n",
    "---"
   ]
  },
  {
   "cell_type": "code",
   "execution_count": 8,
   "id": "9a5adcd7",
   "metadata": {},
   "outputs": [
    {
     "data": {
      "text/html": [
       "<div>\n",
       "<style scoped>\n",
       "    .dataframe tbody tr th:only-of-type {\n",
       "        vertical-align: middle;\n",
       "    }\n",
       "\n",
       "    .dataframe tbody tr th {\n",
       "        vertical-align: top;\n",
       "    }\n",
       "\n",
       "    .dataframe thead th {\n",
       "        text-align: right;\n",
       "    }\n",
       "</style>\n",
       "<table border=\"1\" class=\"dataframe\">\n",
       "  <thead>\n",
       "    <tr style=\"text-align: right;\">\n",
       "      <th></th>\n",
       "      <th>student_id</th>\n",
       "      <th>name</th>\n",
       "      <th>age</th>\n",
       "      <th>grade</th>\n",
       "      <th>email</th>\n",
       "    </tr>\n",
       "  </thead>\n",
       "  <tbody>\n",
       "    <tr>\n",
       "      <th>0</th>\n",
       "      <td>1</td>\n",
       "      <td>John Smith</td>\n",
       "      <td>18</td>\n",
       "      <td>A</td>\n",
       "      <td>john.smith@example.com</td>\n",
       "    </tr>\n",
       "    <tr>\n",
       "      <th>1</th>\n",
       "      <td>2</td>\n",
       "      <td>Emily Johnson</td>\n",
       "      <td>17</td>\n",
       "      <td>B+</td>\n",
       "      <td>emily.johnson@example.com</td>\n",
       "    </tr>\n",
       "    <tr>\n",
       "      <th>2</th>\n",
       "      <td>3</td>\n",
       "      <td>Michael Brown</td>\n",
       "      <td>19</td>\n",
       "      <td>A-</td>\n",
       "      <td>michael.brown@example.com</td>\n",
       "    </tr>\n",
       "    <tr>\n",
       "      <th>3</th>\n",
       "      <td>4</td>\n",
       "      <td>Sarah Davis</td>\n",
       "      <td>18</td>\n",
       "      <td>B</td>\n",
       "      <td>sarah.davis@example.com</td>\n",
       "    </tr>\n",
       "    <tr>\n",
       "      <th>4</th>\n",
       "      <td>5</td>\n",
       "      <td>David Wilson</td>\n",
       "      <td>17</td>\n",
       "      <td>A</td>\n",
       "      <td>david.wilson@example.com</td>\n",
       "    </tr>\n",
       "  </tbody>\n",
       "</table>\n",
       "</div>"
      ],
      "text/plain": [
       "   student_id           name  age grade                      email\n",
       "0           1     John Smith   18     A     john.smith@example.com\n",
       "1           2  Emily Johnson   17    B+  emily.johnson@example.com\n",
       "2           3  Michael Brown   19    A-  michael.brown@example.com\n",
       "3           4    Sarah Davis   18     B    sarah.davis@example.com\n",
       "4           5   David Wilson   17     A   david.wilson@example.com"
      ]
     },
     "execution_count": 8,
     "metadata": {},
     "output_type": "execute_result"
    }
   ],
   "source": [
    "df2 = df\n",
    "\n",
    "df2.head(5)"
   ]
  }
 ],
 "metadata": {
  "kernelspec": {
   "display_name": "Python 3",
   "language": "python",
   "name": "python3"
  },
  "language_info": {
   "codemirror_mode": {
    "name": "ipython",
    "version": 3
   },
   "file_extension": ".py",
   "mimetype": "text/x-python",
   "name": "python",
   "nbconvert_exporter": "python",
   "pygments_lexer": "ipython3",
   "version": "3.13.1"
  }
 },
 "nbformat": 4,
 "nbformat_minor": 5
}
