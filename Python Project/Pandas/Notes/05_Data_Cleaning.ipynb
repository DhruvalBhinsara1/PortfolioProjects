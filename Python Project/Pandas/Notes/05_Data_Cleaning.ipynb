{
 "cells": [
  {
   "cell_type": "markdown",
   "id": "77c91417",
   "metadata": {},
   "source": [
    "# Data Cleaning in Pandas\n",
    "\n",
    "This notebook covers essential data cleaning techniques in Pandas, including handling missing values, duplicates, and data type conversions."
   ]
  },
  {
   "cell_type": "code",
   "execution_count": 1,
   "id": "56d0a732",
   "metadata": {},
   "outputs": [
    {
     "name": "stdout",
     "output_type": "stream",
     "text": [
      "Pandas version: 2.2.3\n",
      "NumPy version: 2.2.4\n"
     ]
    }
   ],
   "source": [
    "# Import necessary libraries\n",
    "import pandas as pd\n",
    "import numpy as np\n",
    "\n",
    "print(f\"Pandas version: {pd.__version__}\")\n",
    "print(f\"NumPy version: {np.__version__}\")"
   ]
  },
  {
   "cell_type": "markdown",
   "id": "2c5115ba",
   "metadata": {},
   "source": [
    "## Sample Data with Missing Values\n",
    "\n",
    "Let's create a DataFrame with missing values to demonstrate cleaning techniques."
   ]
  },
  {
   "cell_type": "code",
   "execution_count": 2,
   "id": "9da5c3c6",
   "metadata": {},
   "outputs": [
    {
     "name": "stdout",
     "output_type": "stream",
     "text": [
      "DataFrame with missing values:\n",
      "    Name   Age      City   Salary Department\n",
      "0  Alice  25.0  New York  50000.0         HR\n",
      "1    Bob   NaN    London  60000.0         IT\n",
      "2    NaN  35.0       NaN  70000.0    Finance\n",
      "3  Diana  28.0     Tokyo      NaN         IT\n",
      "4    Eve   NaN    Sydney  65000.0         HR\n",
      "\n",
      "Missing value counts:\n",
      "Name          1\n",
      "Age           2\n",
      "City          1\n",
      "Salary        1\n",
      "Department    0\n",
      "dtype: int64\n"
     ]
    }
   ],
   "source": [
    "# Create DataFrame with missing values\n",
    "data = {\n",
    "    'Name': ['Alice', 'Bob', np.nan, 'Diana', 'Eve'],\n",
    "    'Age': [25, np.nan, 35, 28, np.nan],\n",
    "    'City': ['New York', 'London', np.nan, 'Tokyo', 'Sydney'],\n",
    "    'Salary': [50000, 60000, 70000, np.nan, 65000],\n",
    "    'Department': ['HR', 'IT', 'Finance', 'IT', 'HR']\n",
    "}\n",
    "\n",
    "df = pd.DataFrame(data)\n",
    "print(\"DataFrame with missing values:\")\n",
    "print(df)\n",
    "\n",
    "print(\"\\nMissing value counts:\")\n",
    "print(df.isnull().sum())"
   ]
  },
  {
   "cell_type": "markdown",
   "id": "63fc56b8",
   "metadata": {},
   "source": [
    "## Handling Missing Values\n",
    "\n",
    "Pandas provides several methods to handle missing values: drop, fill, or interpolate."
   ]
  },
  {
   "cell_type": "code",
   "execution_count": 3,
   "id": "3d3fb7ab",
   "metadata": {},
   "outputs": [
    {
     "name": "stdout",
     "output_type": "stream",
     "text": [
      "Drop rows with any missing values:\n",
      "    Name   Age      City   Salary Department\n",
      "0  Alice  25.0  New York  50000.0         HR\n",
      "\n",
      "Drop columns with any missing values:\n",
      "  Department\n",
      "0         HR\n",
      "1         IT\n",
      "2    Finance\n",
      "3         IT\n",
      "4         HR\n",
      "\n",
      "Fill missing values with 'Unknown' for Name and City:\n",
      "      Name   Age      City   Salary Department\n",
      "0    Alice  25.0  New York  50000.0         HR\n",
      "1      Bob   NaN    London  60000.0         IT\n",
      "2  Unknown  35.0   Unknown  70000.0    Finance\n",
      "3    Diana  28.0     Tokyo      NaN         IT\n",
      "4      Eve   NaN    Sydney  65000.0         HR\n",
      "\n",
      "Fill numeric missing values with column mean:\n",
      "    Name        Age      City   Salary Department\n",
      "0  Alice  25.000000  New York  50000.0         HR\n",
      "1    Bob  29.333333    London  60000.0         IT\n",
      "2    NaN  35.000000       NaN  70000.0    Finance\n",
      "3  Diana  28.000000     Tokyo  61250.0         IT\n",
      "4    Eve  29.333333    Sydney  65000.0         HR\n"
     ]
    }
   ],
   "source": [
    "# Drop rows with missing values\n",
    "print(\"Drop rows with any missing values:\")\n",
    "df_dropped = df.dropna()\n",
    "print(df_dropped)\n",
    "\n",
    "# Drop columns with missing values\n",
    "print(\"\\nDrop columns with any missing values:\")\n",
    "df_dropped_cols = df.dropna(axis=1)\n",
    "print(df_dropped_cols)\n",
    "\n",
    "# Fill missing values with a specific value\n",
    "print(\"\\nFill missing values with 'Unknown' for Name and City:\")\n",
    "df_filled = df.copy()\n",
    "df_filled['Name'] = df_filled['Name'].fillna('Unknown')\n",
    "df_filled['City'] = df_filled['City'].fillna('Unknown')\n",
    "print(df_filled)\n",
    "\n",
    "# Fill numeric missing values with mean\n",
    "print(\"\\nFill numeric missing values with column mean:\")\n",
    "df_filled_mean = df.copy()\n",
    "df_filled_mean['Age'] = df_filled_mean['Age'].fillna(df_filled_mean['Age'].mean())\n",
    "df_filled_mean['Salary'] = df_filled_mean['Salary'].fillna(df_filled_mean['Salary'].mean())\n",
    "print(df_filled_mean)"
   ]
  },
  {
   "cell_type": "markdown",
   "id": "d2b07020",
   "metadata": {},
   "source": [
    "## Handling Duplicates\n",
    "\n",
    "Pandas provides methods to identify and remove duplicate rows."
   ]
  },
  {
   "cell_type": "code",
   "execution_count": 4,
   "id": "e9c1dbaa",
   "metadata": {},
   "outputs": [
    {
     "name": "stdout",
     "output_type": "stream",
     "text": [
      "DataFrame with duplicates:\n",
      "      Name  Age Department\n",
      "0    Alice   25         HR\n",
      "1      Bob   30         IT\n",
      "2    Alice   25         HR\n",
      "3  Charlie   35    Finance\n",
      "4      Bob   30         IT\n",
      "\n",
      "Duplicate rows:\n",
      "0    False\n",
      "1    False\n",
      "2     True\n",
      "3    False\n",
      "4     True\n",
      "dtype: bool\n",
      "\n",
      "Remove duplicates:\n",
      "      Name  Age Department\n",
      "0    Alice   25         HR\n",
      "1      Bob   30         IT\n",
      "3  Charlie   35    Finance\n",
      "\n",
      "Remove duplicates based on 'Name' column:\n",
      "      Name  Age Department\n",
      "0    Alice   25         HR\n",
      "1      Bob   30         IT\n",
      "3  Charlie   35    Finance\n"
     ]
    }
   ],
   "source": [
    "# Create DataFrame with duplicates\n",
    "duplicate_data = {\n",
    "    'Name': ['Alice', 'Bob', 'Alice', 'Charlie', 'Bob'],\n",
    "    'Age': [25, 30, 25, 35, 30],\n",
    "    'Department': ['HR', 'IT', 'HR', 'Finance', 'IT']\n",
    "}\n",
    "\n",
    "df_dup = pd.DataFrame(duplicate_data)\n",
    "print(\"DataFrame with duplicates:\")\n",
    "print(df_dup)\n",
    "\n",
    "# Check for duplicates\n",
    "print(\"\\nDuplicate rows:\")\n",
    "print(df_dup.duplicated())\n",
    "\n",
    "# Remove duplicates\n",
    "print(\"\\nRemove duplicates:\")\n",
    "df_no_dup = df_dup.drop_duplicates()\n",
    "print(df_no_dup)\n",
    "\n",
    "# Remove duplicates based on specific columns\n",
    "print(\"\\nRemove duplicates based on 'Name' column:\")\n",
    "df_no_dup_name = df_dup.drop_duplicates(subset=['Name'])\n",
    "print(df_no_dup_name)"
   ]
  },
  {
   "cell_type": "markdown",
   "id": "3dd0e0e8",
   "metadata": {},
   "source": [
    "## Data Type Conversion\n",
    "\n",
    "Pandas allows you to convert data types using `astype()` method."
   ]
  },
  {
   "cell_type": "code",
   "execution_count": 5,
   "id": "7b31dfde",
   "metadata": {},
   "outputs": [
    {
     "name": "stdout",
     "output_type": "stream",
     "text": [
      "DataFrame with mixed types:\n",
      "      Name Age   Salary Is_Manager\n",
      "0    Alice  25  50000.0       True\n",
      "1      Bob  30  60000.5      False\n",
      "2  Charlie  35  70000.0       True\n",
      "\n",
      "Data types:\n",
      "Name          object\n",
      "Age           object\n",
      "Salary        object\n",
      "Is_Manager    object\n",
      "dtype: object\n",
      "\n",
      "After type conversion:\n",
      "      Name  Age   Salary  Is_Manager\n",
      "0    Alice   25  50000.0        True\n",
      "1      Bob   30  60000.5        True\n",
      "2  Charlie   35  70000.0        True\n",
      "\n",
      "Data types after conversion:\n",
      "Name           object\n",
      "Age             int64\n",
      "Salary        float64\n",
      "Is_Manager       bool\n",
      "dtype: object\n"
     ]
    }
   ],
   "source": [
    "# Create DataFrame with mixed data types\n",
    "mixed_data = {\n",
    "    'Name': ['Alice', 'Bob', 'Charlie'],\n",
    "    'Age': ['25', '30', '35'],  # String instead of int\n",
    "    'Salary': ['50000.0', '60000.5', '70000.0'],  # String instead of float\n",
    "    'Is_Manager': ['True', 'False', 'True']  # String instead of bool\n",
    "}\n",
    "\n",
    "df_types = pd.DataFrame(mixed_data)\n",
    "print(\"DataFrame with mixed types:\")\n",
    "print(df_types)\n",
    "print(\"\\nData types:\")\n",
    "print(df_types.dtypes)\n",
    "\n",
    "# Convert data types\n",
    "df_converted = df_types.copy()\n",
    "df_converted['Age'] = df_converted['Age'].astype(int)\n",
    "df_converted['Salary'] = df_converted['Salary'].astype(float)\n",
    "df_converted['Is_Manager'] = df_converted['Is_Manager'].astype(bool)\n",
    "\n",
    "print(\"\\nAfter type conversion:\")\n",
    "print(df_converted)\n",
    "print(\"\\nData types after conversion:\")\n",
    "print(df_converted.dtypes)"
   ]
  },
  {
   "cell_type": "markdown",
   "id": "ff134726",
   "metadata": {},
   "source": [
    "## Summary\n",
    "\n",
    "You have learned essential data cleaning techniques in Pandas:\n",
    "\n",
    "- **Handling Missing Values**: Using `dropna()`, `fillna()`, and `isnull()`\n",
    "- **Removing Duplicates**: Using `duplicated()` and `drop_duplicates()`\n",
    "- **Data Type Conversion**: Using `astype()` to convert between data types\n",
    "\n",
    "These techniques are crucial for preparing data for analysis and ensuring data quality."
   ]
  }
 ],
 "metadata": {
  "kernelspec": {
   "display_name": "Python 3",
   "language": "python",
   "name": "python3"
  },
  "language_info": {
   "codemirror_mode": {
    "name": "ipython",
    "version": 3
   },
   "file_extension": ".py",
   "mimetype": "text/x-python",
   "name": "python",
   "nbconvert_exporter": "python",
   "pygments_lexer": "ipython3",
   "version": "3.13.1"
  }
 },
 "nbformat": 4,
 "nbformat_minor": 5
}
