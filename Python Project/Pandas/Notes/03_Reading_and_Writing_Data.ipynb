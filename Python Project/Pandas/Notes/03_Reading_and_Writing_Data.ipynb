{
 "cells": [
  {
   "cell_type": "markdown",
   "id": "6262739c",
   "metadata": {},
   "source": [
    "## Reading CSV Files\n",
    "\n",
    "Pandas provides the `read_csv()` function to read CSV files. Let's explore its capabilities."
   ]
  },
  {
   "cell_type": "code",
   "execution_count": 2,
   "id": "22f9985b",
   "metadata": {},
   "outputs": [
    {
     "name": "stdout",
     "output_type": "stream",
     "text": [
      "Pandas version: 2.2.3\n",
      "NumPy version: 2.2.4\n"
     ]
    }
   ],
   "source": [
    "# Import necessary libraries\n",
    "import pandas as pd\n",
    "import numpy as np\n",
    "\n",
    "print(f\"Pandas version: {pd.__version__}\")\n",
    "print(f\"NumPy version: {np.__version__}\")"
   ]
  },
  {
   "cell_type": "code",
   "execution_count": 3,
   "id": "f35def0f",
   "metadata": {},
   "outputs": [
    {
     "name": "stdout",
     "output_type": "stream",
     "text": [
      "Sample DataFrame:\n",
      "      Name  Age      City  Salary\n",
      "0    Alice   25  New York   50000\n",
      "1      Bob   30    London   60000\n",
      "2  Charlie   35     Paris   70000\n",
      "3    Diana   28     Tokyo   55000\n",
      "\n",
      "Data saved to 'sample_data.csv'\n"
     ]
    }
   ],
   "source": [
    "# Create sample data for demonstration\n",
    "data = {\n",
    "    'Name': ['Alice', 'Bob', 'Charlie', 'Diana'],\n",
    "    'Age': [25, 30, 35, 28],\n",
    "    'City': ['New York', 'London', 'Paris', 'Tokyo'],\n",
    "    'Salary': [50000, 60000, 70000, 55000]\n",
    "}\n",
    "\n",
    "df = pd.DataFrame(data)\n",
    "print(\"Sample DataFrame:\")\n",
    "print(df)\n",
    "\n",
    "# Save to CSV\n",
    "df.to_csv('sample_data.csv', index=False)\n",
    "print(\"\\nData saved to 'sample_data.csv'\")"
   ]
  },
  {
   "cell_type": "code",
   "execution_count": 4,
   "id": "caf4a2cf",
   "metadata": {},
   "outputs": [
    {
     "name": "stdout",
     "output_type": "stream",
     "text": [
      "Data read from CSV:\n",
      "      Name  Age      City  Salary\n",
      "0    Alice   25  New York   50000\n",
      "1      Bob   30    London   60000\n",
      "2  Charlie   35     Paris   70000\n",
      "3    Diana   28     Tokyo   55000\n",
      "\n",
      "Data types:\n",
      "Name      object\n",
      "Age        int64\n",
      "City      object\n",
      "Salary     int64\n",
      "dtype: object\n"
     ]
    }
   ],
   "source": [
    "# Read CSV file\n",
    "df_read = pd.read_csv('sample_data.csv')\n",
    "print(\"Data read from CSV:\")\n",
    "print(df_read)\n",
    "\n",
    "# Check data types\n",
    "print(\"\\nData types:\")\n",
    "print(df_read.dtypes)"
   ]
  },
  {
   "cell_type": "markdown",
   "id": "88a6e06f",
   "metadata": {},
   "source": [
    "## Reading Excel Files\n",
    "\n",
    "Pandas can read Excel files using the `read_excel()` function. Note that this requires the `openpyxl` or `xlrd` library."
   ]
  },
  {
   "cell_type": "code",
   "execution_count": 5,
   "id": "ebeb15f5",
   "metadata": {},
   "outputs": [
    {
     "name": "stdout",
     "output_type": "stream",
     "text": [
      "Data saved to 'sample_data.xlsx'\n",
      "Data read from Excel:\n",
      "      Name  Age      City  Salary\n",
      "0    Alice   25  New York   50000\n",
      "1      Bob   30    London   60000\n",
      "2  Charlie   35     Paris   70000\n",
      "3    Diana   28     Tokyo   55000\n"
     ]
    }
   ],
   "source": [
    "# Save to Excel\n",
    "df.to_excel('sample_data.xlsx', index=False, sheet_name='Employees')\n",
    "print(\"Data saved to 'sample_data.xlsx'\")\n",
    "\n",
    "# Read Excel file\n",
    "df_excel = pd.read_excel('sample_data.xlsx', sheet_name='Employees')\n",
    "print(\"Data read from Excel:\")\n",
    "print(df_excel)"
   ]
  },
  {
   "cell_type": "markdown",
   "id": "202815c4",
   "metadata": {},
   "source": [
    "## Reading and Writing JSON Files\n",
    "\n",
    "Pandas can handle JSON data using `read_json()` and `to_json()` methods."
   ]
  },
  {
   "cell_type": "code",
   "execution_count": 6,
   "id": "6ea6a4af",
   "metadata": {},
   "outputs": [
    {
     "name": "stdout",
     "output_type": "stream",
     "text": [
      "Data saved to 'sample_data.json'\n",
      "Data read from JSON:\n",
      "      Name  Age      City  Salary\n",
      "0    Alice   25  New York   50000\n",
      "1      Bob   30    London   60000\n",
      "2  Charlie   35     Paris   70000\n",
      "3    Diana   28     Tokyo   55000\n"
     ]
    }
   ],
   "source": [
    "# Save to JSON\n",
    "df.to_json('sample_data.json', orient='records', indent=2)\n",
    "print(\"Data saved to 'sample_data.json'\")\n",
    "\n",
    "# Read JSON file\n",
    "df_json = pd.read_json('sample_data.json', orient='records')\n",
    "print(\"Data read from JSON:\")\n",
    "print(df_json)"
   ]
  },
  {
   "cell_type": "markdown",
   "id": "eb0b9f36",
   "metadata": {},
   "source": [
    "## Other File Formats\n",
    "\n",
    "Pandas supports many other formats:\n",
    "- `read_sql()` / `to_sql()` for SQL databases\n",
    "- `read_html()` for HTML tables\n",
    "- `read_pickle()` / `to_pickle()` for Python objects\n",
    "- `read_parquet()` / `to_parquet()` for Parquet files\n",
    "- `read_feather()` / `to_feather()` for Feather format"
   ]
  },
  {
   "cell_type": "markdown",
   "id": "d625704b",
   "metadata": {},
   "source": [
    "## Summary\n",
    "\n",
    "You have learned how to:\n",
    "- Read and write CSV files using `read_csv()` and `to_csv()`\n",
    "- Read and write Excel files using `read_excel()` and `to_excel()`\n",
    "- Read and write JSON files using `read_json()` and `to_json()`\n",
    "- Handle various other file formats supported by Pandas\n",
    "\n",
    "These functions provide flexible options for data import/export with parameters for customizing the reading/writing process."
   ]
  },
  {
   "cell_type": "markdown",
   "id": "0fe796b3",
   "metadata": {},
   "source": [
    "# Reading and Writing Data in Pandas\n",
    "\n",
    "This notebook covers how to read data from various file formats and write data to different formats using Pandas."
   ]
  }
 ],
 "metadata": {
  "kernelspec": {
   "display_name": "Python 3",
   "language": "python",
   "name": "python3"
  },
  "language_info": {
   "codemirror_mode": {
    "name": "ipython",
    "version": 3
   },
   "file_extension": ".py",
   "mimetype": "text/x-python",
   "name": "python",
   "nbconvert_exporter": "python",
   "pygments_lexer": "ipython3",
   "version": "3.13.1"
  }
 },
 "nbformat": 4,
 "nbformat_minor": 5
}
