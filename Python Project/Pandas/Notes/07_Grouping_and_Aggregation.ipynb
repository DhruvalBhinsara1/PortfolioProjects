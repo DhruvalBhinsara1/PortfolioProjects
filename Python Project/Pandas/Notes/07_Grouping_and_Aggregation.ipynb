{
 "cells": [
  {
   "cell_type": "markdown",
   "id": "6f401de8",
   "metadata": {},
   "source": [
    "# Grouping and Aggregation in Pandas\n",
    "\n",
    "This notebook covers grouping data and performing aggregation operations using Pandas' `groupby()` functionality."
   ]
  },
  {
   "cell_type": "code",
   "execution_count": 1,
   "id": "58b17424",
   "metadata": {},
   "outputs": [
    {
     "name": "stdout",
     "output_type": "stream",
     "text": [
      "Pandas version: 2.2.3\n",
      "NumPy version: 2.2.4\n"
     ]
    }
   ],
   "source": [
    "# Import necessary libraries\n",
    "import pandas as pd\n",
    "import numpy as np\n",
    "\n",
    "print(f\"Pandas version: {pd.__version__}\")\n",
    "print(f\"NumPy version: {np.__version__}\")"
   ]
  },
  {
   "cell_type": "markdown",
   "id": "db2b27a6",
   "metadata": {},
   "source": [
    "## Sample Data\n",
    "\n",
    "Let's create a larger sample DataFrame suitable for grouping and aggregation operations."
   ]
  },
  {
   "cell_type": "code",
   "execution_count": 2,
   "id": "c5dbd330",
   "metadata": {},
   "outputs": [
    {
     "name": "stdout",
     "output_type": "stream",
     "text": [
      "Sample DataFrame:\n",
      "  Employee Department      City  Salary  Experience Performance\n",
      "0    Alice         HR  New York   50000           2        Good\n",
      "1      Bob         IT    London   60000           5   Excellent\n",
      "2  Charlie    Finance     Paris   70000           8        Good\n",
      "3    Diana         IT     Tokyo   55000           3   Excellent\n",
      "4      Eve         HR    Sydney   65000           6        Good\n",
      "5    Frank    Finance  New York   75000          10   Excellent\n",
      "6    Grace         IT    London   58000           4        Good\n",
      "7    Henry         HR     Paris   52000           3        Good\n"
     ]
    }
   ],
   "source": [
    "# Create larger sample DataFrame\n",
    "np.random.seed(42)  # For reproducible results\n",
    "\n",
    "data = {\n",
    "    'Employee': ['Alice', 'Bob', 'Charlie', 'Diana', 'Eve', 'Frank', 'Grace', 'Henry'],\n",
    "    'Department': ['HR', 'IT', 'Finance', 'IT', 'HR', 'Finance', 'IT', 'HR'],\n",
    "    'City': ['New York', 'London', 'Paris', 'Tokyo', 'Sydney', 'New York', 'London', 'Paris'],\n",
    "    'Salary': [50000, 60000, 70000, 55000, 65000, 75000, 58000, 52000],\n",
    "    'Experience': [2, 5, 8, 3, 6, 10, 4, 3],\n",
    "    'Performance': ['Good', 'Excellent', 'Good', 'Excellent', 'Good', 'Excellent', 'Good', 'Good']\n",
    "}\n",
    "\n",
    "df = pd.DataFrame(data)\n",
    "print(\"Sample DataFrame:\")\n",
    "print(df)"
   ]
  },
  {
   "cell_type": "markdown",
   "id": "995cf879",
   "metadata": {},
   "source": [
    "## Basic Grouping\n",
    "\n",
    "The `groupby()` method allows you to group data by one or more columns and perform operations on each group."
   ]
  },
  {
   "cell_type": "code",
   "execution_count": 3,
   "id": "3e4aaa78",
   "metadata": {},
   "outputs": [
    {
     "name": "stdout",
     "output_type": "stream",
     "text": [
      "Group sizes by Department:\n",
      "Department\n",
      "Finance    2\n",
      "HR         3\n",
      "IT         3\n",
      "dtype: int64\n",
      "\n",
      "Average salary by Department:\n",
      "Department\n",
      "Finance    72500.000000\n",
      "HR         55666.666667\n",
      "IT         57666.666667\n",
      "Name: Salary, dtype: float64\n",
      "\n",
      "Multiple aggregations by Department:\n",
      "                    mean    min    max  count\n",
      "Department                                   \n",
      "Finance     72500.000000  70000  75000      2\n",
      "HR          55666.666667  50000  65000      3\n",
      "IT          57666.666667  55000  60000      3\n",
      "\n",
      "Average salary by Department and City:\n",
      "Department  City    \n",
      "Finance     New York    75000.0\n",
      "            Paris       70000.0\n",
      "HR          New York    50000.0\n",
      "            Paris       52000.0\n",
      "            Sydney      65000.0\n",
      "IT          London      59000.0\n",
      "            Tokyo       55000.0\n",
      "Name: Salary, dtype: float64\n"
     ]
    }
   ],
   "source": [
    "# Group by Department and get group sizes\n",
    "print(\"Group sizes by Department:\")\n",
    "print(df.groupby('Department').size())\n",
    "\n",
    "# Group by Department and calculate mean salary\n",
    "print(\"\\nAverage salary by Department:\")\n",
    "print(df.groupby('Department')['Salary'].mean())\n",
    "\n",
    "# Group by Department and get multiple aggregations\n",
    "print(\"\\nMultiple aggregations by Department:\")\n",
    "print(df.groupby('Department')['Salary'].agg(['mean', 'min', 'max', 'count']))\n",
    "\n",
    "# Group by multiple columns\n",
    "print(\"\\nAverage salary by Department and City:\")\n",
    "print(df.groupby(['Department', 'City'])['Salary'].mean())"
   ]
  },
  {
   "cell_type": "markdown",
   "id": "b060a9bd",
   "metadata": {},
   "source": [
    "## Custom Aggregation Functions\n",
    "\n",
    "You can use custom functions with `agg()` or apply functions to grouped data."
   ]
  },
  {
   "cell_type": "code",
   "execution_count": 4,
   "id": "cdab230b",
   "metadata": {},
   "outputs": [
    {
     "name": "stdout",
     "output_type": "stream",
     "text": [
      "Salary range by Department:\n",
      "Department\n",
      "Finance     5000\n",
      "HR         15000\n",
      "IT          5000\n",
      "Name: Salary, dtype: int64\n",
      "\n",
      "Multiple custom aggregations:\n",
      "                    mean          std  range     iqr\n",
      "Department                                          \n",
      "Finance     72500.000000  3535.533906   5000  2500.0\n",
      "HR          55666.666667  8144.527815  15000  7500.0\n",
      "IT          57666.666667  2516.611478   5000  2500.0\n",
      "\n",
      "Different aggregations for different columns:\n",
      "                  Salary        Experience Employee\n",
      "                    mean    max       mean    count\n",
      "Department                                         \n",
      "Finance     72500.000000  75000   9.000000        2\n",
      "HR          55666.666667  65000   3.666667        3\n",
      "IT          57666.666667  60000   4.000000        3\n"
     ]
    }
   ],
   "source": [
    "# Custom aggregation function\n",
    "def salary_range(group):\n",
    "    return group.max() - group.min()\n",
    "\n",
    "print(\"Salary range by Department:\")\n",
    "print(df.groupby('Department')['Salary'].agg(salary_range))\n",
    "\n",
    "# Multiple custom aggregations\n",
    "print(\"\\nMultiple custom aggregations:\")\n",
    "result = df.groupby('Department')['Salary'].agg([\n",
    "    'mean',\n",
    "    'std',\n",
    "    lambda x: x.max() - x.min(),  # salary range\n",
    "    lambda x: x.quantile(0.75) - x.quantile(0.25)  # IQR\n",
    "])\n",
    "result.columns = ['mean', 'std', 'range', 'iqr']\n",
    "print(result)\n",
    "\n",
    "# Apply different functions to different columns\n",
    "print(\"\\nDifferent aggregations for different columns:\")\n",
    "print(df.groupby('Department').agg({\n",
    "    'Salary': ['mean', 'max'],\n",
    "    'Experience': 'mean',\n",
    "    'Employee': 'count'\n",
    "}))"
   ]
  },
  {
   "cell_type": "markdown",
   "id": "f72c4bf1",
   "metadata": {},
   "source": [
    "## Transformation and Filtering with Groups\n",
    "\n",
    "You can transform data within groups or filter groups based on conditions."
   ]
  },
  {
   "cell_type": "code",
   "execution_count": 5,
   "id": "6612e102",
   "metadata": {},
   "outputs": [
    {
     "name": "stdout",
     "output_type": "stream",
     "text": [
      "Salary standardized within Department:\n",
      "  Employee Department  Salary  Salary_Std\n",
      "0    Alice         HR   50000   -0.695764\n",
      "1      Bob         IT   60000    0.927173\n",
      "2  Charlie    Finance   70000   -0.707107\n",
      "3    Diana         IT   55000   -1.059626\n",
      "4      Eve         HR   65000    1.145964\n",
      "5    Frank    Finance   75000    0.707107\n",
      "6    Grace         IT   58000    0.132453\n",
      "7    Henry         HR   52000   -0.450200\n",
      "\n",
      "Departments with more than 1 employee:\n",
      "  Employee Department\n",
      "0    Alice         HR\n",
      "1      Bob         IT\n",
      "2  Charlie    Finance\n",
      "3    Diana         IT\n",
      "4      Eve         HR\n",
      "5    Frank    Finance\n",
      "6    Grace         IT\n",
      "7    Henry         HR\n",
      "\n",
      "Departments with average salary > 55000:\n",
      "  Employee Department  Salary\n",
      "0    Alice         HR   50000\n",
      "1      Bob         IT   60000\n",
      "2  Charlie    Finance   70000\n",
      "3    Diana         IT   55000\n",
      "4      Eve         HR   65000\n",
      "5    Frank    Finance   75000\n",
      "6    Grace         IT   58000\n",
      "7    Henry         HR   52000\n"
     ]
    }
   ],
   "source": [
    "# Transform: standardize within groups\n",
    "print(\"Salary standardized within Department:\")\n",
    "df['Salary_Std'] = df.groupby('Department')['Salary'].transform(lambda x: (x - x.mean()) / x.std())\n",
    "print(df[['Employee', 'Department', 'Salary', 'Salary_Std']])\n",
    "\n",
    "# Filter: keep only groups with more than 1 member\n",
    "print(\"\\nDepartments with more than 1 employee:\")\n",
    "filtered_groups = df.groupby('Department').filter(lambda x: len(x) > 1)\n",
    "print(filtered_groups[['Employee', 'Department']])\n",
    "\n",
    "# Filter: keep only groups where average salary > 55000\n",
    "print(\"\\nDepartments with average salary > 55000:\")\n",
    "high_salary_depts = df.groupby('Department').filter(lambda x: x['Salary'].mean() > 55000)\n",
    "print(high_salary_depts[['Employee', 'Department', 'Salary']])"
   ]
  },
  {
   "cell_type": "markdown",
   "id": "bd97508a",
   "metadata": {},
   "source": [
    "## Summary\n",
    "\n",
    "You have learned grouping and aggregation techniques in Pandas:\n",
    "\n",
    "- **Basic Grouping**: Using `groupby()` with single and multiple columns\n",
    "- **Aggregation Functions**: Built-in functions like `mean()`, `sum()`, `count()`\n",
    "- **Custom Aggregations**: Using `agg()` with custom functions and lambda expressions\n",
    "- **Transformation**: Using `transform()` to modify data within groups\n",
    "- **Filtering**: Using `filter()` to select groups based on conditions\n",
    "\n",
    "These operations are essential for data analysis and summarization tasks."
   ]
  }
 ],
 "metadata": {
  "kernelspec": {
   "display_name": "Python 3",
   "language": "python",
   "name": "python3"
  },
  "language_info": {
   "codemirror_mode": {
    "name": "ipython",
    "version": 3
   },
   "file_extension": ".py",
   "mimetype": "text/x-python",
   "name": "python",
   "nbconvert_exporter": "python",
   "pygments_lexer": "ipython3",
   "version": "3.13.1"
  }
 },
 "nbformat": 4,
 "nbformat_minor": 5
}
