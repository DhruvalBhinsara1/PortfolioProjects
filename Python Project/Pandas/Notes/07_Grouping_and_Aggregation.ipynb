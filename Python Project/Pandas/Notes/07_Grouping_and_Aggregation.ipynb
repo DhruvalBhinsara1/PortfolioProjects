{
 "cells": [
  {
   "cell_type": "markdown",
   "id": "6f401de8",
   "metadata": {},
   "source": [
    "# Grouping and Aggregation in Pandas\n",
    "\n",
    "This notebook covers grouping data and performing aggregation operations using Pandas' `groupby()` functionality."
   ]
  },
  {
   "cell_type": "code",
   "execution_count": null,
   "id": "58b17424",
   "metadata": {},
   "outputs": [],
   "source": [
    "# Import necessary libraries\n",
    "import pandas as pd\n",
    "import numpy as np\n",
    "\n",
    "print(f\"Pandas version: {pd.__version__}\")\n",
    "print(f\"NumPy version: {np.__version__}\")"
   ]
  },
  {
   "cell_type": "markdown",
   "id": "db2b27a6",
   "metadata": {},
   "source": [
    "## Sample Data\n",
    "\n",
    "Let's create a larger sample DataFrame suitable for grouping and aggregation operations."
   ]
  },
  {
   "cell_type": "code",
   "execution_count": null,
   "id": "c5dbd330",
   "metadata": {},
   "outputs": [],
   "source": [
    "# Create larger sample DataFrame\n",
    "np.random.seed(42)  # For reproducible results\n",
    "\n",
    "data = {\n",
    "    'Employee': ['Alice', 'Bob', 'Charlie', 'Diana', 'Eve', 'Frank', 'Grace', 'Henry'],\n",
    "    'Department': ['HR', 'IT', 'Finance', 'IT', 'HR', 'Finance', 'IT', 'HR'],\n",
    "    'City': ['New York', 'London', 'Paris', 'Tokyo', 'Sydney', 'New York', 'London', 'Paris'],\n",
    "    'Salary': [50000, 60000, 70000, 55000, 65000, 75000, 58000, 52000],\n",
    "    'Experience': [2, 5, 8, 3, 6, 10, 4, 3],\n",
    "    'Performance': ['Good', 'Excellent', 'Good', 'Excellent', 'Good', 'Excellent', 'Good', 'Good']\n",
    "}\n",
    "\n",
    "df = pd.DataFrame(data)\n",
    "print(\"Sample DataFrame:\")\n",
    "print(df)"
   ]
  },
  {
   "cell_type": "markdown",
   "id": "995cf879",
   "metadata": {},
   "source": [
    "## Basic Grouping\n",
    "\n",
    "The `groupby()` method allows you to group data by one or more columns and perform operations on each group."
   ]
  },
  {
   "cell_type": "code",
   "execution_count": null,
   "id": "3e4aaa78",
   "metadata": {},
   "outputs": [],
   "source": [
    "# Group by Department and get group sizes\n",
    "print(\"Group sizes by Department:\")\n",
    "print(df.groupby('Department').size())\n",
    "\n",
    "# Group by Department and calculate mean salary\n",
    "print(\"\\nAverage salary by Department:\")\n",
    "print(df.groupby('Department')['Salary'].mean())\n",
    "\n",
    "# Group by Department and get multiple aggregations\n",
    "print(\"\\nMultiple aggregations by Department:\")\n",
    "print(df.groupby('Department')['Salary'].agg(['mean', 'min', 'max', 'count']))\n",
    "\n",
    "# Group by multiple columns\n",
    "print(\"\\nAverage salary by Department and City:\")\n",
    "print(df.groupby(['Department', 'City'])['Salary'].mean())"
   ]
  },
  {
   "cell_type": "markdown",
   "id": "b060a9bd",
   "metadata": {},
   "source": [
    "## Custom Aggregation Functions\n",
    "\n",
    "You can use custom functions with `agg()` or apply functions to grouped data."
   ]
  },
  {
   "cell_type": "code",
   "execution_count": null,
   "id": "cdab230b",
   "metadata": {},
   "outputs": [],
   "source": [
    "# Custom aggregation function\n",
    "def salary_range(group):\n",
    "    return group.max() - group.min()\n",
    "\n",
    "print(\"Salary range by Department:\")\n",
    "print(df.groupby('Department')['Salary'].agg(salary_range))\n",
    "\n",
    "# Multiple custom aggregations\n",
    "print(\"\\nMultiple custom aggregations:\")\n",
    "result = df.groupby('Department')['Salary'].agg([\n",
    "    'mean',\n",
    "    'std',\n",
    "    lambda x: x.max() - x.min(),  # salary range\n",
    "    lambda x: x.quantile(0.75) - x.quantile(0.25)  # IQR\n",
    "])\n",
    "result.columns = ['mean', 'std', 'range', 'iqr']\n",
    "print(result)\n",
    "\n",
    "# Apply different functions to different columns\n",
    "print(\"\\nDifferent aggregations for different columns:\")\n",
    "print(df.groupby('Department').agg({\n",
    "    'Salary': ['mean', 'max'],\n",
    "    'Experience': 'mean',\n",
    "    'Employee': 'count'\n",
    "}))"
   ]
  },
  {
   "cell_type": "markdown",
   "id": "f72c4bf1",
   "metadata": {},
   "source": [
    "## Transformation and Filtering with Groups\n",
    "\n",
    "You can transform data within groups or filter groups based on conditions."
   ]
  },
  {
   "cell_type": "code",
   "execution_count": null,
   "id": "6612e102",
   "metadata": {},
   "outputs": [],
   "source": [
    "# Transform: standardize within groups\n",
    "print(\"Salary standardized within Department:\")\n",
    "df['Salary_Std'] = df.groupby('Department')['Salary'].transform(lambda x: (x - x.mean()) / x.std())\n",
    "print(df[['Employee', 'Department', 'Salary', 'Salary_Std']])\n",
    "\n",
    "# Filter: keep only groups with more than 1 member\n",
    "print(\"\\nDepartments with more than 1 employee:\")\n",
    "filtered_groups = df.groupby('Department').filter(lambda x: len(x) > 1)\n",
    "print(filtered_groups[['Employee', 'Department']])\n",
    "\n",
    "# Filter: keep only groups where average salary > 55000\n",
    "print(\"\\nDepartments with average salary > 55000:\")\n",
    "high_salary_depts = df.groupby('Department').filter(lambda x: x['Salary'].mean() > 55000)\n",
    "print(high_salary_depts[['Employee', 'Department', 'Salary']])"
   ]
  },
  {
   "cell_type": "markdown",
   "id": "bd97508a",
   "metadata": {},
   "source": [
    "## Summary\n",
    "\n",
    "You have learned grouping and aggregation techniques in Pandas:\n",
    "\n",
    "- **Basic Grouping**: Using `groupby()` with single and multiple columns\n",
    "- **Aggregation Functions**: Built-in functions like `mean()`, `sum()`, `count()`\n",
    "- **Custom Aggregations**: Using `agg()` with custom functions and lambda expressions\n",
    "- **Transformation**: Using `transform()` to modify data within groups\n",
    "- **Filtering**: Using `filter()` to select groups based on conditions\n",
    "\n",
    "These operations are essential for data analysis and summarization tasks."
   ]
  }
 ],
 "metadata": {
  "language_info": {
   "name": "python"
  }
 },
 "nbformat": 4,
 "nbformat_minor": 5
}
