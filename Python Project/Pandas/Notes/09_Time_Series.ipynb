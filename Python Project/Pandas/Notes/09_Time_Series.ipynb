{
 "cells": [
  {
   "cell_type": "markdown",
   "id": "acece100",
   "metadata": {},
   "source": [
    "# Time Series Data in Pandas\n",
    "\n",
    "This notebook covers working with time series data in Pandas, including date/time handling, indexing, and time-based operations."
   ]
  },
  {
   "cell_type": "code",
   "execution_count": null,
   "id": "0d091e94",
   "metadata": {},
   "outputs": [],
   "source": [
    "# Import necessary libraries\n",
    "import pandas as pd\n",
    "import numpy as np\n",
    "import matplotlib.pyplot as plt\n",
    "\n",
    "print(f\"Pandas version: {pd.__version__}\")\n",
    "print(f\"NumPy version: {np.__version__}\")"
   ]
  },
  {
   "cell_type": "markdown",
   "id": "6ec4809a",
   "metadata": {},
   "source": [
    "## Creating Time Series Data\n",
    "\n",
    "Pandas provides powerful tools for working with dates and times. Let's start by creating time series data."
   ]
  },
  {
   "cell_type": "code",
   "execution_count": null,
   "id": "ac5a4ab2",
   "metadata": {},
   "outputs": [],
   "source": [
    "# Create date range\n",
    "print(\"Date range:\")\n",
    "dates = pd.date_range('2023-01-01', periods=10, freq='D')\n",
    "print(dates)\n",
    "\n",
    "# Create time series DataFrame\n",
    "np.random.seed(42)\n",
    "ts_data = pd.DataFrame({\n",
    "    'Date': pd.date_range('2023-01-01', periods=100, freq='D'),\n",
    "    'Value': np.random.randn(100).cumsum() + 100,\n",
    "    'Category': np.random.choice(['A', 'B', 'C'], 100)\n",
    "})\n",
    "\n",
    "print(\"\\nTime series DataFrame:\")\n",
    "print(ts_data.head())\n",
    "\n",
    "# Set Date as index\n",
    "ts_data.set_index('Date', inplace=True)\n",
    "print(\"\\nDataFrame with DateTime index:\")\n",
    "print(ts_data.head())"
   ]
  },
  {
   "cell_type": "markdown",
   "id": "2320851d",
   "metadata": {},
   "source": [
    "## DateTime Indexing\n",
    "\n",
    "DateTime index allows for powerful time-based selection and slicing."
   ]
  },
  {
   "cell_type": "code",
   "execution_count": null,
   "id": "5ff26545",
   "metadata": {},
   "outputs": [],
   "source": [
    "# Select data for specific date\n",
    "print(\"Data for 2023-01-05:\")\n",
    "print(ts_data.loc['2023-01-05'])\n",
    "\n",
    "# Select date range\n",
    "print(\"\\nData for January 2023:\")\n",
    "print(ts_data.loc['2023-01-01':'2023-01-31'].head())\n",
    "\n",
    "# Select by year\n",
    "print(\"\\nData for 2023:\")\n",
    "print(ts_data.loc['2023'].head())\n",
    "\n",
    "# Select by month\n",
    "print(\"\\nData for January:\")\n",
    "print(ts_data.loc['2023-01'].head())\n",
    "\n",
    "# Partial string indexing\n",
    "print(\"\\nData for January 10-15:\")\n",
    "print(ts_data.loc['2023-01-10':'2023-01-15'])"
   ]
  },
  {
   "cell_type": "markdown",
   "id": "86deaf45",
   "metadata": {},
   "source": [
    "## Resampling\n",
    "\n",
    "Resampling allows you to change the frequency of your time series data (upsampling or downsampling)."
   ]
  },
  {
   "cell_type": "code",
   "execution_count": null,
   "id": "90219e04",
   "metadata": {},
   "outputs": [],
   "source": [
    "# Downsample to weekly data\n",
    "print(\"Weekly mean values:\")\n",
    "weekly_data = ts_data.resample('W').mean()\n",
    "print(weekly_data.head())\n",
    "\n",
    "# Downsample to monthly data\n",
    "print(\"\\nMonthly mean values:\")\n",
    "monthly_data = ts_data.resample('M').mean()\n",
    "print(monthly_data.head())\n",
    "\n",
    "# Custom aggregation during resampling\n",
    "print(\"\\nWeekly statistics:\")\n",
    "weekly_stats = ts_data.resample('W').agg({\n",
    "    'Value': ['mean', 'min', 'max', 'std']\n",
    "})\n",
    "print(weekly_stats.head())\n",
    "\n",
    "# Upsampling (from daily to hourly) - forward fill\n",
    "print(\"\\nUpsampling to 12-hourly (forward fill):\")\n",
    "hourly_data = ts_data.resample('12H').ffill()\n",
    "print(hourly_data.head())"
   ]
  },
  {
   "cell_type": "markdown",
   "id": "6f264e76",
   "metadata": {},
   "source": [
    "## Time Series Operations\n",
    "\n",
    "Pandas provides various operations specifically designed for time series data."
   ]
  },
  {
   "cell_type": "code",
   "execution_count": null,
   "id": "fd3deaa1",
   "metadata": {},
   "outputs": [],
   "source": [
    "# Calculate rolling statistics\n",
    "print(\"7-day rolling mean:\")\n",
    "rolling_mean = ts_data['Value'].rolling(window=7).mean()\n",
    "print(rolling_mean.head(10))\n",
    "\n",
    "# Calculate percentage change\n",
    "print(\"\\nDaily percentage change:\")\n",
    "pct_change = ts_data['Value'].pct_change()\n",
    "print(pct_change.head())\n",
    "\n",
    "# Shift data\n",
    "print(\"\\nShifted data (lag of 1):\")\n",
    "shifted = ts_data['Value'].shift(1)\n",
    "print(shifted.head())\n",
    "\n",
    "# Calculate difference\n",
    "print(\"\\nFirst difference:\")\n",
    "diff = ts_data['Value'].diff()\n",
    "print(diff.head())\n",
    "\n",
    "# Time-based grouping\n",
    "print(\"\\nAverage by month:\")\n",
    "monthly_avg = ts_data.groupby(pd.Grouper(freq='M')).mean()\n",
    "print(monthly_avg)"
   ]
  },
  {
   "cell_type": "markdown",
   "id": "6a669c3d",
   "metadata": {},
   "source": [
    "## Summary\n",
    "\n",
    "You have learned key time series operations in Pandas:\n",
    "\n",
    "- **Creating Time Series**: Using `date_range()` and DateTime indexing\n",
    "- **DateTime Indexing**: Selecting data by date ranges and partial strings\n",
    "- **Resampling**: Changing frequency with `resample()` (upsampling/downsampling)\n",
    "- **Time Series Operations**: Rolling statistics, percentage changes, shifting, and differencing\n",
    "\n",
    "These tools are essential for analyzing temporal data and time-dependent patterns."
   ]
  }
 ],
 "metadata": {
  "language_info": {
   "name": "python"
  }
 },
 "nbformat": 4,
 "nbformat_minor": 5
}
