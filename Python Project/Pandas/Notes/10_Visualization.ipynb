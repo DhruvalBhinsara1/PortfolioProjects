{
 "cells": [
  {
   "cell_type": "markdown",
   "id": "7d0cef04",
   "metadata": {},
   "source": [
    "# Data Visualization with Pandas\n",
    "\n",
    "This notebook covers data visualization capabilities in Pandas, including plotting methods and integration with Matplotlib."
   ]
  },
  {
   "cell_type": "code",
   "execution_count": null,
   "id": "5b144c37",
   "metadata": {},
   "outputs": [],
   "source": [
    "# Import necessary libraries\n",
    "import pandas as pd\n",
    "import numpy as np\n",
    "import matplotlib.pyplot as plt\n",
    "\n",
    "print(f\"Pandas version: {pd.__version__}\")\n",
    "print(f\"NumPy version: {np.__version__}\")\n",
    "print(f\"Matplotlib version: {plt.__version__}\")\n",
    "\n",
    "# Set up matplotlib for inline plotting\n",
    "%matplotlib inline\n",
    "plt.style.use('default')"
   ]
  },
  {
   "cell_type": "markdown",
   "id": "0427b7c4",
   "metadata": {},
   "source": [
    "## Sample Data\n",
    "\n",
    "Let's create sample data for visualization examples."
   ]
  },
  {
   "cell_type": "code",
   "execution_count": null,
   "id": "4059c2c1",
   "metadata": {},
   "outputs": [],
   "source": [
    "# Create sample data for visualization\n",
    "np.random.seed(42)\n",
    "\n",
    "# Sales data\n",
    "sales_data = pd.DataFrame({\n",
    "    'Month': pd.date_range('2023-01-01', periods=12, freq='M'),\n",
    "    'Sales': np.random.randint(10000, 50000, 12),\n",
    "    'Profit': np.random.randint(1000, 10000, 12),\n",
    "    'Region': np.random.choice(['North', 'South', 'East', 'West'], 12)\n",
    "})\n",
    "\n",
    "# Employee data\n",
    "employee_data = pd.DataFrame({\n",
    "    'Department': ['HR', 'IT', 'Finance', 'Marketing', 'Sales'] * 4,\n",
    "    'Salary': np.random.randint(40000, 80000, 20),\n",
    "    'Experience': np.random.randint(1, 15, 20),\n",
    "    'Performance': np.random.choice(['Low', 'Medium', 'High'], 20)\n",
    "})\n",
    "\n",
    "print(\"Sales Data:\")\n",
    "print(sales_data.head())\n",
    "print(\"\\nEmployee Data:\")\n",
    "print(employee_data.head())"
   ]
  },
  {
   "cell_type": "markdown",
   "id": "cb867368",
   "metadata": {},
   "source": [
    "## Line Plots\n",
    "\n",
    "Line plots are useful for showing trends over time or continuous data."
   ]
  },
  {
   "cell_type": "code",
   "execution_count": null,
   "id": "31b5a0f0",
   "metadata": {},
   "outputs": [],
   "source": [
    "# Set Month as index for time series plotting\n",
    "sales_ts = sales_data.set_index('Month')\n",
    "\n",
    "# Simple line plot\n",
    "print(\"Simple line plot of Sales:\")\n",
    "sales_ts['Sales'].plot(figsize=(10, 6), title='Monthly Sales', ylabel='Sales Amount')\n",
    "plt.show()\n",
    "\n",
    "# Multiple lines on same plot\n",
    "print(\"\\nMultiple line plot:\")\n",
    "sales_ts[['Sales', 'Profit']].plot(figsize=(10, 6), title='Sales and Profit Over Time')\n",
    "plt.show()\n",
    "\n",
    "# Line plot with markers\n",
    "print(\"\\nLine plot with markers:\")\n",
    "sales_ts['Sales'].plot(figsize=(10, 6), marker='o', linestyle='-', title='Monthly Sales with Markers')\n",
    "plt.show()"
   ]
  },
  {
   "cell_type": "markdown",
   "id": "894dd037",
   "metadata": {},
   "source": [
    "## Bar Plots\n",
    "\n",
    "Bar plots are effective for comparing categorical data or showing frequencies."
   ]
  },
  {
   "cell_type": "code",
   "execution_count": null,
   "id": "5227e10c",
   "metadata": {},
   "outputs": [],
   "source": [
    "# Bar plot of average salary by department\n",
    "print(\"Average salary by department:\")\n",
    "dept_avg_salary = employee_data.groupby('Department')['Salary'].mean()\n",
    "dept_avg_salary.plot(kind='bar', figsize=(10, 6), title='Average Salary by Department', ylabel='Salary')\n",
    "plt.show()\n",
    "\n",
    "# Horizontal bar plot\n",
    "print(\"\\nHorizontal bar plot:\")\n",
    "dept_avg_salary.plot(kind='barh', figsize=(10, 6), title='Average Salary by Department')\n",
    "plt.show()\n",
    "\n",
    "# Stacked bar plot\n",
    "print(\"\\nStacked bar plot of department counts by performance:\")\n",
    "dept_performance = pd.crosstab(employee_data['Department'], employee_data['Performance'])\n",
    "dept_performance.plot(kind='bar', stacked=True, figsize=(10, 6), title='Performance Distribution by Department')\n",
    "plt.show()"
   ]
  },
  {
   "cell_type": "markdown",
   "id": "3c23ebc3",
   "metadata": {},
   "source": [
    "## Histograms and Box Plots\n",
    "\n",
    "These plots help understand the distribution of numerical data."
   ]
  },
  {
   "cell_type": "code",
   "execution_count": null,
   "id": "f748cea1",
   "metadata": {},
   "outputs": [],
   "source": [
    "# Histogram of salaries\n",
    "print(\"Histogram of salaries:\")\n",
    "employee_data['Salary'].plot(kind='hist', bins=10, figsize=(10, 6), title='Salary Distribution', xlabel='Salary')\n",
    "plt.show()\n",
    "\n",
    "# Box plot of salaries by department\n",
    "print(\"\\nBox plot of salaries by department:\")\n",
    "employee_data.boxplot(column='Salary', by='Department', figsize=(10, 6))\n",
    "plt.title('Salary Distribution by Department')\n",
    "plt.suptitle('')  # Remove automatic suptitle\n",
    "plt.show()\n",
    "\n",
    "# Multiple box plots\n",
    "print(\"\\nBox plots for Salary and Experience:\")\n",
    "employee_data[['Salary', 'Experience']].plot(kind='box', figsize=(10, 6), title='Distribution of Salary and Experience')\n",
    "plt.show()"
   ]
  },
  {
   "cell_type": "markdown",
   "id": "95941e4b",
   "metadata": {},
   "source": [
    "## Scatter Plots and Area Plots\n",
    "\n",
    "Scatter plots show relationships between variables, while area plots show cumulative data."
   ]
  },
  {
   "cell_type": "code",
   "execution_count": null,
   "id": "34e0b2fe",
   "metadata": {},
   "outputs": [],
   "source": [
    "# Scatter plot of Salary vs Experience\n",
    "print(\"Scatter plot of Salary vs Experience:\")\n",
    "employee_data.plot(kind='scatter', x='Experience', y='Salary', figsize=(10, 6), title='Salary vs Experience')\n",
    "plt.show()\n",
    "\n",
    "# Scatter plot with color coding\n",
    "print(\"\\nScatter plot colored by Performance:\")\n",
    "colors = {'Low': 'red', 'Medium': 'yellow', 'High': 'green'}\n",
    "employee_data['Color'] = employee_data['Performance'].map(colors)\n",
    "employee_data.plot(kind='scatter', x='Experience', y='Salary', c='Color', figsize=(10, 6), title='Salary vs Experience by Performance')\n",
    "plt.show()\n",
    "\n",
    "# Area plot\n",
    "print(\"\\nArea plot of Sales and Profit:\")\n",
    "sales_ts[['Sales', 'Profit']].plot(kind='area', figsize=(10, 6), title='Sales and Profit Over Time', stacked=False)\n",
    "plt.show()\n",
    "\n",
    "# Stacked area plot\n",
    "print(\"\\nStacked area plot:\")\n",
    "sales_ts[['Sales', 'Profit']].plot(kind='area', figsize=(10, 6), title='Sales and Profit Over Time', stacked=True)\n",
    "plt.show()"
   ]
  },
  {
   "cell_type": "markdown",
   "id": "4f5b54d8",
   "metadata": {},
   "source": [
    "## Summary\n",
    "\n",
    "You have learned various data visualization techniques in Pandas:\n",
    "\n",
    "- **Line Plots**: For showing trends over time or continuous data\n",
    "- **Bar Plots**: For comparing categorical data (vertical/horizontal/stacked)\n",
    "- **Histograms and Box Plots**: For understanding data distributions\n",
    "- **Scatter Plots**: For showing relationships between variables\n",
    "- **Area Plots**: For displaying cumulative data over time\n",
    "\n",
    "Pandas plotting integrates seamlessly with Matplotlib and provides convenient methods for quick data exploration and presentation."
   ]
  }
 ],
 "metadata": {
  "language_info": {
   "name": "python"
  }
 },
 "nbformat": 4,
 "nbformat_minor": 5
}
