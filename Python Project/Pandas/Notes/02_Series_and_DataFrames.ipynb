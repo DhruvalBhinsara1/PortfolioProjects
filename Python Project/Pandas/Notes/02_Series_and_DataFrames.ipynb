{
 "cells": [
  {
   "cell_type": "markdown",
   "id": "8650a1c1",
   "metadata": {},
   "source": [
    "# Series and DataFrames in Pandas\n",
    "\n",
    "This notebook covers the fundamental data structures in Pandas: Series (1-dimensional) and DataFrame (2-dimensional). You'll learn how to create, manipulate, and work with these core objects."
   ]
  },
  {
   "cell_type": "markdown",
   "id": "6044fa02",
   "metadata": {},
   "source": [
    "## Import Pandas"
   ]
  },
  {
   "cell_type": "code",
   "execution_count": 1,
   "id": "b15f975b",
   "metadata": {},
   "outputs": [],
   "source": [
    "import pandas as pd\n",
    "import numpy as np"
   ]
  },
  {
   "cell_type": "markdown",
   "id": "e65eb39f",
   "metadata": {},
   "source": [
    "## Pandas Series\n",
    "\n",
    "A Series is a one-dimensional labeled array that can hold any data type."
   ]
  },
  {
   "cell_type": "code",
   "execution_count": 2,
   "id": "05de6e39",
   "metadata": {},
   "outputs": [
    {
     "name": "stdout",
     "output_type": "stream",
     "text": [
      "Series from list:\n",
      "0    1\n",
      "1    3\n",
      "2    5\n",
      "3    6\n",
      "4    8\n",
      "dtype: int64\n",
      "\n",
      "Series with custom index:\n",
      "a    1\n",
      "b    3\n",
      "c    5\n",
      "d    6\n",
      "e    8\n",
      "dtype: int64\n",
      "\n",
      "Series from NumPy array:\n",
      "A    10\n",
      "B    20\n",
      "C    30\n",
      "D    40\n",
      "E    50\n",
      "dtype: int64\n",
      "\n",
      "Series from dictionary:\n",
      "Alice      25\n",
      "Bob        30\n",
      "Charlie    35\n",
      "dtype: int64\n"
     ]
    }
   ],
   "source": [
    "# Creating Series from different sources\n",
    "\n",
    "# From a list\n",
    "s1 = pd.Series([1, 3, 5, 6, 8])\n",
    "print('Series from list:')\n",
    "print(s1)\n",
    "print()\n",
    "\n",
    "# From a list with custom index\n",
    "s2 = pd.Series([1, 3, 5, 6, 8], index=['a', 'b', 'c', 'd', 'e'])\n",
    "print('Series with custom index:')\n",
    "print(s2)\n",
    "print()\n",
    "\n",
    "# From a NumPy array\n",
    "arr = np.array([10, 20, 30, 40, 50])\n",
    "s3 = pd.Series(arr, index=['A', 'B', 'C', 'D', 'E'])\n",
    "print('Series from NumPy array:')\n",
    "print(s3)\n",
    "print()\n",
    "\n",
    "# From a dictionary\n",
    "data = {'Alice': 25, 'Bob': 30, 'Charlie': 35}\n",
    "s4 = pd.Series(data)\n",
    "print('Series from dictionary:')\n",
    "print(s4)"
   ]
  },
  {
   "cell_type": "code",
   "execution_count": 3,
   "id": "73fc9bcb",
   "metadata": {},
   "outputs": [
    {
     "name": "stdout",
     "output_type": "stream",
     "text": [
      "Series:\n",
      "a    10\n",
      "b    20\n",
      "c    30\n",
      "d    40\n",
      "e    50\n",
      "dtype: int64\n",
      "Values: [10 20 30 40 50]\n",
      "Index: Index(['a', 'b', 'c', 'd', 'e'], dtype='object')\n",
      "Data type: int64\n",
      "Shape: (5,)\n",
      "Size: 5\n",
      "\n",
      "Sum: 150\n",
      "Mean: 30.0\n",
      "Max: 50\n",
      "Min: 10\n",
      "Standard deviation: 15.811388300841896\n"
     ]
    }
   ],
   "source": [
    "# Series attributes and methods\n",
    "s = pd.Series([10, 20, 30, 40, 50], index=['a', 'b', 'c', 'd', 'e'])\n",
    "\n",
    "print('Series:')\n",
    "print(s)\n",
    "print('Values:', s.values)\n",
    "print('Index:', s.index)\n",
    "print('Data type:', s.dtype)\n",
    "print('Shape:', s.shape)\n",
    "print('Size:', s.size)\n",
    "print()\n",
    "\n",
    "# Basic operations\n",
    "print('Sum:', s.sum())\n",
    "print('Mean:', s.mean())\n",
    "print('Max:', s.max())\n",
    "print('Min:', s.min())\n",
    "print('Standard deviation:', s.std())"
   ]
  },
  {
   "cell_type": "markdown",
   "id": "f5643c23",
   "metadata": {},
   "source": [
    "## Pandas DataFrame\n",
    "\n",
    "A DataFrame is a 2-dimensional labeled data structure with columns of potentially different types."
   ]
  },
  {
   "cell_type": "code",
   "execution_count": 4,
   "id": "de0272af",
   "metadata": {},
   "outputs": [
    {
     "name": "stdout",
     "output_type": "stream",
     "text": [
      "DataFrame from dictionary:\n",
      "      Name  Age      City  Salary\n",
      "0    Alice   25  New York   50000\n",
      "1      Bob   30    London   60000\n",
      "2  Charlie   35     Paris   70000\n",
      "3    David   40     Tokyo   80000\n",
      "\n",
      "DataFrame from list of lists:\n",
      "      Name  Age      City  Salary\n",
      "0    Alice   25  New York   50000\n",
      "1      Bob   30    London   60000\n",
      "2  Charlie   35     Paris   70000\n",
      "3    David   40     Tokyo   80000\n",
      "\n",
      "DataFrame from NumPy array:\n",
      "             A         B         C\n",
      "Row1  0.532078  0.253789  0.594458\n",
      "Row2  0.702915  0.840592  0.659638\n",
      "Row3  0.851163  0.387950  0.094497\n",
      "Row4  0.149373  0.132628  0.273282\n"
     ]
    }
   ],
   "source": [
    "# Creating DataFrames from different sources\n",
    "\n",
    "# From a dictionary\n",
    "data = {\n",
    "    'Name': ['Alice', 'Bob', 'Charlie', 'David'],\n",
    "    'Age': [25, 30, 35, 40],\n",
    "    'City': ['New York', 'London', 'Paris', 'Tokyo'],\n",
    "    'Salary': [50000, 60000, 70000, 80000]\n",
    "}\n",
    "df1 = pd.DataFrame(data)\n",
    "print('DataFrame from dictionary:')\n",
    "print(df1)\n",
    "print()\n",
    "\n",
    "# From a list of lists\n",
    "data_list = [\n",
    "    ['Alice', 25, 'New York', 50000],\n",
    "    ['Bob', 30, 'London', 60000],\n",
    "    ['Charlie', 35, 'Paris', 70000],\n",
    "    ['David', 40, 'Tokyo', 80000]\n",
    "]\n",
    "df2 = pd.DataFrame(data_list, columns=['Name', 'Age', 'City', 'Salary'])\n",
    "print('DataFrame from list of lists:')\n",
    "print(df2)\n",
    "print()\n",
    "\n",
    "# From a NumPy array\n",
    "arr = np.random.rand(4, 3)\n",
    "df3 = pd.DataFrame(arr, columns=['A', 'B', 'C'], index=['Row1', 'Row2', 'Row3', 'Row4'])\n",
    "print('DataFrame from NumPy array:')\n",
    "print(df3)"
   ]
  },
  {
   "cell_type": "code",
   "execution_count": 5,
   "id": "7ef3f364",
   "metadata": {},
   "outputs": [
    {
     "name": "stdout",
     "output_type": "stream",
     "text": [
      "DataFrame:\n",
      "      Name  Age      City  Salary\n",
      "0    Alice   25  New York   50000\n",
      "1      Bob   30    London   60000\n",
      "2  Charlie   35     Paris   70000\n",
      "3    David   40     Tokyo   80000\n",
      "\n",
      "Shape: (4, 4)\n",
      "Columns: ['Name', 'Age', 'City', 'Salary']\n",
      "Index: [0, 1, 2, 3]\n",
      "Data types:\n",
      "Name      object\n",
      "Age        int64\n",
      "City      object\n",
      "Salary     int64\n",
      "dtype: object\n",
      "\n",
      "Info:\n",
      "<class 'pandas.core.frame.DataFrame'>\n",
      "RangeIndex: 4 entries, 0 to 3\n",
      "Data columns (total 4 columns):\n",
      " #   Column  Non-Null Count  Dtype \n",
      "---  ------  --------------  ----- \n",
      " 0   Name    4 non-null      object\n",
      " 1   Age     4 non-null      int64 \n",
      " 2   City    4 non-null      object\n",
      " 3   Salary  4 non-null      int64 \n",
      "dtypes: int64(2), object(2)\n",
      "memory usage: 260.0+ bytes\n",
      "None\n",
      "\n",
      "Statistical summary:\n",
      "             Age        Salary\n",
      "count   4.000000      4.000000\n",
      "mean   32.500000  65000.000000\n",
      "std     6.454972  12909.944487\n",
      "min    25.000000  50000.000000\n",
      "25%    28.750000  57500.000000\n",
      "50%    32.500000  65000.000000\n",
      "75%    36.250000  72500.000000\n",
      "max    40.000000  80000.000000\n"
     ]
    }
   ],
   "source": [
    "# DataFrame attributes and methods\n",
    "df = pd.DataFrame(data)\n",
    "\n",
    "print('DataFrame:')\n",
    "print(df)\n",
    "print()\n",
    "print('Shape:', df.shape)\n",
    "print('Columns:', list(df.columns))\n",
    "print('Index:', list(df.index))\n",
    "print('Data types:')\n",
    "print(df.dtypes)\n",
    "print()\n",
    "\n",
    "# Basic information\n",
    "print('Info:')\n",
    "print(df.info())\n",
    "print()\n",
    "\n",
    "# Statistical summary\n",
    "print('Statistical summary:')\n",
    "print(df.describe())"
   ]
  },
  {
   "cell_type": "markdown",
   "id": "7d202ab4",
   "metadata": {},
   "source": [
    "## Summary\n",
    "\n",
    "You have learned about Pandas' core data structures:\n",
    "- **Series**: 1-dimensional labeled array\n",
    "- **DataFrame**: 2-dimensional labeled data structure\n",
    "\n",
    "Both Series and DataFrame provide powerful methods for data manipulation, indexing, and analysis. DataFrames are the most commonly used structure for data analysis tasks."
   ]
  }
 ],
 "metadata": {
  "kernelspec": {
   "display_name": "Python 3",
   "language": "python",
   "name": "python3"
  },
  "language_info": {
   "codemirror_mode": {
    "name": "ipython",
    "version": 3
   },
   "file_extension": ".py",
   "mimetype": "text/x-python",
   "name": "python",
   "nbconvert_exporter": "python",
   "pygments_lexer": "ipython3",
   "version": "3.13.1"
  }
 },
 "nbformat": 4,
 "nbformat_minor": 5
}
