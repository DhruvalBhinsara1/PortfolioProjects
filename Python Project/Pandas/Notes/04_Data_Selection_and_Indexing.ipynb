{
 "cells": [
  {
   "cell_type": "markdown",
   "id": "fbe9d4cc",
   "metadata": {},
   "source": [
    "# Data Selection and Indexing in Pandas\n",
    "\n",
    "This notebook covers various techniques for selecting and indexing data in Pandas DataFrames and Series."
   ]
  },
  {
   "cell_type": "code",
   "execution_count": 1,
   "id": "5868de79",
   "metadata": {},
   "outputs": [
    {
     "name": "stdout",
     "output_type": "stream",
     "text": [
      "Pandas version: 2.2.3\n",
      "NumPy version: 2.2.4\n"
     ]
    }
   ],
   "source": [
    "# Import necessary libraries\n",
    "import pandas as pd\n",
    "import numpy as np\n",
    "\n",
    "print(f\"Pandas version: {pd.__version__}\")\n",
    "print(f\"NumPy version: {np.__version__}\")"
   ]
  },
  {
   "cell_type": "markdown",
   "id": "18235faa",
   "metadata": {},
   "source": [
    "## Sample Data\n",
    "\n",
    "Let's create a sample DataFrame to demonstrate various selection and indexing techniques."
   ]
  },
  {
   "cell_type": "code",
   "execution_count": 2,
   "id": "86e39d7a",
   "metadata": {},
   "outputs": [
    {
     "name": "stdout",
     "output_type": "stream",
     "text": [
      "Sample DataFrame:\n",
      "      Name  Age      City  Salary Department\n",
      "A    Alice   25  New York   50000         HR\n",
      "B      Bob   30    London   60000         IT\n",
      "C  Charlie   35     Paris   70000    Finance\n",
      "D    Diana   28     Tokyo   55000         IT\n",
      "E      Eve   32    Sydney   65000         HR\n"
     ]
    }
   ],
   "source": [
    "# Create sample DataFrame\n",
    "data = {\n",
    "    'Name': ['Alice', 'Bob', 'Charlie', 'Diana', 'Eve'],\n",
    "    'Age': [25, 30, 35, 28, 32],\n",
    "    'City': ['New York', 'London', 'Paris', 'Tokyo', 'Sydney'],\n",
    "    'Salary': [50000, 60000, 70000, 55000, 65000],\n",
    "    'Department': ['HR', 'IT', 'Finance', 'IT', 'HR']\n",
    "}\n",
    "\n",
    "df = pd.DataFrame(data, index=['A', 'B', 'C', 'D', 'E'])\n",
    "print(\"Sample DataFrame:\")\n",
    "print(df)"
   ]
  },
  {
   "cell_type": "markdown",
   "id": "27ebac74",
   "metadata": {},
   "source": [
    "## Column Selection\n",
    "\n",
    "You can select columns using bracket notation or dot notation."
   ]
  },
  {
   "cell_type": "code",
   "execution_count": 3,
   "id": "9c8a6edb",
   "metadata": {},
   "outputs": [
    {
     "name": "stdout",
     "output_type": "stream",
     "text": [
      "Single column selection:\n",
      "A      Alice\n",
      "B        Bob\n",
      "C    Charlie\n",
      "D      Diana\n",
      "E        Eve\n",
      "Name: Name, dtype: object\n",
      "\n",
      "Multiple column selection:\n",
      "      Name  Age\n",
      "A    Alice   25\n",
      "B      Bob   30\n",
      "C  Charlie   35\n",
      "D    Diana   28\n",
      "E      Eve   32\n",
      "\n",
      "Using dot notation:\n",
      "A      Alice\n",
      "B        Bob\n",
      "C    Charlie\n",
      "D      Diana\n",
      "E        Eve\n",
      "Name: Name, dtype: object\n"
     ]
    }
   ],
   "source": [
    "# Select single column\n",
    "print(\"Single column selection:\")\n",
    "print(df['Name'])\n",
    "\n",
    "# Select multiple columns\n",
    "print(\"\\nMultiple column selection:\")\n",
    "print(df[['Name', 'Age']])\n",
    "\n",
    "# Select using dot notation (only works for valid column names)\n",
    "print(\"\\nUsing dot notation:\")\n",
    "print(df.Name)"
   ]
  },
  {
   "cell_type": "markdown",
   "id": "1310a852",
   "metadata": {},
   "source": [
    "## Label-based Selection (.loc)\n",
    "\n",
    "The `.loc` indexer is used for label-based data selection."
   ]
  },
  {
   "cell_type": "code",
   "execution_count": 4,
   "id": "04677482",
   "metadata": {},
   "outputs": [
    {
     "name": "stdout",
     "output_type": "stream",
     "text": [
      "Select row 'B':\n",
      "Name             Bob\n",
      "Age               30\n",
      "City          London\n",
      "Salary         60000\n",
      "Department        IT\n",
      "Name: B, dtype: object\n",
      "\n",
      "Select rows 'A' and 'C':\n",
      "      Name  Age      City  Salary Department\n",
      "A    Alice   25  New York   50000         HR\n",
      "C  Charlie   35     Paris   70000    Finance\n",
      "\n",
      "Select row 'B', column 'Name':\n",
      "Bob\n",
      "\n",
      "Select rows 'A' to 'C', columns 'Name' and 'Age':\n",
      "      Name  Age\n",
      "A    Alice   25\n",
      "B      Bob   30\n",
      "C  Charlie   35\n"
     ]
    }
   ],
   "source": [
    "# Select row by label\n",
    "print(\"Select row 'B':\")\n",
    "print(df.loc['B'])\n",
    "\n",
    "# Select multiple rows\n",
    "print(\"\\nSelect rows 'A' and 'C':\")\n",
    "print(df.loc[['A', 'C']])\n",
    "\n",
    "# Select row and column\n",
    "print(\"\\nSelect row 'B', column 'Name':\")\n",
    "print(df.loc['B', 'Name'])\n",
    "\n",
    "# Select multiple rows and columns\n",
    "print(\"\\nSelect rows 'A' to 'C', columns 'Name' and 'Age':\")\n",
    "print(df.loc['A':'C', ['Name', 'Age']])"
   ]
  },
  {
   "cell_type": "markdown",
   "id": "7da66a15",
   "metadata": {},
   "source": [
    "## Integer-based Selection (.iloc)\n",
    "\n",
    "The `.iloc` indexer is used for integer position-based data selection."
   ]
  },
  {
   "cell_type": "code",
   "execution_count": 5,
   "id": "612da014",
   "metadata": {},
   "outputs": [
    {
     "name": "stdout",
     "output_type": "stream",
     "text": [
      "Select row at position 1:\n",
      "Name             Bob\n",
      "Age               30\n",
      "City          London\n",
      "Salary         60000\n",
      "Department        IT\n",
      "Name: B, dtype: object\n",
      "\n",
      "Select rows at positions 0 and 2:\n",
      "      Name  Age      City  Salary Department\n",
      "A    Alice   25  New York   50000         HR\n",
      "C  Charlie   35     Paris   70000    Finance\n",
      "\n",
      "Select row 1, column 0:\n",
      "Bob\n",
      "\n",
      "Select rows 0 to 2, columns 0 to 2:\n",
      "      Name  Age      City\n",
      "A    Alice   25  New York\n",
      "B      Bob   30    London\n",
      "C  Charlie   35     Paris\n"
     ]
    }
   ],
   "source": [
    "# Select row by integer position\n",
    "print(\"Select row at position 1:\")\n",
    "print(df.iloc[1])\n",
    "\n",
    "# Select multiple rows by position\n",
    "print(\"\\nSelect rows at positions 0 and 2:\")\n",
    "print(df.iloc[[0, 2]])\n",
    "\n",
    "# Select row and column by position\n",
    "print(\"\\nSelect row 1, column 0:\")\n",
    "print(df.iloc[1, 0])\n",
    "\n",
    "# Select range of rows and columns\n",
    "print(\"\\nSelect rows 0 to 2, columns 0 to 2:\")\n",
    "print(df.iloc[0:3, 0:3])"
   ]
  },
  {
   "cell_type": "markdown",
   "id": "84746325",
   "metadata": {},
   "source": [
    "## Boolean Indexing\n",
    "\n",
    "Boolean indexing allows you to filter data based on conditions."
   ]
  },
  {
   "cell_type": "code",
   "execution_count": 6,
   "id": "a6a7db0f",
   "metadata": {},
   "outputs": [
    {
     "name": "stdout",
     "output_type": "stream",
     "text": [
      "Employees older than 30:\n",
      "      Name  Age    City  Salary Department\n",
      "C  Charlie   35   Paris   70000    Finance\n",
      "E      Eve   32  Sydney   65000         HR\n",
      "\n",
      "Employees in IT department with salary > 55000:\n",
      "  Name  Age    City  Salary Department\n",
      "B  Bob   30  London   60000         IT\n",
      "\n",
      "Employees in HR or Finance:\n",
      "      Name  Age      City  Salary Department\n",
      "A    Alice   25  New York   50000         HR\n",
      "C  Charlie   35     Paris   70000    Finance\n",
      "E      Eve   32    Sydney   65000         HR\n",
      "\n",
      "Employees NOT in IT:\n",
      "      Name  Age      City  Salary Department\n",
      "A    Alice   25  New York   50000         HR\n",
      "C  Charlie   35     Paris   70000    Finance\n",
      "E      Eve   32    Sydney   65000         HR\n"
     ]
    }
   ],
   "source": [
    "# Boolean indexing\n",
    "print(\"Employees older than 30:\")\n",
    "print(df[df['Age'] > 30])\n",
    "\n",
    "# Multiple conditions\n",
    "print(\"\\nEmployees in IT department with salary > 55000:\")\n",
    "print(df[(df['Department'] == 'IT') & (df['Salary'] > 55000)])\n",
    "\n",
    "# Using isin() for multiple values\n",
    "print(\"\\nEmployees in HR or Finance:\")\n",
    "print(df[df['Department'].isin(['HR', 'Finance'])])\n",
    "\n",
    "# Using ~ for negation\n",
    "print(\"\\nEmployees NOT in IT:\")\n",
    "print(df[~(df['Department'] == 'IT')])"
   ]
  },
  {
   "cell_type": "markdown",
   "id": "e13b13bb",
   "metadata": {},
   "source": [
    "## Summary\n",
    "\n",
    "You have learned various data selection and indexing techniques in Pandas:\n",
    "\n",
    "- **Column Selection**: Using brackets `[]` or dot notation\n",
    "- **Label-based Selection (.loc)**: Select by row/column labels\n",
    "- **Integer-based Selection (.iloc)**: Select by integer positions\n",
    "- **Boolean Indexing**: Filter data based on conditions\n",
    "\n",
    "These methods provide flexible ways to access and manipulate your data in DataFrames and Series."
   ]
  }
 ],
 "metadata": {
  "kernelspec": {
   "display_name": "Python 3",
   "language": "python",
   "name": "python3"
  },
  "language_info": {
   "codemirror_mode": {
    "name": "ipython",
    "version": 3
   },
   "file_extension": ".py",
   "mimetype": "text/x-python",
   "name": "python",
   "nbconvert_exporter": "python",
   "pygments_lexer": "ipython3",
   "version": "3.13.1"
  }
 },
 "nbformat": 4,
 "nbformat_minor": 5
}
