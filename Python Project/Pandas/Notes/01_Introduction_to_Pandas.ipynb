{
 "cells": [
  {
   "cell_type": "markdown",
   "id": "2b6e2936",
   "metadata": {},
   "source": [
    "# Introduction to Pandas\n",
    "\n",
    "Pandas is a powerful Python library for data manipulation and analysis. It provides data structures and operations for working with structured data, making it an essential tool for data science, machine learning, and data analysis tasks.\n",
    "\n",
    "In this notebook, you'll learn the basics of Pandas, including installation, importing, and core concepts."
   ]
  },
  {
   "cell_type": "markdown",
   "id": "e9d8d6b0",
   "metadata": {},
   "source": [
    "## Why Use Pandas?\n",
    "\n",
    "- **Easy data manipulation**: Handle missing data, filtering, grouping, and transforming data\n",
    "- **Powerful data structures**: Series and DataFrame provide flexible data handling\n",
    "- **Data alignment**: Automatic alignment of data by labels\n",
    "- **Integrated with other libraries**: Works seamlessly with NumPy, Matplotlib, Scikit-learn, etc.\n",
    "- **Time series support**: Excellent tools for time series data\n",
    "- **I/O capabilities**: Read/write data from various formats (CSV, Excel, SQL, JSON, etc.)\n",
    "- **Performance**: Built on top of NumPy for efficient computations"
   ]
  },
  {
   "cell_type": "markdown",
   "id": "47745675",
   "metadata": {},
   "source": [
    "## Importing Pandas\n",
    "\n",
    "The convention is to import Pandas as `pd`:"
   ]
  },
  {
   "cell_type": "code",
   "execution_count": 1,
   "id": "96ad9966",
   "metadata": {},
   "outputs": [
    {
     "name": "stdout",
     "output_type": "stream",
     "text": [
      "Pandas version: 2.2.3\n",
      "NumPy version: 2.2.4\n"
     ]
    }
   ],
   "source": [
    "import pandas as pd\n",
    "import numpy as np\n",
    "\n",
    "# Check Pandas version\n",
    "print('Pandas version:', pd.__version__)\n",
    "print('NumPy version:', np.__version__)"
   ]
  },
  {
   "cell_type": "markdown",
   "id": "4a998f30",
   "metadata": {},
   "source": [
    "## Core Data Structures\n",
    "\n",
    "Pandas provides two main data structures:\n",
    "\n",
    "1. **Series**: One-dimensional labeled array\n",
    "2. **DataFrame**: Two-dimensional labeled data structure with columns of potentially different types\n",
    "\n",
    "Let's create some basic examples:"
   ]
  },
  {
   "cell_type": "code",
   "execution_count": 2,
   "id": "5b9a7a60",
   "metadata": {},
   "outputs": [
    {
     "name": "stdout",
     "output_type": "stream",
     "text": [
      "Series:\n",
      "0    1\n",
      "1    3\n",
      "2    5\n",
      "3    6\n",
      "4    8\n",
      "dtype: int64\n",
      "Type: <class 'pandas.core.series.Series'>\n",
      "\n",
      "DataFrame:\n",
      "      Name  Age      City\n",
      "0    Alice   25  New York\n",
      "1      Bob   30    London\n",
      "2  Charlie   35     Paris\n",
      "3    David   40     Tokyo\n",
      "Type: <class 'pandas.core.frame.DataFrame'>\n",
      "Shape: (4, 3)\n",
      "Columns: ['Name', 'Age', 'City']\n",
      "Index: [0, 1, 2, 3]\n"
     ]
    }
   ],
   "source": [
    "# Creating a Series\n",
    "s = pd.Series([1, 3, 5, 6, 8])\n",
    "print('Series:')\n",
    "print(s)\n",
    "print('Type:', type(s))\n",
    "print()\n",
    "\n",
    "# Creating a DataFrame\n",
    "data = {\n",
    "    'Name': ['Alice', 'Bob', 'Charlie', 'David'],\n",
    "    'Age': [25, 30, 35, 40],\n",
    "    'City': ['New York', 'London', 'Paris', 'Tokyo']\n",
    "}\n",
    "df = pd.DataFrame(data)\n",
    "print('DataFrame:')\n",
    "print(df)\n",
    "print('Type:', type(df))\n",
    "print('Shape:', df.shape)\n",
    "print('Columns:', list(df.columns))\n",
    "print('Index:', list(df.index))"
   ]
  },
  {
   "cell_type": "markdown",
   "id": "e5ec5485",
   "metadata": {},
   "source": [
    "## Summary\n",
    "\n",
    "You have learned the basics of Pandas, including installation, importing, and the core data structures (Series and DataFrame). In the following notebooks, you'll explore how to read data, manipulate it, clean it, and perform various analyses.\n",
    "\n",
    "Pandas is built on top of NumPy and provides high-level data manipulation tools that make working with structured data intuitive and efficient."
   ]
  }
 ],
 "metadata": {
  "kernelspec": {
   "display_name": "Python 3",
   "language": "python",
   "name": "python3"
  },
  "language_info": {
   "codemirror_mode": {
    "name": "ipython",
    "version": 3
   },
   "file_extension": ".py",
   "mimetype": "text/x-python",
   "name": "python",
   "nbconvert_exporter": "python",
   "pygments_lexer": "ipython3",
   "version": "3.13.1"
  }
 },
 "nbformat": 4,
 "nbformat_minor": 5
}
