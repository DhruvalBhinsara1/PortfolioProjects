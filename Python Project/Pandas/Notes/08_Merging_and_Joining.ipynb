{
 "cells": [
  {
   "cell_type": "markdown",
   "id": "54bc0772",
   "metadata": {},
   "source": [
    "# Merging and Joining DataFrames in Pandas\n",
    "\n",
    "This notebook covers various techniques for combining DataFrames using merge, join, and concatenate operations."
   ]
  },
  {
   "cell_type": "code",
   "execution_count": 1,
   "id": "9a51e6de",
   "metadata": {},
   "outputs": [
    {
     "name": "stdout",
     "output_type": "stream",
     "text": [
      "Pandas version: 2.2.3\n",
      "NumPy version: 2.2.4\n"
     ]
    }
   ],
   "source": [
    "# Import necessary libraries\n",
    "import pandas as pd\n",
    "import numpy as np\n",
    "\n",
    "print(f\"Pandas version: {pd.__version__}\")\n",
    "print(f\"NumPy version: {np.__version__}\")"
   ]
  },
  {
   "cell_type": "markdown",
   "id": "9693be97",
   "metadata": {},
   "source": [
    "## Sample Data\n",
    "\n",
    "Let's create sample DataFrames to demonstrate merging and joining operations."
   ]
  },
  {
   "cell_type": "code",
   "execution_count": 2,
   "id": "ae06af92",
   "metadata": {},
   "outputs": [
    {
     "name": "stdout",
     "output_type": "stream",
     "text": [
      "Employees DataFrame:\n",
      "   EmployeeID     Name  DepartmentID\n",
      "0           1    Alice           101\n",
      "1           2      Bob           102\n",
      "2           3  Charlie           101\n",
      "3           4    Diana           103\n",
      "4           5      Eve           102\n",
      "\n",
      "Departments DataFrame:\n",
      "   DepartmentID DepartmentName  Location\n",
      "0           101             HR  New York\n",
      "1           102             IT    London\n",
      "2           103        Finance     Paris\n",
      "3           104      Marketing     Tokyo\n",
      "\n",
      "Salaries DataFrame:\n",
      "   EmployeeID  Salary  Bonus\n",
      "0           1   50000   5000\n",
      "1           2   60000   6000\n",
      "2           3   70000   7000\n",
      "3           4   55000   5500\n",
      "4           6   65000   6500\n"
     ]
    }
   ],
   "source": [
    "# Create sample DataFrames\n",
    "employees = pd.DataFrame({\n",
    "    'EmployeeID': [1, 2, 3, 4, 5],\n",
    "    'Name': ['Alice', 'Bob', 'Charlie', 'Diana', 'Eve'],\n",
    "    'DepartmentID': [101, 102, 101, 103, 102]\n",
    "})\n",
    "\n",
    "departments = pd.DataFrame({\n",
    "    'DepartmentID': [101, 102, 103, 104],\n",
    "    'DepartmentName': ['HR', 'IT', 'Finance', 'Marketing'],\n",
    "    'Location': ['New York', 'London', 'Paris', 'Tokyo']\n",
    "})\n",
    "\n",
    "salaries = pd.DataFrame({\n",
    "    'EmployeeID': [1, 2, 3, 4, 6],\n",
    "    'Salary': [50000, 60000, 70000, 55000, 65000],\n",
    "    'Bonus': [5000, 6000, 7000, 5500, 6500]\n",
    "})\n",
    "\n",
    "print(\"Employees DataFrame:\")\n",
    "print(employees)\n",
    "print(\"\\nDepartments DataFrame:\")\n",
    "print(departments)\n",
    "print(\"\\nSalaries DataFrame:\")\n",
    "print(salaries)"
   ]
  },
  {
   "cell_type": "markdown",
   "id": "c2227d07",
   "metadata": {},
   "source": [
    "## Merge Operations\n",
    "\n",
    "The `merge()` function combines DataFrames based on common columns or indices. Similar to SQL joins."
   ]
  },
  {
   "cell_type": "code",
   "execution_count": 3,
   "id": "9b21e671",
   "metadata": {},
   "outputs": [
    {
     "name": "stdout",
     "output_type": "stream",
     "text": [
      "Inner Join - Employees and Departments:\n",
      "   EmployeeID     Name  DepartmentID DepartmentName  Location\n",
      "0           1    Alice           101             HR  New York\n",
      "1           2      Bob           102             IT    London\n",
      "2           3  Charlie           101             HR  New York\n",
      "3           4    Diana           103        Finance     Paris\n",
      "4           5      Eve           102             IT    London\n",
      "\n",
      "Left Join - Employees and Departments:\n",
      "   EmployeeID     Name  DepartmentID DepartmentName  Location\n",
      "0           1    Alice           101             HR  New York\n",
      "1           2      Bob           102             IT    London\n",
      "2           3  Charlie           101             HR  New York\n",
      "3           4    Diana           103        Finance     Paris\n",
      "4           5      Eve           102             IT    London\n",
      "\n",
      "Right Join - Employees and Departments:\n",
      "   EmployeeID     Name  DepartmentID DepartmentName  Location\n",
      "0         1.0    Alice           101             HR  New York\n",
      "1         3.0  Charlie           101             HR  New York\n",
      "2         2.0      Bob           102             IT    London\n",
      "3         5.0      Eve           102             IT    London\n",
      "4         4.0    Diana           103        Finance     Paris\n",
      "5         NaN      NaN           104      Marketing     Tokyo\n",
      "\n",
      "Outer Join - Employees and Departments:\n",
      "   EmployeeID     Name  DepartmentID DepartmentName  Location\n",
      "0         1.0    Alice           101             HR  New York\n",
      "1         3.0  Charlie           101             HR  New York\n",
      "2         2.0      Bob           102             IT    London\n",
      "3         5.0      Eve           102             IT    London\n",
      "4         4.0    Diana           103        Finance     Paris\n",
      "5         NaN      NaN           104      Marketing     Tokyo\n",
      "\n",
      "Merge Employees and Salaries:\n",
      "   EmployeeID     Name  DepartmentID   Salary   Bonus\n",
      "0           1    Alice           101  50000.0  5000.0\n",
      "1           2      Bob           102  60000.0  6000.0\n",
      "2           3  Charlie           101  70000.0  7000.0\n",
      "3           4    Diana           103  55000.0  5500.0\n",
      "4           5      Eve           102      NaN     NaN\n"
     ]
    }
   ],
   "source": [
    "# Inner join (default)\n",
    "print(\"Inner Join - Employees and Departments:\")\n",
    "inner_join = pd.merge(employees, departments, on='DepartmentID', how='inner')\n",
    "print(inner_join)\n",
    "\n",
    "# Left join\n",
    "print(\"\\nLeft Join - Employees and Departments:\")\n",
    "left_join = pd.merge(employees, departments, on='DepartmentID', how='left')\n",
    "print(left_join)\n",
    "\n",
    "# Right join\n",
    "print(\"\\nRight Join - Employees and Departments:\")\n",
    "right_join = pd.merge(employees, departments, on='DepartmentID', how='right')\n",
    "print(right_join)\n",
    "\n",
    "# Outer join\n",
    "print(\"\\nOuter Join - Employees and Departments:\")\n",
    "outer_join = pd.merge(employees, departments, on='DepartmentID', how='outer')\n",
    "print(outer_join)\n",
    "\n",
    "# Merge with different column names\n",
    "print(\"\\nMerge Employees and Salaries:\")\n",
    "emp_salary = pd.merge(employees, salaries, on='EmployeeID', how='left')\n",
    "print(emp_salary)"
   ]
  },
  {
   "cell_type": "markdown",
   "id": "6acbe4c5",
   "metadata": {},
   "source": [
    "## Join Operations\n",
    "\n",
    "The `join()` method combines DataFrames based on index. It's similar to merge but uses index by default."
   ]
  },
  {
   "cell_type": "code",
   "execution_count": 4,
   "id": "4776383a",
   "metadata": {},
   "outputs": [
    {
     "name": "stdout",
     "output_type": "stream",
     "text": [
      "Employees with EmployeeID as index:\n",
      "               Name  DepartmentID\n",
      "EmployeeID                       \n",
      "1             Alice           101\n",
      "2               Bob           102\n",
      "3           Charlie           101\n",
      "4             Diana           103\n",
      "5               Eve           102\n",
      "\n",
      "Salaries with EmployeeID as index:\n",
      "            Salary  Bonus\n",
      "EmployeeID               \n",
      "1            50000   5000\n",
      "2            60000   6000\n",
      "3            70000   7000\n",
      "4            55000   5500\n",
      "6            65000   6500\n",
      "\n",
      "Left Join using join():\n",
      "               Name  DepartmentID   Salary   Bonus\n",
      "EmployeeID                                        \n",
      "1             Alice           101  50000.0  5000.0\n",
      "2               Bob           102  60000.0  6000.0\n",
      "3           Charlie           101  70000.0  7000.0\n",
      "4             Diana           103  55000.0  5500.0\n",
      "5               Eve           102      NaN     NaN\n",
      "\n",
      "Inner Join using join():\n",
      "               Name  DepartmentID  Salary  Bonus\n",
      "EmployeeID                                      \n",
      "1             Alice           101   50000   5000\n",
      "2               Bob           102   60000   6000\n",
      "3           Charlie           101   70000   7000\n",
      "4             Diana           103   55000   5500\n",
      "\n",
      "Outer Join using join():\n",
      "               Name  DepartmentID   Salary   Bonus\n",
      "EmployeeID                                        \n",
      "1             Alice         101.0  50000.0  5000.0\n",
      "2               Bob         102.0  60000.0  6000.0\n",
      "3           Charlie         101.0  70000.0  7000.0\n",
      "4             Diana         103.0  55000.0  5500.0\n",
      "5               Eve         102.0      NaN     NaN\n",
      "6               NaN           NaN  65000.0  6500.0\n"
     ]
    }
   ],
   "source": [
    "# Set EmployeeID as index for join examples\n",
    "employees_idx = employees.set_index('EmployeeID')\n",
    "salaries_idx = salaries.set_index('EmployeeID')\n",
    "\n",
    "print(\"Employees with EmployeeID as index:\")\n",
    "print(employees_idx)\n",
    "print(\"\\nSalaries with EmployeeID as index:\")\n",
    "print(salaries_idx)\n",
    "\n",
    "# Left join using join()\n",
    "print(\"\\nLeft Join using join():\")\n",
    "joined_left = employees_idx.join(salaries_idx, how='left')\n",
    "print(joined_left)\n",
    "\n",
    "# Inner join using join()\n",
    "print(\"\\nInner Join using join():\")\n",
    "joined_inner = employees_idx.join(salaries_idx, how='inner')\n",
    "print(joined_inner)\n",
    "\n",
    "# Outer join using join()\n",
    "print(\"\\nOuter Join using join():\")\n",
    "joined_outer = employees_idx.join(salaries_idx, how='outer')\n",
    "print(joined_outer)"
   ]
  },
  {
   "cell_type": "markdown",
   "id": "ea7e0ac7",
   "metadata": {},
   "source": [
    "## Concatenation\n",
    "\n",
    "The `concat()` function combines DataFrames along rows or columns. Useful for stacking DataFrames."
   ]
  },
  {
   "cell_type": "code",
   "execution_count": 5,
   "id": "f479422b",
   "metadata": {},
   "outputs": [
    {
     "name": "stdout",
     "output_type": "stream",
     "text": [
      "Q1 Employees:\n",
      "   EmployeeID     Name Quarter\n",
      "0           1    Alice      Q1\n",
      "1           2      Bob      Q1\n",
      "2           3  Charlie      Q1\n",
      "\n",
      "Q2 Employees:\n",
      "   EmployeeID   Name Quarter\n",
      "0           4  Diana      Q2\n",
      "1           5    Eve      Q2\n",
      "2           6  Frank      Q2\n",
      "\n",
      "Concatenated DataFrames (rows):\n",
      "   EmployeeID     Name Quarter\n",
      "0           1    Alice      Q1\n",
      "1           2      Bob      Q1\n",
      "2           3  Charlie      Q1\n",
      "0           4    Diana      Q2\n",
      "1           5      Eve      Q2\n",
      "2           6    Frank      Q2\n",
      "\n",
      "Concatenated DataFrames (columns):\n",
      "   EmployeeID     Name Quarter  EmployeeID   Name Quarter\n",
      "0           1    Alice      Q1           4  Diana      Q2\n",
      "1           2      Bob      Q1           5    Eve      Q2\n",
      "2           3  Charlie      Q1           6  Frank      Q2\n",
      "\n",
      "Concatenated with keys:\n",
      "      EmployeeID     Name Quarter\n",
      "Q1 0           1    Alice      Q1\n",
      "   1           2      Bob      Q1\n",
      "   2           3  Charlie      Q1\n",
      "Q2 0           4    Diana      Q2\n",
      "   1           5      Eve      Q2\n",
      "   2           6    Frank      Q2\n"
     ]
    }
   ],
   "source": [
    "# Create additional DataFrames for concatenation\n",
    "employees_q1 = pd.DataFrame({\n",
    "    'EmployeeID': [1, 2, 3],\n",
    "    'Name': ['Alice', 'Bob', 'Charlie'],\n",
    "    'Quarter': ['Q1', 'Q1', 'Q1']\n",
    "})\n",
    "\n",
    "employees_q2 = pd.DataFrame({\n",
    "    'EmployeeID': [4, 5, 6],\n",
    "    'Name': ['Diana', 'Eve', 'Frank'],\n",
    "    'Quarter': ['Q2', 'Q2', 'Q2']\n",
    "})\n",
    "\n",
    "print(\"Q1 Employees:\")\n",
    "print(employees_q1)\n",
    "print(\"\\nQ2 Employees:\")\n",
    "print(employees_q2)\n",
    "\n",
    "# Concatenate along rows (default)\n",
    "print(\"\\nConcatenated DataFrames (rows):\")\n",
    "concat_rows = pd.concat([employees_q1, employees_q2])\n",
    "print(concat_rows)\n",
    "\n",
    "# Concatenate along columns\n",
    "print(\"\\nConcatenated DataFrames (columns):\")\n",
    "concat_cols = pd.concat([employees_q1, employees_q2], axis=1)\n",
    "print(concat_cols)\n",
    "\n",
    "# Concatenate with keys for hierarchical indexing\n",
    "print(\"\\nConcatenated with keys:\")\n",
    "concat_keys = pd.concat([employees_q1, employees_q2], keys=['Q1', 'Q2'])\n",
    "print(concat_keys)"
   ]
  },
  {
   "cell_type": "markdown",
   "id": "b90e13fa",
   "metadata": {},
   "source": [
    "## Summary\n",
    "\n",
    "You have learned various techniques for combining DataFrames in Pandas:\n",
    "\n",
    "- **Merge Operations**: Using `merge()` with different join types (inner, left, right, outer)\n",
    "- **Join Operations**: Using `join()` method based on index\n",
    "- **Concatenation**: Using `concat()` to stack DataFrames along rows or columns\n",
    "\n",
    "These operations are essential for combining data from multiple sources in data analysis workflows."
   ]
  }
 ],
 "metadata": {
  "kernelspec": {
   "display_name": "Python 3",
   "language": "python",
   "name": "python3"
  },
  "language_info": {
   "codemirror_mode": {
    "name": "ipython",
    "version": 3
   },
   "file_extension": ".py",
   "mimetype": "text/x-python",
   "name": "python",
   "nbconvert_exporter": "python",
   "pygments_lexer": "ipython3",
   "version": "3.13.1"
  }
 },
 "nbformat": 4,
 "nbformat_minor": 5
}
