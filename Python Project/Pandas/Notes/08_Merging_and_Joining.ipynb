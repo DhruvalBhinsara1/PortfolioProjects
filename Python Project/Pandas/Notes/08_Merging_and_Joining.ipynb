{
 "cells": [
  {
   "cell_type": "markdown",
   "id": "54bc0772",
   "metadata": {},
   "source": [
    "# Merging and Joining DataFrames in Pandas\n",
    "\n",
    "This notebook covers various techniques for combining DataFrames using merge, join, and concatenate operations."
   ]
  },
  {
   "cell_type": "code",
   "execution_count": null,
   "id": "9a51e6de",
   "metadata": {},
   "outputs": [],
   "source": [
    "# Import necessary libraries\n",
    "import pandas as pd\n",
    "import numpy as np\n",
    "\n",
    "print(f\"Pandas version: {pd.__version__}\")\n",
    "print(f\"NumPy version: {np.__version__}\")"
   ]
  },
  {
   "cell_type": "markdown",
   "id": "9693be97",
   "metadata": {},
   "source": [
    "## Sample Data\n",
    "\n",
    "Let's create sample DataFrames to demonstrate merging and joining operations."
   ]
  },
  {
   "cell_type": "code",
   "execution_count": null,
   "id": "ae06af92",
   "metadata": {},
   "outputs": [],
   "source": [
    "# Create sample DataFrames\n",
    "employees = pd.DataFrame({\n",
    "    'EmployeeID': [1, 2, 3, 4, 5],\n",
    "    'Name': ['Alice', 'Bob', 'Charlie', 'Diana', 'Eve'],\n",
    "    'DepartmentID': [101, 102, 101, 103, 102]\n",
    "})\n",
    "\n",
    "departments = pd.DataFrame({\n",
    "    'DepartmentID': [101, 102, 103, 104],\n",
    "    'DepartmentName': ['HR', 'IT', 'Finance', 'Marketing'],\n",
    "    'Location': ['New York', 'London', 'Paris', 'Tokyo']\n",
    "})\n",
    "\n",
    "salaries = pd.DataFrame({\n",
    "    'EmployeeID': [1, 2, 3, 4, 6],\n",
    "    'Salary': [50000, 60000, 70000, 55000, 65000],\n",
    "    'Bonus': [5000, 6000, 7000, 5500, 6500]\n",
    "})\n",
    "\n",
    "print(\"Employees DataFrame:\")\n",
    "print(employees)\n",
    "print(\"\\nDepartments DataFrame:\")\n",
    "print(departments)\n",
    "print(\"\\nSalaries DataFrame:\")\n",
    "print(salaries)"
   ]
  },
  {
   "cell_type": "markdown",
   "id": "c2227d07",
   "metadata": {},
   "source": [
    "## Merge Operations\n",
    "\n",
    "The `merge()` function combines DataFrames based on common columns or indices. Similar to SQL joins."
   ]
  },
  {
   "cell_type": "code",
   "execution_count": null,
   "id": "9b21e671",
   "metadata": {},
   "outputs": [],
   "source": [
    "# Inner join (default)\n",
    "print(\"Inner Join - Employees and Departments:\")\n",
    "inner_join = pd.merge(employees, departments, on='DepartmentID', how='inner')\n",
    "print(inner_join)\n",
    "\n",
    "# Left join\n",
    "print(\"\\nLeft Join - Employees and Departments:\")\n",
    "left_join = pd.merge(employees, departments, on='DepartmentID', how='left')\n",
    "print(left_join)\n",
    "\n",
    "# Right join\n",
    "print(\"\\nRight Join - Employees and Departments:\")\n",
    "right_join = pd.merge(employees, departments, on='DepartmentID', how='right')\n",
    "print(right_join)\n",
    "\n",
    "# Outer join\n",
    "print(\"\\nOuter Join - Employees and Departments:\")\n",
    "outer_join = pd.merge(employees, departments, on='DepartmentID', how='outer')\n",
    "print(outer_join)\n",
    "\n",
    "# Merge with different column names\n",
    "print(\"\\nMerge Employees and Salaries:\")\n",
    "emp_salary = pd.merge(employees, salaries, on='EmployeeID', how='left')\n",
    "print(emp_salary)"
   ]
  },
  {
   "cell_type": "markdown",
   "id": "6acbe4c5",
   "metadata": {},
   "source": [
    "## Join Operations\n",
    "\n",
    "The `join()` method combines DataFrames based on index. It's similar to merge but uses index by default."
   ]
  },
  {
   "cell_type": "code",
   "execution_count": null,
   "id": "4776383a",
   "metadata": {},
   "outputs": [],
   "source": [
    "# Set EmployeeID as index for join examples\n",
    "employees_idx = employees.set_index('EmployeeID')\n",
    "salaries_idx = salaries.set_index('EmployeeID')\n",
    "\n",
    "print(\"Employees with EmployeeID as index:\")\n",
    "print(employees_idx)\n",
    "print(\"\\nSalaries with EmployeeID as index:\")\n",
    "print(salaries_idx)\n",
    "\n",
    "# Left join using join()\n",
    "print(\"\\nLeft Join using join():\")\n",
    "joined_left = employees_idx.join(salaries_idx, how='left')\n",
    "print(joined_left)\n",
    "\n",
    "# Inner join using join()\n",
    "print(\"\\nInner Join using join():\")\n",
    "joined_inner = employees_idx.join(salaries_idx, how='inner')\n",
    "print(joined_inner)\n",
    "\n",
    "# Outer join using join()\n",
    "print(\"\\nOuter Join using join():\")\n",
    "joined_outer = employees_idx.join(salaries_idx, how='outer')\n",
    "print(joined_outer)"
   ]
  },
  {
   "cell_type": "markdown",
   "id": "ea7e0ac7",
   "metadata": {},
   "source": [
    "## Concatenation\n",
    "\n",
    "The `concat()` function combines DataFrames along rows or columns. Useful for stacking DataFrames."
   ]
  },
  {
   "cell_type": "code",
   "execution_count": null,
   "id": "f479422b",
   "metadata": {},
   "outputs": [],
   "source": [
    "# Create additional DataFrames for concatenation\n",
    "employees_q1 = pd.DataFrame({\n",
    "    'EmployeeID': [1, 2, 3],\n",
    "    'Name': ['Alice', 'Bob', 'Charlie'],\n",
    "    'Quarter': ['Q1', 'Q1', 'Q1']\n",
    "})\n",
    "\n",
    "employees_q2 = pd.DataFrame({\n",
    "    'EmployeeID': [4, 5, 6],\n",
    "    'Name': ['Diana', 'Eve', 'Frank'],\n",
    "    'Quarter': ['Q2', 'Q2', 'Q2']\n",
    "})\n",
    "\n",
    "print(\"Q1 Employees:\")\n",
    "print(employees_q1)\n",
    "print(\"\\nQ2 Employees:\")\n",
    "print(employees_q2)\n",
    "\n",
    "# Concatenate along rows (default)\n",
    "print(\"\\nConcatenated DataFrames (rows):\")\n",
    "concat_rows = pd.concat([employees_q1, employees_q2])\n",
    "print(concat_rows)\n",
    "\n",
    "# Concatenate along columns\n",
    "print(\"\\nConcatenated DataFrames (columns):\")\n",
    "concat_cols = pd.concat([employees_q1, employees_q2], axis=1)\n",
    "print(concat_cols)\n",
    "\n",
    "# Concatenate with keys for hierarchical indexing\n",
    "print(\"\\nConcatenated with keys:\")\n",
    "concat_keys = pd.concat([employees_q1, employees_q2], keys=['Q1', 'Q2'])\n",
    "print(concat_keys)"
   ]
  },
  {
   "cell_type": "markdown",
   "id": "b90e13fa",
   "metadata": {},
   "source": [
    "## Summary\n",
    "\n",
    "You have learned various techniques for combining DataFrames in Pandas:\n",
    "\n",
    "- **Merge Operations**: Using `merge()` with different join types (inner, left, right, outer)\n",
    "- **Join Operations**: Using `join()` method based on index\n",
    "- **Concatenation**: Using `concat()` to stack DataFrames along rows or columns\n",
    "\n",
    "These operations are essential for combining data from multiple sources in data analysis workflows."
   ]
  }
 ],
 "metadata": {
  "language_info": {
   "name": "python"
  }
 },
 "nbformat": 4,
 "nbformat_minor": 5
}
