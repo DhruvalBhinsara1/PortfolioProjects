{
 "cells": [
  {
   "cell_type": "markdown",
   "id": "51f4da26",
   "metadata": {},
   "source": [
    "# Data Manipulation in Pandas\n",
    "\n",
    "This notebook covers data manipulation operations in Pandas, including filtering, sorting, transforming, and modifying data."
   ]
  },
  {
   "cell_type": "code",
   "execution_count": 2,
   "id": "39d2c979",
   "metadata": {},
   "outputs": [
    {
     "name": "stdout",
     "output_type": "stream",
     "text": [
      "Pandas version: 2.2.3\n",
      "NumPy version: 2.2.4\n"
     ]
    }
   ],
   "source": [
    "# Import necessary libraries\n",
    "import pandas as pd\n",
    "import numpy as np\n",
    "\n",
    "print(f\"Pandas version: {pd.__version__}\")\n",
    "print(f\"NumPy version: {np.__version__}\")"
   ]
  },
  {
   "cell_type": "markdown",
   "id": "882f8961",
   "metadata": {},
   "source": [
    "## Sample Data\n",
    "\n",
    "Let's create a sample DataFrame for demonstrating data manipulation operations."
   ]
  },
  {
   "cell_type": "code",
   "execution_count": 3,
   "id": "4794b96d",
   "metadata": {},
   "outputs": [
    {
     "name": "stdout",
     "output_type": "stream",
     "text": [
      "Sample DataFrame:\n",
      "      Name  Age      City  Salary Department\n",
      "0    Alice   25  New York   50000         HR\n",
      "1      Bob   30    London   60000         IT\n",
      "2  Charlie   35     Paris   70000    Finance\n",
      "3    Diana   28     Tokyo   55000         IT\n",
      "4      Eve   32    Sydney   65000         HR\n"
     ]
    }
   ],
   "source": [
    "# Create sample DataFrame\n",
    "data = {\n",
    "    'Name': ['Alice', 'Bob', 'Charlie', 'Diana', 'Eve'],\n",
    "    'Age': [25, 30, 35, 28, 32],\n",
    "    'City': ['New York', 'London', 'Paris', 'Tokyo', 'Sydney'],\n",
    "    'Salary': [50000, 60000, 70000, 55000, 65000],\n",
    "    'Department': ['HR', 'IT', 'Finance', 'IT', 'HR']\n",
    "}\n",
    "\n",
    "df = pd.DataFrame(data)\n",
    "print(\"Sample DataFrame:\")\n",
    "print(df)"
   ]
  },
  {
   "cell_type": "markdown",
   "id": "5c74aefd",
   "metadata": {},
   "source": [
    "## Sorting Data\n",
    "\n",
    "Pandas provides `sort_values()` and `sort_index()` methods for sorting data."
   ]
  },
  {
   "cell_type": "code",
   "execution_count": 4,
   "id": "c854e591",
   "metadata": {},
   "outputs": [
    {
     "name": "stdout",
     "output_type": "stream",
     "text": [
      "Sort by Age (ascending):\n",
      "      Name  Age      City  Salary Department\n",
      "0    Alice   25  New York   50000         HR\n",
      "3    Diana   28     Tokyo   55000         IT\n",
      "1      Bob   30    London   60000         IT\n",
      "4      Eve   32    Sydney   65000         HR\n",
      "2  Charlie   35     Paris   70000    Finance\n",
      "\n",
      "Sort by Salary (descending):\n",
      "      Name  Age      City  Salary Department\n",
      "2  Charlie   35     Paris   70000    Finance\n",
      "4      Eve   32    Sydney   65000         HR\n",
      "1      Bob   30    London   60000         IT\n",
      "3    Diana   28     Tokyo   55000         IT\n",
      "0    Alice   25  New York   50000         HR\n",
      "\n",
      "Sort by Department then by Age:\n",
      "      Name  Age      City  Salary Department\n",
      "2  Charlie   35     Paris   70000    Finance\n",
      "0    Alice   25  New York   50000         HR\n",
      "4      Eve   32    Sydney   65000         HR\n",
      "3    Diana   28     Tokyo   55000         IT\n",
      "1      Bob   30    London   60000         IT\n",
      "\n",
      "DataFrame with Name as index:\n",
      "         Age      City  Salary Department\n",
      "Name                                     \n",
      "Alice     25  New York   50000         HR\n",
      "Bob       30    London   60000         IT\n",
      "Charlie   35     Paris   70000    Finance\n",
      "Diana     28     Tokyo   55000         IT\n",
      "Eve       32    Sydney   65000         HR\n",
      "\n",
      "Sort by index:\n",
      "         Age      City  Salary Department\n",
      "Name                                     \n",
      "Alice     25  New York   50000         HR\n",
      "Bob       30    London   60000         IT\n",
      "Charlie   35     Paris   70000    Finance\n",
      "Diana     28     Tokyo   55000         IT\n",
      "Eve       32    Sydney   65000         HR\n"
     ]
    }
   ],
   "source": [
    "# Sort by single column\n",
    "print(\"Sort by Age (ascending):\")\n",
    "print(df.sort_values('Age'))\n",
    "\n",
    "# Sort by single column (descending)\n",
    "print(\"\\nSort by Salary (descending):\")\n",
    "print(df.sort_values('Salary', ascending=False))\n",
    "\n",
    "# Sort by multiple columns\n",
    "print(\"\\nSort by Department then by Age:\")\n",
    "print(df.sort_values(['Department', 'Age']))\n",
    "\n",
    "# Sort by index\n",
    "df_indexed = df.set_index('Name')\n",
    "print(\"\\nDataFrame with Name as index:\")\n",
    "print(df_indexed)\n",
    "\n",
    "print(\"\\nSort by index:\")\n",
    "print(df_indexed.sort_index())"
   ]
  },
  {
   "cell_type": "markdown",
   "id": "3d173bac",
   "metadata": {},
   "source": [
    "## Filtering Data\n",
    "\n",
    "Filtering allows you to select specific rows based on conditions."
   ]
  },
  {
   "cell_type": "code",
   "execution_count": 5,
   "id": "2d9b4a4f",
   "metadata": {},
   "outputs": [
    {
     "name": "stdout",
     "output_type": "stream",
     "text": [
      "Employees older than 30:\n",
      "      Name  Age    City  Salary Department\n",
      "2  Charlie   35   Paris   70000    Finance\n",
      "4      Eve   32  Sydney   65000         HR\n",
      "\n",
      "IT employees with salary > 55000:\n",
      "  Name  Age    City  Salary Department\n",
      "1  Bob   30  London   60000         IT\n",
      "\n",
      "Employees in HR or Finance:\n",
      "      Name  Age      City  Salary Department\n",
      "0    Alice   25  New York   50000         HR\n",
      "2  Charlie   35     Paris   70000    Finance\n",
      "4      Eve   32    Sydney   65000         HR\n",
      "\n",
      "Names starting with 'A' or 'B':\n",
      "    Name  Age      City  Salary Department\n",
      "0  Alice   25  New York   50000         HR\n",
      "1    Bob   30    London   60000         IT\n",
      "\n",
      "Using query method - Age > 28 and Department == 'IT':\n",
      "  Name  Age    City  Salary Department\n",
      "1  Bob   30  London   60000         IT\n"
     ]
    }
   ],
   "source": [
    "# Filter by single condition\n",
    "print(\"Employees older than 30:\")\n",
    "print(df[df['Age'] > 30])\n",
    "\n",
    "# Filter by multiple conditions\n",
    "print(\"\\nIT employees with salary > 55000:\")\n",
    "print(df[(df['Department'] == 'IT') & (df['Salary'] > 55000)])\n",
    "\n",
    "# Filter using isin()\n",
    "print(\"\\nEmployees in HR or Finance:\")\n",
    "print(df[df['Department'].isin(['HR', 'Finance'])])\n",
    "\n",
    "# Filter using string methods\n",
    "print(\"\\nNames starting with 'A' or 'B':\")\n",
    "print(df[df['Name'].str.startswith(('A', 'B'))])\n",
    "\n",
    "# Filter using query() method\n",
    "print(\"\\nUsing query method - Age > 28 and Department == 'IT':\")\n",
    "print(df.query('Age > 28 and Department == \"IT\"'))"
   ]
  },
  {
   "cell_type": "markdown",
   "id": "36487ab4",
   "metadata": {},
   "source": [
    "## Transforming Data\n",
    "\n",
    "Data transformation involves modifying values using functions like `apply()`, `map()`, and `applymap()`."
   ]
  },
  {
   "cell_type": "code",
   "execution_count": 7,
   "id": "0edceed2",
   "metadata": {},
   "outputs": [
    {
     "name": "stdout",
     "output_type": "stream",
     "text": [
      "Convert names to uppercase:\n",
      "      Name  Age      City  Salary Department\n",
      "0    ALICE   25  New York   50000         HR\n",
      "1      BOB   30    London   60000         IT\n",
      "2  CHARLIE   35     Paris   70000    Finance\n",
      "3    DIANA   28     Tokyo   55000         IT\n",
      "4      EVE   32    Sydney   65000         HR\n",
      "\n",
      "Add 1000 bonus to salaries:\n",
      "      Name  Salary\n",
      "0    ALICE   51000\n",
      "1      BOB   61000\n",
      "2  CHARLIE   71000\n",
      "3    DIANA   56000\n",
      "4      EVE   66000\n",
      "\n",
      "Map departments to codes:\n",
      "      Name Department Dept_Code\n",
      "0    ALICE         HR         H\n",
      "1      BOB         IT         I\n",
      "2  CHARLIE    Finance         F\n",
      "3    DIANA         IT         I\n",
      "4      EVE         HR         H\n",
      "\n",
      "Apply function to entire DataFrame (string columns to lowercase):\n",
      "      Name  Age      City  Salary Department\n",
      "0    alice   25  new york   50000         hr\n",
      "1      bob   30    london   60000         it\n",
      "2  charlie   35     paris   70000    finance\n",
      "3    diana   28     tokyo   55000         it\n",
      "4      eve   32    sydney   65000         hr\n"
     ]
    }
   ],
   "source": [
    "# Apply function to a column\n",
    "print(\"Convert names to uppercase:\")\n",
    "df_transformed = df.copy()\n",
    "df_transformed['Name'] = df_transformed['Name'].apply(str.upper)\n",
    "print(df_transformed)\n",
    "\n",
    "# Apply function to multiple columns\n",
    "print(\"\\nAdd 1000 bonus to salaries:\")\n",
    "df_transformed['Salary'] = df_transformed['Salary'].apply(lambda x: x + 1000)\n",
    "print(df_transformed[['Name', 'Salary']])\n",
    "\n",
    "# Map values\n",
    "print(\"\\nMap departments to codes:\")\n",
    "dept_mapping = {'HR': 'H', 'IT': 'I', 'Finance': 'F'}\n",
    "df_transformed['Dept_Code'] = df_transformed['Department'].map(dept_mapping)\n",
    "print(df_transformed[['Name', 'Department', 'Dept_Code']])\n",
    "\n",
    "# Apply function to entire DataFrame\n",
    "print(\"\\nApply function to entire DataFrame (string columns to lowercase):\")\n",
    "df_lower = df.map(lambda x: x.lower() if isinstance(x, str) else x)\n",
    "print(df_lower)"
   ]
  },
  {
   "cell_type": "markdown",
   "id": "071c8068",
   "metadata": {},
   "source": [
    "## Summary\n",
    "\n",
    "You have learned key data manipulation operations in Pandas:\n",
    "\n",
    "- **Sorting**: Using `sort_values()` and `sort_index()` to order data\n",
    "- **Filtering**: Selecting rows based on conditions using boolean indexing and `query()`\n",
    "- **Transforming**: Modifying data using `apply()`, `map()`, and `applymap()` functions\n",
    "\n",
    "These operations allow you to reshape, filter, and transform your data for analysis."
   ]
  }
 ],
 "metadata": {
  "kernelspec": {
   "display_name": "Python 3",
   "language": "python",
   "name": "python3"
  },
  "language_info": {
   "codemirror_mode": {
    "name": "ipython",
    "version": 3
   },
   "file_extension": ".py",
   "mimetype": "text/x-python",
   "name": "python",
   "nbconvert_exporter": "python",
   "pygments_lexer": "ipython3",
   "version": "3.13.1"
  }
 },
 "nbformat": 4,
 "nbformat_minor": 5
}
