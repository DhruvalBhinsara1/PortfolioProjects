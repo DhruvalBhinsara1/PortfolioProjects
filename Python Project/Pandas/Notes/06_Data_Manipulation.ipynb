{
 "cells": [
  {
   "cell_type": "markdown",
   "id": "51f4da26",
   "metadata": {},
   "source": [
    "# Data Manipulation in Pandas\n",
    "\n",
    "This notebook covers data manipulation operations in Pandas, including filtering, sorting, transforming, and modifying data."
   ]
  },
  {
   "cell_type": "code",
   "execution_count": null,
   "id": "39d2c979",
   "metadata": {},
   "outputs": [],
   "source": [
    "# Import necessary libraries\n",
    "import pandas as pd\n",
    "import numpy as np\n",
    "\n",
    "print(f\"Pandas version: {pd.__version__}\")\n",
    "print(f\"NumPy version: {np.__version__}\")"
   ]
  },
  {
   "cell_type": "markdown",
   "id": "882f8961",
   "metadata": {},
   "source": [
    "## Sample Data\n",
    "\n",
    "Let's create a sample DataFrame for demonstrating data manipulation operations."
   ]
  },
  {
   "cell_type": "code",
   "execution_count": null,
   "id": "4794b96d",
   "metadata": {},
   "outputs": [],
   "source": [
    "# Create sample DataFrame\n",
    "data = {\n",
    "    'Name': ['Alice', 'Bob', 'Charlie', 'Diana', 'Eve'],\n",
    "    'Age': [25, 30, 35, 28, 32],\n",
    "    'City': ['New York', 'London', 'Paris', 'Tokyo', 'Sydney'],\n",
    "    'Salary': [50000, 60000, 70000, 55000, 65000],\n",
    "    'Department': ['HR', 'IT', 'Finance', 'IT', 'HR']\n",
    "}\n",
    "\n",
    "df = pd.DataFrame(data)\n",
    "print(\"Sample DataFrame:\")\n",
    "print(df)"
   ]
  },
  {
   "cell_type": "markdown",
   "id": "5c74aefd",
   "metadata": {},
   "source": [
    "## Sorting Data\n",
    "\n",
    "Pandas provides `sort_values()` and `sort_index()` methods for sorting data."
   ]
  },
  {
   "cell_type": "code",
   "execution_count": null,
   "id": "c854e591",
   "metadata": {},
   "outputs": [],
   "source": [
    "# Sort by single column\n",
    "print(\"Sort by Age (ascending):\")\n",
    "print(df.sort_values('Age'))\n",
    "\n",
    "# Sort by single column (descending)\n",
    "print(\"\\nSort by Salary (descending):\")\n",
    "print(df.sort_values('Salary', ascending=False))\n",
    "\n",
    "# Sort by multiple columns\n",
    "print(\"\\nSort by Department then by Age:\")\n",
    "print(df.sort_values(['Department', 'Age']))\n",
    "\n",
    "# Sort by index\n",
    "df_indexed = df.set_index('Name')\n",
    "print(\"\\nDataFrame with Name as index:\")\n",
    "print(df_indexed)\n",
    "\n",
    "print(\"\\nSort by index:\")\n",
    "print(df_indexed.sort_index())"
   ]
  },
  {
   "cell_type": "markdown",
   "id": "3d173bac",
   "metadata": {},
   "source": [
    "## Filtering Data\n",
    "\n",
    "Filtering allows you to select specific rows based on conditions."
   ]
  },
  {
   "cell_type": "code",
   "execution_count": null,
   "id": "2d9b4a4f",
   "metadata": {},
   "outputs": [],
   "source": [
    "# Filter by single condition\n",
    "print(\"Employees older than 30:\")\n",
    "print(df[df['Age'] > 30])\n",
    "\n",
    "# Filter by multiple conditions\n",
    "print(\"\\nIT employees with salary > 55000:\")\n",
    "print(df[(df['Department'] == 'IT') & (df['Salary'] > 55000)])\n",
    "\n",
    "# Filter using isin()\n",
    "print(\"\\nEmployees in HR or Finance:\")\n",
    "print(df[df['Department'].isin(['HR', 'Finance'])])\n",
    "\n",
    "# Filter using string methods\n",
    "print(\"\\nNames starting with 'A' or 'B':\")\n",
    "print(df[df['Name'].str.startswith(('A', 'B'))])\n",
    "\n",
    "# Filter using query() method\n",
    "print(\"\\nUsing query method - Age > 28 and Department == 'IT':\")\n",
    "print(df.query('Age > 28 and Department == \"IT\"'))"
   ]
  },
  {
   "cell_type": "markdown",
   "id": "36487ab4",
   "metadata": {},
   "source": [
    "## Transforming Data\n",
    "\n",
    "Data transformation involves modifying values using functions like `apply()`, `map()`, and `applymap()`."
   ]
  },
  {
   "cell_type": "code",
   "execution_count": null,
   "id": "0edceed2",
   "metadata": {},
   "outputs": [],
   "source": [
    "# Apply function to a column\n",
    "print(\"Convert names to uppercase:\")\n",
    "df_transformed = df.copy()\n",
    "df_transformed['Name'] = df_transformed['Name'].apply(str.upper)\n",
    "print(df_transformed)\n",
    "\n",
    "# Apply function to multiple columns\n",
    "print(\"\\nAdd 1000 bonus to salaries:\")\n",
    "df_transformed['Salary'] = df_transformed['Salary'].apply(lambda x: x + 1000)\n",
    "print(df_transformed[['Name', 'Salary']])\n",
    "\n",
    "# Map values\n",
    "print(\"\\nMap departments to codes:\")\n",
    "dept_mapping = {'HR': 'H', 'IT': 'I', 'Finance': 'F'}\n",
    "df_transformed['Dept_Code'] = df_transformed['Department'].map(dept_mapping)\n",
    "print(df_transformed[['Name', 'Department', 'Dept_Code']])\n",
    "\n",
    "# Apply function to entire DataFrame\n",
    "print(\"\\nApply function to entire DataFrame (string columns to lowercase):\")\n",
    "df_lower = df.applymap(lambda x: x.lower() if isinstance(x, str) else x)\n",
    "print(df_lower)"
   ]
  },
  {
   "cell_type": "markdown",
   "id": "071c8068",
   "metadata": {},
   "source": [
    "## Summary\n",
    "\n",
    "You have learned key data manipulation operations in Pandas:\n",
    "\n",
    "- **Sorting**: Using `sort_values()` and `sort_index()` to order data\n",
    "- **Filtering**: Selecting rows based on conditions using boolean indexing and `query()`\n",
    "- **Transforming**: Modifying data using `apply()`, `map()`, and `applymap()` functions\n",
    "\n",
    "These operations allow you to reshape, filter, and transform your data for analysis."
   ]
  }
 ],
 "metadata": {
  "language_info": {
   "name": "python"
  }
 },
 "nbformat": 4,
 "nbformat_minor": 5
}
