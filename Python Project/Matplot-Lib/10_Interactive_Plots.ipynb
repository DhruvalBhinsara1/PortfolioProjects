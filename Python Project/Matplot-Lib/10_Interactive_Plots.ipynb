{
 "cells": [
  {
   "cell_type": "markdown",
   "id": "30a87efb",
   "metadata": {},
   "source": [
    "# Interactive Plots in Matplotlib\n",
    "\n",
    "Matplotlib supports interactive plotting using widgets and interactive backends. In this section, we'll cover:\n",
    "- Interactive backends\n",
    "- Using widgets for interactivity\n",
    "- Example: interactive sine wave"
   ]
  },
  {
   "cell_type": "markdown",
   "id": "9fa1fce8",
   "metadata": {},
   "source": [
    "## Interactive Backends\n",
    "Use `%matplotlib notebook` or `%matplotlib widget` in Jupyter for interactive plots."
   ]
  },
  {
   "cell_type": "code",
   "execution_count": null,
   "id": "84edba35",
   "metadata": {},
   "outputs": [],
   "source": [
    "# Uncomment the following line in a Jupyter notebook:\n",
    "# %matplotlib widget"
   ]
  },
  {
   "cell_type": "markdown",
   "id": "2acbccee",
   "metadata": {},
   "source": [
    "## Using Widgets for Interactivity\n",
    "The `ipywidgets` library can be used to add sliders and controls to your plots."
   ]
  },
  {
   "cell_type": "code",
   "execution_count": null,
   "id": "f8dc56b0",
   "metadata": {},
   "outputs": [],
   "source": [
    "import numpy as np\n",
    "import matplotlib.pyplot as plt\n",
    "from ipywidgets import interact\n",
    "\n",
    "def plot_sine(freq=1.0):\n",
    "    x = np.linspace(0, 2 * np.pi, 100)\n",
    "    y = np.sin(freq * x)\n",
    "    plt.figure()\n",
    "    plt.plot(x, y)\n",
    "    plt.title(f'Sine Wave (freq={freq})')\n",
    "    plt.show()\n",
    "\n",
    "interact(plot_sine, freq=(0.1, 5.0, 0.1))"
   ]
  },
  {
   "cell_type": "markdown",
   "id": "33e15f66",
   "metadata": {},
   "source": [
    "## Summary\n",
    "- Use interactive backends and widgets for dynamic plots.\n",
    "- Interactivity enhances data exploration.\n",
    "\n",
    "This concludes the Matplotlib notes series!"
   ]
  }
 ],
 "metadata": {
  "language_info": {
   "name": "python"
  }
 },
 "nbformat": 4,
 "nbformat_minor": 5
}
