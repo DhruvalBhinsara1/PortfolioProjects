{
 "cells": [
  {
   "cell_type": "markdown",
   "id": "83a53696",
   "metadata": {},
   "source": [
    "# Annotations and Text in Matplotlib\n",
    "\n",
    "Annotations and text help highlight important features in your plots. In this section, we'll cover:\n",
    "- Adding text to plots\n",
    "- Annotating points\n",
    "- Drawing arrows"
   ]
  },
  {
   "cell_type": "markdown",
   "id": "ad096db5",
   "metadata": {},
   "source": [
    "## Adding Text to Plots\n",
    "Use `plt.text()` to add text at a specific location."
   ]
  },
  {
   "cell_type": "code",
   "execution_count": null,
   "id": "139beb7b",
   "metadata": {},
   "outputs": [],
   "source": [
    "import matplotlib.pyplot as plt\n",
    "\n",
    "x = [1, 2, 3, 4]\n",
    "y = [10, 20, 25, 30]\n",
    "\n",
    "plt.plot(x, y)\n",
    "plt.text(2, 22, 'Important Point', fontsize=12, color='red')\n",
    "plt.title('Plot with Text')\n",
    "plt.show()"
   ]
  },
  {
   "cell_type": "markdown",
   "id": "9cc2fe8d",
   "metadata": {},
   "source": [
    "## Annotating Points\n",
    "Use `plt.annotate()` to add annotations with optional arrows."
   ]
  },
  {
   "cell_type": "code",
   "execution_count": null,
   "id": "0baa1314",
   "metadata": {},
   "outputs": [],
   "source": [
    "x = [1, 2, 3, 4]\n",
    "y = [10, 20, 25, 30]\n",
    "\n",
    "plt.plot(x, y)\n",
    "plt.annotate('Peak', xy=(3, 25), xytext=(2.5, 28),\n",
    "             arrowprops=dict(facecolor='black', shrink=0.05))\n",
    "plt.title('Plot with Annotation')\n",
    "plt.show()"
   ]
  },
  {
   "cell_type": "markdown",
   "id": "afebc0ac",
   "metadata": {},
   "source": [
    "## Drawing Arrows\n",
    "Arrows can be added using the `arrowprops` argument in `annotate`."
   ]
  },
  {
   "cell_type": "code",
   "execution_count": null,
   "id": "aeebc552",
   "metadata": {},
   "outputs": [],
   "source": [
    "plt.plot(x, y)\n",
    "plt.annotate('Start', xy=(1, 10), xytext=(1.5, 15),\n",
    "             arrowprops=dict(facecolor='blue', arrowstyle='->'))\n",
    "plt.title('Arrow Example')\n",
    "plt.show()"
   ]
  },
  {
   "cell_type": "markdown",
   "id": "1c58cc09",
   "metadata": {},
   "source": [
    "## Summary\n",
    "- Use `text` for simple labels.\n",
    "- Use `annotate` for advanced annotations and arrows.\n",
    "\n",
    "Next, we'll explore styles and themes in Matplotlib."
   ]
  }
 ],
 "metadata": {
  "language_info": {
   "name": "python"
  }
 },
 "nbformat": 4,
 "nbformat_minor": 5
}
